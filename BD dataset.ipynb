{
 "cells": [
  {
   "cell_type": "markdown",
   "id": "28a56d45",
   "metadata": {},
   "source": [
    "# Covid 19 data from Bangladesh retrieved from https://doi.org/10.1016/j.rico.2023.100346"
   ]
  },
  {
   "cell_type": "code",
   "execution_count": 1,
   "id": "d7fa257e",
   "metadata": {},
   "outputs": [],
   "source": [
    "import numpy  as np\n",
    "import pandas as pd"
   ]
  },
  {
   "cell_type": "markdown",
   "id": "59dc134a",
   "metadata": {},
   "source": [
    "Data from Table 1, p6 (Jun 1 to Jul 20, 2021):"
   ]
  },
  {
   "cell_type": "code",
   "execution_count": 2,
   "id": "e2dfea1f",
   "metadata": {
    "code_folding": [
     0
    ]
   },
   "outputs": [],
   "source": [
    "data = np.array([\n",
    "    ['01-06-21', 1765, 1779, 41],\n",
    "    ['02-06-21', 1988, 1914, 34],\n",
    "    ['03-06-21', 1687, 1970, 30],\n",
    "    ['04-06-21', 1887, 1723, 34],\n",
    "    ['05-06-21', 1447, 1667, 43],\n",
    "    ['06-06-21', 1676, 1897, 38],\n",
    "    ['07-06-21', 1970, 1918, 30],\n",
    "    ['08-06-21', 2322, 2062, 44],\n",
    "    ['09-06-21', 2537, 2267, 36],\n",
    "    ['10-06-21', 2576, 2061, 40],\n",
    "    ['11-06-21', 2454, 2286, 43],\n",
    "    ['12-06-21', 1637, 2108, 39],\n",
    "    ['13-06-21', 2436, 2242, 47],\n",
    "    ['14-06-21', 3050, 2564, 54],\n",
    "    ['15-06-21', 3319, 2243, 50],\n",
    "    ['16-06-21', 3956, 2679, 60],\n",
    "    ['17-06-21', 3840, 2714, 63],\n",
    "    ['18-06-21', 3883, 1955, 54],\n",
    "    ['19-06-21', 3057, 1725, 67],\n",
    "    ['20-06-21', 3641, 2509, 82],\n",
    "    ['21-06-21', 4636, 2827, 78],\n",
    "    ['22-06-21', 4846, 2903, 76],\n",
    "    ['23-06-21', 5727, 3168, 85],\n",
    "    ['24-06-21', 6058, 3230, 81],\n",
    "    ['25-06-21', 5869, 2776, 108],\n",
    "    ['26-06-21', 4334, 3295, 77],\n",
    "    ['27-06-21', 5268, 3295, 119],\n",
    "    ['28-06-21', 8364, 3570, 104],\n",
    "    ['29-06-21', 7666, 4027, 112],\n",
    "    ['30-06-21', 8822, 4550, 115],\n",
    "    ['01-07-21', 8301, 4663, 143],\n",
    "    ['02-07-21', 8483, 4509, 132],\n",
    "    ['03-07-21', 6214, 3777, 134],\n",
    "    ['04-07-21', 8661, 4698, 153],\n",
    "    ['05-07-21', 9964, 5185, 164],\n",
    "    ['06-07-21', 11525, 5433, 163],\n",
    "    ['07-07-21', 11162, 5987, 201],\n",
    "    ['08-07-21', 11651, 5844, 199],\n",
    "    ['09-07-21', 11324, 6038, 212],\n",
    "    ['10-07-21', 8772, 5755, 185],\n",
    "    ['11-07-21', 11874, 6362, 230],\n",
    "    ['12-07-21', 13768, 7020, 220],\n",
    "    ['13-07-21', 12198, 7646, 203],\n",
    "    ['14-07-21', 12383, 8245, 210],\n",
    "    ['15-07-21', 12236, 8536, 226],\n",
    "    ['16-07-21', 12148, 8536, 187],\n",
    "    ['17-07-21', 8489, 8820, 204],\n",
    "    ['18-07-21', 11578, 8845, 225],\n",
    "    ['19-07-21', 13321, 9335, 231],\n",
    "    ['20-07-21', 11579, 9997, 200],\n",
    "])"
   ]
  },
  {
   "cell_type": "markdown",
   "id": "674d2f6c",
   "metadata": {},
   "source": [
    "Processing:"
   ]
  },
  {
   "cell_type": "code",
   "execution_count": 4,
   "id": "a651d9da",
   "metadata": {},
   "outputs": [
    {
     "data": {
      "text/html": [
       "<div>\n",
       "<style scoped>\n",
       "    .dataframe tbody tr th:only-of-type {\n",
       "        vertical-align: middle;\n",
       "    }\n",
       "\n",
       "    .dataframe tbody tr th {\n",
       "        vertical-align: top;\n",
       "    }\n",
       "\n",
       "    .dataframe thead th {\n",
       "        text-align: right;\n",
       "    }\n",
       "</style>\n",
       "<table border=\"1\" class=\"dataframe\">\n",
       "  <thead>\n",
       "    <tr style=\"text-align: right;\">\n",
       "      <th></th>\n",
       "      <th>Susceptibles</th>\n",
       "      <th>Infected</th>\n",
       "      <th>Recovered</th>\n",
       "      <th>Deaths</th>\n",
       "    </tr>\n",
       "    <tr>\n",
       "      <th>Date</th>\n",
       "      <th></th>\n",
       "      <th></th>\n",
       "      <th></th>\n",
       "      <th></th>\n",
       "    </tr>\n",
       "  </thead>\n",
       "  <tbody>\n",
       "    <tr>\n",
       "      <th>16-07-21</th>\n",
       "      <td>164668512</td>\n",
       "      <td>12148</td>\n",
       "      <td>8536</td>\n",
       "      <td>187</td>\n",
       "    </tr>\n",
       "    <tr>\n",
       "      <th>17-07-21</th>\n",
       "      <td>164671870</td>\n",
       "      <td>8489</td>\n",
       "      <td>8820</td>\n",
       "      <td>204</td>\n",
       "    </tr>\n",
       "    <tr>\n",
       "      <th>18-07-21</th>\n",
       "      <td>164668735</td>\n",
       "      <td>11578</td>\n",
       "      <td>8845</td>\n",
       "      <td>225</td>\n",
       "    </tr>\n",
       "    <tr>\n",
       "      <th>19-07-21</th>\n",
       "      <td>164666496</td>\n",
       "      <td>13321</td>\n",
       "      <td>9335</td>\n",
       "      <td>231</td>\n",
       "    </tr>\n",
       "    <tr>\n",
       "      <th>20-07-21</th>\n",
       "      <td>164667607</td>\n",
       "      <td>11579</td>\n",
       "      <td>9997</td>\n",
       "      <td>200</td>\n",
       "    </tr>\n",
       "  </tbody>\n",
       "</table>\n",
       "</div>"
      ],
      "text/plain": [
       "          Susceptibles  Infected  Recovered  Deaths\n",
       "Date                                               \n",
       "16-07-21     164668512     12148       8536     187\n",
       "17-07-21     164671870      8489       8820     204\n",
       "18-07-21     164668735     11578       8845     225\n",
       "19-07-21     164666496     13321       9335     231\n",
       "20-07-21     164667607     11579       9997     200"
      ]
     },
     "execution_count": 4,
     "metadata": {},
     "output_type": "execute_result"
    }
   ],
   "source": [
    "N = 164689383    # p6 [total number of people]\n",
    "\n",
    "df = pd.DataFrame(data, columns=['Date', 'Infected', 'Recovered', 'Deaths'])\n",
    "df[df.columns[1:]] = df[df.columns[1:]].astype(int)\n",
    "df.insert(loc=1, column='Susceptibles', value= N - df[df.columns[1:]].sum(1) )\n",
    "df.set_index('Date', inplace=True)    # Set the 'Date' column as the index\n",
    "df.tail()"
   ]
  },
  {
   "cell_type": "markdown",
   "id": "7f89111d",
   "metadata": {},
   "source": [
    "Store and test retrieve:"
   ]
  },
  {
   "cell_type": "code",
   "execution_count": 5,
   "id": "02f9aa4f",
   "metadata": {},
   "outputs": [],
   "source": [
    "df.to_pickle('BD_2021_Jun_Jul.pkl')"
   ]
  },
  {
   "cell_type": "code",
   "execution_count": 7,
   "id": "ef11e0af",
   "metadata": {},
   "outputs": [
    {
     "data": {
      "text/plain": [
       "array([[164685798,      1765,      1779,        41],\n",
       "       [164685447,      1988,      1914,        34],\n",
       "       [164685696,      1687,      1970,        30],\n",
       "       [164685739,      1887,      1723,        34],\n",
       "       [164686226,      1447,      1667,        43]])"
      ]
     },
     "execution_count": 7,
     "metadata": {},
     "output_type": "execute_result"
    }
   ],
   "source": [
    "pd.read_pickle('BD_2021_Jun_Jul.pkl').head().values"
   ]
  },
  {
   "cell_type": "markdown",
   "id": "1d026c51",
   "metadata": {},
   "source": [
    "---"
   ]
  }
 ],
 "metadata": {
  "kernelspec": {
   "display_name": "A - Python 3",
   "language": "python",
   "name": "python3"
  },
  "language_info": {
   "codemirror_mode": {
    "name": "ipython",
    "version": 3
   },
   "file_extension": ".py",
   "mimetype": "text/x-python",
   "name": "python",
   "nbconvert_exporter": "python",
   "pygments_lexer": "ipython3",
   "version": "3.10.14"
  },
  "nbTranslate": {
   "displayLangs": [
    "*"
   ],
   "hotkey": "alt-t",
   "langInMainMenu": true,
   "sourceLang": "en",
   "targetLang": "fr",
   "useGoogleTranslate": true
  }
 },
 "nbformat": 4,
 "nbformat_minor": 5
}
