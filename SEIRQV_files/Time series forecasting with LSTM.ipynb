{
 "cells": [
  {
   "cell_type": "markdown",
   "metadata": {
    "colab_type": "text",
    "gradient": {
     "editing": false,
     "id": "2d67b0fe-88b0-48f3-855e-ece921b1d6bf",
     "kernelId": ""
    },
    "id": "6FIi8t8NUTEJ"
   },
   "source": [
    "# Time Series Forecasting with LSTM Using PyTorch\n",
    "\n",
    "Based on the tutorial by [Saripudin](https://github.com/spdin).\n",
    "\n",
    "This notebook uses LSTM to predict shampoo sales. The data used describes the monthly number of sales of shampoo over a 3-year period. The original dataset is credited to Makridakis, Wheelwright, and Hyndman (1998).\n",
    "\n",
    "You can uncomment the first line under \"Data Plot\" and run the same tutorial to instead predict the number of international airline passengers, given a certain year and a month."
   ]
  },
  {
   "cell_type": "markdown",
   "metadata": {
    "gradient": {
     "editing": false,
     "id": "b61f04b6-4734-4afe-8ce2-b059ad0f1747",
     "kernelId": ""
    }
   },
   "source": [
    "## Install libraries"
   ]
  },
  {
   "cell_type": "code",
   "execution_count": 1,
   "metadata": {
    "gradient": {
     "editing": false,
     "execution_count": 1,
     "id": "58711b7d-f295-47b9-abe0-8d7e271b2df1",
     "kernelId": ""
    },
    "scrolled": true
   },
   "outputs": [],
   "source": [
    "# !pip install pandas"
   ]
  },
  {
   "cell_type": "markdown",
   "metadata": {
    "colab_type": "text",
    "gradient": {
     "editing": false,
     "id": "b829fbde-4c51-4988-87df-9d12f9199bf5",
     "kernelId": ""
    },
    "id": "xSItPJipBaZ5"
   },
   "source": [
    "## Library"
   ]
  },
  {
   "cell_type": "code",
   "execution_count": 2,
   "metadata": {
    "colab": {},
    "colab_type": "code",
    "gradient": {
     "editing": false,
     "execution_count": 2,
     "id": "a9fb8fe1-5033-4fa2-8ce7-701737520c3a",
     "kernelId": ""
    },
    "id": "wb-Z7wNKUJko"
   },
   "outputs": [],
   "source": [
    "import datetime as dt\n",
    "import math \n",
    "\n",
    "import numpy as np\n",
    "import matplotlib.pyplot as plt\n",
    "import pandas as pd\n",
    "# import torch\n",
    "# import torch.nn as nn\n",
    "# from torch.autograd import Variable\n",
    "from sklearn.preprocessing import MinMaxScaler\n",
    "from sklearn.metrics import mean_squared_error\n",
    "from keras.models import Sequential\n",
    "from keras.layers import Dense\n",
    "from keras.layers import LSTM\n",
    "\n",
    "\n"
   ]
  },
  {
   "cell_type": "markdown",
   "metadata": {
    "colab_type": "text",
    "gradient": {
     "editing": false,
     "id": "a3aba5fd-42fc-4e78-941c-8542b4cb5fad",
     "kernelId": ""
    },
    "id": "e31mswiSBEEB"
   },
   "source": [
    "## Getting Raw Data"
   ]
  },
  {
   "cell_type": "code",
   "execution_count": 3,
   "metadata": {
    "colab": {
     "base_uri": "https://localhost:8080/",
     "height": 269
    },
    "colab_type": "code",
    "gradient": {
     "editing": false,
     "execution_count": 10,
     "id": "8189ac72-9f5e-44c2-89a0-caff95d50186",
     "kernelId": ""
    },
    "id": "ooQPXSYhA_ps",
    "outputId": "5b7b33c9-a80c-429d-f8a5-5c8c79261b54",
    "tags": []
   },
   "outputs": [
    {
     "name": "stdout",
     "output_type": "stream",
     "text": [
      "<class 'pandas.core.frame.DataFrame'>\n",
      "Int64Index: 720 entries, 124112 to 124831\n",
      "Data columns (total 67 columns):\n",
      " #   Column                                      Non-Null Count  Dtype  \n",
      "---  ------                                      --------------  -----  \n",
      " 0   iso_code                                    720 non-null    object \n",
      " 1   continent                                   720 non-null    object \n",
      " 2   location                                    720 non-null    object \n",
      " 3   date                                        720 non-null    object \n",
      " 4   total_cases                                 720 non-null    float64\n",
      " 5   new_cases                                   720 non-null    float64\n",
      " 6   new_cases_smoothed                          715 non-null    float64\n",
      " 7   total_deaths                                662 non-null    float64\n",
      " 8   new_deaths                                  662 non-null    float64\n",
      " 9   new_deaths_smoothed                         662 non-null    float64\n",
      " 10  total_cases_per_million                     720 non-null    float64\n",
      " 11  new_cases_per_million                       720 non-null    float64\n",
      " 12  new_cases_smoothed_per_million              715 non-null    float64\n",
      " 13  total_deaths_per_million                    662 non-null    float64\n",
      " 14  new_deaths_per_million                      662 non-null    float64\n",
      " 15  new_deaths_smoothed_per_million             662 non-null    float64\n",
      " 16  reproduction_rate                           674 non-null    float64\n",
      " 17  icu_patients                                0 non-null      float64\n",
      " 18  icu_patients_per_million                    0 non-null      float64\n",
      " 19  hosp_patients                               0 non-null      float64\n",
      " 20  hosp_patients_per_million                   0 non-null      float64\n",
      " 21  weekly_icu_admissions                       0 non-null      float64\n",
      " 22  weekly_icu_admissions_per_million           0 non-null      float64\n",
      " 23  weekly_hosp_admissions                      0 non-null      float64\n",
      " 24  weekly_hosp_admissions_per_million          0 non-null      float64\n",
      " 25  new_tests                                   0 non-null      float64\n",
      " 26  total_tests                                 83 non-null     float64\n",
      " 27  total_tests_per_thousand                    83 non-null     float64\n",
      " 28  new_tests_per_thousand                      0 non-null      float64\n",
      " 29  new_tests_smoothed                          574 non-null    float64\n",
      " 30  new_tests_smoothed_per_thousand             574 non-null    float64\n",
      " 31  positive_rate                               574 non-null    float64\n",
      " 32  tests_per_case                              574 non-null    float64\n",
      " 33  tests_units                                 582 non-null    object \n",
      " 34  total_vaccinations                          376 non-null    float64\n",
      " 35  people_vaccinated                           376 non-null    float64\n",
      " 36  people_fully_vaccinated                     370 non-null    float64\n",
      " 37  total_boosters                              118 non-null    float64\n",
      " 38  new_vaccinations                            374 non-null    float64\n",
      " 39  new_vaccinations_smoothed                   376 non-null    float64\n",
      " 40  total_vaccinations_per_hundred              376 non-null    float64\n",
      " 41  people_vaccinated_per_hundred               376 non-null    float64\n",
      " 42  people_fully_vaccinated_per_hundred         370 non-null    float64\n",
      " 43  total_boosters_per_hundred                  118 non-null    float64\n",
      " 44  new_vaccinations_smoothed_per_million       376 non-null    float64\n",
      " 45  new_people_vaccinated_smoothed              376 non-null    float64\n",
      " 46  new_people_vaccinated_smoothed_per_hundred  376 non-null    float64\n",
      " 47  stringency_index                            715 non-null    float64\n",
      " 48  population                                  720 non-null    float64\n",
      " 49  population_density                          720 non-null    float64\n",
      " 50  median_age                                  720 non-null    float64\n",
      " 51  aged_65_older                               720 non-null    float64\n",
      " 52  aged_70_older                               720 non-null    float64\n",
      " 53  gdp_per_capita                              720 non-null    float64\n",
      " 54  extreme_poverty                             0 non-null      float64\n",
      " 55  cardiovasc_death_rate                       720 non-null    float64\n",
      " 56  diabetes_prevalence                         720 non-null    float64\n",
      " 57  female_smokers                              720 non-null    float64\n",
      " 58  male_smokers                                720 non-null    float64\n",
      " 59  handwashing_facilities                      0 non-null      float64\n",
      " 60  hospital_beds_per_thousand                  720 non-null    float64\n",
      " 61  life_expectancy                             720 non-null    float64\n",
      " 62  human_development_index                     720 non-null    float64\n",
      " 63  excess_mortality_cumulative_absolute        21 non-null     float64\n",
      " 64  excess_mortality_cumulative                 21 non-null     float64\n",
      " 65  excess_mortality                            21 non-null     float64\n",
      " 66  excess_mortality_cumulative_per_million     21 non-null     float64\n",
      "dtypes: float64(62), object(5)\n",
      "memory usage: 382.5+ KB\n"
     ]
    }
   ],
   "source": [
    "raw_data = pd.read_csv(\"owid-covid-data.csv\")\n",
    "country_data = raw_data.loc[raw_data[\"location\"] == \"Singapore\"]\n",
    "\n",
    "#show condensed info on all variables\n",
    "country_data.info()\n",
    "\n",
    "#changing indexes to dates instead of numbers\n",
    "country_data.set_index(pd.to_datetime(country_data[\"date\"],format = \"%Y-%m-%d\"), inplace = True)\n",
    "country_data = country_data.drop([\"date\"],axis=1)"
   ]
  },
  {
   "cell_type": "markdown",
   "metadata": {
    "gradient": {
     "editing": false,
     "id": "e961242d-ef80-4bf4-a592-430de48d2f53",
     "kernelId": ""
    }
   },
   "source": [
    "## Data Analysis (Picking variables) "
   ]
  },
  {
   "cell_type": "code",
   "execution_count": 4,
   "metadata": {
    "gradient": {
     "editing": false,
     "execution_count": 11,
     "id": "99ee5939-7280-41b4-8c9d-cdd8ce6b6554",
     "kernelId": ""
    }
   },
   "outputs": [
    {
     "data": {
      "image/png": "[encoded data removed]",
      "text/plain": [
       "<Figure size 432x288 with 4 Axes>"
      ]
     },
     "metadata": {
      "needs_background": "light"
     },
     "output_type": "display_data"
    }
   ],
   "source": [
    "\n",
    "#selecting important variables\n",
    "chosen_variables = [\"total_cases\",\"total_deaths\",\"people_fully_vaccinated\",\"stringency_index\",]#,\"total_boosters\", \"people_vaccinated\",\n",
    "#seven day runnging average smoothing is accurate\n",
    "data = country_data[chosen_variables]\n",
    "\n",
    "# plotting graphs\n",
    "groups = range(len(chosen_variables))\n",
    "i = 1\n",
    "data_values = data.values\n",
    "\n",
    "plt.figure() \n",
    "for group in groups: # plot each column\n",
    "    plt.subplot(len(groups), 1, i)\n",
    "    plt.plot(data_values[:, group])\n",
    "    plt.title(data.columns[group], y=0.5, loc='right')\n",
    "    i += 1\n",
    "plt.show()"
   ]
  },
  {
   "cell_type": "code",
   "execution_count": 15,
   "metadata": {
    "gradient": {
     "editing": false,
     "execution_count": 12,
     "id": "ec58a063-e258-4912-b846-d2c5681f0653",
     "kernelId": ""
    }
   },
   "outputs": [
    {
     "data": {
      "image/png": "[encoded data removed]",
      "text/plain": [
       "<Figure size 432x288 with 4 Axes>"
      ]
     },
     "metadata": {
      "needs_background": "light"
     },
     "output_type": "display_data"
    }
   ],
   "source": [
    "data = country_data[chosen_variables]\n",
    "\n",
    "#displays whole datframe to check for any errors\n",
    "# with pd.option_context('display.max_rows', None, 'display.max_columns', None):  # more options can be specified also\n",
    "#     print(data)\n",
    "\n",
    "#removing incomplete data \n",
    "# start = dt.datetime.strptime('2020-02-23 00:00:00', '%Y-%m-%d %H:%M:%S')\n",
    "# end = dt.datetime.strptime('2020-9-06 00:00:00', '%Y-%m-%d %H:%M:%S')\n",
    "start = dt.datetime.strptime('2020-01-23 00:00:00', '%Y-%m-%d %H:%M:%S')\n",
    "end = dt.datetime.strptime('2022-1-06 00:00:00', '%Y-%m-%d %H:%M:%S')\n",
    "data = data.loc[(data.index >= start) & (data.index <= end)]\n",
    "\n",
    "#converting NaN to 0.\n",
    "data.fillna(0, inplace=True)\n",
    "\n",
    "#inverting stringency\n",
    "data[\"stringency_index\"] = 100 - data[\"stringency_index\"]\n",
    "\n",
    "# normalize features\n",
    "scaler = MinMaxScaler(feature_range=(0, 1))\n",
    "scaled_data = scaler.fit_transform(data)\n",
    "\n",
    "groups = range(len(chosen_variables))\n",
    "i = 1\n",
    "\n",
    "plt.figure() \n",
    "for group in groups: # plot each column\n",
    "    plt.subplot(len(groups), 1, i)\n",
    "    plt.plot(scaled_data[:, group])\n",
    "    plt.title(data.columns[group], y=0.5, loc='right')\n",
    "    i += 1\n",
    "plt.show()"
   ]
  },
  {
   "cell_type": "markdown",
   "metadata": {
    "colab_type": "text",
    "gradient": {
     "editing": false,
     "id": "7f353875-a7a6-4bc4-89e4-c2f3b441b407",
     "kernelId": ""
    },
    "id": "NabsV8O5BBd5"
   },
   "source": [
    "## Dataloading"
   ]
  },
  {
   "cell_type": "code",
   "execution_count": 29,
   "metadata": {
    "colab": {},
    "colab_type": "code",
    "gradient": {
     "editing": false,
     "execution_count": 6,
     "id": "97a06e05-1eac-4dc5-a80c-8bf31167f651",
     "kernelId": ""
    },
    "id": "vIWvJCpOVmwU"
   },
   "outputs": [
    {
     "name": "stdout",
     "output_type": "stream",
     "text": [
      "     var1(t-1)  var2(t-1)  var3(t-1)  var4(t-1)   var1(t)\n",
      "1     0.000000   0.000000   0.000000   1.000000  0.000007\n",
      "2     0.000007   0.000000   0.000000   1.000000  0.000007\n",
      "3     0.000007   0.000000   0.000000   1.000000  0.000011\n",
      "4     0.000011   0.000000   0.000000   1.000000  0.000014\n",
      "5     0.000014   0.000000   0.000000   1.000000  0.000021\n",
      "..         ...        ...        ...        ...       ...\n",
      "710   0.988161   0.992814   0.998025   0.661383  0.989676\n",
      "711   0.989676   0.992814   0.998310   0.661383  0.991314\n",
      "712   0.991314   0.992814   0.998806   0.661383  0.994287\n",
      "713   0.994287   0.996407   0.999246   0.661383  0.997129\n",
      "714   0.997129   0.998802   0.999626   0.661383  1.000000\n",
      "\n",
      "[714 rows x 5 columns]\n",
      "(478, 1, 4) (478,) (236, 1, 4) (236,)\n"
     ]
    }
   ],
   "source": [
    "# convert series to supervised learning\n",
    "def series_to_supervised(data, n_in=1, n_out=1, dropnan=True):\n",
    "    n_vars = 1 if type(data) is list else data.shape[1]\n",
    "    df = pd.DataFrame(data)\n",
    "    cols, names = list(), list()\n",
    "    # input sequence (t-n, ... t-1)\n",
    "    for i in range(n_in, 0, -1):\n",
    "        cols.append(df.shift(i))\n",
    "        names += [('var%d(t-%d)' % (j+1, i)) for j in range(n_vars)]\n",
    "    # forecast sequence (t, t+1, ... t+n)\n",
    "    for i in range(0, n_out):\n",
    "        cols.append(df.shift(-i))\n",
    "        if i == 0:\n",
    "            names += [('var%d(t)' % (j+1)) for j in range(n_vars)]\n",
    "        else:\n",
    "            names += [('var%d(t+%d)' % (j+1, i)) for j in range(n_vars)]\n",
    "    # put it all together\n",
    "    agg = pd.concat(cols, axis=1)\n",
    "    agg.columns = names\n",
    "    # drop rows with NaN values\n",
    "    if dropnan:\n",
    "        agg.dropna(inplace=True)\n",
    "    return agg\n",
    "\n",
    "values = data.values\n",
    "# ensure all data is float\n",
    "values = values.astype('float32')\n",
    "\n",
    "save_values = values#this is kinda just due to bad coding practices lol\n",
    "\n",
    "scaler = MinMaxScaler(feature_range=(0, 1))\n",
    "values = scaler.fit_transform(values)\n",
    "\n",
    "# frame as supervised learning\n",
    "reframed = series_to_supervised(values, 1, 1)\n",
    "# drop columns we don't want to predict\n",
    "reframed.drop(reframed.columns[[5,6,7]], axis=1, inplace=True)\n",
    "print(reframed)\n",
    " \n",
    "# split into train and test sets\n",
    "values = reframed.values\n",
    "n_train_days = int(len(values) * 0.67) #basically train size\n",
    "train = values[:n_train_days, :]\n",
    "test = values[n_train_days:, :]\n",
    "# split into input and outputs\n",
    "train_X, train_y = train[:, :-1], train[:, -1]\n",
    "test_X, test_y = test[:, :-1], test[:, -1]\n",
    "# reshape input to be 3D [samples, timesteps, features]\n",
    "train_X = train_X.reshape((train_X.shape[0], 1, train_X.shape[1]))\n",
    "test_X = test_X.reshape((test_X.shape[0], 1, test_X.shape[1]))\n",
    "print(train_X.shape, train_y.shape, test_X.shape, test_y.shape)"
   ]
  },
  {
   "cell_type": "markdown",
   "metadata": {
    "colab_type": "text",
    "gradient": {
     "editing": false,
     "id": "27300c15-4ef4-44ca-97c2-059adf270bec",
     "kernelId": ""
    },
    "id": "--1LVbHOBSIy"
   },
   "source": [
    "## Model"
   ]
  },
  {
   "cell_type": "code",
   "execution_count": 17,
   "metadata": {
    "colab": {},
    "colab_type": "code",
    "gradient": {
     "editing": false,
     "execution_count": 7,
     "id": "46f98c2c-5d0b-4a72-a384-06031802dbf4",
     "kernelId": ""
    },
    "id": "_BcDEjcABRVz"
   },
   "outputs": [],
   "source": [
    "# design network\n",
    "model = Sequential()\n",
    "model.add(LSTM(50, input_shape=(train_X.shape[1], train_X.shape[2])))\n",
    "model.add(Dense(1))\n",
    "model.compile(loss='mae', optimizer='adam')"
   ]
  },
  {
   "cell_type": "markdown",
   "metadata": {
    "colab_type": "text",
    "gradient": {
     "editing": false,
     "id": "a6e51adc-71e2-46c4-9689-10f1893d7799",
     "kernelId": ""
    },
    "id": "tdzFI5GJBUF5"
   },
   "source": [
    "## Training"
   ]
  },
  {
   "cell_type": "code",
   "execution_count": 30,
   "metadata": {
    "colab": {
     "base_uri": "https://localhost:8080/",
     "height": 357
    },
    "colab_type": "code",
    "gradient": {
     "editing": false,
     "execution_count": 8,
     "id": "fc3b37be-47c9-46eb-9fda-c2f5b6072183",
     "kernelId": ""
    },
    "id": "a2vvHeFgVtCp",
    "outputId": "5fa2cd4c-dcc4-41aa-d7bc-cb16154ff134"
   },
   "outputs": [
    {
     "name": "stdout",
     "output_type": "stream",
     "text": [
      "(236, 1, 4)\n",
      "(236, 1) (236, 4)\n"
     ]
    },
    {
     "data": {
      "image/png": "[encoded data removed]",
      "text/plain": [
       "<Figure size 432x288 with 1 Axes>"
      ]
     },
     "metadata": {
      "needs_background": "light"
     },
     "output_type": "display_data"
    }
   ],
   "source": [
    "# fit network\n",
    "print(test_X.shape)\n",
    "# history = model.fit(train_X, train_y, epochs=100, batch_size=32, validation_data=(test_X, test_y), verbose=2, shuffle=False)\n",
    "# plot history\n",
    "# plt.plot(history.history['loss'], label='train')\n",
    "# plt.plot(history.history['val_loss'], label='test')\n",
    "# plt.legend()\n",
    "# plt.show()\n",
    "\n",
    "look_back = 1\n",
    "trainPredict = model.predict(train_X)\n",
    "testPredict = model.predict(test_X)\n",
    "# invert prediction\n",
    "test_X = test_X.reshape((test_X.shape[0], test_X.shape[2]))\n",
    "train_X = train_X.reshape((train_X.shape[0], train_X.shape[2]))\n",
    "# invert scaling for forecast\n",
    "print(testPredict.shape,test_X.shape)\n",
    "testPredict = np.concatenate((testPredict, test_X[:, 1:]), axis=1)\n",
    "testPredict = scaler.inverse_transform(testPredict)\n",
    "testPredict = testPredict[:,0]\n",
    "# invert scaling for actual\n",
    "trainPredict = trainPredict.reshape((len(trainPredict), 1))\n",
    "trainPredict = np.concatenate((trainPredict, train_X[:, 1:]), axis=1)\n",
    "trainPredict = scaler.inverse_transform(trainPredict)\n",
    "trainPredict = trainPredict[:,0]\n",
    "# calculate root mean squared error\n",
    "# trainScore = math.sqrt(mean_squared_error(train_y[0], trainPredict[:,0]))\n",
    "# print('Train Score: %.2f RMSE' % (trainScore))\n",
    "# testScore = math.sqrt(mean_squared_error(test_y[0], testPredict[:,0]))\n",
    "# print('Test Score: %.2f RMSE' % (testScore))\n",
    "# shift train predictions for plotting\n",
    "trainPredictPlot = np.empty_like(values[:,1])\n",
    "trainPredictPlot[:] = np.nan\n",
    "trainPredictPlot[look_back:len(trainPredict)+look_back] = trainPredict[:]\n",
    "# shift test predictions for plotting\n",
    "testPredictPlot = np.empty_like(values[:,1])\n",
    "testPredictPlot[:] = np.nan\n",
    "testPredictPlot[len(trainPredict)+(look_back*2)+1:-1] = testPredict[:-4]\n",
    "# plot baseline and predictions\n",
    "realgraph = scaler.inverse_transform(values[:,:-1])\n"
   ]
  },
  {
   "cell_type": "code",
   "execution_count": 32,
   "metadata": {},
   "outputs": [
    {
     "data": {
      "image/png": "[encoded data removed]",
      "text/plain": [
       "<Figure size 432x288 with 1 Axes>"
      ]
     },
     "metadata": {
      "needs_background": "light"
     },
     "output_type": "display_data"
    }
   ],
   "source": [
    "\n",
    "plt.plot(trainPredictPlot)\n",
    "plt.plot(testPredictPlot)\n",
    "plt.show()\n",
    "# print(values)"
   ]
  },
  {
   "cell_type": "code",
   "execution_count": 35,
   "metadata": {},
   "outputs": [
    {
     "data": {
      "text/plain": [
       "[<matplotlib.lines.Line2D at 0x7ff401a58048>,\n",
       " <matplotlib.lines.Line2D at 0x7ff401a580f0>,\n",
       " <matplotlib.lines.Line2D at 0x7ff401a58198>,\n",
       " <matplotlib.lines.Line2D at 0x7ff401a58240>]"
      ]
     },
     "execution_count": 35,
     "metadata": {},
     "output_type": "execute_result"
    },
    {
     "data": {
      "image/png": "[encoded data removed]",
      "text/plain": [
       "<Figure size 432x288 with 1 Axes>"
      ]
     },
     "metadata": {
      "needs_background": "light"
     },
     "output_type": "display_data"
    }
   ],
   "source": [
    "prin"
   ]
  }
 ],
 "metadata": {
  "accelerator": "GPU",
  "colab": {
   "include_colab_link": true,
   "name": "Time Series Prediction with LSTM Using PyTorch",
   "provenance": [],
   "toc_visible": true,
   "version": "0.3.2"
  },
  "kernelspec": {
   "display_name": "A - Python 3",
   "language": "python",
   "name": "python3"
  },
  "language_info": {
   "codemirror_mode": {
    "name": "ipython",
    "version": 3
   },
   "file_extension": ".py",
   "mimetype": "text/x-python",
   "name": "python",
   "nbconvert_exporter": "python",
   "pygments_lexer": "ipython3",
   "version": "3.10.14"
  },
  "nbTranslate": {
   "displayLangs": [
    "*"
   ],
   "hotkey": "alt-t",
   "langInMainMenu": true,
   "sourceLang": "en",
   "targetLang": "fr",
   "useGoogleTranslate": true
  }
 },
 "nbformat": 4,
 "nbformat_minor": 4
}
