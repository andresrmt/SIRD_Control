{
 "cells": [
  {
   "cell_type": "code",
   "execution_count": 1,
   "id": "ebc070c8",
   "metadata": {
    "code_folding": [
     0
    ],
    "deletable": false,
    "editable": false,
    "run_control": {
     "frozen": true
    }
   },
   "outputs": [
    {
     "data": {
      "text/html": [
       "<style>.container { width:90% !important; }</style>"
      ],
      "text/plain": [
       "<IPython.core.display.HTML object>"
      ]
     },
     "metadata": {},
     "output_type": "display_data"
    },
    {
     "data": {
      "text/html": [
       "<style>.output_result { width:90% !important; }</style>"
      ],
      "text/plain": [
       "<IPython.core.display.HTML object>"
      ]
     },
     "metadata": {},
     "output_type": "display_data"
    },
    {
     "data": {
      "text/html": [
       " <style>\n",
       ".output_png {\n",
       "    display: table-cell;\n",
       "    text-align: center;\n",
       "    vertical-align: middle;\n",
       "}\n",
       "</style> "
      ],
      "text/plain": [
       "<IPython.core.display.HTML object>"
      ]
     },
     "metadata": {},
     "output_type": "display_data"
    }
   ],
   "source": [
    "# Window\n",
    "from IPython.display import display, HTML\n",
    "display(HTML(\"<style>.container { width:90% !important; }</style>\"))\n",
    "display(HTML(\"<style>.output_result { width:90% !important; }</style>\"))\n",
    "display(HTML(\"\"\" <style>\n",
    ".output_png {\n",
    "    display: table-cell;\n",
    "    text-align: center;\n",
    "    vertical-align: middle;\n",
    "}\n",
    "</style> \"\"\"))"
   ]
  },
  {
   "cell_type": "markdown",
   "id": "d5db955c",
   "metadata": {},
   "source": [
    "<div class=\"alert alert-block alert-danger\">\n",
    "These notebooks are better visualized using codefolding from Jupyter\n",
    "    <a href=\\\"https://jupyter-contrib-nbextensions.readthedocs.io/en/latest/\\\">extensions</a>.\n",
    "</div>"
   ]
  },
  {
   "cell_type": "markdown",
   "id": "bcf8b56e",
   "metadata": {},
   "source": [
    "# SIRD parameter learning using FISTA with Tikhonov regularisation"
   ]
  },
  {
   "cell_type": "markdown",
   "id": "6311b244",
   "metadata": {},
   "source": [
    "$\\newcommand{\\R}{\\,\\mathbb{R}} \\newcommand{\\dif}{\\mathrm{d}} \\newcommand{\\diag}{\\mathrm{diag}} \\newcommand{\\vec}{\\mathrm{vec}}  \\newcommand{\\circulant}{\\mathrm{circ}} \\newcommand{\\mat}{\\mathrm{mat}} \\newcommand{\\ifft}{\\hat{\\mathcal{F}}} \\newcommand{\\fft}{\\mathcal{F}}$\n",
    "<div class=\"alert alert-block alert-success\">\n",
    "This notebook aims to solve the minimisation problem\n",
    "\\begin{align}\n",
    "    \\min_{\\alpha \\in [L^2(0,1)]^3} f(\\alpha) = \\frac{1}{2} \\| \\rho - \\widehat{\\rho} \\|_2^2 + \\frac{\\theta}{2} \\|\\alpha\\|_2^2 + \\frac{\\vartheta}{2} \\| \\rho(T) - \\widehat{\\rho}(T) \\|^2_{\\R^3},\n",
    "\\end{align}\n",
    "where $\\rho = (\\begin{smallmatrix} \\sigma & I & R \\end{smallmatrix})$ comes from the solution of a change of variables applied to the Susceptibles, Infected, and Recovered (SIR) model, and $\\widehat{\\rho}$ is a target and known state. The regularisation parameters $\\theta$ and $\\vartheta$ are non negative. We will study the effect of this parameter on the choice of the control pair $\\alpha$.\n",
    "    \n",
    "For each pair of parameters $\\alpha = (\\beta, \\gamma, m) \\in [0,1]^3$ corresponding to the transmission and the recovery rates, the three variables $S(t)$, $I(t)$, and $R(t)$ are governed by the following differential equations\n",
    "    \n",
    "\\begin{align}\n",
    "    \\tag{$\\star$}\n",
    "\\begin{aligned}\n",
    "    \\frac{\\dif \\sigma}{\\dif t} &= a_1\\beta (\\mathsf{n} - \\sigma) I,\n",
    "    \\\\\n",
    "    \\frac{\\dif I}{\\dif t} &= a_1\\beta (\\mathsf{n} - \\sigma) I - (a_2\\gamma + a_3 m) I,\n",
    "    \\\\\n",
    "    \\frac{\\dif R}{\\dif t} &= a_2\\gamma I,\n",
    "    \\\\\n",
    "    \\frac{\\dif D}{\\dif t} &= a_3 m I.\n",
    "\\end{aligned}\n",
    "\\end{align}\n",
    "We note that $ \\mathsf{n} $ is the total population at the start of the study.\n",
    "    \n",
    "</div>"
   ]
  },
  {
   "cell_type": "code",
   "execution_count": 1,
   "id": "f06624db",
   "metadata": {
    "code_folding": [
     0
    ]
   },
   "outputs": [],
   "source": [
    "# Packages\n",
    "import time\n",
    "import numpy  as np\n",
    "import pandas as pd\n",
    "import gurobipy as GRB\n",
    "import matplotlib.pyplot as plt\n",
    "plt.style.use('ggplot')"
   ]
  },
  {
   "cell_type": "code",
   "execution_count": 2,
   "id": "97525ebb",
   "metadata": {},
   "outputs": [],
   "source": [
    "from scipy.integrate import solve_ivp"
   ]
  },
  {
   "cell_type": "code",
   "execution_count": 3,
   "id": "3a4ecde6",
   "metadata": {
    "code_folding": [
     0
    ]
   },
   "outputs": [],
   "source": [
    "# Single function imports\n",
    "from numpy           import array, asarray, sin, cos, zeros, linspace, argmin, meshgrid, unravel_index\n",
    "from numpy           import concatenate, minimum, maximum, exp, ones, eye, empty, append, diagflat, tril, triu\n",
    "from numpy.random    import default_rng as rng\n",
    "from scipy.linalg    import norm, eigvals, inv\n",
    "from scipy.integrate import simpson, trapezoid\n",
    "from scipy.optimize  import minimize, Bounds\n",
    "from scipy.interpolate import CubicHermiteSpline, interp1d\n",
    "from scipy.sparse.linalg import LinearOperator\n",
    "from scipy.sparse    import eye as speye\n",
    "from scipy.sparse    import bmat\n",
    "from numpy.polynomial.chebyshev import chebpts1\n",
    "from matplotlib import colormaps"
   ]
  },
  {
   "cell_type": "markdown",
   "id": "82165e2b",
   "metadata": {},
   "source": [
    "# Model scaling"
   ]
  },
  {
   "cell_type": "markdown",
   "id": "4619f826",
   "metadata": {},
   "source": [
    "We scale the baseline original ODE system for the SIRD model. Assuming $\\overline{\\rho}(\\tau)$ satisfies the original SIRD ODE system above with parameters $\\overline\\alpha = (\\overline\\beta, \\overline\\gamma, \\overline{m})$ and initial condition $\\overline{\\rho}_0$, then $(\\star)$ above is related with $\\overline{\\rho}$ via the relationships\n",
    "\n",
    "* Population scaling: $\\overline{\\rho} = s_1 \\rho$, where $ \\rho_{\\mathsf{S}} = \\mathsf{n} - \\sigma $,\n",
    "\n",
    "* Time scaling: $\\tau = s_2 t$,\n",
    "\n",
    "* Parameter scalings: $\\overline{\\alpha} = \\left( \\frac{a_1}{s_1 s_2} \\beta, \\frac{a_2}{s_2} \\gamma, \\frac{a_3}{s_2} m \\right)$."
   ]
  },
  {
   "cell_type": "markdown",
   "id": "070d92b8",
   "metadata": {},
   "source": [
    "# Data loading"
   ]
  },
  {
   "cell_type": "markdown",
   "id": "53f57708",
   "metadata": {},
   "source": [
    "We load data used in [[1]](https://doi.org/10.1016/j.rico.2023.100346). Locally, we have stored data of susceptible, infected, recovered, and deceased compartments from June 1 – July 20, 2021. When constructing the dataset, the total population size $\\mathsf{n}$ was set to 164\\,689\\,383 given by an estimate from [[3]](https://www.worldometers.info/world-population/bangladesh-population/). We will set $\\mathsf{n}$ to be equal to the total number of people at the initial time."
   ]
  },
  {
   "cell_type": "code",
   "execution_count": 4,
   "id": "2399e27e",
   "metadata": {},
   "outputs": [],
   "source": [
    "SIRD_data = pd.read_pickle('BD_2021_Jun_Jul.pkl').values.astype('float64')"
   ]
  },
  {
   "cell_type": "code",
   "execution_count": 5,
   "id": "b74484f2",
   "metadata": {},
   "outputs": [
    {
     "name": "stdout",
     "output_type": "stream",
     "text": [
      "𝗇̄: 164689383\n"
     ]
    }
   ],
   "source": [
    "print('𝗇̄: {0:.0f}'.format(np.unique(SIRD_data.sum(1)).item()))"
   ]
  },
  {
   "cell_type": "code",
   "execution_count": 6,
   "id": "79de2feb",
   "metadata": {},
   "outputs": [],
   "source": [
    "σ_data = SIRD_data.sum(1) - SIRD_data[:,0]"
   ]
  },
  {
   "cell_type": "code",
   "execution_count": 7,
   "id": "21750a0a",
   "metadata": {},
   "outputs": [],
   "source": [
    "ΣIRD_data = np.c_[σ_data, SIRD_data[:,1:]]      # Determine σ and remove S compartment"
   ]
  },
  {
   "cell_type": "code",
   "execution_count": 8,
   "id": "e285b57c",
   "metadata": {},
   "outputs": [
    {
     "data": {
      "text/plain": [
       "(22887, 164686226)"
      ]
     },
     "execution_count": 8,
     "metadata": {},
     "output_type": "execute_result"
    }
   ],
   "source": [
    "int(ΣIRD_data.max()), int(SIRD_data.max())      # There is quite a difference in order of magnitude"
   ]
  },
  {
   "cell_type": "markdown",
   "id": "1a906798",
   "metadata": {},
   "source": [
    "The data considers reports spanning 60 days. "
   ]
  },
  {
   "cell_type": "code",
   "execution_count": 9,
   "id": "a4293006",
   "metadata": {},
   "outputs": [],
   "source": [
    "T = np.float64(ΣIRD_data.shape[0])"
   ]
  },
  {
   "cell_type": "markdown",
   "id": "24e7cfb9",
   "metadata": {},
   "source": [
    "**Scales**\n",
    "\n",
    "We will group the observations by week and label the initial week by $0$; i.e., $s = 7$ and $T = 50/7 \\approx 7$. We will scale people by the maximum expected value of the residual susceptibles $\\sigma$:"
   ]
  },
  {
   "cell_type": "code",
   "execution_count": 10,
   "id": "f799cf17",
   "metadata": {},
   "outputs": [],
   "source": [
    "time_scale = 7.0                 # s_2\n",
    "ppl_scales = ΣIRD_data.max();    # s_1"
   ]
  },
  {
   "cell_type": "code",
   "execution_count": 11,
   "id": "e7883fa6",
   "metadata": {},
   "outputs": [],
   "source": [
    "T /= time_scale                        # Scale time\n",
    "ΣIRD_data /= ppl_scales                # Scale population: (helps in computation time)"
   ]
  },
  {
   "cell_type": "code",
   "execution_count": 12,
   "id": "256af79c",
   "metadata": {},
   "outputs": [],
   "source": [
    "# Make an interval span\n",
    "Tᵒᵇˢ  = linspace(0,T,SIRD_data.shape[0])"
   ]
  },
  {
   "cell_type": "markdown",
   "id": "641f01f3",
   "metadata": {},
   "source": [
    "We build a piecewise interpolator for computing any integral terms:"
   ]
  },
  {
   "cell_type": "code",
   "execution_count": 13,
   "id": "622a123e",
   "metadata": {},
   "outputs": [],
   "source": [
    "Tₑ = 0.5*(chebpts1(152-2+1)+1) * T     # Evaluation interval using Chebyshev points of the first kind\n",
    "Tₑ = concatenate([[0],Tₑ,[T]])         # Add endpoints\n",
    "# Add observed points\n",
    "Tₑ = np.unique(np.sort(concatenate([Tₑ,Tᵒᵇˢ])))"
   ]
  },
  {
   "cell_type": "code",
   "execution_count": 14,
   "id": "3c4c5f10",
   "metadata": {},
   "outputs": [
    {
     "data": {
      "text/plain": [
       "201"
      ]
     },
     "execution_count": 14,
     "metadata": {},
     "output_type": "execute_result"
    }
   ],
   "source": [
    "Tₑ.size    # odd number of collocation points for Simpson"
   ]
  },
  {
   "cell_type": "code",
   "execution_count": 15,
   "id": "a58f378f",
   "metadata": {},
   "outputs": [],
   "source": [
    "ρ̄ = interp1d(Tᵒᵇˢ,ΣIRD_data[:,].T, axis=-1, kind = 'quadratic')\n",
    "ρ̂ = ρ̄(Tₑ)"
   ]
  },
  {
   "cell_type": "code",
   "execution_count": 16,
   "id": "e70a77b2",
   "metadata": {},
   "outputs": [
    {
     "data": {
      "text/plain": [
       "0.3132782802464281"
      ]
     },
     "execution_count": 16,
     "metadata": {},
     "output_type": "execute_result"
    }
   ],
   "source": [
    "ρ̄(0).sum()"
   ]
  },
  {
   "cell_type": "code",
   "execution_count": 17,
   "id": "1dc5690f",
   "metadata": {
    "code_folding": [
     0
    ]
   },
   "outputs": [
    {
     "data": {
      "image/png": "[encoded data removed]",
      "text/plain": [
       "<Figure size 800x350 with 1 Axes>"
      ]
     },
     "metadata": {},
     "output_type": "display_data"
    }
   ],
   "source": [
    "# Plot data\n",
    "plt.figure(figsize=(8,3.5))\n",
    "\n",
    "plt.plot(Tₑ*time_scale, ρ̂.T, '-', linewidth=2)\n",
    "for i in range(4):\n",
    "    plt.scatter(Tᵒᵇˢ*time_scale, ΣIRD_data[:,i], s=10, c='black')\n",
    "plt.yscale('log')\n",
    "\n",
    "plt.legend(['σ', 'I', 'R'], shadow=True)\n",
    "plt.show()"
   ]
  },
  {
   "cell_type": "markdown",
   "id": "610da11d",
   "metadata": {},
   "source": [
    "Compare numerical ranges for different scales:"
   ]
  },
  {
   "cell_type": "code",
   "execution_count": 18,
   "id": "fc389d94",
   "metadata": {
    "code_folding": [
     0
    ]
   },
   "outputs": [
    {
     "name": "stdout",
     "output_type": "stream",
     "text": [
      "164666496 ≤ S̄ ≤ 164686226\n",
      "     1447 ≤ Ī ≤ 13768\n",
      "     1667 ≤ R̄ ≤ 9997\n",
      "       30 ≤ D̄ ≤ 231\n"
     ]
    }
   ],
   "source": [
    "# Original data:\n",
    "lows = np.min(SIRD_data, 0);    ups  = np.max(SIRD_data, 0);    strs = ['S̄', 'Ī', 'R̄', 'D̄']\n",
    "for i in range(4):\n",
    "    print('{0:9.0f} ≤ {1:s} ≤ {2:.0f}'.format(lows[i], strs[i], ups[i]))"
   ]
  },
  {
   "cell_type": "code",
   "execution_count": 19,
   "id": "8cc7fc35",
   "metadata": {
    "code_folding": [
     0
    ]
   },
   "outputs": [
    {
     "name": "stdout",
     "output_type": "stream",
     "text": [
      "9.9986e-01 ≤ S̄ ≤ 9.9998e-01\n",
      "8.7862e-06 ≤ Ī ≤ 8.3600e-05\n",
      "1.0122e-05 ≤ R̄ ≤ 6.0702e-05\n",
      "1.8216e-07 ≤ D̄ ≤ 1.4026e-06\n"
     ]
    }
   ],
   "source": [
    "# Scaling by total population is not that good:\n",
    "lows = np.min(SIRD_data, 0)/SIRD_data[0].sum();    ups  = np.max(SIRD_data, 0)/SIRD_data[0].sum();    strs = ['S̄', 'Ī', 'R̄', 'D̄']\n",
    "for i in range(4):\n",
    "    print('{0:.4e} ≤ {1:s} ≤ {2:.4e}'.format(lows[i], strs[i], ups[i]))"
   ]
  },
  {
   "cell_type": "code",
   "execution_count": 20,
   "id": "bf0987da",
   "metadata": {
    "code_folding": [
     0
    ]
   },
   "outputs": [
    {
     "name": "stdout",
     "output_type": "stream",
     "text": [
      "0.138 ≤ σ̄ ≤ 1.000\n",
      "0.063 ≤ Ī ≤ 0.602\n",
      "0.073 ≤ R̄ ≤ 0.437\n",
      "0.001 ≤ D̄ ≤ 0.010\n"
     ]
    }
   ],
   "source": [
    "# σIR data is well behaved:\n",
    "lows = np.min(ΣIRD_data, 0);    ups  = np.max(ΣIRD_data, 0);    strs = ['σ̄', 'Ī', 'R̄', 'D̄']\n",
    "for i in range(4):\n",
    "    print('{0:.3f} ≤ {1:s} ≤ {2:.3f}'.format(lows[i], strs[i], ups[i]))"
   ]
  },
  {
   "cell_type": "markdown",
   "id": "305a5e44",
   "metadata": {},
   "source": [
    "We see that the $\\sigma \\mathsf{IR}$ model is better scaled by compartment and explicitly shows the evolution of $\\sigma$. In contrast, the susceptible compartment in the original model might give the impression that it is a constant."
   ]
  },
  {
   "cell_type": "markdown",
   "id": "c20cdf99",
   "metadata": {},
   "source": [
    "### Prior information"
   ]
  },
  {
   "cell_type": "markdown",
   "id": "d57f3687",
   "metadata": {},
   "source": [
    "In the original paper, the authors obtained the following constant–in–time estimates:"
   ]
  },
  {
   "cell_type": "code",
   "execution_count": 21,
   "id": "8a058278",
   "metadata": {},
   "outputs": [
    {
     "name": "stdout",
     "output_type": "stream",
     "text": [
      "β̂: 0.000000000428686, γ̂: 0.0257, m̂: 0.0011\n"
     ]
    }
   ],
   "source": [
    "print('β̂: {0:.15f}, γ̂: {1}, m̂: {2}'.format(0.0706 / 164689383, 0.0257, 0.0011))"
   ]
  },
  {
   "cell_type": "markdown",
   "id": "26b64773",
   "metadata": {},
   "source": [
    "Using the current scales, we obtain the better behaved values:"
   ]
  },
  {
   "cell_type": "code",
   "execution_count": 22,
   "id": "3cef0102",
   "metadata": {},
   "outputs": [
    {
     "name": "stdout",
     "output_type": "stream",
     "text": [
      "β̂: 0.00006868, γ̂: 0.1799, m̂: 0.0077\n"
     ]
    }
   ],
   "source": [
    "print('β̂: {0:.8f}, γ̂: {1}, m̂: {2}'.format(ppl_scales * time_scale * 0.0706 / 164689383, time_scale * 0.0257, time_scale * 0.0011))"
   ]
  },
  {
   "cell_type": "markdown",
   "id": "5c2b2935",
   "metadata": {},
   "source": [
    "We notice that $\\beta$ and $\\gamma$ are still very small. So we can use $a_1 = 10^{-4}$, $a_2 = 1$, and $a_3 = 10^{-2}$ to obtain:"
   ]
  },
  {
   "cell_type": "code",
   "execution_count": 23,
   "id": "ff32933a",
   "metadata": {},
   "outputs": [
    {
     "name": "stdout",
     "output_type": "stream",
     "text": [
      "β̂: 0.68679323, γ̂: 0.1799, m̂: 0.77\n"
     ]
    }
   ],
   "source": [
    "aᵦ = 1e-4;    aᵧ = 1.0;    aₘ = 1e-2\n",
    "print('β̂: {0:.8f}, γ̂: {1}, m̂: {2}'.format(ppl_scales * time_scale * 0.0706 / (164689383 * aᵦ), time_scale * 0.0257/aᵧ, time_scale * 0.0011/aₘ))"
   ]
  },
  {
   "cell_type": "markdown",
   "id": "6cfc37ac",
   "metadata": {},
   "source": [
    "### Bounds"
   ]
  },
  {
   "cell_type": "markdown",
   "id": "bef4b173",
   "metadata": {},
   "source": [
    "Without bounds, the range of each parameter at any given time is given by:"
   ]
  },
  {
   "cell_type": "code",
   "execution_count": 24,
   "id": "b7de0851",
   "metadata": {},
   "outputs": [
    {
     "name": "stdout",
     "output_type": "stream",
     "text": [
      "uᵦ: 1602090000, uᵧ: 7, uₘ: 700\n"
     ]
    }
   ],
   "source": [
    "print('uᵦ: {0:.0f}, uᵧ: {1:.0f}, uₘ: {2:.0f}'.format(ppl_scales * time_scale / aᵦ, time_scale / aᵧ, time_scale / aₘ))"
   ]
  },
  {
   "cell_type": "markdown",
   "id": "9a6bc5bb",
   "metadata": {},
   "source": [
    "Knowing that $\\beta$ has at least 9 zeros, let us impose the upper bound $\\overline{\\beta} = 10^{-9}$ (which is about the inverse of the order of magnitude of the total population). Similarly, let us bound $\\gamma$ and $\\beta$ by $10^{-1}$:"
   ]
  },
  {
   "cell_type": "code",
   "execution_count": 25,
   "id": "c345de72",
   "metadata": {},
   "outputs": [
    {
     "name": "stdout",
     "output_type": "stream",
     "text": [
      "uᵦ: 1.60, uᵧ: 0.70, uₘ: 7\n"
     ]
    }
   ],
   "source": [
    "print('uᵦ: {0:.2f}, uᵧ: {1:.2f}, uₘ: {2:.0f}'.format(1e-9 * ppl_scales * time_scale / aᵦ, 0.1 * time_scale / aᵧ, 0.01 * time_scale / aₘ))"
   ]
  },
  {
   "cell_type": "code",
   "execution_count": 26,
   "id": "84ea8257",
   "metadata": {},
   "outputs": [
    {
     "data": {
      "text/plain": [
       "7195.761043387076"
      ]
     },
     "execution_count": 26,
     "metadata": {},
     "output_type": "execute_result"
    }
   ],
   "source": [
    "SIRD_data[0].sum() / ppl_scales"
   ]
  },
  {
   "cell_type": "markdown",
   "id": "d2d45c29",
   "metadata": {},
   "source": [
    "# Problem setup"
   ]
  },
  {
   "cell_type": "markdown",
   "id": "a6e19f3e",
   "metadata": {},
   "source": [
    "Total population, initial condition, and terminal condition:"
   ]
  },
  {
   "cell_type": "code",
   "execution_count": 27,
   "id": "a550f6f2",
   "metadata": {},
   "outputs": [],
   "source": [
    "# Total population\n",
    "#n = ρ̄(0).sum()\n",
    "n = SIRD_data[0].sum() / ppl_scales\n",
    "# Initial conditions\n",
    "ρ̂ₒ = ρ̄(0)\n",
    "# Final time\n",
    "ρ̂ᶠ = ρ̄(T)"
   ]
  },
  {
   "cell_type": "markdown",
   "id": "9e71917c",
   "metadata": {},
   "source": [
    "Weights in loss:"
   ]
  },
  {
   "cell_type": "code",
   "execution_count": 28,
   "id": "4fbc61ac",
   "metadata": {},
   "outputs": [],
   "source": [
    "θ, ϑᵀᵉʳ = 1e-6, 0.1"
   ]
  },
  {
   "cell_type": "code",
   "execution_count": 29,
   "id": "67e01df0",
   "metadata": {},
   "outputs": [],
   "source": [
    "θ = np.asarray([1e-9,1e-9,1e-9])#[::,np.newaxis]"
   ]
  },
  {
   "cell_type": "markdown",
   "id": "e43b4186",
   "metadata": {},
   "source": [
    "Upper bounds on parameters:"
   ]
  },
  {
   "cell_type": "code",
   "execution_count": 30,
   "id": "24482e13",
   "metadata": {},
   "outputs": [
    {
     "name": "stdout",
     "output_type": "stream",
     "text": [
      "[1.60209 0.7     7.     ]\n"
     ]
    }
   ],
   "source": [
    "upper_b = (np.asarray([1e-9, 0.1, 0.01]) * [ ppl_scales * time_scale / aᵦ, time_scale / aᵧ, time_scale / aₘ])#[::,np.newaxis]\n",
    "print(upper_b.T)"
   ]
  },
  {
   "cell_type": "code",
   "execution_count": 31,
   "id": "ce240bd2",
   "metadata": {},
   "outputs": [
    {
     "data": {
      "text/plain": [
       "array([1.e-09, 1.e-01, 1.e-02])"
      ]
     },
     "execution_count": 31,
     "metadata": {},
     "output_type": "execute_result"
    }
   ],
   "source": [
    "upper_b.ravel() * asarray([aᵦ/(time_scale*ppl_scales),aᵧ/(time_scale),aₘ/time_scale])"
   ]
  },
  {
   "cell_type": "code",
   "execution_count": 32,
   "id": "c875ac94",
   "metadata": {},
   "outputs": [
    {
     "data": {
      "text/plain": [
       "array([6.24184659e-11, 1.42857143e-02, 1.42857143e-04])"
      ]
     },
     "execution_count": 32,
     "metadata": {},
     "output_type": "execute_result"
    }
   ],
   "source": [
    "1e-1 * asarray([aᵦ/(time_scale*ppl_scales),aᵧ/(time_scale),aₘ/time_scale])"
   ]
  },
  {
   "cell_type": "markdown",
   "id": "f5e71799",
   "metadata": {},
   "source": [
    "## Differential systems"
   ]
  },
  {
   "cell_type": "code",
   "execution_count": 33,
   "id": "bf5014bd",
   "metadata": {},
   "outputs": [],
   "source": [
    "α = np.array([0.07364913, 0.184188 , 0.3663371])"
   ]
  },
  {
   "cell_type": "markdown",
   "id": "fe3052f1",
   "metadata": {},
   "source": [
    "### Solve a state:"
   ]
  },
  {
   "cell_type": "code",
   "execution_count": 34,
   "id": "b3458893",
   "metadata": {},
   "outputs": [],
   "source": [
    "def SIRD(t, z,  α):\n",
    "    β, γ, m = [aᵦ,aᵧ,aₘ] * α    # Scale parameters\n",
    "    S, I, R, D = z\n",
    "    return [β*(n-S)*I, β*(n-S)*I - γ*I - m*I, γ*I, m*I]"
   ]
  },
  {
   "cell_type": "code",
   "execution_count": 35,
   "id": "119e5982",
   "metadata": {},
   "outputs": [
    {
     "name": "stdout",
     "output_type": "stream",
     "text": [
      "The solver successfully reached the end of the integration interval. There were 32 function evaluations.\n"
     ]
    }
   ],
   "source": [
    "sol = solve_ivp(SIRD, [0, T], ρ̂ₒ, args=[α], t_eval = Tₑ, dense_output=True, vectorized=True, rtol = 1e-10)\n",
    "print(sol['message'],'There were',sol.nfev,'function evaluations.')"
   ]
  },
  {
   "cell_type": "code",
   "execution_count": 36,
   "id": "568b0bfa",
   "metadata": {
    "code_folding": [
     0
    ]
   },
   "outputs": [
    {
     "data": {
      "image/png": "[encoded data removed]",
      "text/plain": [
       "<Figure size 800x350 with 1 Axes>"
      ]
     },
     "metadata": {},
     "output_type": "display_data"
    }
   ],
   "source": [
    "# Plot solution:\n",
    "plt.figure(figsize=(8,3.5))\n",
    "#plt.plot(Tₑ,n-sol.y[0].T)\n",
    "plt.plot(Tₑ * time_scale, sol.y.T * ppl_scales)\n",
    "#plt.yscale('symlog', linthresh=1e-1)\n",
    "#plt.xscale('symlog', linthresh=1e-2)\n",
    "plt.yscale('log')\n",
    "plt.plot();"
   ]
  },
  {
   "cell_type": "markdown",
   "id": "3d19db74",
   "metadata": {},
   "source": [
    "At this step we can also test the scalings:"
   ]
  },
  {
   "cell_type": "code",
   "execution_count": 37,
   "id": "af63edb2",
   "metadata": {},
   "outputs": [],
   "source": [
    "ω = α * [aᵦ/ (ppl_scales * time_scale), aᵧ/time_scale, aₘ/time_scale]"
   ]
  },
  {
   "cell_type": "code",
   "execution_count": 38,
   "id": "6dc94d69",
   "metadata": {},
   "outputs": [
    {
     "data": {
      "text/plain": [
       "(array([4.59706571e-11, 2.63125714e-02, 5.23338714e-04]),\n",
       " array([0.07364913, 0.184188  , 0.3663371 ]))"
      ]
     },
     "execution_count": 38,
     "metadata": {},
     "output_type": "execute_result"
    }
   ],
   "source": [
    "ω,α"
   ]
  },
  {
   "cell_type": "code",
   "execution_count": 39,
   "id": "bae63993",
   "metadata": {
    "code_folding": [
     0
    ]
   },
   "outputs": [],
   "source": [
    "def SIRDn(t, z,  α):\n",
    "    β, γ, m = α    # Scale parameters\n",
    "    S, I, R, D = z\n",
    "    return [β*(ppl_scales*n-S)*I, β*(ppl_scales*n-S)*I - γ*I - m*I, γ*I, m*I]"
   ]
  },
  {
   "cell_type": "code",
   "execution_count": 40,
   "id": "ba3d3d42",
   "metadata": {
    "code_folding": [
     0
    ],
    "scrolled": false
   },
   "outputs": [
    {
     "name": "stdout",
     "output_type": "stream",
     "text": [
      "The solver successfully reached the end of the integration interval.\n"
     ]
    }
   ],
   "source": [
    "sol_original_scale = solve_ivp(SIRDn, [0, T*time_scale], ppl_scales * ρ̂ₒ, args=(ω,), \n",
    "                                                   t_eval = Tₑ*time_scale, dense_output=True, vectorized=True, rtol=1e-6)\n",
    "print(sol_original_scale['message'])"
   ]
  },
  {
   "cell_type": "code",
   "execution_count": 41,
   "id": "572e11bc",
   "metadata": {
    "code_folding": [
     0
    ]
   },
   "outputs": [
    {
     "data": {
      "image/png": "[encoded data removed]",
      "text/plain": [
       "<Figure size 800x350 with 1 Axes>"
      ]
     },
     "metadata": {},
     "output_type": "display_data"
    }
   ],
   "source": [
    "# Plot solution:\n",
    "plt.figure(figsize=(8,3.5))\n",
    "plt.plot(Tₑ * time_scale, sol_original_scale.y.T)\n",
    "#plt.yscale('symlog', linthresh=1e-2)\n",
    "#plt.xscale('symlog', linthresh=1e-2)\n",
    "plt.yscale('log')\n",
    "plt.legend(['S', 'I', 'R'], shadow=True)\n",
    "plt.show()"
   ]
  },
  {
   "cell_type": "markdown",
   "id": "d9ee8824",
   "metadata": {},
   "source": [
    "## Solve its adjoint"
   ]
  },
  {
   "cell_type": "markdown",
   "id": "27bb3396",
   "metadata": {},
   "source": [
    "The adjoint state can be found by solving the following ODE system:"
   ]
  },
  {
   "cell_type": "markdown",
   "id": "e76bcbe3",
   "metadata": {},
   "source": [
    "\\begin{align}\n",
    "    \\frac{\\dif q_\\sigma}{\\dif t} &= \\hat{\\sigma} - \\sigma + [a_1 \\beta] I (q_\\sigma + q_I),\n",
    "    \\\\\n",
    "    \\frac{\\dif q_I}{\\dif t} &= \\hat{I} - I - [a_1 \\beta] (n-\\sigma)(q_\\sigma + q_I) + [a_2\\gamma] (q_I - q_R) + [a_3 m] (q_I - q_D),\n",
    "    \\\\\n",
    "    \\frac{\\dif q_R}{\\dif t} &= \\hat{R} - R,\n",
    "    \\\\\n",
    "    \\frac{\\dif q_D}{\\dif t} &= \\hat{D} - D,\n",
    "\\end{align}\n",
    "with the terminal condition $q(T) = \\vartheta\\big[\\rho(T) - \\widehat{\\rho}(T)\\big]$."
   ]
  },
  {
   "cell_type": "code",
   "execution_count": 42,
   "id": "93cc638a",
   "metadata": {},
   "outputs": [],
   "source": [
    "# Interpolator from ODE\n",
    "ρₜ = sol.sol\n",
    "ρ = sol.y"
   ]
  },
  {
   "cell_type": "code",
   "execution_count": 43,
   "id": "2320bd33",
   "metadata": {},
   "outputs": [],
   "source": [
    "dw = simpson((ρ̂ - (simpson((ρ̂), x=Tₑ)/T)[::,np.newaxis])**2, x = Tₑ) ** -1    # Goodness of fit weight"
   ]
  },
  {
   "cell_type": "code",
   "execution_count": 44,
   "id": "fc365b97",
   "metadata": {},
   "outputs": [],
   "source": [
    "def Adjoint(t, z, α,ρ):\n",
    "    β, γ, m    = [aᵦ,aᵧ,aₘ] * α      # Use scaled interpolator\n",
    "    S̄, Ī, R̄, D̄ = dw * ρ̄(t)           # Target\n",
    "    S, I, R, D = dw * ρ(t)           # State\n",
    "    qₛ, qᵢ, qᵣ, qᵈ = z           # Adjoint\n",
    "    return [S̄ - S + β*I*(qₛ + qᵢ), Ī - I - β*(n-S)*(qₛ + qᵢ) + γ*(qᵢ - qᵣ) + m * (qᵢ - qᵈ), R̄ - R, D̄ - D]"
   ]
  },
  {
   "cell_type": "code",
   "execution_count": 45,
   "id": "0cf5fbc9",
   "metadata": {},
   "outputs": [
    {
     "name": "stdout",
     "output_type": "stream",
     "text": [
      "The solver successfully reached the end of the integration interval. There were 80 function evaluations.\n"
     ]
    }
   ],
   "source": [
    "qₒ = ϑᵀᵉʳ * (ρ[:,-1] - ρ̂ᶠ)\n",
    "solₛ = solve_ivp(Adjoint, [T,0], qₒ, args=(α,ρₜ), t_eval = Tₑ[::-1], dense_output=True, vectorized=False)\n",
    "q = solₛ.y[:,::-1]\n",
    "print(solₛ['message'],'There were',solₛ.nfev,'function evaluations.')"
   ]
  },
  {
   "cell_type": "code",
   "execution_count": 46,
   "id": "3441cbae",
   "metadata": {
    "code_folding": [
     0
    ]
   },
   "outputs": [
    {
     "data": {
      "image/png": "[encoded data removed]",
      "text/plain": [
       "<Figure size 800x350 with 1 Axes>"
      ]
     },
     "metadata": {},
     "output_type": "display_data"
    }
   ],
   "source": [
    "# Plot adjoint curves\n",
    "plt.figure(figsize=(8,3.5))\n",
    "plt.plot(Tₑ[::-1],q.T)\n",
    "plt.xlabel(r'Time $t$')\n",
    "plt.legend([r'$q_S$', '$q_I$', '$q_R$'], shadow=True)\n",
    "#plt.yscale('log')\n",
    "plt.yscale('symlog', linthresh=1e1)\n",
    "plt.show()"
   ]
  },
  {
   "cell_type": "markdown",
   "id": "b51b9169",
   "metadata": {},
   "source": [
    "## Cost and gradient"
   ]
  },
  {
   "cell_type": "markdown",
   "id": "4ebc5391",
   "metadata": {},
   "source": [
    "Let us evaluate the function\n",
    "\\begin{align}\n",
    "    j(\\alpha) = \\frac{1}{2} \\int\\limits_0^T w_1 \\big( \\sigma(t) - \\hat{\\sigma}(t) \\big)^2 +  w_2 \\big( I(t) - \\hat{I}(t) \\big)^2 + w_3 \\big( R(t) - \\hat{R}(t) \\big)^2 + w_4 \\big( D(t) - \\hat{D}(t) \\big)^2 \\,\\dif t  +  \\frac{1}{T} \\big( \\theta_1 \\beta^2 + \\theta_2 \\gamma^2 + \\theta_3 m^2 \\big)  + \\frac{1}{2} \\| \\vartheta (\\rho(T) - \\widehat{\\rho}(T)) \\|^2_{\\R^3}\n",
    "    .\n",
    "\\end{align}"
   ]
  },
  {
   "cell_type": "code",
   "execution_count": 47,
   "id": "08b3c04b",
   "metadata": {
    "code_folding": []
   },
   "outputs": [],
   "source": [
    "def Objective(ρ,ρ̂,α, θ,ϑᵀᵉʳ,  scale = 1.0):\n",
    "    # State + controls\n",
    "    s  = (dw * simpson((ρ-ρ̂)**2, x=Tₑ)).sum()  +  (ϑᵀᵉʳ * (ρ[:,-1] - ρ̂ᶠ)**2).sum()\n",
    "    s *= scale\n",
    "    # Controls\n",
    "    s +=  (α**2 * θ).sum() / T\n",
    "    # Weight\n",
    "    s *= 0.5\n",
    "    return s"
   ]
  },
  {
   "cell_type": "code",
   "execution_count": 48,
   "id": "7ab8195f",
   "metadata": {},
   "outputs": [
    {
     "name": "stdout",
     "output_type": "stream",
     "text": [
      "As an example, the objective value for α is 3.9747e+00.\n"
     ]
    }
   ],
   "source": [
    "print('As an example, the objective value for α is {0:.4e}.'.format(  Objective(ρ,ρ̂, α, θ, ϑᵀᵉʳ, scale = (1) ) ))"
   ]
  },
  {
   "cell_type": "markdown",
   "id": "c3cf85e7",
   "metadata": {},
   "source": [
    "Now we can compute the derivative of the reduced objective functional [ ! ]:\n",
    "\\begin{align}\n",
    "    \\frac{\\partial f}{\\partial \\beta} &= \\int\\limits_0^T a_1 (n-\\sigma) I( q_\\sigma + q_I ) \\dif t  + \\theta_1 \\beta\n",
    "    \\\\\n",
    "    \\frac{\\partial f}{\\partial \\gamma} &= \\int\\limits_0^T a_2 I( q_R - q_I ) \\dif t  + \\theta_2 \\gamma\n",
    "    \\\\\n",
    "    \\frac{\\partial f}{\\partial m} &= \\int\\limits_0^T a_3I (q_D - q_I) \\dif t   + \\theta_3 m\n",
    "\\end{align}"
   ]
  },
  {
   "cell_type": "code",
   "execution_count": 49,
   "id": "de4cb7ce",
   "metadata": {},
   "outputs": [],
   "source": [
    "df = asarray([aᵦ * simpson(ρ[0]*ρ[1] * (q[1]-q[0]), x=Tₑ), aᵧ * simpson(ρ[1] * (q[2]-q[1]), x=Tₑ), aᵧ * simpson(ρ[1] * (q[3]-q[1]), x=Tₑ)])  + (θ/T) * α"
   ]
  },
  {
   "cell_type": "code",
   "execution_count": 50,
   "id": "741cbd40",
   "metadata": {
    "code_folding": [
     0
    ]
   },
   "outputs": [
    {
     "name": "stdout",
     "output_type": "stream",
     "text": [
      "[-3.53180650e-05  1.34500692e+00 -7.77370112e+01]\n"
     ]
    }
   ],
   "source": [
    "print(df)"
   ]
  },
  {
   "cell_type": "markdown",
   "id": "b1ae33ef",
   "metadata": {},
   "source": [
    "### Define projection"
   ]
  },
  {
   "cell_type": "code",
   "execution_count": 51,
   "id": "b826abb1",
   "metadata": {},
   "outputs": [],
   "source": [
    "def proj(α):    return np.clip(α, 0.0, upper_b)"
   ]
  },
  {
   "cell_type": "code",
   "execution_count": 52,
   "id": "7ac5b6d3",
   "metadata": {
    "code_folding": [
     0
    ]
   },
   "outputs": [
    {
     "data": {
      "text/plain": [
       "array([1.60209, 0.     , 0.     ])"
      ]
     },
     "execution_count": 52,
     "metadata": {},
     "output_type": "execute_result"
    }
   ],
   "source": [
    "proj( 7000 * (1-α - 0.82))"
   ]
  },
  {
   "cell_type": "markdown",
   "id": "3da0591f",
   "metadata": {},
   "source": [
    "# A few evaluations"
   ]
  },
  {
   "cell_type": "markdown",
   "id": "0fa27406",
   "metadata": {},
   "source": [
    "Let us evaluate the objective for some curves:"
   ]
  },
  {
   "cell_type": "code",
   "execution_count": 53,
   "id": "026b2f70",
   "metadata": {},
   "outputs": [],
   "source": [
    "global ρ, q\n",
    "ρ = np.zeros_like(ρ̂)\n",
    "q = np.zeros_like(ρ̂)"
   ]
  },
  {
   "cell_type": "code",
   "execution_count": 54,
   "id": "156d761d",
   "metadata": {
    "code_folding": [
     7,
     33,
     45,
     56
    ]
   },
   "outputs": [],
   "source": [
    "# Increase tolerance: Quasi-Newton methods are generally more susceptible to numerical errors\n",
    "# 1e-3 is the default tolerance of the solver, 1e-4 produces fair results and this is replicated in 1e-6\n",
    "rt = 1e-9\n",
    "# Scale the population compartments by some quantity; e.g., n^-2 scales by total number of people at time 0\n",
    "scaling = True\n",
    "scale = 1.0 if scaling else 1.0\n",
    "\n",
    "def obj_eval(α):                  # ** Eval f and f' ** #\n",
    "    global ρ, q, df\n",
    "    '''\n",
    "        Evaluate state, compute adjoint, and return objective and derivative\n",
    "    '''\n",
    "    # Compute state α\n",
    "    ρ_sol = solve_ivp(SIRD, [0, T], ρ̂ₒ, args=(α,), t_eval = Tₑ, dense_output=True, vectorized=True, first_step = 0.1, rtol=rt)\n",
    "    if ρ_sol['success'] != True:    print('Should re-evaluate.')\n",
    "    ρ  = ρ_sol.y\n",
    "    f  = Objective(ρ,ρ̂, α, θ, ϑᵀᵉʳ,  scale)\n",
    "    \n",
    "    # Create an abstract interpolator for state\n",
    "    ρₜ = ρ_sol.sol\n",
    "    \n",
    "    # Compute adjoint\n",
    "    qₒ = ϑᵀᵉʳ * (ρ[:,-1] - ρ̂ᶠ)    # Terminal condition\n",
    "    q_sol = solve_ivp(Adjoint, [T,0], qₒ, args=(α,ρₜ), t_eval = Tₑ[::-1], dense_output=True, vectorized=False, rtol=rt)\n",
    "    q = q_sol.y[:,::-1]\n",
    "\n",
    "    # Compute derivative\n",
    "    df = scale * asarray([ aᵦ * simpson(ρ[0]*ρ[1] * (q[1]-q[0]), x=Tₑ), \n",
    "                           aᵧ * simpson(ρ[1] * (q[2]-q[1]), x=Tₑ), \n",
    "                           aᵧ * simpson(ρ[1] * (q[3]-q[1]), x=Tₑ)]) \n",
    "    df += (θ/T) * α\n",
    "    \n",
    "    return asarray(f), df\n",
    "def obj_eval_a(α):                # ** Eval just f ** #\n",
    "    global ρ\n",
    "    '''\n",
    "        Evaluate state and return objective\n",
    "    '''\n",
    "    # Compute state α\n",
    "    ρ_sol = solve_ivp(SIRD, [0, T], ρ̂ₒ, args=(α,), t_eval = Tₑ, dense_output=True, vectorized=True, first_step = 0.1, rtol=rt)\n",
    "    if ρ_sol['success'] != True:    print('Should re-evaluate.')\n",
    "    ρ  = ρ_sol.y\n",
    "    f  = Objective(ρ,ρ̂, α, θ, ϑᵀᵉʳ,  scale)\n",
    "    \n",
    "    return asarray(f)\n",
    "def obj_eval_b(α):                # ** Does not affect global variable ρ ** #\n",
    "    '''\n",
    "        Evaluate state, compute adjoint, and return objective and derivative\n",
    "    '''\n",
    "    # Compute state α\n",
    "    ρ_sol = solve_ivp(SIRD, [0, T], ρ̂ₒ, args=(α,), t_eval = Tₑ, dense_output=True, vectorized=True, first_step = 0.1, rtol=rt)\n",
    "    if ρ_sol['success'] != True:    print('Should re-evaluate.')\n",
    "    ρₐ = ρ_sol.y\n",
    "    f  = Objective(ρₐ,ρ̂,α, θ, ϑᵀᵉʳ,  scale)\n",
    "\n",
    "    return asarray(f)\n",
    "def obj_eval_d(α):                # ** Does not affect global variables ρ, q, df ** #\n",
    "    '''\n",
    "        Evaluate state, compute adjoint, and return objective and derivative\n",
    "    '''\n",
    "    # Compute state α\n",
    "    ρ_sol = solve_ivp(SIRD, [0, T], ρ̂ₒ, args=(α,), t_eval = Tₑ, dense_output=True, vectorized=True, first_step = 0.1, rtol=rt)\n",
    "    if ρ_sol['success'] != True:    \n",
    "        print('Should re-evaluate.')\n",
    "        plt.plot(ρ_sol.y.T)\n",
    "        plt.show()\n",
    "        print(ρ_sol)\n",
    "    ρᵦ = ρ_sol.y\n",
    "    f  = Objective(ρᵦ,ρ̂, α, θ, ϑᵀᵉʳ,  scale)\n",
    "    \n",
    "    # Create an abstract interpolator for state\n",
    "    ρₜ = ρ_sol.sol\n",
    "    \n",
    "    # Compute adjoint\n",
    "    qₒ = ϑᵀᵉʳ * (ρᵦ[:,-1] - ρ̂ᶠ)    # Terminal condition\n",
    "    q_sol = solve_ivp(Adjoint, [T,0], qₒ, args=(α,ρₜ), t_eval = Tₑ[::-1], dense_output=True, vectorized=False, rtol=rt)\n",
    "    qᵦ = q_sol.y[:,::-1]\n",
    "\n",
    "    # Compute derivative\n",
    "    dF = scale * asarray([ aᵦ * simpson(ρᵦ[0]*ρᵦ[1] * (qᵦ[1]-qᵦ[0]), x=Tₑ),    \n",
    "                           aᵧ * simpson(ρᵦ[1] * (qᵦ[2]-qᵦ[1]), x=Tₑ),    \n",
    "                           aₘ * simpson(ρᵦ[1] * (qᵦ[3]-qᵦ[1]), x=Tₑ) ])\n",
    "    dF += (θ/T) * α\n",
    "\n",
    "    return asarray(f), dF"
   ]
  },
  {
   "cell_type": "code",
   "execution_count": 55,
   "id": "a87454b1",
   "metadata": {},
   "outputs": [
    {
     "data": {
      "text/plain": [
       "array(3.97471049)"
      ]
     },
     "execution_count": 55,
     "metadata": {},
     "output_type": "execute_result"
    }
   ],
   "source": [
    "obj_eval_a(α)"
   ]
  },
  {
   "cell_type": "markdown",
   "id": "25f12ff6",
   "metadata": {},
   "source": [
    "---"
   ]
  },
  {
   "cell_type": "markdown",
   "id": "9e3aece8",
   "metadata": {},
   "source": [
    "# Solving the optimisation problem"
   ]
  },
  {
   "cell_type": "markdown",
   "id": "33c8351c",
   "metadata": {},
   "source": [
    "We will use a gradient-based algorithm for optimising $f$. For any $L > 0$, and $\\omega \\in [0,1]^2$, define the the operator\n",
    "$$\n",
    "    p_L (\\omega) := \\mathcal{P}_{[0,1]^2}[\\omega - L^{-1} \\nabla f(\\omega) ].\n",
    "$$"
   ]
  },
  {
   "cell_type": "markdown",
   "id": "30f4b1d8",
   "metadata": {},
   "source": [
    "<div style=\"background-color:rgba(0, 0, 0, 0.0470588); vertical-align: middle; padding:5px 0; padding-left: 40px;\">\n",
    "<h2 style=\"color: #5e9ca0;\">Fast Iterative Shrinkage-Thresholding Algorithm</h2>\n",
    "<ol>\n",
    "<li>Let $\\alpha_0 = \\omega_0 \\in [0,1]^2$, $\\theta_0 = 1$, $L_0>0$, $\\eta > 1$, and $a < 1$.</li>\n",
    "<li>\n",
    "    For any $L>0$ and $\\alpha,\\omega \\in [0,1]^2$, define the functions\n",
    "    \\begin{align}\n",
    "        p_L (\\omega) &= \\mathcal{P}_{[0,1]^2}[\\omega - L^{-1} \\nabla f(\\omega) ],\n",
    "    \\\\\n",
    "        q_L (\\omega,\\alpha) &= f(\\alpha) + \\langle \\omega-\\alpha, \\nabla f(\\alpha) \\rangle + \\frac{L}{2} \\|\\omega-\\alpha\\|^2.\n",
    "    \\end{align}\n",
    "</li>\n",
    "    \n",
    "<li>For $k \\in \\{0,\\ldots\\}$, do\n",
    "<ol>\n",
    "<li>Compute state $\\rho_{\\omega_k}$\n",
    "<li>Compute adjoint $q_{\\omega_k}$\n",
    "<li>Evaluate the gradient of the reduced functional $ \\nabla f(\\omega_k)$\n",
    "\n",
    "<li>Find the smallest $i_k \\in \\mathbb{N}$ such that\n",
    "\\begin{align}\n",
    "    L &= \\eta^{i_k} L_k\n",
    "    \\\\\n",
    "    f\\big( p_L (\\omega_k) \\big) &\\leq q_L \\big( p_L(\\omega_k), \\omega_k  \\big)\n",
    "\\end{align}\n",
    "    \n",
    "<li>Update $L_{k+1} = \\eta^{i_k} L_k$\n",
    "<li>Set $\\alpha_{k+1} = p_{L_{k+1}} (\\omega_k)$\n",
    "<li>Update $\\theta_{k+1} = a k + 1$\n",
    "<li>Update $\\omega_{k+1} = \\alpha_{k+1} + \\frac{\\theta_k - 1}{\\theta_{k+1}} (\\alpha_{k+1} - \\alpha_k)$\n",
    "</li>\n",
    "</ol>\n",
    "</div>"
   ]
  },
  {
   "cell_type": "markdown",
   "id": "084b283e",
   "metadata": {},
   "source": [
    "## Algorithm"
   ]
  },
  {
   "cell_type": "code",
   "execution_count": 56,
   "id": "c12a63e8",
   "metadata": {},
   "outputs": [
    {
     "data": {
      "text/plain": [
       "1.0"
      ]
     },
     "execution_count": 56,
     "metadata": {},
     "output_type": "execute_result"
    }
   ],
   "source": [
    "#scale = 1e-0 #1e-4\n",
    "scale"
   ]
  },
  {
   "cell_type": "code",
   "execution_count": 57,
   "id": "28b72631",
   "metadata": {
    "code_folding": [
     0
    ]
   },
   "outputs": [],
   "source": [
    "def box_scale(x,y):\n",
    "    '''\n",
    "        Return minimum value of scalar s > 0  such that x + sy ∈ [0,1] for x ∈ [0,1]\n",
    "    '''\n",
    "    a = np.divide(x, y, where=(y>0))[y>0]\n",
    "    b = np.divide((x-1), y, where=(y<0))[y<0]\n",
    "    if len(a) > 0:\n",
    "        if len(b) > 0:\n",
    "            return min( a.min(), b.min() )\n",
    "        else:\n",
    "            return a.min()\n",
    "    else:\n",
    "        return b.min()"
   ]
  },
  {
   "cell_type": "code",
   "execution_count": 58,
   "id": "863d0d6b",
   "metadata": {
    "code_folding": [
     0,
     46,
     70,
     95,
     112
    ]
   },
   "outputs": [],
   "source": [
    "def FISTA(α, iters, save_iter = False, critical = 1, εₐ = 1e-9, εᵦ = 1e-16, try_TR = False):\n",
    "    '''\n",
    "        Create structures to store information from iterates\n",
    "    '''\n",
    "    every_iter = {\n",
    "        'it':[], 'obj':[], 'time':[], 'β':[], 'γ':[], 'm':[], 'df_β':[], 'df_γ':[], 'df_m':[],\n",
    "        'norms':{'ℓ_1': [], 'ℓ_2': [], 'max': [], 'min':[]}\n",
    "                 }\n",
    "    every_critical = {'it':[], 'obj':[], 'time':[], '|df|_2':[], '|df|_max':[]}\n",
    "    \n",
    "    '''\n",
    "        GD iterates\n",
    "    '''\n",
    "    print('     It  |    f(ω)  |    Time   |  ‖df(ω)‖_2  |   ‖df(ω)‖_∞  ')\n",
    "    print( '{:–^62}'.format('') )\n",
    "    \n",
    "    # Initialisation\n",
    "    # 1.1, 0.965, 10, 11/5   [0.259914]\n",
    "    # 1.01, 0.965, 10, 11/5  [0.107911]\n",
    "    # Best so far\n",
    "    # 1.01 0.1 10 11/5 [0.100978]\n",
    "    \n",
    "    ω = α.copy()\n",
    "    θₖ = 1.0      # Inertia parameter (not to be confused with \\theta)\n",
    "    η = 1.01     # Scaling for backtracking\n",
    "    L = 0.965     # Approximation of the Lipschitz constant\n",
    "    I = 40       # Number of iterations for backtracking\n",
    "    a = 11.0/5   # Inertia weight (a > 2)\n",
    "    \n",
    "    # First objective evaluation\n",
    "    # Compute state and adjoint for ω\n",
    "    f = obj_eval_a(α)\n",
    "    \n",
    "    timed = 0.0\n",
    "    for k in range(iters):\n",
    "        #print(L)\n",
    "        α_o = α.copy()\n",
    "        θ_o = θₖ\n",
    "        f_o = f\n",
    "        \n",
    "        it_time = time.time()\n",
    "        \n",
    "        # Compute state and adjoint for ω\n",
    "        f, df = obj_eval(ω)\n",
    "        \n",
    "        # Store info for initial point\n",
    "        if k == 0 and save_iter:\n",
    "            every_iter['it'].append( k-1 )\n",
    "            every_iter['obj'].append( f )\n",
    "            every_iter['time'].append( timed )\n",
    "            every_iter['β'].append( α[0] )\n",
    "            every_iter['γ'].append( α[1] )\n",
    "            every_iter['m'].append( α[2] )\n",
    "            every_iter['df_β'].append( df[0] )\n",
    "            every_iter['df_γ'].append( df[1] )\n",
    "            every_iter['df_m'].append( df[2] )\n",
    "            # Store norms of gradient\n",
    "            every_iter['norms']['ℓ_2'].append( norm(df)/(3**0.5) )\n",
    "            every_iter['norms']['ℓ_1'].append( (1/3) * norm(df,1) )\n",
    "            every_iter['norms']['max'].append( norm(df,np.inf) )\n",
    "            every_iter['norms']['min'].append( abs(df).min() )\n",
    "        \n",
    "        \n",
    "        # Create scale factor is derivative is too far away from [0,1]^3:\n",
    "        # In other words: go one step ahead if α - s * df goes too far, backtracking will waste time!\n",
    "        bₜ = box_scale(α,df)\n",
    "        s  = 0.1/norm(df) if norm(df,np.inf) > 1.0 else 1.0\n",
    "        s = s if bₜ <= 0.0 else max(bₜ,s)\n",
    "        \n",
    "        # Backtracking\n",
    "        for i in range(I):\n",
    "            # Temporary approximation of Lipschitz constant\n",
    "            Lₓ = η**i * L\n",
    "            b  = 1.0/Lₓ\n",
    "            # Gradient and proximal step\n",
    "            u = ω - (b * s) * df\n",
    "            p = proj(u)\n",
    "            # Compute state to validate Lₓ\n",
    "            fₖ = obj_eval_a(p)\n",
    "            # Validation step\n",
    "            if fₖ <= f + (p - ω).dot(df) + 0.5 * (Lₓ/s) * norm(p - ω)**2:\n",
    "                break\n",
    "        \n",
    "        # Update control\n",
    "        #L = Lₓ\n",
    "        α = p.copy()\n",
    "        # Update inertia\n",
    "        θₖ = ((k+1)/a) + 1.0\n",
    "        ω = α + (θ_o - 1) * ( α - α_o )/θₖ\n",
    "        if (ω < 0.0).any():\n",
    "            #print('hey', ω)\n",
    "            # Infeasible point is projected back into the box\n",
    "            ω = proj(ω)\n",
    "        \n",
    "        Exit = True\n",
    "        '''if L > 1e+4:\n",
    "            print('Here')\n",
    "            θₖ = (a/(k+1))\n",
    "            η = 1.01     # Scaling for backtracking\n",
    "            L = 0.965     # Approximation of the Lipschitz constant\n",
    "            I = 20       # Number of iterations for backtracking\n",
    "            a = 11.0/5   # Inertia weight (a > 2)\n",
    "            #α = α_o.copy()\n",
    "            α = ω.copy()\n",
    "            Exit = False'''\n",
    "            #break\n",
    "        \n",
    "                \n",
    "        # Measure time up to this point!\n",
    "        end = time.time()\n",
    "        timed += end - it_time\n",
    "        \n",
    "        if save_iter:\n",
    "            every_iter['it'].append( k )\n",
    "            every_iter['obj'].append( fₖ )\n",
    "            every_iter['time'].append( timed )\n",
    "            every_iter['β'].append( α[0] )\n",
    "            every_iter['γ'].append( α[1] )\n",
    "            every_iter['m'].append( α[2] )\n",
    "            every_iter['df_β'].append( df[0] )\n",
    "            every_iter['df_γ'].append( df[1] )\n",
    "            every_iter['df_m'].append( df[2] )\n",
    "            # Store norms of gradient\n",
    "            every_iter['norms']['ℓ_2'].append( norm(df)/(3**0.5) )\n",
    "            every_iter['norms']['ℓ_1'].append( (1/3) * norm(df,1) )\n",
    "            every_iter['norms']['max'].append( norm(df,np.inf) )\n",
    "            every_iter['norms']['min'].append( abs(df).min() )\n",
    "        \n",
    "        if k % critical == 0:\n",
    "            every_critical['it'].append( k )\n",
    "            every_critical['obj'].append( fₖ )\n",
    "            every_critical['time'].append( timed )\n",
    "            every_critical['|df|_2'].append( norm(df)/(3**0.5) )\n",
    "            every_critical['|df|_max'].append( norm(df,np.inf) )\n",
    "            \n",
    "            print('* {0:6.0f} |  {1:.1e} |  {2:7.2f}  | {3:6.3e}   |   {4:6.3e}  '.format(k,\n",
    "                                                                        f, timed,\n",
    "                                                                        norm(df)/(3**0.5), \n",
    "                                                                        norm(df,np.inf) ))\n",
    "        \n",
    "        if abs(f - f_o) < εᵦ and k > 10:\n",
    "            print('|f-fₖ| < {0:1.0e}'.format(εᵦ))\n",
    "            break\n",
    "        \n",
    "        if norm(α - α_o)/(2.0**0.5) < εₐ:\n",
    "            print('‖αₖ - p‖ < {0:1.0e}'.format(εₐ))\n",
    "            break\n",
    "        \n",
    "    print('\\nAlgorithm stopped after {0:.4f} seconds and {1} iterations'.format(timed,k))\n",
    "    \n",
    "    # Due to nonmonoticity, last iterate is not necessarily the best candidate\n",
    "    idx = np.argmin(every_iter['obj'])\n",
    "    α = asarray([every_iter['β'][idx], every_iter['γ'][idx], every_iter['m'][idx]])\n",
    "    jα = obj_eval_a(α)\n",
    "    print(α,jα)\n",
    "    \n",
    "    return α, ρ, every_critical, every_iter"
   ]
  },
  {
   "cell_type": "code",
   "execution_count": 59,
   "id": "43df02b9",
   "metadata": {},
   "outputs": [],
   "source": [
    "from sklearn.metrics import r2_score"
   ]
  },
  {
   "cell_type": "code",
   "execution_count": 60,
   "id": "85662bc3",
   "metadata": {
    "scrolled": true
   },
   "outputs": [
    {
     "name": "stdout",
     "output_type": "stream",
     "text": [
      "     It  |    f(ω)  |    Time   |  ‖df(ω)‖_2  |   ‖df(ω)‖_∞  \n",
      "––––––––––––––––––––––––––––––––––––––––––––––––––––––––––––––\n",
      "*      0 |  4.0e+00 |     0.07  | 4.565e+01   |   7.906e+01  \n",
      "*     50 |  3.3e+00 |     3.84  | 1.032e+01   |   1.787e+01  \n",
      "*    100 |  4.2e+00 |     7.52  | 8.417e+01   |   1.458e+02  \n",
      "*    150 |  3.7e+00 |    10.99  | 4.160e+01   |   7.203e+01  \n",
      "*    200 |  4.2e+00 |    14.45  | 6.291e+01   |   1.090e+02  \n",
      "*    250 |  3.9e+00 |    18.09  | 6.184e+01   |   1.071e+02  \n",
      "*    300 |  3.9e+00 |    21.56  | 4.871e+01   |   8.436e+01  \n",
      "*    350 |  3.6e+00 |    25.10  | 9.336e-01   |   1.285e+00  \n",
      "*    400 |  3.5e+00 |    28.55  | 1.889e+01   |   3.267e+01  \n",
      "*    450 |  3.6e+00 |    31.96  | 2.846e+01   |   4.925e+01  \n",
      "*    500 |  3.7e+00 |    35.45  | 1.985e+01   |   3.435e+01  \n",
      "*    550 |  4.2e+00 |    39.02  | 8.041e+01   |   1.393e+02  \n",
      "*    600 |  3.3e+00 |    42.41  | 1.905e+01   |   3.296e+01  \n",
      "*    650 |  4.3e+00 |    45.91  | 5.707e+01   |   9.885e+01  \n",
      "*    700 |  4.3e+00 |    49.37  | 5.565e+01   |   9.638e+01  \n",
      "*    750 |  3.6e+00 |    52.77  | 5.732e+01   |   9.927e+01  \n",
      "*    800 |  3.7e+00 |    56.29  | 5.451e+01   |   9.440e+01  \n",
      "*    850 |  3.2e+00 |    59.71  | 2.496e+01   |   4.322e+01  \n",
      "*    900 |  3.3e+00 |    63.12  | 2.407e+01   |   4.163e+01  \n",
      "*    950 |  3.9e+00 |    66.51  | 7.909e+01   |   1.370e+02  \n",
      "*   1000 |  3.5e+00 |    69.89  | 5.222e+01   |   9.042e+01  \n",
      "*   1050 |  3.4e+00 |    73.31  | 7.119e+00   |   1.220e+01  \n",
      "*   1100 |  3.0e+00 |    76.79  | 3.203e+00   |   5.379e+00  \n",
      "*   1150 |  3.0e+00 |    80.20  | 2.263e+01   |   3.913e+01  \n",
      "*   1200 |  3.3e+00 |    83.59  | 6.831e+01   |   1.183e+02  \n",
      "*   1250 |  2.8e+00 |    87.07  | 1.829e+01   |   3.160e+01  \n",
      "*   1300 |  3.2e+00 |    90.61  | 6.925e+01   |   1.199e+02  \n",
      "*   1350 |  2.7e+00 |    94.15  | 1.647e+01   |   2.843e+01  \n",
      "*   1400 |  3.1e+00 |    97.66  | 7.259e+01   |   1.257e+02  \n",
      "*   1450 |  2.6e+00 |   101.19  | 1.556e+01   |   2.685e+01  \n",
      "*   1500 |  3.0e+00 |   104.71  | 7.589e+01   |   1.314e+02  \n",
      "*   1550 |  2.5e+00 |   108.24  | 1.182e+01   |   2.036e+01  \n",
      "*   1600 |  3.0e+00 |   111.78  | 7.406e+01   |   1.282e+02  \n",
      "*   1650 |  2.8e+00 |   115.33  | 6.563e+01   |   1.136e+02  \n",
      "*   1700 |  2.5e+00 |   118.91  | 3.161e+01   |   5.462e+01  \n",
      "*   1750 |  2.9e+00 |   122.55  | 1.161e+02   |   2.010e+02  \n",
      "*   1800 |  2.4e+00 |   126.25  | 4.242e+01   |   7.338e+01  \n",
      "*   1850 |  2.6e+00 |   129.88  | 1.123e+02   |   1.943e+02  \n",
      "*   1900 |  2.0e+00 |   133.55  | 1.481e+01   |   2.551e+01  \n",
      "*   1950 |  2.2e+00 |   137.20  | 6.890e+01   |   1.193e+02  \n",
      "*   2000 |  2.3e+00 |   140.90  | 1.062e+02   |   1.838e+02  \n",
      "*   2050 |  1.8e+00 |   144.59  | 3.647e+01   |   6.306e+01  \n",
      "*   2100 |  2.2e+00 |   148.35  | 1.112e+02   |   1.926e+02  \n",
      "*   2150 |  2.0e+00 |   152.16  | 1.056e+02   |   1.828e+02  \n",
      "*   2200 |  1.5e+00 |   155.98  | 4.628e+01   |   8.010e+01  \n",
      "*   2250 |  1.9e+00 |   159.78  | 1.221e+02   |   2.115e+02  \n",
      "*   2300 |  2.0e+00 |   163.59  | 1.577e+02   |   2.728e+02  \n",
      "*   2350 |  1.2e+00 |   167.39  | 3.295e+01   |   5.703e+01  \n",
      "*   2400 |  1.5e+00 |   171.30  | 1.312e+02   |   2.273e+02  \n",
      "*   2450 |  1.0e+00 |   175.22  | 1.960e+01   |   3.395e+01  \n",
      "*   2500 |  2.1e+00 |   179.13  | 2.368e+02   |   4.099e+02  \n",
      "*   2550 |  1.6e+00 |   183.07  | 1.594e+02   |   2.761e+02  \n",
      "*   2600 |  1.4e+00 |   187.08  | 1.462e+02   |   2.532e+02  \n",
      "*   2650 |  1.2e+00 |   191.06  | 1.288e+02   |   2.230e+02  \n",
      "*   2700 |  9.9e-01 |   195.03  | 1.132e+02   |   1.959e+02  \n",
      "*   2750 |  8.6e-01 |   199.05  | 1.072e+02   |   1.856e+02  \n",
      "*   2800 |  8.2e-01 |   203.06  | 1.143e+02   |   1.980e+02  \n",
      "*   2850 |  8.6e-01 |   207.06  | 1.319e+02   |   2.285e+02  \n",
      "*   2900 |  9.3e-01 |   211.09  | 1.523e+02   |   2.637e+02  \n",
      "*   2950 |  9.8e-01 |   215.11  | 1.645e+02   |   2.849e+02  \n",
      "*   3000 |  9.5e-01 |   219.11  | 1.631e+02   |   2.825e+02  \n",
      "*   3050 |  8.4e-01 |   223.38  | 1.510e+02   |   2.614e+02  \n",
      "*   3100 |  7.0e-01 |   227.42  | 1.340e+02   |   2.321e+02  \n",
      "*   3150 |  5.9e-01 |   231.43  | 1.203e+02   |   2.083e+02  \n",
      "*   3200 |  5.4e-01 |   235.43  | 1.165e+02   |   2.017e+02  \n",
      "*   3250 |  5.6e-01 |   239.40  | 1.243e+02   |   2.153e+02  \n",
      "*   3300 |  6.4e-01 |   243.38  | 1.401e+02   |   2.426e+02  \n",
      "*   3350 |  7.4e-01 |   247.39  | 1.562e+02   |   2.705e+02  \n",
      "*   3400 |  8.1e-01 |   251.42  | 1.643e+02   |   2.846e+02  \n",
      "*   3450 |  8.0e-01 |   255.46  | 1.611e+02   |   2.791e+02  \n",
      "*   3500 |  7.3e-01 |   259.45  | 1.494e+02   |   2.587e+02  \n",
      "*   3550 |  6.4e-01 |   263.41  | 1.350e+02   |   2.337e+02  \n",
      "*   3600 |  5.8e-01 |   267.41  | 1.246e+02   |   2.158e+02  \n",
      "*   3650 |  5.7e-01 |   271.39  | 1.232e+02   |   2.133e+02  \n",
      "*   3700 |  6.2e-01 |   275.34  | 1.310e+02   |   2.268e+02  \n",
      "*   3750 |  7.1e-01 |   279.32  | 1.442e+02   |   2.498e+02  \n",
      "*   3800 |  8.0e-01 |   283.29  | 1.562e+02   |   2.706e+02  \n",
      "*   3850 |  8.5e-01 |   287.28  | 1.609e+02   |   2.787e+02  \n",
      "*   3900 |  8.3e-01 |   291.25  | 1.565e+02   |   2.711e+02  \n",
      "*   3950 |  7.7e-01 |   295.24  | 1.460e+02   |   2.528e+02  \n",
      "*   4000 |  7.0e-01 |   299.26  | 1.344e+02   |   2.327e+02  \n",
      "*   4050 |  6.6e-01 |   303.28  | 1.271e+02   |   2.201e+02  \n",
      "*   4100 |  6.5e-01 |   307.28  | 1.275e+02   |   2.207e+02  \n",
      "*   4150 |  6.9e-01 |   311.30  | 1.352e+02   |   2.340e+02  \n",
      "*   4200 |  7.6e-01 |   315.33  | 1.463e+02   |   2.534e+02  \n",
      "*   4250 |  8.2e-01 |   319.37  | 1.553e+02   |   2.690e+02  \n",
      "*   4300 |  8.5e-01 |   323.36  | 1.577e+02   |   2.731e+02  \n",
      "*   4350 |  8.2e-01 |   327.35  | 1.527e+02   |   2.645e+02  \n",
      "*   4400 |  7.5e-01 |   331.37  | 1.433e+02   |   2.481e+02  \n",
      "*   4450 |  6.9e-01 |   335.35  | 1.338e+02   |   2.317e+02  \n",
      "*   4500 |  6.4e-01 |   339.35  | 1.288e+02   |   2.230e+02  \n",
      "*   4550 |  6.4e-01 |   343.36  | 1.306e+02   |   2.261e+02  \n",
      "*   4600 |  6.8e-01 |   347.34  | 1.381e+02   |   2.392e+02  \n",
      "*   4650 |  7.3e-01 |   351.31  | 1.478e+02   |   2.559e+02  \n",
      "*   4700 |  7.7e-01 |   355.31  | 1.545e+02   |   2.676e+02  \n",
      "*   4750 |  7.8e-01 |   359.28  | 1.552e+02   |   2.687e+02  \n",
      "*   4800 |  7.4e-01 |   363.25  | 1.497e+02   |   2.592e+02  \n",
      "*   4850 |  6.8e-01 |   367.24  | 1.410e+02   |   2.441e+02  \n",
      "*   4900 |  6.3e-01 |   371.27  | 1.332e+02   |   2.307e+02  \n",
      "*   4950 |  6.0e-01 |   375.35  | 1.300e+02   |   2.251e+02  \n",
      "*   5000 |  6.1e-01 |   379.40  | 1.328e+02   |   2.300e+02  \n",
      "*   5050 |  6.5e-01 |   383.35  | 1.401e+02   |   2.426e+02  \n",
      "*   5100 |  7.0e-01 |   387.35  | 1.482e+02   |   2.567e+02  \n",
      "*   5150 |  7.3e-01 |   391.33  | 1.530e+02   |   2.649e+02  \n",
      "*   5200 |  7.3e-01 |   395.31  | 1.521e+02   |   2.635e+02  \n",
      "*   5250 |  7.0e-01 |   399.32  | 1.463e+02   |   2.534e+02  \n",
      "*   5300 |  6.5e-01 |   403.31  | 1.385e+02   |   2.398e+02  \n",
      "*   5350 |  6.2e-01 |   407.32  | 1.323e+02   |   2.291e+02  \n",
      "*   5400 |  6.1e-01 |   411.28  | 1.306e+02   |   2.262e+02  \n",
      "*   5450 |  6.3e-01 |   415.25  | 1.342e+02   |   2.323e+02  \n",
      "*   5500 |  6.7e-01 |   419.20  | 1.409e+02   |   2.441e+02  \n",
      "*   5550 |  7.2e-01 |   423.19  | 1.476e+02   |   2.555e+02  \n",
      "*   5600 |  7.5e-01 |   427.18  | 1.506e+02   |   2.608e+02  \n",
      "*   5650 |  7.5e-01 |   431.21  | 1.486e+02   |   2.574e+02  \n",
      "*   5700 |  7.2e-01 |   435.24  | 1.428e+02   |   2.473e+02  \n",
      "*   5750 |  6.9e-01 |   439.23  | 1.360e+02   |   2.356e+02  \n",
      "*   5800 |  6.6e-01 |   443.24  | 1.314e+02   |   2.276e+02  \n",
      "*   5850 |  6.6e-01 |   447.23  | 1.311e+02   |   2.271e+02  \n",
      "*   5900 |  6.9e-01 |   451.24  | 1.351e+02   |   2.340e+02  \n",
      "*   5950 |  7.3e-01 |   455.24  | 1.413e+02   |   2.447e+02  \n",
      "*   6000 |  7.7e-01 |   459.21  | 1.465e+02   |   2.538e+02  \n",
      "*   6050 |  7.9e-01 |   463.26  | 1.482e+02   |   2.566e+02  \n",
      "*   6100 |  7.9e-01 |   467.22  | 1.455e+02   |   2.520e+02  \n",
      "*   6150 |  7.6e-01 |   471.20  | 1.400e+02   |   2.425e+02  \n",
      "*   6200 |  7.2e-01 |   475.18  | 1.344e+02   |   2.327e+02  \n",
      "*   6250 |  7.0e-01 |   479.19  | 1.312e+02   |   2.272e+02  \n",
      "*   6300 |  7.1e-01 |   483.20  | 1.320e+02   |   2.286e+02  \n",
      "*   6350 |  7.3e-01 |   487.22  | 1.363e+02   |   2.360e+02  \n",
      "*   6400 |  7.7e-01 |   491.25  | 1.419e+02   |   2.457e+02  \n",
      "*   6450 |  8.0e-01 |   495.40  | 1.460e+02   |   2.528e+02  \n",
      "*   6500 |  8.1e-01 |   499.43  | 1.466e+02   |   2.538e+02  \n"
     ]
    },
    {
     "name": "stdout",
     "output_type": "stream",
     "text": [
      "*   6550 |  7.9e-01 |   503.44  | 1.435e+02   |   2.485e+02  \n",
      "*   6600 |  7.6e-01 |   507.47  | 1.384e+02   |   2.396e+02  \n",
      "*   6650 |  7.3e-01 |   511.50  | 1.338e+02   |   2.316e+02  \n",
      "*   6700 |  7.1e-01 |   515.50  | 1.318e+02   |   2.283e+02  \n",
      "*   6750 |  7.1e-01 |   519.52  | 1.335e+02   |   2.312e+02  \n",
      "*   6800 |  7.3e-01 |   523.52  | 1.380e+02   |   2.390e+02  \n",
      "*   6850 |  7.6e-01 |   527.57  | 1.430e+02   |   2.477e+02  \n",
      "*   6900 |  7.8e-01 |   531.57  | 1.461e+02   |   2.531e+02  \n",
      "*   6950 |  7.8e-01 |   535.57  | 1.458e+02   |   2.526e+02  \n",
      "*   7000 |  7.6e-01 |   539.52  | 1.425e+02   |   2.467e+02  \n",
      "*   7050 |  7.2e-01 |   543.52  | 1.378e+02   |   2.386e+02  \n",
      "*   7100 |  6.9e-01 |   547.49  | 1.341e+02   |   2.322e+02  \n",
      "*   7150 |  6.8e-01 |   551.53  | 1.332e+02   |   2.306e+02  \n",
      "*   7200 |  6.9e-01 |   555.47  | 1.356e+02   |   2.348e+02  \n",
      "*   7250 |  7.1e-01 |   559.48  | 1.401e+02   |   2.425e+02  \n",
      "*   7300 |  7.3e-01 |   563.52  | 1.445e+02   |   2.502e+02  \n",
      "*   7350 |  7.4e-01 |   567.50  | 1.466e+02   |   2.539e+02  \n",
      "*   7400 |  7.4e-01 |   571.52  | 1.456e+02   |   2.521e+02  \n",
      "*   7450 |  7.1e-01 |   575.54  | 1.420e+02   |   2.459e+02  \n",
      "*   7500 |  6.8e-01 |   579.50  | 1.377e+02   |   2.385e+02  \n",
      "*   7550 |  6.5e-01 |   583.53  | 1.349e+02   |   2.336e+02  \n",
      "*   7600 |  6.5e-01 |   587.50  | 1.349e+02   |   2.336e+02  \n",
      "*   7650 |  6.6e-01 |   591.52  | 1.377e+02   |   2.385e+02  \n",
      "*   7700 |  6.8e-01 |   595.46  | 1.421e+02   |   2.460e+02  \n",
      "*   7750 |  7.0e-01 |   599.42  | 1.457e+02   |   2.524e+02  \n",
      "*   7800 |  7.1e-01 |   603.46  | 1.470e+02   |   2.545e+02  \n",
      "*   7850 |  7.0e-01 |   607.50  | 1.453e+02   |   2.516e+02  \n",
      "*   7900 |  6.8e-01 |   611.46  | 1.416e+02   |   2.452e+02  \n",
      "*   7950 |  6.5e-01 |   615.50  | 1.378e+02   |   2.387e+02  \n",
      "*   8000 |  6.3e-01 |   619.50  | 1.358e+02   |   2.351e+02  \n",
      "*   8050 |  6.4e-01 |   623.46  | 1.365e+02   |   2.364e+02  \n",
      "*   8100 |  6.5e-01 |   627.49  | 1.396e+02   |   2.418e+02  \n",
      "*   8150 |  6.7e-01 |   631.49  | 1.436e+02   |   2.487e+02  \n",
      "*   8200 |  6.9e-01 |   635.47  | 1.465e+02   |   2.537e+02  \n",
      "*   8250 |  7.0e-01 |   639.45  | 1.469e+02   |   2.544e+02  \n",
      "*   8300 |  6.9e-01 |   643.45  | 1.447e+02   |   2.506e+02  \n",
      "*   8350 |  6.6e-01 |   647.43  | 1.411e+02   |   2.443e+02  \n",
      "*   8400 |  6.4e-01 |   651.41  | 1.378e+02   |   2.386e+02  \n",
      "*   8450 |  6.3e-01 |   655.43  | 1.365e+02   |   2.364e+02  \n",
      "*   8500 |  6.4e-01 |   659.39  | 1.378e+02   |   2.387e+02  \n",
      "*   8550 |  6.6e-01 |   663.39  | 1.411e+02   |   2.443e+02  \n",
      "*   8600 |  6.8e-01 |   667.39  | 1.446e+02   |   2.504e+02  \n",
      "*   8650 |  6.9e-01 |   671.41  | 1.467e+02   |   2.541e+02  \n",
      "*   8700 |  6.9e-01 |   675.37  | 1.464e+02   |   2.534e+02  \n",
      "*   8750 |  6.8e-01 |   679.41  | 1.438e+02   |   2.490e+02  \n",
      "*   8800 |  6.6e-01 |   683.41  | 1.403e+02   |   2.430e+02  \n",
      "*   8850 |  6.4e-01 |   687.41  | 1.377e+02   |   2.384e+02  \n",
      "*   8900 |  6.4e-01 |   691.46  | 1.371e+02   |   2.375e+02  \n",
      "*   8950 |  6.4e-01 |   695.51  | 1.389e+02   |   2.405e+02  \n",
      "*   9000 |  6.6e-01 |   699.54  | 1.421e+02   |   2.461e+02  \n",
      "*   9050 |  6.8e-01 |   703.55  | 1.451e+02   |   2.513e+02  \n",
      "*   9100 |  6.9e-01 |   707.54  | 1.464e+02   |   2.536e+02  \n",
      "*   9150 |  6.9e-01 |   711.52  | 1.455e+02   |   2.519e+02  \n",
      "*   9200 |  6.7e-01 |   715.51  | 1.427e+02   |   2.471e+02  \n",
      "*   9250 |  6.5e-01 |   719.52  | 1.395e+02   |   2.416e+02  \n",
      "*   9300 |  6.4e-01 |   723.55  | 1.375e+02   |   2.381e+02  \n",
      "*   9350 |  6.4e-01 |   727.53  | 1.375e+02   |   2.382e+02  \n",
      "*   9400 |  6.5e-01 |   731.53  | 1.396e+02   |   2.418e+02  \n",
      "*   9450 |  6.7e-01 |   735.58  | 1.427e+02   |   2.471e+02  \n",
      "*   9500 |  6.9e-01 |   739.60  | 1.452e+02   |   2.514e+02  \n",
      "*   9550 |  6.9e-01 |   743.56  | 1.458e+02   |   2.525e+02  \n",
      "*   9600 |  6.9e-01 |   747.56  | 1.443e+02   |   2.499e+02  \n",
      "*   9650 |  6.7e-01 |   751.55  | 1.415e+02   |   2.450e+02  \n",
      "*   9700 |  6.5e-01 |   755.56  | 1.387e+02   |   2.401e+02  \n",
      "*   9750 |  6.4e-01 |   759.57  | 1.372e+02   |   2.376e+02  \n",
      "*   9800 |  6.5e-01 |   763.58  | 1.378e+02   |   2.387e+02  \n",
      "*   9850 |  6.6e-01 |   767.56  | 1.401e+02   |   2.427e+02  \n",
      "*   9900 |  6.8e-01 |   771.57  | 1.429e+02   |   2.475e+02  \n",
      "*   9950 |  6.9e-01 |   775.55  | 1.448e+02   |   2.508e+02  \n",
      "\n",
      "Algorithm stopped after 779.4449 seconds and 9999 iterations\n",
      "[0.6683716  0.19027826 0.57611092] 0.1913001403359548\n"
     ]
    }
   ],
   "source": [
    "ᾱ, ρ, every_critical, every_iter = FISTA(α, iters=10000, save_iter = True, critical = 50)"
   ]
  },
  {
   "cell_type": "code",
   "execution_count": 61,
   "id": "ddc2724a",
   "metadata": {},
   "outputs": [
    {
     "name": "stdout",
     "output_type": "stream",
     "text": [
      "[0.92804866 0.81707445 0.95780141 0.91571566]    0.9580914439125355\n"
     ]
    }
   ],
   "source": [
    "print(1 - (simpson((ρ-ρ̂)**2, x=Tₑ) * dw), '  ', r2_score(ρ̂,ρ, sample_weight=dw))"
   ]
  },
  {
   "cell_type": "code",
   "execution_count": 76,
   "id": "ca5050f3",
   "metadata": {
    "scrolled": true
   },
   "outputs": [
    {
     "name": "stdout",
     "output_type": "stream",
     "text": [
      "     It  |    f(ω)  |    Time   |  ‖df(ω)‖_2  |   ‖df(ω)‖_∞  \n",
      "––––––––––––––––––––––––––––––––––––––––––––––––––––––––––––––\n",
      "*      0 |  5.6e+02 |     0.12  | 1.250e+04   |   2.090e+04  \n",
      "*    100 |  4.4e+01 |     6.98  | 2.184e+02   |   3.782e+02  \n",
      "*    200 |  2.3e+01 |    15.35  | 1.111e+02   |   1.923e+02  \n",
      "*    300 |  1.2e+01 |    24.57  | 2.179e+02   |   3.689e+02  \n",
      "*    400 |  5.5e+00 |    33.79  | 1.158e+02   |   1.971e+02  \n",
      "*    500 |  3.5e+00 |    42.05  | 1.056e+02   |   1.827e+02  \n",
      "*    600 |  2.5e+00 |    50.19  | 4.674e+01   |   8.096e+01  \n",
      "*    700 |  2.1e+00 |    58.62  | 5.975e+00   |   1.031e+01  \n",
      "*    800 |  1.9e+00 |    66.48  | 2.468e+01   |   4.266e+01  \n",
      "*    900 |  1.9e+00 |    74.81  | 3.642e+01   |   6.294e+01  \n",
      "*   1000 |  2.0e+00 |    82.83  | 5.092e+01   |   8.804e+01  \n",
      "*   1100 |  1.6e+00 |    90.73  | 1.348e+02   |   2.333e+02  \n",
      "*   1200 |  1.2e+00 |    98.96  | 1.332e+02   |   2.308e+02  \n",
      "*   1300 |  2.7e+00 |   107.34  | 6.038e+00   |   9.959e+00  \n",
      "*   1400 |  9.8e-01 |   115.61  | 1.495e+02   |   2.589e+02  \n",
      "*   1500 |  1.2e+00 |   123.80  | 2.160e+02   |   3.738e+02  \n",
      "*   1600 |  7.6e-01 |   131.96  | 1.746e+02   |   3.021e+02  \n",
      "*   1700 |  2.7e-01 |   140.48  | 5.089e+01   |   8.814e+01  \n",
      "*   1800 |  3.5e-01 |   148.75  | 7.118e+01   |   1.233e+02  \n",
      "*   1900 |  7.7e-01 |   156.88  | 1.548e+02   |   2.679e+02  \n",
      "*   2000 |  8.2e-01 |   165.22  | 1.532e+02   |   2.653e+02  \n",
      "*   2100 |  5.3e-01 |   174.11  | 8.722e+01   |   1.510e+02  \n",
      "*   2200 |  5.0e-01 |   182.60  | 5.730e+01   |   9.925e+01  \n",
      "*   2300 |  6.8e-01 |   191.03  | 1.003e+02   |   1.737e+02  \n",
      "*   2400 |  8.8e-01 |   199.42  | 1.350e+02   |   2.336e+02  \n",
      "*   2500 |  7.3e-01 |   207.60  | 1.073e+02   |   1.858e+02  \n",
      "*   2600 |  5.9e-01 |   215.88  | 6.382e+01   |   1.105e+02  \n",
      "*   2700 |  6.4e-01 |   224.23  | 7.792e+01   |   1.350e+02  \n",
      "*   2800 |  8.0e-01 |   232.67  | 1.190e+02   |   2.060e+02  \n",
      "*   2900 |  7.7e-01 |   240.85  | 1.179e+02   |   2.042e+02  \n",
      "*   3000 |  6.0e-01 |   249.19  | 8.291e+01   |   1.436e+02  \n",
      "*   3100 |  5.6e-01 |   257.45  | 7.556e+01   |   1.309e+02  \n",
      "*   3200 |  6.6e-01 |   265.66  | 1.078e+02   |   1.867e+02  \n",
      "*   3300 |  7.1e-01 |   273.79  | 1.255e+02   |   2.173e+02  \n",
      "*   3400 |  5.8e-01 |   281.97  | 1.039e+02   |   1.800e+02  \n",
      "*   3500 |  4.7e-01 |   290.16  | 8.371e+01   |   1.450e+02  \n",
      "*   3600 |  5.2e-01 |   298.76  | 1.014e+02   |   1.757e+02  \n",
      "*   3700 |  6.2e-01 |   307.49  | 1.272e+02   |   2.203e+02  \n",
      "*   3800 |  5.6e-01 |   315.90  | 1.198e+02   |   2.075e+02  \n",
      "*   3900 |  4.3e-01 |   324.53  | 9.592e+01   |   1.661e+02  \n",
      "*   4000 |  4.3e-01 |   332.85  | 9.808e+01   |   1.699e+02  \n",
      "*   4100 |  5.3e-01 |   341.13  | 1.222e+02   |   2.115e+02  \n",
      "*   4200 |  5.4e-01 |   349.51  | 1.274e+02   |   2.207e+02  \n",
      "*   4300 |  4.4e-01 |   357.78  | 1.074e+02   |   1.860e+02  \n",
      "*   4400 |  4.0e-01 |   365.96  | 9.731e+01   |   1.685e+02  \n",
      "*   4500 |  4.7e-01 |   374.18  | 1.136e+02   |   1.967e+02  \n",
      "*   4600 |  5.3e-01 |   382.31  | 1.273e+02   |   2.205e+02  \n",
      "*   4700 |  4.7e-01 |   390.45  | 1.158e+02   |   2.006e+02  \n",
      "*   4800 |  4.1e-01 |   398.72  | 9.965e+01   |   1.726e+02  \n",
      "*   4900 |  4.3e-01 |   406.99  | 1.060e+02   |   1.835e+02  \n",
      "*   5000 |  5.1e-01 |   415.20  | 1.227e+02   |   2.124e+02  \n",
      "*   5100 |  5.0e-01 |   423.31  | 1.210e+02   |   2.095e+02  \n",
      "*   5200 |  4.3e-01 |   431.69  | 1.049e+02   |   1.816e+02  \n",
      "*   5300 |  4.2e-01 |   440.20  | 1.021e+02   |   1.769e+02  \n",
      "*   5400 |  4.8e-01 |   448.50  | 1.166e+02   |   2.019e+02  \n",
      "*   5500 |  5.1e-01 |   456.83  | 1.231e+02   |   2.131e+02  \n",
      "*   5600 |  4.5e-01 |   465.17  | 1.113e+02   |   1.928e+02  \n",
      "*   5700 |  4.2e-01 |   473.55  | 1.021e+02   |   1.769e+02  \n",
      "*   5800 |  4.6e-01 |   481.81  | 1.110e+02   |   1.922e+02  \n",
      "*   5900 |  5.1e-01 |   490.06  | 1.221e+02   |   2.114e+02  \n",
      "*   6000 |  4.8e-01 |   499.42  | 1.166e+02   |   2.020e+02  \n",
      "*   6100 |  4.3e-01 |   507.69  | 1.047e+02   |   1.813e+02  \n",
      "*   6200 |  4.4e-01 |   515.99  | 1.066e+02   |   1.846e+02  \n",
      "*   6300 |  5.0e-01 |   524.25  | 1.183e+02   |   2.048e+02  \n",
      "*   6400 |  5.1e-01 |   532.36  | 1.193e+02   |   2.065e+02  \n",
      "*   6500 |  4.6e-01 |   540.46  | 1.082e+02   |   1.874e+02  \n",
      "*   6600 |  4.5e-01 |   548.56  | 1.040e+02   |   1.801e+02  \n",
      "*   6700 |  4.9e-01 |   556.64  | 1.130e+02   |   1.958e+02  \n",
      "*   6800 |  5.2e-01 |   564.71  | 1.190e+02   |   2.061e+02  \n",
      "*   6900 |  4.9e-01 |   572.80  | 1.116e+02   |   1.933e+02  \n",
      "*   7000 |  4.6e-01 |   580.83  | 1.036e+02   |   1.794e+02  \n",
      "*   7100 |  4.8e-01 |   588.89  | 1.083e+02   |   1.875e+02  \n",
      "*   7200 |  5.2e-01 |   597.02  | 1.169e+02   |   2.024e+02  \n",
      "*   7300 |  5.1e-01 |   605.11  | 1.144e+02   |   1.981e+02  \n",
      "*   7400 |  4.7e-01 |   613.21  | 1.054e+02   |   1.826e+02  \n",
      "*   7500 |  4.7e-01 |   621.30  | 1.053e+02   |   1.824e+02  \n",
      "*   7600 |  5.1e-01 |   629.35  | 1.139e+02   |   1.973e+02  \n",
      "*   7700 |  5.2e-01 |   637.81  | 1.163e+02   |   2.014e+02  \n",
      "*   7800 |  4.8e-01 |   645.91  | 1.088e+02   |   1.884e+02  \n",
      "*   7900 |  4.6e-01 |   653.97  | 1.047e+02   |   1.814e+02  \n",
      "*   8000 |  4.9e-01 |   662.07  | 1.111e+02   |   1.924e+02  \n",
      "*   8100 |  5.1e-01 |   670.19  | 1.169e+02   |   2.024e+02  \n",
      "*   8200 |  4.9e-01 |   678.30  | 1.125e+02   |   1.949e+02  \n",
      "*   8300 |  4.6e-01 |   686.41  | 1.061e+02   |   1.838e+02  \n",
      "*   8400 |  4.7e-01 |   694.59  | 1.090e+02   |   1.887e+02  \n",
      "*   8500 |  5.0e-01 |   702.88  | 1.162e+02   |   2.012e+02  \n",
      "*   8600 |  4.9e-01 |   711.15  | 1.156e+02   |   2.001e+02  \n",
      "*   8700 |  4.6e-01 |   719.39  | 1.087e+02   |   1.882e+02  \n",
      "*   8800 |  4.5e-01 |   727.91  | 1.077e+02   |   1.866e+02  \n",
      "*   8900 |  4.8e-01 |   736.16  | 1.143e+02   |   1.980e+02  \n",
      "*   9000 |  4.9e-01 |   744.33  | 1.171e+02   |   2.028e+02  \n",
      "*   9100 |  4.6e-01 |   752.55  | 1.116e+02   |   1.932e+02  \n",
      "*   9200 |  4.5e-01 |   760.72  | 1.076e+02   |   1.863e+02  \n",
      "*   9300 |  4.6e-01 |   768.98  | 1.120e+02   |   1.939e+02  \n",
      "*   9400 |  4.9e-01 |   777.23  | 1.170e+02   |   2.027e+02  \n",
      "*   9500 |  4.7e-01 |   785.70  | 1.141e+02   |   1.976e+02  \n",
      "*   9600 |  4.5e-01 |   794.24  | 1.085e+02   |   1.879e+02  \n",
      "*   9700 |  4.5e-01 |   802.56  | 1.099e+02   |   1.904e+02  \n",
      "*   9800 |  4.8e-01 |   810.85  | 1.157e+02   |   2.004e+02  \n",
      "*   9900 |  4.8e-01 |   819.41  | 1.158e+02   |   2.006e+02  \n",
      "\n",
      "Algorithm stopped after 827.7746 seconds and 9999 iterations\n",
      "[0.66293563 0.17909312 0.54153022] 0.17227703196847044\n"
     ]
    }
   ],
   "source": [
    "ᾱ, ρ, every_critical, every_iter = FISTA(array([1.6, 0.5, 2.]), iters=10000, save_iter = True, critical = 100)"
   ]
  },
  {
   "cell_type": "code",
   "execution_count": 77,
   "id": "de484924",
   "metadata": {},
   "outputs": [
    {
     "name": "stdout",
     "output_type": "stream",
     "text": [
      "[0.93301375 0.84120977 0.96258087 0.92098656]    0.9616344047992774\n"
     ]
    }
   ],
   "source": [
    "print(1 - (simpson((ρ-ρ̂)**2, x=Tₑ) * dw), '  ', r2_score(ρ̂,ρ, sample_weight=dw))"
   ]
  },
  {
   "cell_type": "code",
   "execution_count": 78,
   "id": "5a95fb53",
   "metadata": {},
   "outputs": [
    {
     "data": {
      "text/plain": [
       "(0.072482472611796,\n",
       " array([9.11233346e-04, 1.37126375e-03, 6.15167464e-05, 9.98649271e-07]))"
      ]
     },
     "execution_count": 78,
     "metadata": {},
     "output_type": "execute_result"
    }
   ],
   "source": [
    "simpson((ρ-ρ̂)**2, x=Tₑ).sum(),  ϑᵀᵉʳ * ((ρ[:,-1] - ρ̂ᶠ)**2) "
   ]
  },
  {
   "cell_type": "code",
   "execution_count": 79,
   "id": "3d0c21c9",
   "metadata": {},
   "outputs": [
    {
     "data": {
      "text/plain": [
       "array([ 0.09545854,  0.11710097, -0.02480257,  0.00316014])"
      ]
     },
     "execution_count": 79,
     "metadata": {},
     "output_type": "execute_result"
    }
   ],
   "source": [
    "((ρ[:,-1] - ρ̂ᶠ))"
   ]
  },
  {
   "cell_type": "markdown",
   "id": "ed8b95fa",
   "metadata": {},
   "source": [
    "---"
   ]
  },
  {
   "cell_type": "code",
   "execution_count": 80,
   "id": "1c3f37e8",
   "metadata": {},
   "outputs": [],
   "source": [
    "#CMap = get_cmap('Wistia')\n",
    "CMap = colormaps['RdPu']\n",
    "colours_nmAPG = CMap(150)"
   ]
  },
  {
   "cell_type": "code",
   "execution_count": 81,
   "id": "ac607e56",
   "metadata": {
    "code_folding": [
     0
    ]
   },
   "outputs": [
    {
     "data": {
      "image/png": "[encoded data removed]",
      "text/plain": [
       "<Figure size 2000x350 with 2 Axes>"
      ]
     },
     "metadata": {},
     "output_type": "display_data"
    }
   ],
   "source": [
    "# Visualise evolution of objective values\n",
    "plt.figure(figsize = (20,3.5))\n",
    "\n",
    "plt.subplot(1, 2, 1)\n",
    "#plt.plot(every_iter['obj'] - min(every_iter['obj']), c = colours_nmAPG)\n",
    "plt.plot(every_iter['obj'] , c = colours_nmAPG)\n",
    "plt.yscale('log');    \n",
    "plt.title('Objective values per iteration')\n",
    "plt.xlabel('Iteration count');    plt.ylabel('Objective cost (log scale)')\n",
    "plt.subplot(1, 2, 2)\n",
    "plt.plot(every_iter['time'],every_iter['obj'] , c = colours_nmAPG)\n",
    "#plt.plot(every_iter['time'],every_iter['obj'] - min(every_iter['obj']), c = colours_nmAPG)\n",
    "plt.yscale('log')\n",
    "plt.title('Objective values per iteration')\n",
    "plt.xlabel('Time');    plt.ylabel('Objective cost (log scale)')\n",
    "\n",
    "#plt.savefig(out_folder+'Objective.pdf', bbox_inches='tight',transparent=True)\n",
    "plt.show()"
   ]
  },
  {
   "cell_type": "code",
   "execution_count": 82,
   "id": "d3257f93",
   "metadata": {
    "code_folding": [
     0
    ]
   },
   "outputs": [
    {
     "data": {
      "image/png": "[encoded data removed]",
      "text/plain": [
       "<Figure size 1600x350 with 4 Axes>"
      ]
     },
     "metadata": {},
     "output_type": "display_data"
    }
   ],
   "source": [
    "# Plot state \n",
    "fig, ax = plt.subplots(1, 4, figsize=(16, 3.5))\n",
    "\n",
    "# Add state\n",
    "ax[0].plot(Tₑ*7, ρ[0]/n, '-', c=colours_nmAPG, linewidth=2)\n",
    "ax[1].plot(Tₑ*7, ρ[1]/n, '-', c=colours_nmAPG, linewidth=2)\n",
    "ax[2].plot(Tₑ*7, ρ[2]/n, '-', c=colours_nmAPG, linewidth=2)\n",
    "ax[3].plot(Tₑ*7, ρ[3]/n, '-', c=colours_nmAPG, linewidth=2)\n",
    "    \n",
    "# Add target\n",
    "ax[0].plot(Tₑ*7, ρ̂[0]/n, ':', c='black', linewidth=3)\n",
    "ax[1].plot(Tₑ*7, ρ̂[1]/n, ':', c='black', linewidth=3)\n",
    "ax[2].plot(Tₑ*7, ρ̂[2]/n, ':', c='black', linewidth=3)\n",
    "ax[3].plot(Tₑ*7, ρ̂[3]/n, ':', c='black', linewidth=3)\n",
    "\n",
    "ax[0].set_xlabel(r'Time $t$');    ax[0].set_title(r'Susceptible')\n",
    "ax[1].set_xlabel(r'Time $t$');    ax[1].set_title(r'Infected')\n",
    "ax[2].set_xlabel(r'Time $t$');    ax[2].set_title(r'Recovered')\n",
    "ax[3].set_xlabel(r'Time $t$');    ax[3].set_title(r'Fatalities')\n",
    "\n",
    "ax[0].set_ylabel('Population %')\n",
    "\n",
    "#ax[0].set_yscale('log');    ax[1].set_yscale('log');    ax[2].set_yscale('log')\n",
    "\n",
    "#plt.legend(bbox_to_anchor=(1.54, 1), loc=\"upper right\", shadow=True, ncol=2, title='θ')\n",
    "fig.tight_layout()\n",
    "#plt.savefig('Outputs/Regularisation – States – FISTA.pdf', bbox_inches='tight', pad_inches=0)"
   ]
  },
  {
   "cell_type": "code",
   "execution_count": 83,
   "id": "ff5f6a5b",
   "metadata": {},
   "outputs": [],
   "source": [
    "obj_eval(ᾱ);"
   ]
  },
  {
   "cell_type": "code",
   "execution_count": 84,
   "id": "cb3e4955",
   "metadata": {},
   "outputs": [
    {
     "data": {
      "text/plain": [
       "array([-2.69475569e-05,  1.42671846e+00,  1.18471717e+01])"
      ]
     },
     "execution_count": 84,
     "metadata": {},
     "output_type": "execute_result"
    }
   ],
   "source": [
    "df"
   ]
  },
  {
   "cell_type": "code",
   "execution_count": 85,
   "id": "b2eea9f5",
   "metadata": {
    "code_folding": [
     0
    ]
   },
   "outputs": [
    {
     "data": {
      "image/png": "[encoded data removed]",
      "text/plain": [
       "<Figure size 1600x350 with 3 Axes>"
      ]
     },
     "metadata": {},
     "output_type": "display_data"
    }
   ],
   "source": [
    "# Plot adjoint\n",
    "fig, ax = plt.subplots(1, 3, figsize=(16, 3.5))\n",
    "\n",
    "# Add state\n",
    "ax[0].plot(Tₑ*7, q[0], '-', c=colours_nmAPG, linewidth=2)\n",
    "ax[1].plot(Tₑ*7, q[1], '-', c=colours_nmAPG, linewidth=2)\n",
    "ax[2].plot(Tₑ*7, q[2], '-', c=colours_nmAPG, linewidth=2)\n",
    "    \n",
    "\n",
    "ax[0].set_xlabel(r'Time $t$');    ax[0].set_title(r'Susceptible')\n",
    "ax[1].set_xlabel(r'Time $t$');    ax[1].set_title(r'Infected')\n",
    "ax[2].set_xlabel(r'Time $t$');    ax[2].set_title(r'Recovered')\n",
    "\n",
    "\n",
    "\n",
    "#ax[0].set_yscale('log');    ax[1].set_yscale('log');    ax[2].set_yscale('log')\n",
    "\n",
    "#plt.legend(bbox_to_anchor=(1.54, 1), loc=\"upper right\", shadow=True, ncol=2, title='θ')\n",
    "fig.tight_layout()\n",
    "#plt.savefig('Outputs/Regularisation – States – FISTA.pdf', bbox_inches='tight', pad_inches=0)"
   ]
  },
  {
   "cell_type": "code",
   "execution_count": 86,
   "id": "9b60d969",
   "metadata": {
    "code_folding": [
     0
    ]
   },
   "outputs": [
    {
     "data": {
      "image/png": "[encoded data removed]",
      "text/plain": [
       "<Figure size 1600x500 with 3 Axes>"
      ]
     },
     "metadata": {},
     "output_type": "display_data"
    }
   ],
   "source": [
    "# Plot state \n",
    "fig, ax = plt.subplots(1, 3, figsize=(16, 5))\n",
    "colors = ['xkcd:red','xkcd:orange','xkcd:teal','xkcd:gray']\n",
    "\n",
    "# Add state\n",
    "ax[0].plot(Tₑ*7, ρ[0].T * ppl_scales / SIRD_data[0].sum(), '-', linewidth=2)\n",
    "ax[0].plot(Tₑ*7, ρ[1:].T* ppl_scales / SIRD_data[0].sum(), '-', linewidth=2)\n",
    "for i, line in enumerate(ax[0].get_lines()):    line.set_color(colors[i])\n",
    "ax[0].legend(['$1-ρ_{\\,\\mathsf{S}}$', '$ρ_{\\,\\mathsf{I}}$', '$ρ_{\\,\\mathsf{R}}$', '$ρ_{\\,\\mathsf{D}}$'], shadow=True, loc='upper left')\n",
    "\n",
    "ax[0].plot(Tₑ*7, ρ̂[0].T * ppl_scales/SIRD_data[0].sum(), ':', c='black', linewidth=2)\n",
    "ax[0].plot(Tₑ*7, ρ̂[1:].T* ppl_scales/SIRD_data[0].sum(), ':', c='black', linewidth=2)\n",
    "\n",
    "ax[1].plot(Tₑ*7, ᾱ[0]*aᵦ/(time_scale*ppl_scales) * ones(Tₑ.size), '-', c='xkcd:red', linewidth=2)   #scale to original units\n",
    "ax[1].plot(Tₑ*7, ᾱ[1]*aᵧ/time_scale * ones(Tₑ.size), '-', c='xkcd:orange', linewidth=2)\n",
    "ax[1].plot(Tₑ*7, ᾱ[2]*aₘ/time_scale * ones(Tₑ.size), '-', c='xkcd:teal', linewidth=2)\n",
    "ax[1].legend(['$β$', '$γ$', '$m$'], shadow=True, loc='upper left')\n",
    "\n",
    "ax[2].plot(Tₑ*7, df[0]  * ones(Tₑ.size), '-', c='xkcd:red', linewidth=2)\n",
    "ax[2].plot(Tₑ*7, df[1] * ones(Tₑ.size), '-', c='xkcd:orange', linewidth=2)\n",
    "ax[2].plot(Tₑ*7, df[2] * ones(Tₑ.size), '-', c='xkcd:teal', linewidth=2)\n",
    "ax[2].legend(['$\\partial_β j$', '$\\partial_γ j$', '$\\partial_m j$'], shadow=True, loc='upper left')\n",
    "\n",
    "\n",
    "ax[0].set_xlabel(r'Time $t$ (days)');    ax[0].set_title(r'$\\rho$')\n",
    "ax[1].set_xlabel(r'Time $t$ (days)');    ax[1].set_title(r'$\\alpha$')\n",
    "ax[2].set_xlabel(r'Time $t$ (days)');    ax[2].set_title(r'$\\nabla j$')\n",
    "\n",
    "ax[0].set_ylabel('Population %')\n",
    "ax[1].set_ylabel('Population rates')\n",
    "ax[2].set_ylabel('Values')\n",
    "\n",
    "ax[0].set_yscale('log')#, linthresh=1e-2)\n",
    "ax[1].set_yscale('log')\n",
    "#ax[1].set_ylim([1e-8, 30*ᾱ.data[2].max()])\n",
    "\n",
    "#ax[0].set_yscale('log');    ax[1].set_yscale('log');    \n",
    "ax[2].set_yscale('symlog', linthresh=1e-5)\n",
    "\n",
    "#plt.legend(bbox_to_anchor=(1.54, 1), loc=\"upper right\", shadow=True, ncol=2, title='θ')\n",
    "fig.tight_layout()\n",
    "#plt.savefig('Outputs/DD – Panels – RPQN - H.pdf', bbox_inches='tight', pad_inches=0)"
   ]
  },
  {
   "cell_type": "code",
   "execution_count": 87,
   "id": "aab23e19",
   "metadata": {},
   "outputs": [
    {
     "data": {
      "text/plain": [
       "1.1516732641627082e-06"
      ]
     },
     "execution_count": 87,
     "metadata": {},
     "output_type": "execute_result"
    }
   ],
   "source": [
    "(aᵧ * ᾱ[1] + aₘ * ᾱ[2]).max() /(time_scale * ppl_scales)"
   ]
  },
  {
   "cell_type": "markdown",
   "id": "8fd19f7b",
   "metadata": {},
   "source": [
    "---"
   ]
  },
  {
   "cell_type": "markdown",
   "id": "1cf8ae7f",
   "metadata": {},
   "source": [
    "### Store"
   ]
  },
  {
   "cell_type": "code",
   "execution_count": 88,
   "id": "cee37114",
   "metadata": {},
   "outputs": [
    {
     "data": {
      "text/html": [
       "<div>\n",
       "<style scoped>\n",
       "    .dataframe tbody tr th:only-of-type {\n",
       "        vertical-align: middle;\n",
       "    }\n",
       "\n",
       "    .dataframe tbody tr th {\n",
       "        vertical-align: top;\n",
       "    }\n",
       "\n",
       "    .dataframe thead th {\n",
       "        text-align: right;\n",
       "    }\n",
       "</style>\n",
       "<table border=\"1\" class=\"dataframe\">\n",
       "  <thead>\n",
       "    <tr style=\"text-align: right;\">\n",
       "      <th></th>\n",
       "      <th>it</th>\n",
       "      <th>obj</th>\n",
       "      <th>time</th>\n",
       "      <th>β</th>\n",
       "      <th>γ</th>\n",
       "      <th>m</th>\n",
       "      <th>df_β</th>\n",
       "      <th>df_γ</th>\n",
       "      <th>df_m</th>\n",
       "      <th>norms-ℓ_1</th>\n",
       "      <th>norms-ℓ_2</th>\n",
       "      <th>norms-max</th>\n",
       "      <th>norms-min</th>\n",
       "    </tr>\n",
       "  </thead>\n",
       "  <tbody>\n",
       "    <tr>\n",
       "      <th>9996</th>\n",
       "      <td>9995</td>\n",
       "      <td>0.207111</td>\n",
       "      <td>827.445543</td>\n",
       "      <td>0.654208</td>\n",
       "      <td>0.179530</td>\n",
       "      <td>0.612113</td>\n",
       "      <td>-0.000130</td>\n",
       "      <td>4.910637</td>\n",
       "      <td>-239.263261</td>\n",
       "      <td>81.391343</td>\n",
       "      <td>138.167800</td>\n",
       "      <td>239.263261</td>\n",
       "      <td>0.000130</td>\n",
       "    </tr>\n",
       "    <tr>\n",
       "      <th>9997</th>\n",
       "      <td>9996</td>\n",
       "      <td>0.274284</td>\n",
       "      <td>827.531064</td>\n",
       "      <td>0.654203</td>\n",
       "      <td>0.184080</td>\n",
       "      <td>0.396394</td>\n",
       "      <td>0.000133</td>\n",
       "      <td>-4.166546</td>\n",
       "      <td>200.472797</td>\n",
       "      <td>68.213158</td>\n",
       "      <td>115.768018</td>\n",
       "      <td>200.472797</td>\n",
       "      <td>0.000133</td>\n",
       "    </tr>\n",
       "    <tr>\n",
       "      <th>9998</th>\n",
       "      <td>9997</td>\n",
       "      <td>0.204672</td>\n",
       "      <td>827.607804</td>\n",
       "      <td>0.654198</td>\n",
       "      <td>0.180100</td>\n",
       "      <td>0.605063</td>\n",
       "      <td>-0.000130</td>\n",
       "      <td>4.911554</td>\n",
       "      <td>-244.361770</td>\n",
       "      <td>83.091152</td>\n",
       "      <td>141.110829</td>\n",
       "      <td>244.361770</td>\n",
       "      <td>0.000130</td>\n",
       "    </tr>\n",
       "    <tr>\n",
       "      <th>9999</th>\n",
       "      <td>9998</td>\n",
       "      <td>0.282950</td>\n",
       "      <td>827.693048</td>\n",
       "      <td>0.654193</td>\n",
       "      <td>0.184181</td>\n",
       "      <td>0.388322</td>\n",
       "      <td>0.000116</td>\n",
       "      <td>-3.587064</td>\n",
       "      <td>189.313908</td>\n",
       "      <td>64.300362</td>\n",
       "      <td>109.320054</td>\n",
       "      <td>189.313908</td>\n",
       "      <td>0.000116</td>\n",
       "    </tr>\n",
       "    <tr>\n",
       "      <th>10000</th>\n",
       "      <td>9999</td>\n",
       "      <td>0.203025</td>\n",
       "      <td>827.774625</td>\n",
       "      <td>0.654188</td>\n",
       "      <td>0.179993</td>\n",
       "      <td>0.601644</td>\n",
       "      <td>-0.000127</td>\n",
       "      <td>4.821262</td>\n",
       "      <td>-250.779861</td>\n",
       "      <td>85.200417</td>\n",
       "      <td>144.814575</td>\n",
       "      <td>250.779861</td>\n",
       "      <td>0.000127</td>\n",
       "    </tr>\n",
       "  </tbody>\n",
       "</table>\n",
       "</div>"
      ],
      "text/plain": [
       "         it       obj        time         β         γ         m      df_β  \\\n",
       "9996   9995  0.207111  827.445543  0.654208  0.179530  0.612113 -0.000130   \n",
       "9997   9996  0.274284  827.531064  0.654203  0.184080  0.396394  0.000133   \n",
       "9998   9997  0.204672  827.607804  0.654198  0.180100  0.605063 -0.000130   \n",
       "9999   9998  0.282950  827.693048  0.654193  0.184181  0.388322  0.000116   \n",
       "10000  9999  0.203025  827.774625  0.654188  0.179993  0.601644 -0.000127   \n",
       "\n",
       "           df_γ        df_m  norms-ℓ_1   norms-ℓ_2   norms-max  norms-min  \n",
       "9996   4.910637 -239.263261  81.391343  138.167800  239.263261   0.000130  \n",
       "9997  -4.166546  200.472797  68.213158  115.768018  200.472797   0.000133  \n",
       "9998   4.911554 -244.361770  83.091152  141.110829  244.361770   0.000130  \n",
       "9999  -3.587064  189.313908  64.300362  109.320054  189.313908   0.000116  \n",
       "10000  4.821262 -250.779861  85.200417  144.814575  250.779861   0.000127  "
      ]
     },
     "metadata": {},
     "output_type": "display_data"
    }
   ],
   "source": [
    "every_iter['obj'] = asarray(every_iter['obj'])\n",
    "#df_every = pd.DataFrame.from_dict(every_iter)\n",
    "df_every = pd.concat([\n",
    "                pd.DataFrame.from_dict( {a:b for a,b in every_iter.items() if a not in ['norms'] } ),\n",
    "                pd.DataFrame.from_dict( {'norms-'+a:b for a,b in every_iter['norms'].items()} )\n",
    "            ], axis = 1)\n",
    "display(df_every.tail())\n",
    "#\n",
    "df_every.to_pickle('Outputs/DD – FISTA - Every - NH - BD - SIRD.pkl') # To read back use pd.read_pickle(file_name)"
   ]
  },
  {
   "cell_type": "code",
   "execution_count": 89,
   "id": "1f02a9cc",
   "metadata": {},
   "outputs": [
    {
     "data": {
      "text/html": [
       "<div>\n",
       "<style scoped>\n",
       "    .dataframe tbody tr th:only-of-type {\n",
       "        vertical-align: middle;\n",
       "    }\n",
       "\n",
       "    .dataframe tbody tr th {\n",
       "        vertical-align: top;\n",
       "    }\n",
       "\n",
       "    .dataframe thead th {\n",
       "        text-align: right;\n",
       "    }\n",
       "</style>\n",
       "<table border=\"1\" class=\"dataframe\">\n",
       "  <thead>\n",
       "    <tr style=\"text-align: right;\">\n",
       "      <th></th>\n",
       "      <th>it</th>\n",
       "      <th>obj</th>\n",
       "      <th>time</th>\n",
       "      <th>β</th>\n",
       "      <th>γ</th>\n",
       "      <th>m</th>\n",
       "      <th>df_β</th>\n",
       "      <th>df_γ</th>\n",
       "      <th>df_m</th>\n",
       "      <th>norms-ℓ_1</th>\n",
       "      <th>norms-ℓ_2</th>\n",
       "      <th>norms-max</th>\n",
       "      <th>norms-min</th>\n",
       "    </tr>\n",
       "  </thead>\n",
       "  <tbody>\n",
       "    <tr>\n",
       "      <th>[1e-09, 1e-09, 1e-09]</th>\n",
       "      <td>1671</td>\n",
       "      <td>0.172277</td>\n",
       "      <td>138.094747</td>\n",
       "      <td>0.662936</td>\n",
       "      <td>0.179093</td>\n",
       "      <td>0.54153</td>\n",
       "      <td>-0.000044</td>\n",
       "      <td>2.173725</td>\n",
       "      <td>-353.480107</td>\n",
       "      <td>118.551292</td>\n",
       "      <td>204.085694</td>\n",
       "      <td>353.480107</td>\n",
       "      <td>0.000044</td>\n",
       "    </tr>\n",
       "  </tbody>\n",
       "</table>\n",
       "</div>"
      ],
      "text/plain": [
       "                         it       obj        time         β         γ  \\\n",
       "[1e-09, 1e-09, 1e-09]  1671  0.172277  138.094747  0.662936  0.179093   \n",
       "\n",
       "                             m      df_β      df_γ        df_m   norms-ℓ_1  \\\n",
       "[1e-09, 1e-09, 1e-09]  0.54153 -0.000044  2.173725 -353.480107  118.551292   \n",
       "\n",
       "                        norms-ℓ_2   norms-max  norms-min  \n",
       "[1e-09, 1e-09, 1e-09]  204.085694  353.480107   0.000044  "
      ]
     },
     "execution_count": 89,
     "metadata": {},
     "output_type": "execute_result"
    }
   ],
   "source": [
    "# Store info from iterate with smallest objective\n",
    "ArgMin_nmAPG = df_every.idxmin()['obj']\n",
    "#Out_θ = \n",
    "df_every.loc[[ArgMin_nmAPG]].rename(index={ArgMin_nmAPG:θ}).copy()"
   ]
  },
  {
   "cell_type": "code",
   "execution_count": 90,
   "id": "58a035a7",
   "metadata": {},
   "outputs": [
    {
     "name": "stdout",
     "output_type": "stream",
     "text": [
      "\\begin{tabular}{lrrrrrrrrrrrrr}\n",
      "\\toprule\n",
      " & it & obj & time & β & γ & m & df_β & df_γ & df_m & norms-ℓ_1 & norms-ℓ_2 & norms-max & norms-min \\\\\n",
      "\\midrule\n",
      "1672 & 1671 & 0.172277 & 138.094747 & 0.662936 & 0.179093 & 0.541530 & -0.000044 & 2.173725 & -353.480107 & 118.551292 & 204.085694 & 353.480107 & 0.000044 \\\\\n",
      "\\bottomrule\n",
      "\\end{tabular}\n",
      "\n"
     ]
    }
   ],
   "source": [
    "print(df_every.loc[[ArgMin_nmAPG]].to_latex())"
   ]
  },
  {
   "cell_type": "markdown",
   "id": "6b51292b",
   "metadata": {},
   "source": [
    "---"
   ]
  },
  {
   "cell_type": "code",
   "execution_count": 62,
   "id": "76c1ad94",
   "metadata": {},
   "outputs": [],
   "source": [
    "#np.savez_compressed('Outputs/DD – RPQN – Best - H', best = best)"
   ]
  },
  {
   "cell_type": "code",
   "execution_count": 63,
   "id": "33147ba7",
   "metadata": {},
   "outputs": [],
   "source": [
    "#np.load('Outputs/DD – nmAPG – Best.npz', allow_pickle=True)['best']"
   ]
  },
  {
   "cell_type": "markdown",
   "id": "d806a51e",
   "metadata": {},
   "source": [
    "---"
   ]
  }
 ],
 "metadata": {
  "kernelspec": {
   "display_name": "A - Python 3",
   "language": "python",
   "name": "python3"
  },
  "language_info": {
   "codemirror_mode": {
    "name": "ipython",
    "version": 3
   },
   "file_extension": ".py",
   "mimetype": "text/x-python",
   "name": "python",
   "nbconvert_exporter": "python",
   "pygments_lexer": "ipython3",
   "version": "3.10.14"
  },
  "nbTranslate": {
   "displayLangs": [
    "*"
   ],
   "hotkey": "alt-t",
   "langInMainMenu": true,
   "sourceLang": "en",
   "targetLang": "fr",
   "useGoogleTranslate": true
  }
 },
 "nbformat": 4,
 "nbformat_minor": 5
}
