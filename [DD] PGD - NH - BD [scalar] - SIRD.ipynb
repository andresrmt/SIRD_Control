{
 "cells": [
  {
   "cell_type": "code",
   "execution_count": 1,
   "id": "ebc070c8",
   "metadata": {
    "code_folding": [
     0
    ],
    "deletable": false,
    "editable": false,
    "run_control": {
     "frozen": true
    }
   },
   "outputs": [
    {
     "data": {
      "text/html": [
       "<style>.container { width:90% !important; }</style>"
      ],
      "text/plain": [
       "<IPython.core.display.HTML object>"
      ]
     },
     "metadata": {},
     "output_type": "display_data"
    },
    {
     "data": {
      "text/html": [
       "<style>.output_result { width:90% !important; }</style>"
      ],
      "text/plain": [
       "<IPython.core.display.HTML object>"
      ]
     },
     "metadata": {},
     "output_type": "display_data"
    },
    {
     "data": {
      "text/html": [
       " <style>\n",
       ".output_png {\n",
       "    display: table-cell;\n",
       "    text-align: center;\n",
       "    vertical-align: middle;\n",
       "}\n",
       "</style> "
      ],
      "text/plain": [
       "<IPython.core.display.HTML object>"
      ]
     },
     "metadata": {},
     "output_type": "display_data"
    }
   ],
   "source": [
    "# Window\n",
    "from IPython.display import display, HTML\n",
    "display(HTML(\"<style>.container { width:90% !important; }</style>\"))\n",
    "display(HTML(\"<style>.output_result { width:90% !important; }</style>\"))\n",
    "display(HTML(\"\"\" <style>\n",
    ".output_png {\n",
    "    display: table-cell;\n",
    "    text-align: center;\n",
    "    vertical-align: middle;\n",
    "}\n",
    "</style> \"\"\"))"
   ]
  },
  {
   "cell_type": "markdown",
   "id": "d5db955c",
   "metadata": {},
   "source": [
    "<div class=\"alert alert-block alert-danger\">\n",
    "These notebooks are better visualized using codefolding from Jupyter\n",
    "    <a href=\\\"https://jupyter-contrib-nbextensions.readthedocs.io/en/latest/\\\">extensions</a>.\n",
    "</div>"
   ]
  },
  {
   "cell_type": "markdown",
   "id": "bcf8b56e",
   "metadata": {},
   "source": [
    "# SIRD parameter learning using PGD with Tikhonov regularisation"
   ]
  },
  {
   "cell_type": "markdown",
   "id": "6311b244",
   "metadata": {},
   "source": [
    "$\\newcommand{\\R}{\\,\\mathbb{R}} \\newcommand{\\dif}{\\mathrm{d}} \\newcommand{\\diag}{\\mathrm{diag}} \\newcommand{\\vec}{\\mathrm{vec}}  \\newcommand{\\circulant}{\\mathrm{circ}} \\newcommand{\\mat}{\\mathrm{mat}} \\newcommand{\\ifft}{\\hat{\\mathcal{F}}} \\newcommand{\\fft}{\\mathcal{F}}$\n",
    "<div class=\"alert alert-block alert-success\">\n",
    "This notebook aims to solve the minimisation problem\n",
    "\\begin{align}\n",
    "    \\min_{\\alpha \\in [L^2(0,1)]^3} f(\\alpha) = \\frac{1}{2} \\| \\rho - \\widehat{\\rho} \\|_2^2 + \\frac{\\theta}{2} \\|\\alpha\\|_2^2 + \\frac{\\vartheta}{2} \\| \\rho(T) - \\widehat{\\rho}(T) \\|^2_{\\R^3},\n",
    "\\end{align}\n",
    "where $\\rho = (\\begin{smallmatrix} \\sigma & I & R \\end{smallmatrix})$ comes from the solution of a change of variables applied to the Susceptibles, Infected, and Recovered (SIR) model, and $\\widehat{\\rho}$ is a target and known state. The regularisation parameters $\\theta$ and $\\vartheta$ are non negative. We will study the effect of this parameter on the choice of the control pair $\\alpha$.\n",
    "    \n",
    "For each pair of parameters $\\alpha = (\\beta, \\gamma, m) \\in [0,1]^3$ corresponding to the transmission and the recovery rates, the three variables $S(t)$, $I(t)$, and $R(t)$ are governed by the following differential equations\n",
    "    \n",
    "\\begin{align}\n",
    "    \\tag{$\\star$}\n",
    "\\begin{aligned}\n",
    "    \\frac{\\dif \\sigma}{\\dif t} &= a_1\\beta (\\mathsf{n} - \\sigma) I,\n",
    "    \\\\\n",
    "    \\frac{\\dif I}{\\dif t} &= a_1\\beta (\\mathsf{n} - \\sigma) I - (a_2\\gamma + a_3 m) I,\n",
    "    \\\\\n",
    "    \\frac{\\dif R}{\\dif t} &= a_2\\gamma I,\n",
    "    \\\\\n",
    "    \\frac{\\dif D}{\\dif t} &= a_3 m I.\n",
    "\\end{aligned}\n",
    "\\end{align}\n",
    "We note that $ \\mathsf{n} $ is the total population at the start of the study.\n",
    "    \n",
    "</div>"
   ]
  },
  {
   "cell_type": "code",
   "execution_count": 1,
   "id": "f06624db",
   "metadata": {
    "code_folding": [
     0
    ]
   },
   "outputs": [],
   "source": [
    "# Packages\n",
    "import time\n",
    "import numpy  as np\n",
    "import pandas as pd\n",
    "import gurobipy as GRB\n",
    "import matplotlib.pyplot as plt\n",
    "plt.style.use('ggplot')"
   ]
  },
  {
   "cell_type": "code",
   "execution_count": 2,
   "id": "97525ebb",
   "metadata": {},
   "outputs": [],
   "source": [
    "from scipy.integrate import solve_ivp"
   ]
  },
  {
   "cell_type": "code",
   "execution_count": 3,
   "id": "3a4ecde6",
   "metadata": {
    "code_folding": [
     0
    ]
   },
   "outputs": [],
   "source": [
    "# Single function imports\n",
    "from numpy           import array, asarray, sin, cos, zeros, linspace, argmin, meshgrid, unravel_index\n",
    "from numpy           import concatenate, minimum, maximum, exp, ones, eye, empty, append, diagflat, tril, triu\n",
    "from numpy.random    import default_rng as rng\n",
    "from scipy.linalg    import norm, eigvals, inv\n",
    "from scipy.integrate import simpson, trapezoid\n",
    "from scipy.optimize  import minimize, Bounds\n",
    "from scipy.interpolate import CubicHermiteSpline, interp1d\n",
    "from scipy.sparse.linalg import LinearOperator\n",
    "from scipy.sparse    import eye as speye\n",
    "from scipy.sparse    import bmat\n",
    "from numpy.polynomial.chebyshev import chebpts1\n",
    "from matplotlib import colormaps"
   ]
  },
  {
   "cell_type": "markdown",
   "id": "82165e2b",
   "metadata": {},
   "source": [
    "# Model scaling"
   ]
  },
  {
   "cell_type": "markdown",
   "id": "4619f826",
   "metadata": {},
   "source": [
    "We scale the baseline original ODE system for the SIRD model. Assuming $\\overline{\\rho}(\\tau)$ satisfies the original SIRD ODE system above with parameters $\\overline\\alpha = (\\overline\\beta, \\overline\\gamma, \\overline{m})$ and initial condition $\\overline{\\rho}_0$, then $(\\star)$ above is related with $\\overline{\\rho}$ via the relationships\n",
    "\n",
    "* Population scaling: $\\overline{\\rho} = s_1 \\rho$, where $ \\rho_{\\mathsf{S}} = \\mathsf{n} - \\sigma $,\n",
    "\n",
    "* Time scaling: $\\tau = s_2 t$,\n",
    "\n",
    "* Parameter scalings: $\\overline{\\alpha} = \\left( \\frac{a_1}{s_1 s_2} \\beta, \\frac{a_2}{s_2} \\gamma, \\frac{a_3}{s_2} m \\right)$."
   ]
  },
  {
   "cell_type": "markdown",
   "id": "070d92b8",
   "metadata": {},
   "source": [
    "# Data loading"
   ]
  },
  {
   "cell_type": "markdown",
   "id": "53f57708",
   "metadata": {},
   "source": [
    "We load data used in [[1]](https://doi.org/10.1016/j.rico.2023.100346). Locally, we have stored data of susceptible, infected, recovered, and deceased compartments from June 1 – July 20, 2021. When constructing the dataset, the total population size $\\mathsf{n}$ was set to 164\\,689\\,383 given by an estimate from [[3]](https://www.worldometers.info/world-population/bangladesh-population/). We will set $\\mathsf{n}$ to be equal to the total number of people at the initial time."
   ]
  },
  {
   "cell_type": "code",
   "execution_count": 4,
   "id": "2399e27e",
   "metadata": {},
   "outputs": [],
   "source": [
    "SIRD_data = pd.read_pickle('BD_2021_Jun_Jul.pkl').values.astype('float64')"
   ]
  },
  {
   "cell_type": "code",
   "execution_count": 5,
   "id": "b74484f2",
   "metadata": {},
   "outputs": [
    {
     "name": "stdout",
     "output_type": "stream",
     "text": [
      "𝗇̄: 164689383\n"
     ]
    }
   ],
   "source": [
    "print('𝗇̄: {0:.0f}'.format(np.unique(SIRD_data.sum(1)).item()))"
   ]
  },
  {
   "cell_type": "code",
   "execution_count": 6,
   "id": "79de2feb",
   "metadata": {},
   "outputs": [],
   "source": [
    "σ_data = SIRD_data.sum(1) - SIRD_data[:,0]"
   ]
  },
  {
   "cell_type": "code",
   "execution_count": 7,
   "id": "21750a0a",
   "metadata": {},
   "outputs": [],
   "source": [
    "ΣIRD_data = np.c_[σ_data, SIRD_data[:,1:]]      # Determine σ and remove S compartment"
   ]
  },
  {
   "cell_type": "code",
   "execution_count": 8,
   "id": "e285b57c",
   "metadata": {},
   "outputs": [
    {
     "data": {
      "text/plain": [
       "(22887, 164686226)"
      ]
     },
     "execution_count": 8,
     "metadata": {},
     "output_type": "execute_result"
    }
   ],
   "source": [
    "int(ΣIRD_data.max()), int(SIRD_data.max())      # There is quite a difference in order of magnitude"
   ]
  },
  {
   "cell_type": "markdown",
   "id": "1a906798",
   "metadata": {},
   "source": [
    "The data considers reports spanning 60 days. "
   ]
  },
  {
   "cell_type": "code",
   "execution_count": 9,
   "id": "a4293006",
   "metadata": {},
   "outputs": [],
   "source": [
    "T = np.float64(ΣIRD_data.shape[0])"
   ]
  },
  {
   "cell_type": "markdown",
   "id": "24e7cfb9",
   "metadata": {},
   "source": [
    "**Scales**\n",
    "\n",
    "We will group the observations by week and label the initial week by $0$; i.e., $s = 7$ and $T = 50/7 \\approx 7$. We will scale people by the maximum expected value of the residual susceptibles $\\sigma$:"
   ]
  },
  {
   "cell_type": "code",
   "execution_count": 10,
   "id": "f799cf17",
   "metadata": {},
   "outputs": [],
   "source": [
    "time_scale = 7.0                 # s_2\n",
    "ppl_scales = ΣIRD_data.max();    # s_1"
   ]
  },
  {
   "cell_type": "code",
   "execution_count": 11,
   "id": "e7883fa6",
   "metadata": {},
   "outputs": [],
   "source": [
    "T /= time_scale                        # Scale time\n",
    "ΣIRD_data /= ppl_scales                # Scale population: (helps in computation time)"
   ]
  },
  {
   "cell_type": "code",
   "execution_count": 12,
   "id": "256af79c",
   "metadata": {},
   "outputs": [],
   "source": [
    "# Make an interval span\n",
    "Tᵒᵇˢ  = linspace(0,T,SIRD_data.shape[0])"
   ]
  },
  {
   "cell_type": "markdown",
   "id": "641f01f3",
   "metadata": {},
   "source": [
    "We build a piecewise interpolator for computing any integral terms:"
   ]
  },
  {
   "cell_type": "code",
   "execution_count": 13,
   "id": "622a123e",
   "metadata": {},
   "outputs": [],
   "source": [
    "Tₑ = 0.5*(chebpts1(152-2+1)+1) * T     # Evaluation interval using Chebyshev points of the first kind\n",
    "Tₑ = concatenate([[0],Tₑ,[T]])         # Add endpoints\n",
    "# Add observed points\n",
    "Tₑ = np.unique(np.sort(concatenate([Tₑ,Tᵒᵇˢ])))"
   ]
  },
  {
   "cell_type": "code",
   "execution_count": 14,
   "id": "3c4c5f10",
   "metadata": {},
   "outputs": [
    {
     "data": {
      "text/plain": [
       "201"
      ]
     },
     "execution_count": 14,
     "metadata": {},
     "output_type": "execute_result"
    }
   ],
   "source": [
    "Tₑ.size    # odd number of collocation points for Simpson"
   ]
  },
  {
   "cell_type": "code",
   "execution_count": 15,
   "id": "a58f378f",
   "metadata": {},
   "outputs": [],
   "source": [
    "ρ̄ = interp1d(Tᵒᵇˢ,ΣIRD_data[:,].T, axis=-1, kind = 'quadratic')\n",
    "ρ̂ = ρ̄(Tₑ)"
   ]
  },
  {
   "cell_type": "code",
   "execution_count": 16,
   "id": "e70a77b2",
   "metadata": {},
   "outputs": [
    {
     "data": {
      "text/plain": [
       "0.3132782802464281"
      ]
     },
     "execution_count": 16,
     "metadata": {},
     "output_type": "execute_result"
    }
   ],
   "source": [
    "ρ̄(0).sum()"
   ]
  },
  {
   "cell_type": "code",
   "execution_count": 17,
   "id": "1dc5690f",
   "metadata": {
    "code_folding": [
     0
    ]
   },
   "outputs": [
    {
     "data": {
      "image/png": "[encoded data removed]",
      "text/plain": [
       "<Figure size 800x350 with 1 Axes>"
      ]
     },
     "metadata": {},
     "output_type": "display_data"
    }
   ],
   "source": [
    "# Plot data\n",
    "plt.figure(figsize=(8,3.5))\n",
    "\n",
    "plt.plot(Tₑ*time_scale, ρ̂.T, '-', linewidth=2)\n",
    "for i in range(4):\n",
    "    plt.scatter(Tᵒᵇˢ*time_scale, ΣIRD_data[:,i], s=10, c='black')\n",
    "plt.yscale('log')\n",
    "\n",
    "plt.legend(['σ', 'I', 'R'], shadow=True)\n",
    "plt.show()"
   ]
  },
  {
   "cell_type": "markdown",
   "id": "610da11d",
   "metadata": {},
   "source": [
    "Compare numerical ranges for different scales:"
   ]
  },
  {
   "cell_type": "code",
   "execution_count": 18,
   "id": "fc389d94",
   "metadata": {
    "code_folding": [
     0
    ]
   },
   "outputs": [
    {
     "name": "stdout",
     "output_type": "stream",
     "text": [
      "164666496 ≤ S̄ ≤ 164686226\n",
      "     1447 ≤ Ī ≤ 13768\n",
      "     1667 ≤ R̄ ≤ 9997\n",
      "       30 ≤ D̄ ≤ 231\n"
     ]
    }
   ],
   "source": [
    "# Original data:\n",
    "lows = np.min(SIRD_data, 0);    ups  = np.max(SIRD_data, 0);    strs = ['S̄', 'Ī', 'R̄', 'D̄']\n",
    "for i in range(4):\n",
    "    print('{0:9.0f} ≤ {1:s} ≤ {2:.0f}'.format(lows[i], strs[i], ups[i]))"
   ]
  },
  {
   "cell_type": "code",
   "execution_count": 19,
   "id": "8cc7fc35",
   "metadata": {
    "code_folding": [
     0
    ]
   },
   "outputs": [
    {
     "name": "stdout",
     "output_type": "stream",
     "text": [
      "9.9986e-01 ≤ S̄ ≤ 9.9998e-01\n",
      "8.7862e-06 ≤ Ī ≤ 8.3600e-05\n",
      "1.0122e-05 ≤ R̄ ≤ 6.0702e-05\n",
      "1.8216e-07 ≤ D̄ ≤ 1.4026e-06\n"
     ]
    }
   ],
   "source": [
    "# Scaling by total population is not that good:\n",
    "lows = np.min(SIRD_data, 0)/SIRD_data[0].sum();    ups  = np.max(SIRD_data, 0)/SIRD_data[0].sum();    strs = ['S̄', 'Ī', 'R̄', 'D̄']\n",
    "for i in range(4):\n",
    "    print('{0:.4e} ≤ {1:s} ≤ {2:.4e}'.format(lows[i], strs[i], ups[i]))"
   ]
  },
  {
   "cell_type": "code",
   "execution_count": 20,
   "id": "bf0987da",
   "metadata": {
    "code_folding": [
     0
    ]
   },
   "outputs": [
    {
     "name": "stdout",
     "output_type": "stream",
     "text": [
      "0.138 ≤ σ̄ ≤ 1.000\n",
      "0.063 ≤ Ī ≤ 0.602\n",
      "0.073 ≤ R̄ ≤ 0.437\n",
      "0.001 ≤ D̄ ≤ 0.010\n"
     ]
    }
   ],
   "source": [
    "# σIR data is well behaved:\n",
    "lows = np.min(ΣIRD_data, 0);    ups  = np.max(ΣIRD_data, 0);    strs = ['σ̄', 'Ī', 'R̄', 'D̄']\n",
    "for i in range(4):\n",
    "    print('{0:.3f} ≤ {1:s} ≤ {2:.3f}'.format(lows[i], strs[i], ups[i]))"
   ]
  },
  {
   "cell_type": "markdown",
   "id": "305a5e44",
   "metadata": {},
   "source": [
    "We see that the $\\sigma \\mathsf{IR}$ model is better scaled by compartment and explicitly shows the evolution of $\\sigma$. In contrast, the susceptible compartment in the original model might give the impression that it is a constant."
   ]
  },
  {
   "cell_type": "markdown",
   "id": "c20cdf99",
   "metadata": {},
   "source": [
    "### Prior information"
   ]
  },
  {
   "cell_type": "markdown",
   "id": "d57f3687",
   "metadata": {},
   "source": [
    "In the original paper, the authors obtained the following constant–in–time estimates:"
   ]
  },
  {
   "cell_type": "code",
   "execution_count": 21,
   "id": "8a058278",
   "metadata": {},
   "outputs": [
    {
     "name": "stdout",
     "output_type": "stream",
     "text": [
      "β̂: 0.000000000428686, γ̂: 0.0257, m̂: 0.0011\n"
     ]
    }
   ],
   "source": [
    "print('β̂: {0:.15f}, γ̂: {1}, m̂: {2}'.format(0.0706 / 164689383, 0.0257, 0.0011))"
   ]
  },
  {
   "cell_type": "markdown",
   "id": "26b64773",
   "metadata": {},
   "source": [
    "Using the current scales, we obtain the better behaved values:"
   ]
  },
  {
   "cell_type": "code",
   "execution_count": 22,
   "id": "3cef0102",
   "metadata": {},
   "outputs": [
    {
     "name": "stdout",
     "output_type": "stream",
     "text": [
      "β̂: 0.00006868, γ̂: 0.1799, m̂: 0.0077\n"
     ]
    }
   ],
   "source": [
    "print('β̂: {0:.8f}, γ̂: {1}, m̂: {2}'.format(ppl_scales * time_scale * 0.0706 / 164689383, time_scale * 0.0257, time_scale * 0.0011))"
   ]
  },
  {
   "cell_type": "markdown",
   "id": "5c2b2935",
   "metadata": {},
   "source": [
    "We notice that $\\beta$ and $\\gamma$ are still very small. So we can use $a_1 = 10^{-4}$, $a_2 = 1$, and $a_3 = 10^{-2}$ to obtain:"
   ]
  },
  {
   "cell_type": "code",
   "execution_count": 23,
   "id": "ff32933a",
   "metadata": {},
   "outputs": [
    {
     "name": "stdout",
     "output_type": "stream",
     "text": [
      "β̂: 0.68679323, γ̂: 0.1799, m̂: 0.77\n"
     ]
    }
   ],
   "source": [
    "aᵦ = 1e-4;    aᵧ = 1.0;    aₘ = 1e-2\n",
    "print('β̂: {0:.8f}, γ̂: {1}, m̂: {2}'.format(ppl_scales * time_scale * 0.0706 / (164689383 * aᵦ), time_scale * 0.0257/aᵧ, time_scale * 0.0011/aₘ))"
   ]
  },
  {
   "cell_type": "markdown",
   "id": "6cfc37ac",
   "metadata": {},
   "source": [
    "### Bounds"
   ]
  },
  {
   "cell_type": "markdown",
   "id": "bef4b173",
   "metadata": {},
   "source": [
    "Without bounds, the range of each parameter at any given time is given by:"
   ]
  },
  {
   "cell_type": "code",
   "execution_count": 24,
   "id": "b7de0851",
   "metadata": {},
   "outputs": [
    {
     "name": "stdout",
     "output_type": "stream",
     "text": [
      "uᵦ: 1602090000, uᵧ: 7, uₘ: 700\n"
     ]
    }
   ],
   "source": [
    "print('uᵦ: {0:.0f}, uᵧ: {1:.0f}, uₘ: {2:.0f}'.format(ppl_scales * time_scale / aᵦ, time_scale / aᵧ, time_scale / aₘ))"
   ]
  },
  {
   "cell_type": "markdown",
   "id": "9a6bc5bb",
   "metadata": {},
   "source": [
    "Knowing that $\\beta$ has at least 9 zeros, let us impose the upper bound $\\overline{\\beta} = 10^{-9}$ (which is about the inverse of the order of magnitude of the total population). Similarly, let us bound $\\gamma$ and $\\beta$ by $10^{-1}$:"
   ]
  },
  {
   "cell_type": "code",
   "execution_count": 25,
   "id": "c345de72",
   "metadata": {},
   "outputs": [
    {
     "name": "stdout",
     "output_type": "stream",
     "text": [
      "uᵦ: 1.60, uᵧ: 0.70, uₘ: 7\n"
     ]
    }
   ],
   "source": [
    "print('uᵦ: {0:.2f}, uᵧ: {1:.2f}, uₘ: {2:.0f}'.format(1e-9 * ppl_scales * time_scale / aᵦ, 0.1 * time_scale / aᵧ, 0.01 * time_scale / aₘ))"
   ]
  },
  {
   "cell_type": "code",
   "execution_count": 26,
   "id": "84ea8257",
   "metadata": {},
   "outputs": [
    {
     "data": {
      "text/plain": [
       "7195.761043387076"
      ]
     },
     "execution_count": 26,
     "metadata": {},
     "output_type": "execute_result"
    }
   ],
   "source": [
    "SIRD_data[0].sum() / ppl_scales"
   ]
  },
  {
   "cell_type": "markdown",
   "id": "d2d45c29",
   "metadata": {},
   "source": [
    "# Problem setup"
   ]
  },
  {
   "cell_type": "markdown",
   "id": "a6e19f3e",
   "metadata": {},
   "source": [
    "Total population, initial condition, and terminal condition:"
   ]
  },
  {
   "cell_type": "code",
   "execution_count": 27,
   "id": "a550f6f2",
   "metadata": {},
   "outputs": [],
   "source": [
    "# Total population\n",
    "#n = ρ̄(0).sum()\n",
    "n = SIRD_data[0].sum() / ppl_scales\n",
    "# Initial conditions\n",
    "ρ̂ₒ = ρ̄(0)\n",
    "# Final time\n",
    "ρ̂ᶠ = ρ̄(T)"
   ]
  },
  {
   "cell_type": "markdown",
   "id": "9e71917c",
   "metadata": {},
   "source": [
    "Weights in loss:"
   ]
  },
  {
   "cell_type": "code",
   "execution_count": 28,
   "id": "4fbc61ac",
   "metadata": {},
   "outputs": [],
   "source": [
    "θ, ϑᵀᵉʳ = 1e-6, 0.1"
   ]
  },
  {
   "cell_type": "code",
   "execution_count": 29,
   "id": "67e01df0",
   "metadata": {},
   "outputs": [],
   "source": [
    "θ = np.asarray([1e-9,1e-9,1e-9])#[::,np.newaxis]"
   ]
  },
  {
   "cell_type": "markdown",
   "id": "e43b4186",
   "metadata": {},
   "source": [
    "Upper bounds on parameters:"
   ]
  },
  {
   "cell_type": "code",
   "execution_count": 30,
   "id": "24482e13",
   "metadata": {},
   "outputs": [
    {
     "name": "stdout",
     "output_type": "stream",
     "text": [
      "[1.60209 0.7     7.     ]\n"
     ]
    }
   ],
   "source": [
    "upper_b = (np.asarray([1e-9, 0.1, 0.01]) * [ ppl_scales * time_scale / aᵦ, time_scale / aᵧ, time_scale / aₘ])#[::,np.newaxis]\n",
    "print(upper_b.T)"
   ]
  },
  {
   "cell_type": "code",
   "execution_count": 31,
   "id": "ce240bd2",
   "metadata": {},
   "outputs": [
    {
     "data": {
      "text/plain": [
       "array([1.e-09, 1.e-01, 1.e-02])"
      ]
     },
     "execution_count": 31,
     "metadata": {},
     "output_type": "execute_result"
    }
   ],
   "source": [
    "upper_b.ravel() * asarray([aᵦ/(time_scale*ppl_scales),aᵧ/(time_scale),aₘ/time_scale])"
   ]
  },
  {
   "cell_type": "code",
   "execution_count": 32,
   "id": "c875ac94",
   "metadata": {},
   "outputs": [
    {
     "data": {
      "text/plain": [
       "array([6.24184659e-11, 1.42857143e-02, 1.42857143e-04])"
      ]
     },
     "execution_count": 32,
     "metadata": {},
     "output_type": "execute_result"
    }
   ],
   "source": [
    "1e-1 * asarray([aᵦ/(time_scale*ppl_scales),aᵧ/(time_scale),aₘ/time_scale])"
   ]
  },
  {
   "cell_type": "markdown",
   "id": "f5e71799",
   "metadata": {},
   "source": [
    "## Differential systems"
   ]
  },
  {
   "cell_type": "code",
   "execution_count": 33,
   "id": "bf5014bd",
   "metadata": {},
   "outputs": [],
   "source": [
    "α = np.array([0.07364913, 0.184188 , 0.3663371])"
   ]
  },
  {
   "cell_type": "markdown",
   "id": "fe3052f1",
   "metadata": {},
   "source": [
    "### Solve a state:"
   ]
  },
  {
   "cell_type": "code",
   "execution_count": 34,
   "id": "b3458893",
   "metadata": {},
   "outputs": [],
   "source": [
    "def SIRD(t, z,  α):\n",
    "    β, γ, m = [aᵦ,aᵧ,aₘ] * α    # Scale parameters\n",
    "    S, I, R, D = z\n",
    "    return [β*(n-S)*I, β*(n-S)*I - γ*I - m*I, γ*I, m*I]"
   ]
  },
  {
   "cell_type": "code",
   "execution_count": 35,
   "id": "119e5982",
   "metadata": {},
   "outputs": [
    {
     "name": "stdout",
     "output_type": "stream",
     "text": [
      "The solver successfully reached the end of the integration interval. There were 32 function evaluations.\n"
     ]
    }
   ],
   "source": [
    "sol = solve_ivp(SIRD, [0, T], ρ̂ₒ, args=[α], t_eval = Tₑ, dense_output=True, vectorized=True, rtol = 1e-10)\n",
    "print(sol['message'],'There were',sol.nfev,'function evaluations.')"
   ]
  },
  {
   "cell_type": "code",
   "execution_count": 36,
   "id": "568b0bfa",
   "metadata": {
    "code_folding": [
     0
    ]
   },
   "outputs": [
    {
     "data": {
      "image/png": "[encoded data removed]",
      "text/plain": [
       "<Figure size 800x350 with 1 Axes>"
      ]
     },
     "metadata": {},
     "output_type": "display_data"
    }
   ],
   "source": [
    "# Plot solution:\n",
    "plt.figure(figsize=(8,3.5))\n",
    "#plt.plot(Tₑ,n-sol.y[0].T)\n",
    "plt.plot(Tₑ * time_scale, sol.y.T * ppl_scales)\n",
    "#plt.yscale('symlog', linthresh=1e-1)\n",
    "#plt.xscale('symlog', linthresh=1e-2)\n",
    "plt.yscale('log')\n",
    "plt.plot();"
   ]
  },
  {
   "cell_type": "markdown",
   "id": "3d19db74",
   "metadata": {},
   "source": [
    "At this step we can also test the scalings:"
   ]
  },
  {
   "cell_type": "code",
   "execution_count": 37,
   "id": "af63edb2",
   "metadata": {},
   "outputs": [],
   "source": [
    "ω = α * [aᵦ/ (ppl_scales * time_scale), aᵧ/time_scale, aₘ/time_scale]"
   ]
  },
  {
   "cell_type": "code",
   "execution_count": 38,
   "id": "6dc94d69",
   "metadata": {},
   "outputs": [
    {
     "data": {
      "text/plain": [
       "(array([4.59706571e-11, 2.63125714e-02, 5.23338714e-04]),\n",
       " array([0.07364913, 0.184188  , 0.3663371 ]))"
      ]
     },
     "execution_count": 38,
     "metadata": {},
     "output_type": "execute_result"
    }
   ],
   "source": [
    "ω,α"
   ]
  },
  {
   "cell_type": "code",
   "execution_count": 39,
   "id": "bae63993",
   "metadata": {
    "code_folding": [
     0
    ]
   },
   "outputs": [],
   "source": [
    "def SIRDn(t, z,  α):\n",
    "    β, γ, m = α    # Scale parameters\n",
    "    S, I, R, D = z\n",
    "    return [β*(ppl_scales*n-S)*I, β*(ppl_scales*n-S)*I - γ*I - m*I, γ*I, m*I]"
   ]
  },
  {
   "cell_type": "code",
   "execution_count": 40,
   "id": "ba3d3d42",
   "metadata": {
    "code_folding": [
     0
    ],
    "scrolled": false
   },
   "outputs": [
    {
     "name": "stdout",
     "output_type": "stream",
     "text": [
      "The solver successfully reached the end of the integration interval.\n"
     ]
    }
   ],
   "source": [
    "sol_original_scale = solve_ivp(SIRDn, [0, T*time_scale], ppl_scales * ρ̂ₒ, args=(ω,), \n",
    "                                                   t_eval = Tₑ*time_scale, dense_output=True, vectorized=True, rtol=1e-6)\n",
    "print(sol_original_scale['message'])"
   ]
  },
  {
   "cell_type": "code",
   "execution_count": 41,
   "id": "572e11bc",
   "metadata": {
    "code_folding": [
     0
    ]
   },
   "outputs": [
    {
     "data": {
      "image/png": "[encoded data removed]",
      "text/plain": [
       "<Figure size 800x350 with 1 Axes>"
      ]
     },
     "metadata": {},
     "output_type": "display_data"
    }
   ],
   "source": [
    "# Plot solution:\n",
    "plt.figure(figsize=(8,3.5))\n",
    "plt.plot(Tₑ * time_scale, sol_original_scale.y.T)\n",
    "#plt.yscale('symlog', linthresh=1e-2)\n",
    "#plt.xscale('symlog', linthresh=1e-2)\n",
    "plt.yscale('log')\n",
    "plt.legend(['S', 'I', 'R'], shadow=True)\n",
    "plt.show()"
   ]
  },
  {
   "cell_type": "markdown",
   "id": "d9ee8824",
   "metadata": {},
   "source": [
    "## Solve its adjoint"
   ]
  },
  {
   "cell_type": "markdown",
   "id": "27bb3396",
   "metadata": {},
   "source": [
    "The adjoint state can be found by solving the following ODE system:"
   ]
  },
  {
   "cell_type": "markdown",
   "id": "e76bcbe3",
   "metadata": {},
   "source": [
    "\\begin{align}\n",
    "    \\frac{\\dif q_\\sigma}{\\dif t} &= \\hat{\\sigma} - \\sigma + [a_1 \\beta] I (q_\\sigma + q_I),\n",
    "    \\\\\n",
    "    \\frac{\\dif q_I}{\\dif t} &= \\hat{I} - I - [a_1 \\beta] (n-\\sigma)(q_\\sigma + q_I) + [a_2\\gamma] (q_I - q_R) + [a_3 m] (q_I - q_D),\n",
    "    \\\\\n",
    "    \\frac{\\dif q_R}{\\dif t} &= \\hat{R} - R,\n",
    "    \\\\\n",
    "    \\frac{\\dif q_D}{\\dif t} &= \\hat{D} - D,\n",
    "\\end{align}\n",
    "with the terminal condition $q(T) = \\vartheta\\big[\\rho(T) - \\widehat{\\rho}(T)\\big]$."
   ]
  },
  {
   "cell_type": "code",
   "execution_count": 42,
   "id": "93cc638a",
   "metadata": {},
   "outputs": [],
   "source": [
    "# Interpolator from ODE\n",
    "ρₜ = sol.sol\n",
    "ρ = sol.y"
   ]
  },
  {
   "cell_type": "code",
   "execution_count": 43,
   "id": "2320bd33",
   "metadata": {},
   "outputs": [],
   "source": [
    "dw = simpson((ρ̂ - (simpson((ρ̂), x=Tₑ)/T)[::,np.newaxis])**2, x = Tₑ) ** -1    # Goodness of fit weight"
   ]
  },
  {
   "cell_type": "code",
   "execution_count": 44,
   "id": "fc365b97",
   "metadata": {},
   "outputs": [],
   "source": [
    "def Adjoint(t, z, α,ρ):\n",
    "    β, γ, m    = [aᵦ,aᵧ,aₘ] * α      # Use scaled interpolator\n",
    "    S̄, Ī, R̄, D̄ = dw * ρ̄(t)           # Target\n",
    "    S, I, R, D = dw * ρ(t)           # State\n",
    "    qₛ, qᵢ, qᵣ, qᵈ = z           # Adjoint\n",
    "    return [S̄ - S + β*I*(qₛ + qᵢ), Ī - I - β*(n-S)*(qₛ + qᵢ) + γ*(qᵢ - qᵣ) + m * (qᵢ - qᵈ), R̄ - R, D̄ - D]"
   ]
  },
  {
   "cell_type": "code",
   "execution_count": 45,
   "id": "0cf5fbc9",
   "metadata": {},
   "outputs": [
    {
     "name": "stdout",
     "output_type": "stream",
     "text": [
      "The solver successfully reached the end of the integration interval. There were 80 function evaluations.\n"
     ]
    }
   ],
   "source": [
    "qₒ = ϑᵀᵉʳ * (ρ[:,-1] - ρ̂ᶠ)\n",
    "solₛ = solve_ivp(Adjoint, [T,0], qₒ, args=(α,ρₜ), t_eval = Tₑ[::-1], dense_output=True, vectorized=False)\n",
    "q = solₛ.y[:,::-1]\n",
    "print(solₛ['message'],'There were',solₛ.nfev,'function evaluations.')"
   ]
  },
  {
   "cell_type": "code",
   "execution_count": 46,
   "id": "3441cbae",
   "metadata": {
    "code_folding": [
     0
    ]
   },
   "outputs": [
    {
     "data": {
      "image/png": "[encoded data removed]",
      "text/plain": [
       "<Figure size 800x350 with 1 Axes>"
      ]
     },
     "metadata": {},
     "output_type": "display_data"
    }
   ],
   "source": [
    "# Plot adjoint curves\n",
    "plt.figure(figsize=(8,3.5))\n",
    "plt.plot(Tₑ[::-1],q.T)\n",
    "plt.xlabel(r'Time $t$')\n",
    "plt.legend([r'$q_S$', '$q_I$', '$q_R$'], shadow=True)\n",
    "#plt.yscale('log')\n",
    "plt.yscale('symlog', linthresh=1e1)\n",
    "plt.show()"
   ]
  },
  {
   "cell_type": "markdown",
   "id": "b51b9169",
   "metadata": {},
   "source": [
    "## Cost and gradient"
   ]
  },
  {
   "cell_type": "markdown",
   "id": "4ebc5391",
   "metadata": {},
   "source": [
    "Let us evaluate the function\n",
    "\\begin{align}\n",
    "    j(\\alpha) = \\frac{1}{2} \\int\\limits_0^T w_1 \\big( \\sigma(t) - \\hat{\\sigma}(t) \\big)^2 +  w_2 \\big( I(t) - \\hat{I}(t) \\big)^2 + w_3 \\big( R(t) - \\hat{R}(t) \\big)^2 + w_4 \\big( D(t) - \\hat{D}(t) \\big)^2 \\,\\dif t  +  \\frac{1}{T} \\big( \\theta_1 \\beta^2 + \\theta_2 \\gamma^2 + \\theta_3 m^2 \\big)  + \\frac{1}{2} \\| \\vartheta (\\rho(T) - \\widehat{\\rho}(T)) \\|^2_{\\R^3}\n",
    "    .\n",
    "\\end{align}"
   ]
  },
  {
   "cell_type": "code",
   "execution_count": 47,
   "id": "08b3c04b",
   "metadata": {
    "code_folding": []
   },
   "outputs": [],
   "source": [
    "def Objective(ρ,ρ̂,α, θ,ϑᵀᵉʳ,  scale = 1.0):\n",
    "    # State + controls\n",
    "    s  = (dw * simpson((ρ-ρ̂)**2, x=Tₑ)).sum()  +  (ϑᵀᵉʳ * (ρ[:,-1] - ρ̂ᶠ)**2).sum()\n",
    "    s *= scale\n",
    "    # Controls\n",
    "    s +=  (α**2 * θ).sum() / T\n",
    "    # Weight\n",
    "    s *= 0.5\n",
    "    return s"
   ]
  },
  {
   "cell_type": "code",
   "execution_count": 48,
   "id": "7ab8195f",
   "metadata": {},
   "outputs": [
    {
     "name": "stdout",
     "output_type": "stream",
     "text": [
      "As an example, the objective value for α is 3.9747e+00.\n"
     ]
    }
   ],
   "source": [
    "print('As an example, the objective value for α is {0:.4e}.'.format(  Objective(ρ,ρ̂, α, θ, ϑᵀᵉʳ, scale = (1) ) ))"
   ]
  },
  {
   "cell_type": "markdown",
   "id": "c3cf85e7",
   "metadata": {},
   "source": [
    "Now we can compute the derivative of the reduced objective functional [ ! ]:\n",
    "\\begin{align}\n",
    "    \\frac{\\partial f}{\\partial \\beta} &= \\int\\limits_0^T a_1 (n-\\sigma) I( q_\\sigma + q_I ) \\dif t  + \\theta_1 \\beta\n",
    "    \\\\\n",
    "    \\frac{\\partial f}{\\partial \\gamma} &= \\int\\limits_0^T a_2 I( q_R - q_I ) \\dif t  + \\theta_2 \\gamma\n",
    "    \\\\\n",
    "    \\frac{\\partial f}{\\partial m} &= \\int\\limits_0^T a_3I (q_D - q_I) \\dif t   + \\theta_3 m\n",
    "\\end{align}"
   ]
  },
  {
   "cell_type": "code",
   "execution_count": 49,
   "id": "de4cb7ce",
   "metadata": {},
   "outputs": [],
   "source": [
    "df = asarray([aᵦ * simpson(ρ[0]*ρ[1] * (q[1]-q[0]), x=Tₑ), aᵧ * simpson(ρ[1] * (q[2]-q[1]), x=Tₑ), aᵧ * simpson(ρ[1] * (q[3]-q[1]), x=Tₑ)])  + (θ/T) * α"
   ]
  },
  {
   "cell_type": "code",
   "execution_count": 50,
   "id": "741cbd40",
   "metadata": {
    "code_folding": [
     0
    ]
   },
   "outputs": [
    {
     "name": "stdout",
     "output_type": "stream",
     "text": [
      "[-3.53180650e-05  1.34500692e+00 -7.77370112e+01]\n"
     ]
    }
   ],
   "source": [
    "print(df)"
   ]
  },
  {
   "cell_type": "markdown",
   "id": "b1ae33ef",
   "metadata": {},
   "source": [
    "### Define projection"
   ]
  },
  {
   "cell_type": "code",
   "execution_count": 51,
   "id": "b826abb1",
   "metadata": {},
   "outputs": [],
   "source": [
    "def proj(α):    return np.clip(α, 0.0, upper_b)"
   ]
  },
  {
   "cell_type": "code",
   "execution_count": 52,
   "id": "7ac5b6d3",
   "metadata": {
    "code_folding": [
     0
    ]
   },
   "outputs": [
    {
     "data": {
      "text/plain": [
       "array([1.60209, 0.     , 0.     ])"
      ]
     },
     "execution_count": 52,
     "metadata": {},
     "output_type": "execute_result"
    }
   ],
   "source": [
    "proj( 7000 * (1-α - 0.82))"
   ]
  },
  {
   "cell_type": "markdown",
   "id": "3da0591f",
   "metadata": {},
   "source": [
    "# A few evaluations"
   ]
  },
  {
   "cell_type": "markdown",
   "id": "0fa27406",
   "metadata": {},
   "source": [
    "Let us evaluate the objective for some curves:"
   ]
  },
  {
   "cell_type": "code",
   "execution_count": 53,
   "id": "026b2f70",
   "metadata": {},
   "outputs": [],
   "source": [
    "global ρ, q\n",
    "ρ = np.zeros_like(ρ̂)\n",
    "q = np.zeros_like(ρ̂)"
   ]
  },
  {
   "cell_type": "code",
   "execution_count": 54,
   "id": "156d761d",
   "metadata": {
    "code_folding": [
     7,
     33,
     45,
     56
    ]
   },
   "outputs": [],
   "source": [
    "# Increase tolerance: Quasi-Newton methods are generally more susceptible to numerical errors\n",
    "# 1e-3 is the default tolerance of the solver, 1e-4 produces fair results and this is replicated in 1e-6\n",
    "rt = 1e-9\n",
    "# Scale the population compartments by some quantity; e.g., n^-2 scales by total number of people at time 0\n",
    "scaling = True\n",
    "scale = 1.0 if scaling else 1.0\n",
    "\n",
    "def obj_eval(α):                  # ** Eval f and f' ** #\n",
    "    global ρ, q, df\n",
    "    '''\n",
    "        Evaluate state, compute adjoint, and return objective and derivative\n",
    "    '''\n",
    "    # Compute state α\n",
    "    ρ_sol = solve_ivp(SIRD, [0, T], ρ̂ₒ, args=(α,), t_eval = Tₑ, dense_output=True, vectorized=True, first_step = 0.1, rtol=rt)\n",
    "    if ρ_sol['success'] != True:    print('Should re-evaluate.')\n",
    "    ρ  = ρ_sol.y\n",
    "    f  = Objective(ρ,ρ̂, α, θ, ϑᵀᵉʳ,  scale)\n",
    "    \n",
    "    # Create an abstract interpolator for state\n",
    "    ρₜ = ρ_sol.sol\n",
    "    \n",
    "    # Compute adjoint\n",
    "    qₒ = ϑᵀᵉʳ * (ρ[:,-1] - ρ̂ᶠ)    # Terminal condition\n",
    "    q_sol = solve_ivp(Adjoint, [T,0], qₒ, args=(α,ρₜ), t_eval = Tₑ[::-1], dense_output=True, vectorized=False, rtol=rt)\n",
    "    q = q_sol.y[:,::-1]\n",
    "\n",
    "    # Compute derivative\n",
    "    df = scale * asarray([ aᵦ * simpson(ρ[0]*ρ[1] * (q[1]-q[0]), x=Tₑ), \n",
    "                           aᵧ * simpson(ρ[1] * (q[2]-q[1]), x=Tₑ), \n",
    "                           aᵧ * simpson(ρ[1] * (q[3]-q[1]), x=Tₑ)]) \n",
    "    df += (θ/T) * α\n",
    "    \n",
    "    return asarray(f), df\n",
    "def obj_eval_a(α):                # ** Eval just f ** #\n",
    "    global ρ\n",
    "    '''\n",
    "        Evaluate state and return objective\n",
    "    '''\n",
    "    # Compute state α\n",
    "    ρ_sol = solve_ivp(SIRD, [0, T], ρ̂ₒ, args=(α,), t_eval = Tₑ, dense_output=True, vectorized=True, first_step = 0.1, rtol=rt)\n",
    "    if ρ_sol['success'] != True:    print('Should re-evaluate.')\n",
    "    ρ  = ρ_sol.y\n",
    "    f  = Objective(ρ,ρ̂, α, θ, ϑᵀᵉʳ,  scale)\n",
    "    \n",
    "    return asarray(f)\n",
    "def obj_eval_b(α):                # ** Does not affect global variable ρ ** #\n",
    "    '''\n",
    "        Evaluate state, compute adjoint, and return objective and derivative\n",
    "    '''\n",
    "    # Compute state α\n",
    "    ρ_sol = solve_ivp(SIRD, [0, T], ρ̂ₒ, args=(α,), t_eval = Tₑ, dense_output=True, vectorized=True, first_step = 0.1, rtol=rt)\n",
    "    if ρ_sol['success'] != True:    print('Should re-evaluate.')\n",
    "    ρₐ = ρ_sol.y\n",
    "    f  = Objective(ρₐ,ρ̂,α, θ, ϑᵀᵉʳ,  scale)\n",
    "\n",
    "    return asarray(f)\n",
    "def obj_eval_d(α):                # ** Does not affect global variables ρ, q, df ** #\n",
    "    '''\n",
    "        Evaluate state, compute adjoint, and return objective and derivative\n",
    "    '''\n",
    "    # Compute state α\n",
    "    ρ_sol = solve_ivp(SIRD, [0, T], ρ̂ₒ, args=(α,), t_eval = Tₑ, dense_output=True, vectorized=True, first_step = 0.1, rtol=rt)\n",
    "    if ρ_sol['success'] != True:    \n",
    "        print('Should re-evaluate.')\n",
    "        plt.plot(ρ_sol.y.T)\n",
    "        plt.show()\n",
    "        print(ρ_sol)\n",
    "    ρᵦ = ρ_sol.y\n",
    "    f  = Objective(ρᵦ,ρ̂, α, θ, ϑᵀᵉʳ,  scale)\n",
    "    \n",
    "    # Create an abstract interpolator for state\n",
    "    ρₜ = ρ_sol.sol\n",
    "    \n",
    "    # Compute adjoint\n",
    "    qₒ = ϑᵀᵉʳ * (ρᵦ[:,-1] - ρ̂ᶠ)    # Terminal condition\n",
    "    q_sol = solve_ivp(Adjoint, [T,0], qₒ, args=(α,ρₜ), t_eval = Tₑ[::-1], dense_output=True, vectorized=False, rtol=rt)\n",
    "    qᵦ = q_sol.y[:,::-1]\n",
    "\n",
    "    # Compute derivative\n",
    "    dF = scale * asarray([ aᵦ * simpson(ρᵦ[0]*ρᵦ[1] * (qᵦ[1]-qᵦ[0]), x=Tₑ),    \n",
    "                           aᵧ * simpson(ρᵦ[1] * (qᵦ[2]-qᵦ[1]), x=Tₑ),    \n",
    "                           aₘ * simpson(ρᵦ[1] * (qᵦ[3]-qᵦ[1]), x=Tₑ) ])\n",
    "    dF += (θ/T) * α\n",
    "\n",
    "    return asarray(f), dF"
   ]
  },
  {
   "cell_type": "code",
   "execution_count": 55,
   "id": "a87454b1",
   "metadata": {},
   "outputs": [
    {
     "data": {
      "text/plain": [
       "array(3.97471049)"
      ]
     },
     "execution_count": 55,
     "metadata": {},
     "output_type": "execute_result"
    }
   ],
   "source": [
    "obj_eval_a(α)"
   ]
  },
  {
   "cell_type": "markdown",
   "id": "25f12ff6",
   "metadata": {},
   "source": [
    "---"
   ]
  },
  {
   "cell_type": "markdown",
   "id": "9e3aece8",
   "metadata": {},
   "source": [
    "# Solving the optimisation problem"
   ]
  },
  {
   "cell_type": "markdown",
   "id": "33c8351c",
   "metadata": {},
   "source": [
    "We will use a gradient-based algorithm for optimising $f$. For any $L > 0$, and $\\omega \\in [0,1]^2$, define the the operator\n",
    "$$\n",
    "    p_L (\\omega) := \\mathcal{P}_{[0,1]^2}[\\omega - L^{-1} \\nabla f(\\omega) ].\n",
    "$$"
   ]
  },
  {
   "cell_type": "markdown",
   "id": "30f4b1d8",
   "metadata": {},
   "source": [
    "<div style=\"background-color:rgba(0, 0, 0, 0.0470588); vertical-align: middle; padding:5px 0; padding-left: 40px;\">\n",
    "<h2 style=\"color: #5e9ca0;\">Projected Gradient Descent Algorithm</h2>\n",
    "<ol>\n",
    "<li>Let $\\alpha_0 \\in [0,1]^3$ and $\\eta > 0$.</li>\n",
    "<li>For $k \\in \\{0,\\ldots\\}$, do\n",
    "<ol>\n",
    "<li>Compute state $\\rho_{\\alpha_k}$\n",
    "<li>Compute adjoint $q_{\\alpha_k}$\n",
    "<li>Evaluate the gradient of the reduced functional $d_k := \\nabla f(\\alpha_k)$\n",
    "<li>Compute $u = \\alpha_{k} - \\eta d_k$\n",
    "<li>If $u \\notin [0,1]^3$ or $f(u)> f(\\alpha_k)$\n",
    "<ol>\n",
    "<li>Backtrack $u$ with respect to $\\eta$:</li>\n",
    "    <ol>\n",
    "<li> $\\eta = \\eta \\, /\\, 10$</li>\n",
    "<li> Set $u = \\mathcal{P}_{[0,1]^3}(\\alpha_{k} - \\eta d_k)$</li>\n",
    "<li> Stop whenever $f(u) < f(\\alpha_k)$</li>\n",
    "    </ol>\n",
    "</ol>\n",
    "    Else: $\\alpha_{k+1} = u$</li>\n",
    "</ol>\n",
    "</li>\n",
    "</ol>\n",
    "</div>"
   ]
  },
  {
   "cell_type": "markdown",
   "id": "084b283e",
   "metadata": {},
   "source": [
    "## Algorithm"
   ]
  },
  {
   "cell_type": "code",
   "execution_count": 56,
   "id": "c12a63e8",
   "metadata": {
    "scrolled": true
   },
   "outputs": [
    {
     "data": {
      "text/plain": [
       "1.0"
      ]
     },
     "execution_count": 56,
     "metadata": {},
     "output_type": "execute_result"
    }
   ],
   "source": [
    "#scale = 1e-0 #1e-4\n",
    "scale"
   ]
  },
  {
   "cell_type": "code",
   "execution_count": 57,
   "id": "28b72631",
   "metadata": {
    "code_folding": [
     0
    ]
   },
   "outputs": [],
   "source": [
    "def box_scale(x,y):\n",
    "    '''\n",
    "        Return minimum value of scalar s > 0  such that x + sy ∈ [0,1] for x ∈ [0,1]\n",
    "    '''\n",
    "    a = np.divide(x, y, where=(y>0))[y>0]\n",
    "    b = np.divide((x-1), y, where=(y<0))[y<0]\n",
    "    if len(a) > 0:\n",
    "        if len(b) > 0:\n",
    "            return min( a.min(), b.min() )\n",
    "        else:\n",
    "            return a.min()\n",
    "    else:\n",
    "        return b.min()"
   ]
  },
  {
   "cell_type": "code",
   "execution_count": 58,
   "id": "863d0d6b",
   "metadata": {
    "code_folding": [
     0,
     44,
     60,
     79,
     90
    ]
   },
   "outputs": [],
   "source": [
    "def GD_Algorithm(α, iters, save_iter = False, critical = 1, εₐ = 1e-9, εᵦ = 1e-16):\n",
    "    '''\n",
    "        Create structures to store information from iterates\n",
    "    '''\n",
    "    every_iter = {\n",
    "        'it':[], 'obj':[], 'time':[], 'β':[], 'γ':[], 'm':[], 'df_β':[], 'df_γ':[], 'df_m':[],\n",
    "        'norms':{'ℓ_1': [], 'ℓ_2': [], 'max': [], 'min':[]}\n",
    "                 }\n",
    "    every_critical = {'it':[], 'obj':[], 'time':[], '|df|_2':[], '|df|_max':[]}\n",
    "    \n",
    "    '''\n",
    "        GD iterates\n",
    "    '''\n",
    "    print('     It  |    f(α)  |    Time   |  ‖df(α)‖_2  |   ‖df(α)‖_∞  ')\n",
    "    print( '{:–^62}'.format('') )\n",
    "    \n",
    "    β, γ, m = α\n",
    "    timed = 0.0\n",
    "    for k in range(iters):\n",
    "        it_time = time.time()\n",
    "        \n",
    "        # Compute state, adjoint, and derivative (ρ and q are global variables)\n",
    "        f, df = obj_eval(α)\n",
    "        \n",
    "        # Create scale factor is derivative is too far away from [0,1]^3:\n",
    "        # In other words: go one step ahead if α - s * df goes too far, backtracking will waste time!\n",
    "        bₜ = box_scale(α,df)\n",
    "        s  = 0.5/norm(df) if norm(df,np.inf) > 1.0 else 1.0\n",
    "        s = s if bₜ <= 0.0 else max(bₜ,s)\n",
    "        #s  = 1/norm(df) if norm(df,np.inf) > 1.0 else 1.0 # This is bad\n",
    "        \n",
    "        # Find new step\n",
    "        for η in 10**-linspace(0,40,41):\n",
    "            #u = proj(α - η*df/norm(df))\n",
    "            u = proj(α - η*s*df)\n",
    "            fₖ = obj_eval_a(u)\n",
    "            if fₖ < f :#- 10**4 * η * df.dot(df)/norm(df):\n",
    "                break\n",
    "            \n",
    "                \n",
    "        # Measure time up to this point!\n",
    "        end = time.time()\n",
    "        timed += end - it_time\n",
    "        \n",
    "        if save_iter:\n",
    "            every_iter['it'].append( k-1 )\n",
    "            every_iter['obj'].append( f )\n",
    "            every_iter['time'].append( timed )\n",
    "            every_iter['β'].append( α[0] )\n",
    "            every_iter['γ'].append( α[1] )\n",
    "            every_iter['m'].append( α[2] )\n",
    "            every_iter['df_β'].append( df[0] )\n",
    "            every_iter['df_γ'].append( df[1] )\n",
    "            every_iter['df_m'].append( df[2] )\n",
    "            # Store norms of gradient\n",
    "            every_iter['norms']['ℓ_2'].append( norm(df)/(3**0.5) )\n",
    "            every_iter['norms']['ℓ_1'].append( (1/3) * norm(df,1) )\n",
    "            every_iter['norms']['max'].append( norm(df,np.inf) )\n",
    "            every_iter['norms']['min'].append( abs(df).min() )\n",
    "        \n",
    "        if k % critical == 0:\n",
    "            every_critical['it'].append( k )\n",
    "            every_critical['obj'].append( f )\n",
    "            every_critical['time'].append( timed )\n",
    "            every_critical['|df|_2'].append( norm(df)/(3**0.5) )\n",
    "            every_critical['|df|_max'].append( norm(df,np.inf) )\n",
    "            \n",
    "            print('* {0:6.0f} |  {1:.1e} |  {2:7.2f}  | {3:6.3e}   |   {4:6.3e}  '.format(k,\n",
    "                                                                        f, timed,\n",
    "                                                                        norm(df)/(3**0.5), \n",
    "                                                                        norm(df,np.inf) ))\n",
    "            \n",
    "        # Update step\n",
    "        v = α.copy()\n",
    "        α = u\n",
    "        β, γ, m = α\n",
    "        \n",
    "        #ρ = ρ_sol.y\n",
    "        \n",
    "        if abs(f - fₖ) < εᵦ:\n",
    "            print('|fₖ - f| < {0:1.0e}'.format(εᵦ))\n",
    "            print('* {0:6.0f} |  {1:.1e} |  {2:7.2f}  | {3:6.3e}   |   {4:6.3e}  '.format(k,\n",
    "                                                                        f,\n",
    "                                                                        timed,\n",
    "                                                                        norm(df)/(3.0**0.5), \n",
    "                                                                        norm(df,np.inf) ))\n",
    "            break\n",
    "        \n",
    "        f = fₖ\n",
    "        \n",
    "        if norm(α - v)/(3.0**0.5) < εₐ:\n",
    "            print('‖αₖ - u‖ < {0:1.0e}'.format(εₐ))\n",
    "            print(α)\n",
    "            print('* {0:6.0f} |  {1:.1e} |  {2:7.2f}  | {3:6.3e}   |   {4:6.3e}  '.format(k,\n",
    "                                                                        f,\n",
    "                                                                        timed,\n",
    "                                                                        norm(df)/(3**0.5), \n",
    "                                                                        norm(df,np.inf) ))\n",
    "            break\n",
    "        \n",
    "    print('\\nAlgorithm stopped after {0:.4f} seconds and {1} iterations'.format(timed,k))\n",
    "    \n",
    "    return α, ρ, every_critical, every_iter"
   ]
  },
  {
   "cell_type": "code",
   "execution_count": 59,
   "id": "43df02b9",
   "metadata": {},
   "outputs": [],
   "source": [
    "from sklearn.metrics import r2_score"
   ]
  },
  {
   "cell_type": "code",
   "execution_count": 60,
   "id": "85662bc3",
   "metadata": {
    "scrolled": true
   },
   "outputs": [
    {
     "name": "stdout",
     "output_type": "stream",
     "text": [
      "     It  |    f(α)  |    Time   |  ‖df(α)‖_2  |   ‖df(α)‖_∞  \n",
      "––––––––––––––––––––––––––––––––––––––––––––––––––––––––––––––\n",
      "*      0 |  4.0e+00 |     0.06  | 4.565e+01   |   7.906e+01  \n",
      "*    100 |  3.3e+00 |     5.65  | 1.845e-02   |   3.193e-02  \n",
      "*    200 |  3.3e+00 |    11.28  | 1.861e-02   |   3.221e-02  \n",
      "*    300 |  3.3e+00 |    16.66  | 1.871e-02   |   3.238e-02  \n",
      "*    400 |  3.3e+00 |    22.07  | 1.873e-02   |   3.241e-02  \n",
      "*    500 |  3.3e+00 |    27.53  | 1.895e-02   |   3.280e-02  \n",
      "*    600 |  3.3e+00 |    32.95  | 1.864e-02   |   3.226e-02  \n",
      "*    700 |  3.3e+00 |    38.40  | 1.887e-02   |   3.266e-02  \n",
      "*    800 |  3.3e+00 |    43.79  | 1.904e-02   |   3.295e-02  \n",
      "*    900 |  3.3e+00 |    49.23  | 1.886e-02   |   3.264e-02  \n",
      "*   1000 |  3.3e+00 |    54.59  | 1.897e-02   |   3.284e-02  \n",
      "*   1100 |  3.3e+00 |    59.98  | 1.894e-02   |   3.278e-02  \n",
      "*   1200 |  3.3e+00 |    65.39  | 1.903e-02   |   3.293e-02  \n",
      "*   1300 |  3.3e+00 |    70.82  | 1.909e-02   |   3.305e-02  \n",
      "*   1400 |  3.3e+00 |    76.25  | 1.902e-02   |   3.291e-02  \n",
      "*   1500 |  3.3e+00 |    81.63  | 1.924e-02   |   3.330e-02  \n",
      "*   1600 |  3.3e+00 |    87.02  | 1.952e-02   |   3.379e-02  \n",
      "*   1700 |  3.3e+00 |    92.39  | 1.918e-02   |   3.319e-02  \n",
      "*   1800 |  3.3e+00 |    97.80  | 1.918e-02   |   3.320e-02  \n",
      "*   1900 |  3.3e+00 |   103.19  | 1.932e-02   |   3.344e-02  \n",
      "*   2000 |  3.3e+00 |   108.62  | 1.936e-02   |   3.351e-02  \n",
      "*   2100 |  3.3e+00 |   114.03  | 1.934e-02   |   3.347e-02  \n",
      "*   2200 |  3.3e+00 |   119.47  | 1.938e-02   |   3.355e-02  \n",
      "*   2300 |  3.3e+00 |   124.94  | 1.958e-02   |   3.389e-02  \n",
      "*   2400 |  3.3e+00 |   130.35  | 1.958e-02   |   3.389e-02  \n",
      "*   2500 |  3.3e+00 |   135.76  | 1.975e-02   |   3.419e-02  \n",
      "*   2600 |  3.3e+00 |   141.19  | 1.878e-02   |   3.251e-02  \n",
      "*   2700 |  3.3e+00 |   146.62  | 1.946e-02   |   3.367e-02  \n",
      "*   2800 |  3.3e+00 |   152.06  | 1.978e-02   |   3.424e-02  \n",
      "*   2900 |  3.3e+00 |   157.51  | 1.979e-02   |   3.425e-02  \n",
      "*   3000 |  3.3e+00 |   162.98  | 1.957e-02   |   3.388e-02  \n",
      "*   3100 |  3.3e+00 |   168.56  | 1.985e-02   |   3.436e-02  \n",
      "*   3200 |  3.3e+00 |   174.16  | 1.999e-02   |   3.460e-02  \n",
      "*   3300 |  3.3e+00 |   179.74  | 1.987e-02   |   3.439e-02  \n",
      "*   3400 |  3.3e+00 |   185.28  | 2.002e-02   |   3.465e-02  \n",
      "*   3500 |  3.3e+00 |   190.81  | 1.997e-02   |   3.457e-02  \n",
      "*   3600 |  3.3e+00 |   196.39  | 1.987e-02   |   3.438e-02  \n",
      "*   3700 |  3.3e+00 |   202.19  | 1.994e-02   |   3.451e-02  \n",
      "*   3800 |  3.3e+00 |   207.81  | 2.002e-02   |   3.465e-02  \n",
      "*   3900 |  3.3e+00 |   213.38  | 2.015e-02   |   3.487e-02  \n",
      "*   4000 |  3.3e+00 |   218.95  | 2.018e-02   |   3.493e-02  \n",
      "*   4100 |  3.3e+00 |   224.53  | 2.030e-02   |   3.513e-02  \n",
      "*   4200 |  3.3e+00 |   230.10  | 2.034e-02   |   3.520e-02  \n",
      "*   4300 |  3.3e+00 |   235.59  | 2.045e-02   |   3.539e-02  \n",
      "*   4400 |  3.3e+00 |   241.14  | 2.055e-02   |   3.556e-02  \n",
      "*   4500 |  3.3e+00 |   246.71  | 2.035e-02   |   3.522e-02  \n",
      "*   4600 |  3.3e+00 |   252.24  | 2.042e-02   |   3.534e-02  \n",
      "*   4700 |  3.3e+00 |   257.75  | 2.064e-02   |   3.573e-02  \n",
      "*   4800 |  3.3e+00 |   263.30  | 2.068e-02   |   3.579e-02  \n",
      "*   4900 |  3.3e+00 |   268.82  | 2.129e-02   |   3.686e-02  \n",
      "*   5000 |  3.3e+00 |   274.34  | 2.069e-02   |   3.582e-02  \n",
      "*   5100 |  3.3e+00 |   279.91  | 2.070e-02   |   3.583e-02  \n",
      "*   5200 |  3.3e+00 |   285.90  | 2.083e-02   |   3.605e-02  \n",
      "*   5300 |  3.3e+00 |   291.46  | 2.072e-02   |   3.587e-02  \n",
      "*   5400 |  3.3e+00 |   297.04  | 2.115e-02   |   3.661e-02  \n",
      "*   5500 |  3.3e+00 |   302.70  | 2.093e-02   |   3.622e-02  \n",
      "*   5600 |  3.3e+00 |   308.36  | 2.092e-02   |   3.621e-02  \n",
      "*   5700 |  3.3e+00 |   313.95  | 2.089e-02   |   3.616e-02  \n",
      "*   5800 |  3.3e+00 |   319.60  | 2.101e-02   |   3.637e-02  \n",
      "*   5900 |  3.3e+00 |   325.20  | 2.170e-02   |   3.756e-02  \n",
      "*   6000 |  3.3e+00 |   330.77  | 2.114e-02   |   3.658e-02  \n",
      "*   6100 |  3.3e+00 |   336.39  | 2.112e-02   |   3.656e-02  \n",
      "*   6200 |  3.3e+00 |   341.99  | 2.105e-02   |   3.643e-02  \n",
      "*   6300 |  3.3e+00 |   347.58  | 2.108e-02   |   3.648e-02  \n",
      "*   6400 |  3.3e+00 |   353.17  | 2.126e-02   |   3.679e-02  \n",
      "*   6500 |  3.3e+00 |   358.71  | 2.140e-02   |   3.704e-02  \n",
      "*   6600 |  3.3e+00 |   364.28  | 2.146e-02   |   3.714e-02  \n",
      "*   6700 |  3.3e+00 |   369.87  | 2.129e-02   |   3.685e-02  \n",
      "*   6800 |  3.3e+00 |   375.51  | 2.134e-02   |   3.694e-02  \n",
      "*   6900 |  3.3e+00 |   381.11  | 2.158e-02   |   3.736e-02  \n",
      "*   7000 |  3.3e+00 |   386.74  | 2.129e-02   |   3.685e-02  \n",
      "*   7100 |  3.3e+00 |   392.36  | 2.174e-02   |   3.763e-02  \n",
      "*   7200 |  3.3e+00 |   397.96  | 2.158e-02   |   3.735e-02  \n",
      "*   7300 |  3.3e+00 |   403.65  | 2.184e-02   |   3.780e-02  \n",
      "*   7400 |  3.3e+00 |   409.26  | 2.170e-02   |   3.756e-02  \n",
      "*   7500 |  3.3e+00 |   414.84  | 2.127e-02   |   3.682e-02  \n",
      "*   7600 |  3.3e+00 |   420.39  | 2.200e-02   |   3.808e-02  \n",
      "*   7700 |  3.3e+00 |   425.97  | 2.174e-02   |   3.764e-02  \n",
      "*   7800 |  3.3e+00 |   431.54  | 2.174e-02   |   3.763e-02  \n",
      "*   7900 |  3.3e+00 |   437.16  | 2.196e-02   |   3.801e-02  \n",
      "*   8000 |  3.3e+00 |   442.67  | 2.351e-02   |   4.069e-02  \n",
      "*   8100 |  3.3e+00 |   448.20  | 2.171e-02   |   3.757e-02  \n",
      "*   8200 |  3.3e+00 |   453.73  | 2.193e-02   |   3.796e-02  \n",
      "*   8300 |  3.3e+00 |   459.28  | 2.187e-02   |   3.786e-02  \n",
      "*   8400 |  3.3e+00 |   464.82  | 2.200e-02   |   3.808e-02  \n",
      "*   8500 |  3.3e+00 |   470.37  | 2.196e-02   |   3.801e-02  \n",
      "*   8600 |  3.3e+00 |   475.94  | 2.174e-02   |   3.762e-02  \n",
      "*   8700 |  3.3e+00 |   481.56  | 2.223e-02   |   3.847e-02  \n",
      "*   8800 |  3.3e+00 |   487.11  | 2.208e-02   |   3.821e-02  \n",
      "*   8900 |  3.3e+00 |   492.65  | 2.177e-02   |   3.768e-02  \n",
      "*   9000 |  3.3e+00 |   498.19  | 2.253e-02   |   3.900e-02  \n",
      "*   9100 |  3.3e+00 |   503.72  | 2.231e-02   |   3.862e-02  \n",
      "*   9200 |  3.3e+00 |   509.27  | 2.208e-02   |   3.822e-02  \n",
      "*   9300 |  3.3e+00 |   514.86  | 2.234e-02   |   3.867e-02  \n",
      "*   9400 |  3.3e+00 |   520.41  | 2.165e-02   |   3.748e-02  \n",
      "*   9500 |  3.3e+00 |   526.00  | 2.240e-02   |   3.877e-02  \n",
      "*   9600 |  3.3e+00 |   531.52  | 2.249e-02   |   3.892e-02  \n",
      "*   9700 |  3.3e+00 |   537.08  | 2.208e-02   |   3.821e-02  \n",
      "*   9800 |  3.3e+00 |   542.69  | 2.252e-02   |   3.898e-02  \n",
      "*   9900 |  3.3e+00 |   548.26  | 2.254e-02   |   3.901e-02  \n",
      "\n",
      "Algorithm stopped after 553.7627 seconds and 9999 iterations\n",
      "Smallest objective: 3.2747825735051492\n"
     ]
    }
   ],
   "source": [
    "ᾱ, ρ, every_critical, every_iter = GD_Algorithm(α, iters=10000, save_iter = True, critical = 100)\n",
    "print('Smallest objective:', every_iter['obj'][-1].item())"
   ]
  },
  {
   "cell_type": "code",
   "execution_count": 78,
   "id": "d2856a54",
   "metadata": {
    "deletable": false,
    "editable": false,
    "run_control": {
     "frozen": true
    },
    "scrolled": true
   },
   "outputs": [
    {
     "name": "stdout",
     "output_type": "stream",
     "text": [
      "     It  |    f(α)  |    Time   |  ‖df(α)‖_2  |   ‖df(α)‖_∞  \n",
      "––––––––––––––––––––––––––––––––––––––––––––––––––––––––––––––\n",
      "*      0 |  5.6e+02 |     0.07  | 1.250e+04   |   2.090e+04  \n",
      "*    100 |  5.6e+01 |     5.42  | 2.913e+02   |   4.905e+02  \n",
      "*    200 |  5.5e+01 |    10.68  | 2.875e+02   |   4.839e+02  \n",
      "*    300 |  5.4e+01 |    15.92  | 2.779e+02   |   4.744e+02  \n",
      "*    400 |  5.3e+01 |    21.20  | 2.725e+02   |   4.656e+02  \n",
      "*    500 |  5.2e+01 |    26.47  | 2.701e+02   |   4.574e+02  \n",
      "*    600 |  5.1e+01 |    31.76  | 2.626e+02   |   4.469e+02  \n",
      "*    700 |  5.0e+01 |    37.05  | 2.607e+02   |   4.411e+02  \n",
      "*    800 |  5.0e+01 |    42.27  | 2.535e+02   |   4.330e+02  \n",
      "*    900 |  4.9e+01 |    47.54  | 2.486e+02   |   4.254e+02  \n",
      "*   1000 |  4.8e+01 |    52.83  | 2.451e+02   |   4.181e+02  \n",
      "*   1100 |  4.7e+01 |    58.08  | 2.384e+02   |   4.093e+02  \n",
      "*   1200 |  4.6e+01 |    63.33  | 2.396e+02   |   4.018e+02  \n",
      "*   1300 |  4.6e+01 |    68.63  | 2.306e+02   |   3.955e+02  \n",
      "*   1400 |  4.5e+01 |    73.94  | 2.302e+02   |   3.906e+02  \n",
      "*   1500 |  4.4e+01 |    79.27  | 2.248e+02   |   3.840e+02  \n",
      "*   1600 |  4.4e+01 |    84.58  | 2.213e+02   |   3.777e+02  \n",
      "*   1700 |  4.3e+01 |    89.90  | 2.196e+02   |   3.717e+02  \n",
      "*   1800 |  4.2e+01 |    95.20  | 2.125e+02   |   3.640e+02  \n",
      "*   1900 |  4.2e+01 |   100.50  | 2.090e+02   |   3.594e+02  \n",
      "*   2000 |  4.1e+01 |   105.81  | 2.050e+02   |   3.526e+02  \n",
      "*   2100 |  4.0e+01 |   111.14  | 2.028e+02   |   3.482e+02  \n",
      "*   2200 |  4.0e+01 |   116.50  | 2.005e+02   |   3.413e+02  \n",
      "*   2300 |  3.9e+01 |   121.84  | 1.957e+02   |   3.362e+02  \n",
      "*   2400 |  3.9e+01 |   127.14  | 1.977e+02   |   3.327e+02  \n",
      "*   2500 |  3.8e+01 |   132.56  | 1.943e+02   |   3.275e+02  \n",
      "*   2600 |  3.7e+01 |   137.94  | 1.865e+02   |   3.210e+02  \n",
      "*   2700 |  3.7e+01 |   143.40  | 1.845e+02   |   3.160e+02  \n",
      "*   2800 |  3.6e+01 |   148.98  | 1.842e+02   |   3.109e+02  \n",
      "*   2900 |  3.6e+01 |   154.37  | 1.801e+02   |   3.078e+02  \n",
      "*   3000 |  3.5e+01 |   159.68  | 1.759e+02   |   3.021e+02  \n",
      "*   3100 |  3.5e+01 |   164.98  | 1.737e+02   |   2.986e+02  \n",
      "*   3200 |  3.4e+01 |   170.26  | 1.708e+02   |   2.932e+02  \n",
      "*   3300 |  3.4e+01 |   175.67  | 1.697e+02   |   2.901e+02  \n",
      "*   3400 |  3.3e+01 |   181.01  | 1.685e+02   |   2.843e+02  \n",
      "*   3500 |  3.3e+01 |   186.33  | 1.635e+02   |   2.805e+02  \n",
      "*   3600 |  3.3e+01 |   191.63  | 1.655e+02   |   2.780e+02  \n",
      "*   3700 |  3.2e+01 |   196.96  | 1.610e+02   |   2.738e+02  \n",
      "*   3800 |  3.2e+01 |   202.30  | 1.579e+02   |   2.698e+02  \n",
      "*   3900 |  3.1e+01 |   207.64  | 1.555e+02   |   2.659e+02  \n",
      "*   4000 |  3.1e+01 |   212.99  | 1.537e+02   |   2.622e+02  \n",
      "*   4100 |  3.0e+01 |   218.30  | 1.525e+02   |   2.587e+02  \n",
      "*   4200 |  3.0e+01 |   223.61  | 1.473e+02   |   2.540e+02  \n",
      "*   4300 |  3.0e+01 |   228.90  | 1.461e+02   |   2.502e+02  \n",
      "*   4400 |  2.9e+01 |   234.19  | 1.435e+02   |   2.476e+02  \n",
      "*   4500 |  2.9e+01 |   239.51  | 1.433e+02   |   2.445e+02  \n",
      "*   4600 |  2.9e+01 |   244.78  | 1.397e+02   |   2.401e+02  \n",
      "*   4700 |  2.8e+01 |   250.18  | 1.377e+02   |   2.375e+02  \n",
      "*   4800 |  2.8e+01 |   255.51  | 1.383e+02   |   2.347e+02  \n",
      "*   4900 |  2.7e+01 |   260.91  | 1.353e+02   |   2.302e+02  \n",
      "*   5000 |  2.7e+01 |   266.27  | 1.341e+02   |   2.283e+02  \n",
      "*   5100 |  2.7e+01 |   271.67  | 1.320e+02   |   2.239e+02  \n",
      "*   5200 |  2.6e+01 |   277.01  | 1.319e+02   |   2.224e+02  \n",
      "*   5300 |  2.6e+01 |   282.39  | 1.270e+02   |   2.189e+02  \n",
      "*   5400 |  2.6e+01 |   287.74  | 1.254e+02   |   2.153e+02  \n",
      "*   5500 |  2.5e+01 |   293.14  | 1.257e+02   |   2.135e+02  \n",
      "*   5600 |  2.5e+01 |   298.53  | 1.221e+02   |   2.103e+02  \n",
      "*   5700 |  2.5e+01 |   303.90  | 1.213e+02   |   2.067e+02  \n",
      "*   5800 |  2.5e+01 |   309.32  | 1.185e+02   |   2.042e+02  \n",
      "*   5900 |  2.4e+01 |   314.70  | 1.194e+02   |   2.025e+02  \n",
      "*   6000 |  2.4e+01 |   320.07  | 1.163e+02   |   1.996e+02  \n",
      "*   6100 |  2.4e+01 |   325.54  | 1.142e+02   |   1.969e+02  \n",
      "*   6200 |  2.3e+01 |   330.92  | 1.149e+02   |   1.933e+02  \n",
      "*   6300 |  2.3e+01 |   336.30  | 1.123e+02   |   1.910e+02  \n",
      "*   6400 |  2.3e+01 |   341.68  | 1.103e+02   |   1.886e+02  \n",
      "*   6500 |  2.3e+01 |   347.14  | 1.086e+02   |   1.862e+02  \n",
      "*   6600 |  2.2e+01 |   352.57  | 1.071e+02   |   1.838e+02  \n",
      "*   6700 |  2.2e+01 |   357.95  | 1.057e+02   |   1.815e+02  \n",
      "*   6800 |  2.2e+01 |   363.30  | 1.043e+02   |   1.791e+02  \n",
      "*   6900 |  2.2e+01 |   368.71  | 1.032e+02   |   1.768e+02  \n",
      "*   7000 |  2.1e+01 |   374.07  | 1.022e+02   |   1.745e+02  \n",
      "*   7100 |  2.1e+01 |   379.43  | 1.015e+02   |   1.722e+02  \n",
      "*   7200 |  2.1e+01 |   384.81  | 9.882e+01   |   1.708e+02  \n",
      "*   7300 |  2.1e+01 |   390.20  | 9.778e+01   |   1.686e+02  \n",
      "*   7400 |  2.0e+01 |   395.56  | 9.695e+01   |   1.666e+02  \n",
      "*   7500 |  2.0e+01 |   400.93  | 9.667e+01   |   1.647e+02  \n",
      "*   7600 |  2.0e+01 |   406.26  | 9.375e+01   |   1.619e+02  \n",
      "*   7700 |  2.0e+01 |   411.66  | 9.287e+01   |   1.598e+02  \n",
      "*   7800 |  1.9e+01 |   417.05  | 9.266e+01   |   1.576e+02  \n",
      "*   7900 |  1.9e+01 |   422.41  | 9.055e+01   |   1.563e+02  \n",
      "*   8000 |  1.9e+01 |   427.82  | 9.008e+01   |   1.545e+02  \n",
      "*   8100 |  1.9e+01 |   433.19  | 8.800e+01   |   1.521e+02  \n",
      "*   8200 |  1.9e+01 |   438.59  | 8.721e+01   |   1.501e+02  \n",
      "*   8300 |  1.8e+01 |   443.97  | 8.733e+01   |   1.480e+02  \n",
      "*   8400 |  1.8e+01 |   449.30  | 8.527e+01   |   1.469e+02  \n",
      "*   8500 |  1.8e+01 |   454.70  | 8.565e+01   |   1.453e+02  \n",
      "*   8600 |  1.8e+01 |   460.09  | 8.292e+01   |   1.428e+02  \n",
      "*   8700 |  1.8e+01 |   465.47  | 8.328e+01   |   1.408e+02  \n",
      "*   8800 |  1.7e+01 |   470.81  | 8.127e+01   |   1.398e+02  \n",
      "*   8900 |  1.7e+01 |   476.18  | 7.966e+01   |   1.377e+02  \n",
      "*   9000 |  1.7e+01 |   481.55  | 7.914e+01   |   1.359e+02  \n",
      "*   9100 |  1.7e+01 |   486.99  | 7.794e+01   |   1.347e+02  \n",
      "*   9200 |  1.7e+01 |   492.40  | 7.794e+01   |   1.332e+02  \n",
      "*   9300 |  1.6e+01 |   497.78  | 7.595e+01   |   1.311e+02  \n",
      "*   9400 |  1.6e+01 |   503.13  | 7.625e+01   |   1.292e+02  \n",
      "*   9500 |  1.6e+01 |   508.53  | 7.455e+01   |   1.283e+02  \n",
      "*   9600 |  1.6e+01 |   513.95  | 7.311e+01   |   1.264e+02  \n",
      "*   9700 |  1.6e+01 |   519.32  | 7.280e+01   |   1.247e+02  \n",
      "*   9800 |  1.6e+01 |   524.69  | 7.161e+01   |   1.236e+02  \n",
      "*   9900 |  1.5e+01 |   530.37  | 7.206e+01   |   1.224e+02  \n",
      "\n",
      "Algorithm stopped after 535.7368 seconds and 9999 iterations\n"
     ]
    }
   ],
   "source": [
    "ᾱ, ρ, every_critical, every_iter = GD_Algorithm(array([1.6, 0.5, 2.]), iters=10000, save_iter = True, critical = 100)"
   ]
  },
  {
   "cell_type": "code",
   "execution_count": 61,
   "id": "1cb7ec8b",
   "metadata": {},
   "outputs": [
    {
     "name": "stdout",
     "output_type": "stream",
     "text": [
      "Smallest objective: 3.2747825735051492\n"
     ]
    }
   ],
   "source": [
    "print('Smallest objective:', every_iter['obj'][-1].item())"
   ]
  },
  {
   "cell_type": "code",
   "execution_count": 62,
   "id": "ddc2724a",
   "metadata": {},
   "outputs": [
    {
     "name": "stdout",
     "output_type": "stream",
     "text": [
      "[-1.14005873 -1.34982725 -0.82198144  0.84908996]    0.635290147312317\n"
     ]
    }
   ],
   "source": [
    "print(1 - (simpson((ρ-ρ̂)**2, x=Tₑ) * dw), '  ', r2_score(ρ̂,ρ, sample_weight=dw))"
   ]
  },
  {
   "cell_type": "code",
   "execution_count": 65,
   "id": "5a95fb53",
   "metadata": {},
   "outputs": [
    {
     "data": {
      "text/plain": [
       "(1.7841543693985673,\n",
       " array([5.76683298e-02, 1.72690891e-02, 1.18453483e-02, 1.12215315e-08]))"
      ]
     },
     "execution_count": 65,
     "metadata": {},
     "output_type": "execute_result"
    }
   ],
   "source": [
    "simpson((ρ-ρ̂)**2, x=Tₑ).sum(),  ϑᵀᵉʳ * ((ρ[:,-1] - ρ̂ᶠ)**2) "
   ]
  },
  {
   "cell_type": "code",
   "execution_count": 66,
   "id": "3d0c21c9",
   "metadata": {},
   "outputs": [
    {
     "data": {
      "text/plain": [
       "array([-7.59396667e-01, -4.15560935e-01, -3.44170718e-01,  3.34985545e-04])"
      ]
     },
     "execution_count": 66,
     "metadata": {},
     "output_type": "execute_result"
    }
   ],
   "source": [
    "((ρ[:,-1] - ρ̂ᶠ))"
   ]
  },
  {
   "cell_type": "markdown",
   "id": "ed8b95fa",
   "metadata": {},
   "source": [
    "---"
   ]
  },
  {
   "cell_type": "code",
   "execution_count": 67,
   "id": "1c3f37e8",
   "metadata": {},
   "outputs": [],
   "source": [
    "#CMap = get_cmap('Wistia')\n",
    "CMap = colormaps['YlOrBr']\n",
    "colours_nmAPG = CMap(150)"
   ]
  },
  {
   "cell_type": "code",
   "execution_count": 68,
   "id": "ac607e56",
   "metadata": {
    "code_folding": [
     0
    ]
   },
   "outputs": [
    {
     "data": {
      "image/png": "[encoded data removed]",
      "text/plain": [
       "<Figure size 2000x350 with 2 Axes>"
      ]
     },
     "metadata": {},
     "output_type": "display_data"
    }
   ],
   "source": [
    "# Visualise evolution of objective values\n",
    "plt.figure(figsize = (20,3.5))\n",
    "\n",
    "plt.subplot(1, 2, 1)\n",
    "#plt.plot(every_iter['obj'] - min(every_iter['obj']), c = colours_nmAPG)\n",
    "plt.plot(every_iter['obj'] , c = colours_nmAPG)\n",
    "plt.yscale('log');    \n",
    "plt.title('Objective values per iteration')\n",
    "plt.xlabel('Iteration count');    plt.ylabel('Objective cost (log scale)')\n",
    "plt.subplot(1, 2, 2)\n",
    "plt.plot(every_iter['time'],every_iter['obj'] , c = colours_nmAPG)\n",
    "#plt.plot(every_iter['time'],every_iter['obj'] - min(every_iter['obj']), c = colours_nmAPG)\n",
    "plt.yscale('log')\n",
    "plt.title('Objective values per iteration')\n",
    "plt.xlabel('Time');    plt.ylabel('Objective cost (log scale)')\n",
    "\n",
    "#plt.savefig(out_folder+'Objective.pdf', bbox_inches='tight',transparent=True)\n",
    "plt.show()"
   ]
  },
  {
   "cell_type": "code",
   "execution_count": 69,
   "id": "d3257f93",
   "metadata": {
    "code_folding": [
     0
    ]
   },
   "outputs": [
    {
     "data": {
      "image/png": "[encoded data removed]",
      "text/plain": [
       "<Figure size 1600x350 with 4 Axes>"
      ]
     },
     "metadata": {},
     "output_type": "display_data"
    }
   ],
   "source": [
    "# Plot state \n",
    "fig, ax = plt.subplots(1, 4, figsize=(16, 3.5))\n",
    "\n",
    "# Add state\n",
    "ax[0].plot(Tₑ*7, ρ[0]/n, '-', c=colours_nmAPG, linewidth=2)\n",
    "ax[1].plot(Tₑ*7, ρ[1]/n, '-', c=colours_nmAPG, linewidth=2)\n",
    "ax[2].plot(Tₑ*7, ρ[2]/n, '-', c=colours_nmAPG, linewidth=2)\n",
    "ax[3].plot(Tₑ*7, ρ[3]/n, '-', c=colours_nmAPG, linewidth=2)\n",
    "    \n",
    "# Add target\n",
    "ax[0].plot(Tₑ*7, ρ̂[0]/n, ':', c='black', linewidth=3)\n",
    "ax[1].plot(Tₑ*7, ρ̂[1]/n, ':', c='black', linewidth=3)\n",
    "ax[2].plot(Tₑ*7, ρ̂[2]/n, ':', c='black', linewidth=3)\n",
    "ax[3].plot(Tₑ*7, ρ̂[3]/n, ':', c='black', linewidth=3)\n",
    "\n",
    "ax[0].set_xlabel(r'Time $t$');    ax[0].set_title(r'Susceptible')\n",
    "ax[1].set_xlabel(r'Time $t$');    ax[1].set_title(r'Infected')\n",
    "ax[2].set_xlabel(r'Time $t$');    ax[2].set_title(r'Recovered')\n",
    "ax[3].set_xlabel(r'Time $t$');    ax[3].set_title(r'Fatalities')\n",
    "\n",
    "ax[0].set_ylabel('Population %')\n",
    "\n",
    "#ax[0].set_yscale('log');    ax[1].set_yscale('log');    ax[2].set_yscale('log')\n",
    "\n",
    "#plt.legend(bbox_to_anchor=(1.54, 1), loc=\"upper right\", shadow=True, ncol=2, title='θ')\n",
    "fig.tight_layout()\n",
    "#plt.savefig('Outputs/Regularisation – States – FISTA.pdf', bbox_inches='tight', pad_inches=0)"
   ]
  },
  {
   "cell_type": "code",
   "execution_count": 70,
   "id": "ff5f6a5b",
   "metadata": {},
   "outputs": [],
   "source": [
    "obj_eval(ᾱ);"
   ]
  },
  {
   "cell_type": "code",
   "execution_count": 71,
   "id": "cb3e4955",
   "metadata": {},
   "outputs": [
    {
     "data": {
      "text/plain": [
       "array([-4.00892322e-05, -1.46315207e-03,  3.92788160e-02])"
      ]
     },
     "execution_count": 71,
     "metadata": {},
     "output_type": "execute_result"
    }
   ],
   "source": [
    "df"
   ]
  },
  {
   "cell_type": "code",
   "execution_count": 72,
   "id": "b2eea9f5",
   "metadata": {
    "code_folding": [
     0
    ]
   },
   "outputs": [
    {
     "data": {
      "image/png": "[encoded data removed]",
      "text/plain": [
       "<Figure size 1600x350 with 3 Axes>"
      ]
     },
     "metadata": {},
     "output_type": "display_data"
    }
   ],
   "source": [
    "# Plot adjoint\n",
    "fig, ax = plt.subplots(1, 3, figsize=(16, 3.5))\n",
    "\n",
    "# Add state\n",
    "ax[0].plot(Tₑ*7, q[0], '-', c=colours_nmAPG, linewidth=2)\n",
    "ax[1].plot(Tₑ*7, q[1], '-', c=colours_nmAPG, linewidth=2)\n",
    "ax[2].plot(Tₑ*7, q[2], '-', c=colours_nmAPG, linewidth=2)\n",
    "    \n",
    "\n",
    "ax[0].set_xlabel(r'Time $t$');    ax[0].set_title(r'Susceptible')\n",
    "ax[1].set_xlabel(r'Time $t$');    ax[1].set_title(r'Infected')\n",
    "ax[2].set_xlabel(r'Time $t$');    ax[2].set_title(r'Recovered')\n",
    "\n",
    "\n",
    "\n",
    "#ax[0].set_yscale('log');    ax[1].set_yscale('log');    ax[2].set_yscale('log')\n",
    "\n",
    "#plt.legend(bbox_to_anchor=(1.54, 1), loc=\"upper right\", shadow=True, ncol=2, title='θ')\n",
    "fig.tight_layout()\n",
    "#plt.savefig('Outputs/Regularisation – States – FISTA.pdf', bbox_inches='tight', pad_inches=0)"
   ]
  },
  {
   "cell_type": "code",
   "execution_count": 73,
   "id": "9b60d969",
   "metadata": {
    "code_folding": [
     0
    ]
   },
   "outputs": [
    {
     "data": {
      "image/png": "[encoded data removed]",
      "text/plain": [
       "<Figure size 1600x500 with 3 Axes>"
      ]
     },
     "metadata": {},
     "output_type": "display_data"
    }
   ],
   "source": [
    "# Plot state \n",
    "fig, ax = plt.subplots(1, 3, figsize=(16, 5))\n",
    "colors = ['xkcd:red','xkcd:orange','xkcd:teal','xkcd:gray']\n",
    "\n",
    "# Add state\n",
    "ax[0].plot(Tₑ*7, ρ[0].T * ppl_scales / SIRD_data[0].sum(), '-', linewidth=2)\n",
    "ax[0].plot(Tₑ*7, ρ[1:].T* ppl_scales / SIRD_data[0].sum(), '-', linewidth=2)\n",
    "for i, line in enumerate(ax[0].get_lines()):    line.set_color(colors[i])\n",
    "ax[0].legend(['$1-ρ_{\\,\\mathsf{S}}$', '$ρ_{\\,\\mathsf{I}}$', '$ρ_{\\,\\mathsf{R}}$', '$ρ_{\\,\\mathsf{D}}$'], shadow=True, loc='upper left')\n",
    "\n",
    "ax[0].plot(Tₑ*7, ρ̂[0].T * ppl_scales/SIRD_data[0].sum(), ':', c='black', linewidth=2)\n",
    "ax[0].plot(Tₑ*7, ρ̂[1:].T* ppl_scales/SIRD_data[0].sum(), ':', c='black', linewidth=2)\n",
    "\n",
    "ax[1].plot(Tₑ*7, ᾱ[0]*aᵦ/(time_scale*ppl_scales) * ones(Tₑ.size), '-', c='xkcd:red', linewidth=2)   #scale to original units\n",
    "ax[1].plot(Tₑ*7, ᾱ[1]*aᵧ/time_scale * ones(Tₑ.size), '-', c='xkcd:orange', linewidth=2)\n",
    "ax[1].plot(Tₑ*7, ᾱ[2]*aₘ/time_scale * ones(Tₑ.size), '-', c='xkcd:teal', linewidth=2)\n",
    "ax[1].legend(['$β$', '$γ$', '$m$'], shadow=True, loc='upper left')\n",
    "\n",
    "ax[2].plot(Tₑ*7, df[0]  * ones(Tₑ.size), '-', c='xkcd:red', linewidth=2)\n",
    "ax[2].plot(Tₑ*7, df[1] * ones(Tₑ.size), '-', c='xkcd:orange', linewidth=2)\n",
    "ax[2].plot(Tₑ*7, df[2] * ones(Tₑ.size), '-', c='xkcd:teal', linewidth=2)\n",
    "ax[2].legend(['$\\partial_β j$', '$\\partial_γ j$', '$\\partial_m j$'], shadow=True, loc='upper left')\n",
    "\n",
    "\n",
    "ax[0].set_xlabel(r'Time $t$ (days)');    ax[0].set_title(r'$\\rho$')\n",
    "ax[1].set_xlabel(r'Time $t$ (days)');    ax[1].set_title(r'$\\alpha$')\n",
    "ax[2].set_xlabel(r'Time $t$ (days)');    ax[2].set_title(r'$\\nabla j$')\n",
    "\n",
    "ax[0].set_ylabel('Population %')\n",
    "ax[1].set_ylabel('Population rates')\n",
    "ax[2].set_ylabel('Values')\n",
    "\n",
    "ax[0].set_yscale('log')#, linthresh=1e-2)\n",
    "ax[1].set_yscale('log')\n",
    "#ax[1].set_ylim([1e-8, 30*ᾱ.data[2].max()])\n",
    "\n",
    "#ax[0].set_yscale('log');    ax[1].set_yscale('log');    \n",
    "ax[2].set_yscale('symlog', linthresh=1e-5)\n",
    "\n",
    "#plt.legend(bbox_to_anchor=(1.54, 1), loc=\"upper right\", shadow=True, ncol=2, title='θ')\n",
    "fig.tight_layout()\n",
    "#plt.savefig('Outputs/DD – Panels – RPQN - H.pdf', bbox_inches='tight', pad_inches=0)"
   ]
  },
  {
   "cell_type": "code",
   "execution_count": 74,
   "id": "aab23e19",
   "metadata": {},
   "outputs": [
    {
     "data": {
      "text/plain": [
       "2.319432980967855e-07"
      ]
     },
     "execution_count": 74,
     "metadata": {},
     "output_type": "execute_result"
    }
   ],
   "source": [
    "(aᵧ * ᾱ[1] + aₘ * ᾱ[2]).max() /(time_scale * ppl_scales)"
   ]
  },
  {
   "cell_type": "markdown",
   "id": "8fd19f7b",
   "metadata": {},
   "source": [
    "---"
   ]
  },
  {
   "cell_type": "markdown",
   "id": "1cf8ae7f",
   "metadata": {},
   "source": [
    "### Store"
   ]
  },
  {
   "cell_type": "code",
   "execution_count": 75,
   "id": "cee37114",
   "metadata": {},
   "outputs": [
    {
     "data": {
      "text/html": [
       "<div>\n",
       "<style scoped>\n",
       "    .dataframe tbody tr th:only-of-type {\n",
       "        vertical-align: middle;\n",
       "    }\n",
       "\n",
       "    .dataframe tbody tr th {\n",
       "        vertical-align: top;\n",
       "    }\n",
       "\n",
       "    .dataframe thead th {\n",
       "        text-align: right;\n",
       "    }\n",
       "</style>\n",
       "<table border=\"1\" class=\"dataframe\">\n",
       "  <thead>\n",
       "    <tr style=\"text-align: right;\">\n",
       "      <th></th>\n",
       "      <th>it</th>\n",
       "      <th>obj</th>\n",
       "      <th>time</th>\n",
       "      <th>β</th>\n",
       "      <th>γ</th>\n",
       "      <th>m</th>\n",
       "      <th>df_β</th>\n",
       "      <th>df_γ</th>\n",
       "      <th>df_m</th>\n",
       "      <th>norms-ℓ_1</th>\n",
       "      <th>norms-ℓ_2</th>\n",
       "      <th>norms-max</th>\n",
       "      <th>norms-min</th>\n",
       "    </tr>\n",
       "  </thead>\n",
       "  <tbody>\n",
       "    <tr>\n",
       "      <th>9995</th>\n",
       "      <td>9994</td>\n",
       "      <td>3.274797</td>\n",
       "      <td>553.545615</td>\n",
       "      <td>0.082469</td>\n",
       "      <td>0.025007</td>\n",
       "      <td>1.218813</td>\n",
       "      <td>-0.00004</td>\n",
       "      <td>0.004631</td>\n",
       "      <td>-0.122681</td>\n",
       "      <td>0.042451</td>\n",
       "      <td>0.070880</td>\n",
       "      <td>0.122681</td>\n",
       "      <td>0.00004</td>\n",
       "    </tr>\n",
       "    <tr>\n",
       "      <th>9996</th>\n",
       "      <td>9995</td>\n",
       "      <td>3.274794</td>\n",
       "      <td>553.598149</td>\n",
       "      <td>0.082469</td>\n",
       "      <td>0.024960</td>\n",
       "      <td>1.220039</td>\n",
       "      <td>-0.00004</td>\n",
       "      <td>-0.001461</td>\n",
       "      <td>0.039499</td>\n",
       "      <td>0.013667</td>\n",
       "      <td>0.022821</td>\n",
       "      <td>0.039499</td>\n",
       "      <td>0.00004</td>\n",
       "    </tr>\n",
       "    <tr>\n",
       "      <th>9997</th>\n",
       "      <td>9996</td>\n",
       "      <td>3.274790</td>\n",
       "      <td>553.653856</td>\n",
       "      <td>0.082470</td>\n",
       "      <td>0.025005</td>\n",
       "      <td>1.218819</td>\n",
       "      <td>-0.00004</td>\n",
       "      <td>0.004566</td>\n",
       "      <td>-0.120945</td>\n",
       "      <td>0.041850</td>\n",
       "      <td>0.069877</td>\n",
       "      <td>0.120945</td>\n",
       "      <td>0.00004</td>\n",
       "    </tr>\n",
       "    <tr>\n",
       "      <th>9998</th>\n",
       "      <td>9997</td>\n",
       "      <td>3.274787</td>\n",
       "      <td>553.708785</td>\n",
       "      <td>0.082471</td>\n",
       "      <td>0.024960</td>\n",
       "      <td>1.220029</td>\n",
       "      <td>-0.00004</td>\n",
       "      <td>-0.001446</td>\n",
       "      <td>0.038898</td>\n",
       "      <td>0.013461</td>\n",
       "      <td>0.022473</td>\n",
       "      <td>0.038898</td>\n",
       "      <td>0.00004</td>\n",
       "    </tr>\n",
       "    <tr>\n",
       "      <th>9999</th>\n",
       "      <td>9998</td>\n",
       "      <td>3.274783</td>\n",
       "      <td>553.762660</td>\n",
       "      <td>0.082472</td>\n",
       "      <td>0.025005</td>\n",
       "      <td>1.218809</td>\n",
       "      <td>-0.00004</td>\n",
       "      <td>0.004601</td>\n",
       "      <td>-0.121753</td>\n",
       "      <td>0.042131</td>\n",
       "      <td>0.070344</td>\n",
       "      <td>0.121753</td>\n",
       "      <td>0.00004</td>\n",
       "    </tr>\n",
       "  </tbody>\n",
       "</table>\n",
       "</div>"
      ],
      "text/plain": [
       "        it       obj        time         β         γ         m     df_β  \\\n",
       "9995  9994  3.274797  553.545615  0.082469  0.025007  1.218813 -0.00004   \n",
       "9996  9995  3.274794  553.598149  0.082469  0.024960  1.220039 -0.00004   \n",
       "9997  9996  3.274790  553.653856  0.082470  0.025005  1.218819 -0.00004   \n",
       "9998  9997  3.274787  553.708785  0.082471  0.024960  1.220029 -0.00004   \n",
       "9999  9998  3.274783  553.762660  0.082472  0.025005  1.218809 -0.00004   \n",
       "\n",
       "          df_γ      df_m  norms-ℓ_1  norms-ℓ_2  norms-max  norms-min  \n",
       "9995  0.004631 -0.122681   0.042451   0.070880   0.122681    0.00004  \n",
       "9996 -0.001461  0.039499   0.013667   0.022821   0.039499    0.00004  \n",
       "9997  0.004566 -0.120945   0.041850   0.069877   0.120945    0.00004  \n",
       "9998 -0.001446  0.038898   0.013461   0.022473   0.038898    0.00004  \n",
       "9999  0.004601 -0.121753   0.042131   0.070344   0.121753    0.00004  "
      ]
     },
     "metadata": {},
     "output_type": "display_data"
    }
   ],
   "source": [
    "every_iter['obj'] = asarray(every_iter['obj'])\n",
    "#df_every = pd.DataFrame.from_dict(every_iter)\n",
    "df_every = pd.concat([\n",
    "                pd.DataFrame.from_dict( {a:b for a,b in every_iter.items() if a not in ['norms'] } ),\n",
    "                pd.DataFrame.from_dict( {'norms-'+a:b for a,b in every_iter['norms'].items()} )\n",
    "            ], axis = 1)\n",
    "display(df_every.tail())\n",
    "#\n",
    "df_every.to_pickle('Outputs/DD – PGD - Every - NH - BD - SIRD.pkl') # To read back use pd.read_pickle(file_name)"
   ]
  },
  {
   "cell_type": "code",
   "execution_count": 76,
   "id": "1f02a9cc",
   "metadata": {},
   "outputs": [
    {
     "data": {
      "text/html": [
       "<div>\n",
       "<style scoped>\n",
       "    .dataframe tbody tr th:only-of-type {\n",
       "        vertical-align: middle;\n",
       "    }\n",
       "\n",
       "    .dataframe tbody tr th {\n",
       "        vertical-align: top;\n",
       "    }\n",
       "\n",
       "    .dataframe thead th {\n",
       "        text-align: right;\n",
       "    }\n",
       "</style>\n",
       "<table border=\"1\" class=\"dataframe\">\n",
       "  <thead>\n",
       "    <tr style=\"text-align: right;\">\n",
       "      <th></th>\n",
       "      <th>it</th>\n",
       "      <th>obj</th>\n",
       "      <th>time</th>\n",
       "      <th>β</th>\n",
       "      <th>γ</th>\n",
       "      <th>m</th>\n",
       "      <th>df_β</th>\n",
       "      <th>df_γ</th>\n",
       "      <th>df_m</th>\n",
       "      <th>norms-ℓ_1</th>\n",
       "      <th>norms-ℓ_2</th>\n",
       "      <th>norms-max</th>\n",
       "      <th>norms-min</th>\n",
       "    </tr>\n",
       "  </thead>\n",
       "  <tbody>\n",
       "    <tr>\n",
       "      <th>[1e-09, 1e-09, 1e-09]</th>\n",
       "      <td>9998</td>\n",
       "      <td>3.274783</td>\n",
       "      <td>553.76266</td>\n",
       "      <td>0.082472</td>\n",
       "      <td>0.025005</td>\n",
       "      <td>1.218809</td>\n",
       "      <td>-0.00004</td>\n",
       "      <td>0.004601</td>\n",
       "      <td>-0.121753</td>\n",
       "      <td>0.042131</td>\n",
       "      <td>0.070344</td>\n",
       "      <td>0.121753</td>\n",
       "      <td>0.00004</td>\n",
       "    </tr>\n",
       "  </tbody>\n",
       "</table>\n",
       "</div>"
      ],
      "text/plain": [
       "                         it       obj       time         β         γ  \\\n",
       "[1e-09, 1e-09, 1e-09]  9998  3.274783  553.76266  0.082472  0.025005   \n",
       "\n",
       "                              m     df_β      df_γ      df_m  norms-ℓ_1  \\\n",
       "[1e-09, 1e-09, 1e-09]  1.218809 -0.00004  0.004601 -0.121753   0.042131   \n",
       "\n",
       "                       norms-ℓ_2  norms-max  norms-min  \n",
       "[1e-09, 1e-09, 1e-09]   0.070344   0.121753    0.00004  "
      ]
     },
     "execution_count": 76,
     "metadata": {},
     "output_type": "execute_result"
    }
   ],
   "source": [
    "# Store info from iterate with smallest objective\n",
    "ArgMin_nmAPG = df_every.idxmin()['obj']\n",
    "#Out_θ = \n",
    "df_every.loc[[ArgMin_nmAPG]].rename(index={ArgMin_nmAPG:θ}).copy()"
   ]
  },
  {
   "cell_type": "code",
   "execution_count": 77,
   "id": "58a035a7",
   "metadata": {},
   "outputs": [
    {
     "name": "stdout",
     "output_type": "stream",
     "text": [
      "\\begin{tabular}{lrrrrrrrrrrrrr}\n",
      "\\toprule\n",
      " & it & obj & time & β & γ & m & df_β & df_γ & df_m & norms-ℓ_1 & norms-ℓ_2 & norms-max & norms-min \\\\\n",
      "\\midrule\n",
      "9999 & 9998 & 3.274783 & 553.762660 & 0.082472 & 0.025005 & 1.218809 & -0.000040 & 0.004601 & -0.121753 & 0.042131 & 0.070344 & 0.121753 & 0.000040 \\\\\n",
      "\\bottomrule\n",
      "\\end{tabular}\n",
      "\n"
     ]
    }
   ],
   "source": [
    "print(df_every.loc[[ArgMin_nmAPG]].to_latex())"
   ]
  },
  {
   "cell_type": "markdown",
   "id": "6b51292b",
   "metadata": {},
   "source": [
    "---"
   ]
  },
  {
   "cell_type": "code",
   "execution_count": 62,
   "id": "76c1ad94",
   "metadata": {},
   "outputs": [],
   "source": [
    "#np.savez_compressed('Outputs/DD – RPQN – Best - H', best = best)"
   ]
  },
  {
   "cell_type": "code",
   "execution_count": 63,
   "id": "33147ba7",
   "metadata": {},
   "outputs": [],
   "source": [
    "#np.load('Outputs/DD – nmAPG – Best.npz', allow_pickle=True)['best']"
   ]
  },
  {
   "cell_type": "markdown",
   "id": "d806a51e",
   "metadata": {},
   "source": [
    "---"
   ]
  }
 ],
 "metadata": {
  "kernelspec": {
   "display_name": "A - Python 3",
   "language": "python",
   "name": "python3"
  },
  "language_info": {
   "codemirror_mode": {
    "name": "ipython",
    "version": 3
   },
   "file_extension": ".py",
   "mimetype": "text/x-python",
   "name": "python",
   "nbconvert_exporter": "python",
   "pygments_lexer": "ipython3",
   "version": "3.10.14"
  },
  "nbTranslate": {
   "displayLangs": [
    "*"
   ],
   "hotkey": "alt-t",
   "langInMainMenu": true,
   "sourceLang": "en",
   "targetLang": "fr",
   "useGoogleTranslate": true
  }
 },
 "nbformat": 4,
 "nbformat_minor": 5
}
