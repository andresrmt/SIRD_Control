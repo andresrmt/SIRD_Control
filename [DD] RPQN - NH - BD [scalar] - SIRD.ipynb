{
 "cells": [
  {
   "cell_type": "code",
   "execution_count": 1,
   "id": "ebc070c8",
   "metadata": {
    "code_folding": [
     0
    ],
    "deletable": false,
    "editable": false,
    "run_control": {
     "frozen": true
    }
   },
   "outputs": [
    {
     "data": {
      "text/html": [
       "<style>.container { width:90% !important; }</style>"
      ],
      "text/plain": [
       "<IPython.core.display.HTML object>"
      ]
     },
     "metadata": {},
     "output_type": "display_data"
    },
    {
     "data": {
      "text/html": [
       "<style>.output_result { width:90% !important; }</style>"
      ],
      "text/plain": [
       "<IPython.core.display.HTML object>"
      ]
     },
     "metadata": {},
     "output_type": "display_data"
    },
    {
     "data": {
      "text/html": [
       " <style>\n",
       ".output_png {\n",
       "    display: table-cell;\n",
       "    text-align: center;\n",
       "    vertical-align: middle;\n",
       "}\n",
       "</style> "
      ],
      "text/plain": [
       "<IPython.core.display.HTML object>"
      ]
     },
     "metadata": {},
     "output_type": "display_data"
    }
   ],
   "source": [
    "# Window\n",
    "from IPython.display import display, HTML\n",
    "display(HTML(\"<style>.container { width:90% !important; }</style>\"))\n",
    "display(HTML(\"<style>.output_result { width:90% !important; }</style>\"))\n",
    "display(HTML(\"\"\" <style>\n",
    ".output_png {\n",
    "    display: table-cell;\n",
    "    text-align: center;\n",
    "    vertical-align: middle;\n",
    "}\n",
    "</style> \"\"\"))"
   ]
  },
  {
   "cell_type": "markdown",
   "id": "d5db955c",
   "metadata": {},
   "source": [
    "<div class=\"alert alert-block alert-danger\">\n",
    "These notebooks are better visualized using codefolding from Jupyter\n",
    "    <a href=\\\"https://jupyter-contrib-nbextensions.readthedocs.io/en/latest/\\\">extensions</a>.\n",
    "</div>"
   ]
  },
  {
   "cell_type": "markdown",
   "id": "bcf8b56e",
   "metadata": {},
   "source": [
    "# SIRD parameter learning using RPQN with Tikhonov regularisation"
   ]
  },
  {
   "cell_type": "markdown",
   "id": "6311b244",
   "metadata": {},
   "source": [
    "$\\newcommand{\\R}{\\,\\mathbb{R}} \\newcommand{\\dif}{\\mathrm{d}} \\newcommand{\\diag}{\\mathrm{diag}} \\newcommand{\\vec}{\\mathrm{vec}}  \\newcommand{\\circulant}{\\mathrm{circ}} \\newcommand{\\mat}{\\mathrm{mat}} \\newcommand{\\ifft}{\\hat{\\mathcal{F}}} \\newcommand{\\fft}{\\mathcal{F}}$\n",
    "<div class=\"alert alert-block alert-success\">\n",
    "This notebook aims to solve the minimisation problem\n",
    "\\begin{align}\n",
    "    \\min_{\\alpha \\in [L^2(0,1)]^3} f(\\alpha) = \\frac{1}{2} \\| \\rho - \\widehat{\\rho} \\|_2^2 + \\frac{\\theta}{2} \\|\\alpha\\|_2^2 + \\frac{\\vartheta}{2} \\| \\rho(T) - \\widehat{\\rho}(T) \\|^2_{\\R^3},\n",
    "\\end{align}\n",
    "where $\\rho = (\\begin{smallmatrix} \\sigma & I & R & D \\end{smallmatrix})$ comes from the solution of a change of variables applied to the Susceptibles, Infected, Recovered, and Deceased (SIRD) model, and $\\widehat{\\rho}$ is a target and known state. The regularisation parameters $\\theta$ and $\\vartheta$ are non negative. We will study the effect of this parameter on the choice of the control pair $\\alpha$.\n",
    "    \n",
    "For each pair of parameters $\\alpha = (\\beta, \\gamma, m) \\in [0,1]^3$ corresponding to the transmission and the recovery rates, the four variables $S(t)$, $I(t)$, $R(t)$, and $D(t)$ are governed by the following differential equations\n",
    "    \n",
    "\\begin{align}\n",
    "    \\tag{$\\star$}\n",
    "\\begin{aligned}\n",
    "    \\frac{\\dif \\sigma}{\\dif t} &= a_1\\beta (\\mathsf{n} - \\sigma) I,\n",
    "    \\\\\n",
    "    \\frac{\\dif I}{\\dif t} &= a_1\\beta (\\mathsf{n} - \\sigma) I - (a_2\\gamma + a_3 m) I,\n",
    "    \\\\\n",
    "    \\frac{\\dif R}{\\dif t} &= a_2\\gamma I,\n",
    "    \\\\\n",
    "    \\frac{\\dif D}{\\dif t} &= a_3 m I.\n",
    "\\end{aligned}\n",
    "\\end{align}\n",
    "We note that $ \\mathsf{n} $ is the total population at the start of the study.\n",
    "    \n",
    "</div>"
   ]
  },
  {
   "cell_type": "code",
   "execution_count": 1,
   "id": "f06624db",
   "metadata": {
    "code_folding": [
     0
    ]
   },
   "outputs": [],
   "source": [
    "# Packages\n",
    "import time\n",
    "import numpy  as np\n",
    "import pandas as pd\n",
    "import gurobipy as GRB\n",
    "import matplotlib.pyplot as plt\n",
    "plt.style.use('ggplot')"
   ]
  },
  {
   "cell_type": "code",
   "execution_count": 2,
   "id": "97525ebb",
   "metadata": {},
   "outputs": [],
   "source": [
    "from scipy.integrate import solve_ivp"
   ]
  },
  {
   "cell_type": "code",
   "execution_count": 3,
   "id": "3a4ecde6",
   "metadata": {
    "code_folding": [
     0
    ]
   },
   "outputs": [],
   "source": [
    "# Single function imports\n",
    "from numpy           import array, asarray, sin, cos, zeros, linspace, argmin, meshgrid, unravel_index\n",
    "from numpy           import concatenate, minimum, maximum, exp, ones, eye, empty, append, diagflat, tril, triu\n",
    "from numpy.random    import default_rng as rng\n",
    "from scipy.linalg    import norm, eigvals, inv\n",
    "from scipy.integrate import simpson, trapezoid\n",
    "from scipy.optimize  import minimize, Bounds\n",
    "from scipy.interpolate import CubicHermiteSpline, interp1d\n",
    "from scipy.sparse.linalg import LinearOperator\n",
    "from scipy.sparse    import eye as speye\n",
    "from scipy.sparse    import bmat\n",
    "from numpy.polynomial.chebyshev import chebpts1\n",
    "from matplotlib import colormaps"
   ]
  },
  {
   "cell_type": "markdown",
   "id": "82165e2b",
   "metadata": {},
   "source": [
    "# Model scaling"
   ]
  },
  {
   "cell_type": "markdown",
   "id": "4619f826",
   "metadata": {},
   "source": [
    "We scale the baseline original ODE system for the SIRD model. Assuming $\\overline{\\rho}(\\tau)$ satisfies the original SIRD ODE system above with parameters $\\overline\\alpha = (\\overline\\beta, \\overline\\gamma, \\overline{m})$ and initial condition $\\overline{\\rho}_0$, then $(\\star)$ above is related with $\\overline{\\rho}$ via the relationships\n",
    "\n",
    "* Population scaling: $\\overline{\\rho} = s_1 \\rho$, where $ \\rho_{\\mathsf{S}} = \\mathsf{n} - \\sigma $,\n",
    "\n",
    "* Time scaling: $\\tau = s_2 t$,\n",
    "\n",
    "* Parameter scalings: $\\overline{\\alpha} = \\left( \\frac{a_1}{s_1 s_2} \\beta, \\frac{a_2}{s_2} \\gamma, \\frac{a_3}{s_2} m \\right)$."
   ]
  },
  {
   "cell_type": "markdown",
   "id": "070d92b8",
   "metadata": {},
   "source": [
    "# Data loading"
   ]
  },
  {
   "cell_type": "markdown",
   "id": "53f57708",
   "metadata": {},
   "source": [
    "We load data used in [[1]](https://doi.org/10.1016/j.rico.2023.100346). Locally, we have stored data of susceptible, infected, recovered, and deceased compartments from June 1 – July 20, 2021. When constructing the dataset, the total population size $\\mathsf{n}$ was set to 164\\,689\\,383 given by an estimate from [[3]](https://www.worldometers.info/world-population/bangladesh-population/). We will set $\\mathsf{n}$ to be equal to the total number of people at the initial time."
   ]
  },
  {
   "cell_type": "code",
   "execution_count": 4,
   "id": "2399e27e",
   "metadata": {},
   "outputs": [],
   "source": [
    "SIRD_data = pd.read_pickle('BD_2021_Jun_Jul.pkl').values.astype('float64')"
   ]
  },
  {
   "cell_type": "code",
   "execution_count": 5,
   "id": "b74484f2",
   "metadata": {},
   "outputs": [
    {
     "name": "stdout",
     "output_type": "stream",
     "text": [
      "𝗇̄: 164689383\n"
     ]
    }
   ],
   "source": [
    "print('𝗇̄: {0:.0f}'.format(np.unique(SIRD_data.sum(1)).item()))"
   ]
  },
  {
   "cell_type": "code",
   "execution_count": 6,
   "id": "79de2feb",
   "metadata": {},
   "outputs": [],
   "source": [
    "σ_data = SIRD_data.sum(1) - SIRD_data[:,0]"
   ]
  },
  {
   "cell_type": "code",
   "execution_count": 7,
   "id": "21750a0a",
   "metadata": {},
   "outputs": [],
   "source": [
    "ΣIRD_data = np.c_[σ_data, SIRD_data[:,1:]]      # Determine σ and remove S compartment"
   ]
  },
  {
   "cell_type": "code",
   "execution_count": 8,
   "id": "e285b57c",
   "metadata": {},
   "outputs": [
    {
     "data": {
      "text/plain": [
       "(22887, 164686226)"
      ]
     },
     "execution_count": 8,
     "metadata": {},
     "output_type": "execute_result"
    }
   ],
   "source": [
    "int(ΣIRD_data.max()), int(SIRD_data.max())      # There is quite a difference in order of magnitude"
   ]
  },
  {
   "cell_type": "markdown",
   "id": "1a906798",
   "metadata": {},
   "source": [
    "The data considers reports spanning 60 days. "
   ]
  },
  {
   "cell_type": "code",
   "execution_count": 9,
   "id": "a4293006",
   "metadata": {},
   "outputs": [],
   "source": [
    "T = np.float64(ΣIRD_data.shape[0])"
   ]
  },
  {
   "cell_type": "markdown",
   "id": "24e7cfb9",
   "metadata": {},
   "source": [
    "**Scales**\n",
    "\n",
    "We will group the observations by week and label the initial week by $0$; i.e., $s = 7$ and $T = 50/7 \\approx 7$. We will scale people by the maximum expected value of the residual susceptibles $\\sigma$:"
   ]
  },
  {
   "cell_type": "code",
   "execution_count": 10,
   "id": "f799cf17",
   "metadata": {},
   "outputs": [],
   "source": [
    "time_scale = 7.0                 # s_2\n",
    "ppl_scales = ΣIRD_data.max();    # s_1"
   ]
  },
  {
   "cell_type": "code",
   "execution_count": 11,
   "id": "e7883fa6",
   "metadata": {},
   "outputs": [],
   "source": [
    "T /= time_scale                        # Scale time\n",
    "ΣIRD_data /= ppl_scales                # Scale population: (helps in computation time)"
   ]
  },
  {
   "cell_type": "code",
   "execution_count": 12,
   "id": "256af79c",
   "metadata": {},
   "outputs": [],
   "source": [
    "# Make an interval span\n",
    "Tᵒᵇˢ  = linspace(0,T,SIRD_data.shape[0])"
   ]
  },
  {
   "cell_type": "markdown",
   "id": "641f01f3",
   "metadata": {},
   "source": [
    "We build a piecewise interpolator for computing any integral terms:"
   ]
  },
  {
   "cell_type": "code",
   "execution_count": 13,
   "id": "622a123e",
   "metadata": {},
   "outputs": [],
   "source": [
    "Tₑ = 0.5*(chebpts1(152-2+1)+1) * T     # Evaluation interval using Chebyshev points of the first kind\n",
    "Tₑ = concatenate([[0],Tₑ,[T]])         # Add endpoints\n",
    "# Add observed points\n",
    "Tₑ = np.unique(np.sort(concatenate([Tₑ,Tᵒᵇˢ])))"
   ]
  },
  {
   "cell_type": "code",
   "execution_count": 14,
   "id": "3c4c5f10",
   "metadata": {},
   "outputs": [
    {
     "data": {
      "text/plain": [
       "201"
      ]
     },
     "execution_count": 14,
     "metadata": {},
     "output_type": "execute_result"
    }
   ],
   "source": [
    "Tₑ.size    # odd number of collocation points for Simpson"
   ]
  },
  {
   "cell_type": "code",
   "execution_count": 15,
   "id": "a58f378f",
   "metadata": {},
   "outputs": [],
   "source": [
    "ρ̄ = interp1d(Tᵒᵇˢ,ΣIRD_data[:,].T, axis=-1, kind = 'quadratic')\n",
    "ρ̂ = ρ̄(Tₑ)"
   ]
  },
  {
   "cell_type": "code",
   "execution_count": 16,
   "id": "e70a77b2",
   "metadata": {},
   "outputs": [
    {
     "data": {
      "text/plain": [
       "0.3132782802464281"
      ]
     },
     "execution_count": 16,
     "metadata": {},
     "output_type": "execute_result"
    }
   ],
   "source": [
    "ρ̄(0).sum()"
   ]
  },
  {
   "cell_type": "code",
   "execution_count": 17,
   "id": "1dc5690f",
   "metadata": {
    "code_folding": [
     0
    ]
   },
   "outputs": [
    {
     "data": {
      "image/png": "[encoded data removed]",
      "text/plain": [
       "<Figure size 800x350 with 1 Axes>"
      ]
     },
     "metadata": {},
     "output_type": "display_data"
    }
   ],
   "source": [
    "# Plot data\n",
    "plt.figure(figsize=(8,3.5))\n",
    "\n",
    "plt.plot(Tₑ*time_scale, ρ̂.T, '-', linewidth=2)\n",
    "for i in range(4):\n",
    "    plt.scatter(Tᵒᵇˢ*time_scale, ΣIRD_data[:,i], s=10, c='black')\n",
    "plt.yscale('log')\n",
    "\n",
    "plt.legend(['σ', 'I', 'R'], shadow=True)\n",
    "plt.show()"
   ]
  },
  {
   "cell_type": "markdown",
   "id": "610da11d",
   "metadata": {},
   "source": [
    "Compare numerical ranges for different scales:"
   ]
  },
  {
   "cell_type": "code",
   "execution_count": 18,
   "id": "fc389d94",
   "metadata": {
    "code_folding": [
     0
    ]
   },
   "outputs": [
    {
     "name": "stdout",
     "output_type": "stream",
     "text": [
      "164666496 ≤ S̄ ≤ 164686226\n",
      "     1447 ≤ Ī ≤ 13768\n",
      "     1667 ≤ R̄ ≤ 9997\n",
      "       30 ≤ D̄ ≤ 231\n"
     ]
    }
   ],
   "source": [
    "# Original data:\n",
    "lows = np.min(SIRD_data, 0);    ups  = np.max(SIRD_data, 0);    strs = ['S̄', 'Ī', 'R̄', 'D̄']\n",
    "for i in range(4):\n",
    "    print('{0:9.0f} ≤ {1:s} ≤ {2:.0f}'.format(lows[i], strs[i], ups[i]))"
   ]
  },
  {
   "cell_type": "code",
   "execution_count": 19,
   "id": "8cc7fc35",
   "metadata": {
    "code_folding": [
     0
    ]
   },
   "outputs": [
    {
     "name": "stdout",
     "output_type": "stream",
     "text": [
      "9.9986e-01 ≤ S̄ ≤ 9.9998e-01\n",
      "8.7862e-06 ≤ Ī ≤ 8.3600e-05\n",
      "1.0122e-05 ≤ R̄ ≤ 6.0702e-05\n",
      "1.8216e-07 ≤ D̄ ≤ 1.4026e-06\n"
     ]
    }
   ],
   "source": [
    "# Scaling by total population is not that good:\n",
    "lows = np.min(SIRD_data, 0)/SIRD_data[0].sum();    ups  = np.max(SIRD_data, 0)/SIRD_data[0].sum();    strs = ['S̄', 'Ī', 'R̄', 'D̄']\n",
    "for i in range(4):\n",
    "    print('{0:.4e} ≤ {1:s} ≤ {2:.4e}'.format(lows[i], strs[i], ups[i]))"
   ]
  },
  {
   "cell_type": "code",
   "execution_count": 20,
   "id": "bf0987da",
   "metadata": {
    "code_folding": [
     0
    ]
   },
   "outputs": [
    {
     "name": "stdout",
     "output_type": "stream",
     "text": [
      "0.138 ≤ σ̄ ≤ 1.000\n",
      "0.063 ≤ Ī ≤ 0.602\n",
      "0.073 ≤ R̄ ≤ 0.437\n",
      "0.001 ≤ D̄ ≤ 0.010\n"
     ]
    }
   ],
   "source": [
    "# σIR data is well behaved:\n",
    "lows = np.min(ΣIRD_data, 0);    ups  = np.max(ΣIRD_data, 0);    strs = ['σ̄', 'Ī', 'R̄', 'D̄']\n",
    "for i in range(4):\n",
    "    print('{0:.3f} ≤ {1:s} ≤ {2:.3f}'.format(lows[i], strs[i], ups[i]))"
   ]
  },
  {
   "cell_type": "markdown",
   "id": "305a5e44",
   "metadata": {},
   "source": [
    "We see that the $\\sigma \\mathsf{IR}$ model is better scaled by compartment and explicitly shows the evolution of $\\sigma$. In contrast, the susceptible compartment in the original model might give the impression that it is a constant."
   ]
  },
  {
   "cell_type": "markdown",
   "id": "c20cdf99",
   "metadata": {},
   "source": [
    "### Prior information"
   ]
  },
  {
   "cell_type": "markdown",
   "id": "d57f3687",
   "metadata": {},
   "source": [
    "In the original paper, the authors obtained the following constant–in–time estimates:"
   ]
  },
  {
   "cell_type": "code",
   "execution_count": 21,
   "id": "8a058278",
   "metadata": {},
   "outputs": [
    {
     "name": "stdout",
     "output_type": "stream",
     "text": [
      "β̂: 0.000000000428686, γ̂: 0.0257, m̂: 0.0011\n"
     ]
    }
   ],
   "source": [
    "print('β̂: {0:.15f}, γ̂: {1}, m̂: {2}'.format(0.0706 / 164689383, 0.0257, 0.0011))"
   ]
  },
  {
   "cell_type": "markdown",
   "id": "26b64773",
   "metadata": {},
   "source": [
    "Using the current scales, we obtain the better behaved values:"
   ]
  },
  {
   "cell_type": "code",
   "execution_count": 22,
   "id": "3cef0102",
   "metadata": {},
   "outputs": [
    {
     "name": "stdout",
     "output_type": "stream",
     "text": [
      "β̂: 0.00006868, γ̂: 0.1799, m̂: 0.0077\n"
     ]
    }
   ],
   "source": [
    "print('β̂: {0:.8f}, γ̂: {1}, m̂: {2}'.format(ppl_scales * time_scale * 0.0706 / 164689383, time_scale * 0.0257, time_scale * 0.0011))"
   ]
  },
  {
   "cell_type": "markdown",
   "id": "5c2b2935",
   "metadata": {},
   "source": [
    "We notice that $\\beta$ and $\\gamma$ are still very small. So we can use $a_1 = 10^{-4}$, $a_2 = 1$, and $a_3 = 10^{-2}$ to obtain:"
   ]
  },
  {
   "cell_type": "code",
   "execution_count": 23,
   "id": "ff32933a",
   "metadata": {},
   "outputs": [
    {
     "name": "stdout",
     "output_type": "stream",
     "text": [
      "β̂: 0.68679323, γ̂: 0.1799, m̂: 0.77\n"
     ]
    }
   ],
   "source": [
    "aᵦ = 1e-4;    aᵧ = 1.0;    aₘ = 1e-2\n",
    "print('β̂: {0:.8f}, γ̂: {1}, m̂: {2}'.format(ppl_scales * time_scale * 0.0706 / (164689383 * aᵦ), time_scale * 0.0257/aᵧ, time_scale * 0.0011/aₘ))"
   ]
  },
  {
   "cell_type": "markdown",
   "id": "6cfc37ac",
   "metadata": {},
   "source": [
    "### Bounds"
   ]
  },
  {
   "cell_type": "markdown",
   "id": "bef4b173",
   "metadata": {},
   "source": [
    "Without bounds, the range of each parameter at any given time is given by:"
   ]
  },
  {
   "cell_type": "code",
   "execution_count": 24,
   "id": "b7de0851",
   "metadata": {},
   "outputs": [
    {
     "name": "stdout",
     "output_type": "stream",
     "text": [
      "uᵦ: 1602090000, uᵧ: 7, uₘ: 700\n"
     ]
    }
   ],
   "source": [
    "print('uᵦ: {0:.0f}, uᵧ: {1:.0f}, uₘ: {2:.0f}'.format(ppl_scales * time_scale / aᵦ, time_scale / aᵧ, time_scale / aₘ))"
   ]
  },
  {
   "cell_type": "markdown",
   "id": "9a6bc5bb",
   "metadata": {},
   "source": [
    "Knowing that $\\beta$ has at least 9 zeros, let us impose the upper bound $\\overline{\\beta} = 10^{-9}$ (which is about the inverse of the order of magnitude of the total population). Similarly, let us bound $\\gamma$ and $\\beta$ by $10^{-1}$:"
   ]
  },
  {
   "cell_type": "code",
   "execution_count": 25,
   "id": "c345de72",
   "metadata": {},
   "outputs": [
    {
     "name": "stdout",
     "output_type": "stream",
     "text": [
      "uᵦ: 1.60, uᵧ: 0.70, uₘ: 7\n"
     ]
    }
   ],
   "source": [
    "print('uᵦ: {0:.2f}, uᵧ: {1:.2f}, uₘ: {2:.0f}'.format(1e-9 * ppl_scales * time_scale / aᵦ, 0.1 * time_scale / aᵧ, 0.01 * time_scale / aₘ))"
   ]
  },
  {
   "cell_type": "code",
   "execution_count": 26,
   "id": "84ea8257",
   "metadata": {},
   "outputs": [
    {
     "data": {
      "text/plain": [
       "7195.761043387076"
      ]
     },
     "execution_count": 26,
     "metadata": {},
     "output_type": "execute_result"
    }
   ],
   "source": [
    "SIRD_data[0].sum() / ppl_scales"
   ]
  },
  {
   "cell_type": "markdown",
   "id": "d2d45c29",
   "metadata": {},
   "source": [
    "# Problem setup"
   ]
  },
  {
   "cell_type": "markdown",
   "id": "a6e19f3e",
   "metadata": {},
   "source": [
    "Total population, initial condition, and terminal condition:"
   ]
  },
  {
   "cell_type": "code",
   "execution_count": 27,
   "id": "a550f6f2",
   "metadata": {},
   "outputs": [],
   "source": [
    "# Total population\n",
    "#n = ρ̄(0).sum()\n",
    "n = SIRD_data[0].sum() / ppl_scales\n",
    "# Initial conditions\n",
    "ρ̂ₒ = ρ̄(0)\n",
    "# Final time\n",
    "ρ̂ᶠ = ρ̄(T)"
   ]
  },
  {
   "cell_type": "markdown",
   "id": "9e71917c",
   "metadata": {},
   "source": [
    "Weights in loss:"
   ]
  },
  {
   "cell_type": "code",
   "execution_count": 28,
   "id": "4fbc61ac",
   "metadata": {},
   "outputs": [],
   "source": [
    "θ, ϑᵀᵉʳ = 1e-6, 0.1"
   ]
  },
  {
   "cell_type": "code",
   "execution_count": 29,
   "id": "67e01df0",
   "metadata": {},
   "outputs": [],
   "source": [
    "θ = np.asarray([1e-9,1e-9,1e-9])#[::,np.newaxis]"
   ]
  },
  {
   "cell_type": "markdown",
   "id": "e43b4186",
   "metadata": {},
   "source": [
    "Upper bounds on parameters:"
   ]
  },
  {
   "cell_type": "code",
   "execution_count": 30,
   "id": "24482e13",
   "metadata": {},
   "outputs": [
    {
     "name": "stdout",
     "output_type": "stream",
     "text": [
      "[1.60209 0.7     7.     ]\n"
     ]
    }
   ],
   "source": [
    "upper_b = (np.asarray([1e-9, 0.1, 0.01]) * [ ppl_scales * time_scale / aᵦ, time_scale / aᵧ, time_scale / aₘ])#[::,np.newaxis]\n",
    "print(upper_b.T)"
   ]
  },
  {
   "cell_type": "code",
   "execution_count": 31,
   "id": "ce240bd2",
   "metadata": {},
   "outputs": [
    {
     "data": {
      "text/plain": [
       "array([1.e-09, 1.e-01, 1.e-02])"
      ]
     },
     "execution_count": 31,
     "metadata": {},
     "output_type": "execute_result"
    }
   ],
   "source": [
    "upper_b.ravel() * asarray([aᵦ/(time_scale*ppl_scales),aᵧ/(time_scale),aₘ/time_scale])"
   ]
  },
  {
   "cell_type": "code",
   "execution_count": 32,
   "id": "c875ac94",
   "metadata": {},
   "outputs": [
    {
     "data": {
      "text/plain": [
       "array([6.24184659e-11, 1.42857143e-02, 1.42857143e-04])"
      ]
     },
     "execution_count": 32,
     "metadata": {},
     "output_type": "execute_result"
    }
   ],
   "source": [
    "1e-1 * asarray([aᵦ/(time_scale*ppl_scales),aᵧ/(time_scale),aₘ/time_scale])"
   ]
  },
  {
   "cell_type": "markdown",
   "id": "f5e71799",
   "metadata": {},
   "source": [
    "## Differential systems"
   ]
  },
  {
   "cell_type": "code",
   "execution_count": 33,
   "id": "ff8805d1",
   "metadata": {},
   "outputs": [],
   "source": [
    "α = np.array([0.07364913, 0.184188 , 0.3663371])"
   ]
  },
  {
   "cell_type": "markdown",
   "id": "fe3052f1",
   "metadata": {},
   "source": [
    "### Solve a state:"
   ]
  },
  {
   "cell_type": "code",
   "execution_count": 34,
   "id": "b3458893",
   "metadata": {},
   "outputs": [],
   "source": [
    "def SIRD(t, z,  α):\n",
    "    β, γ, m = [aᵦ,aᵧ,aₘ] * α    # Scale parameters\n",
    "    S, I, R, D = z\n",
    "    return [β*(n-S)*I, β*(n-S)*I - γ*I - m*I, γ*I, m*I]"
   ]
  },
  {
   "cell_type": "code",
   "execution_count": 35,
   "id": "119e5982",
   "metadata": {},
   "outputs": [
    {
     "name": "stdout",
     "output_type": "stream",
     "text": [
      "The solver successfully reached the end of the integration interval. There were 32 function evaluations.\n"
     ]
    }
   ],
   "source": [
    "sol = solve_ivp(SIRD, [0, T], ρ̂ₒ, args=[α], t_eval = Tₑ, dense_output=True, vectorized=True, rtol = 1e-10)\n",
    "print(sol['message'],'There were',sol.nfev,'function evaluations.')"
   ]
  },
  {
   "cell_type": "code",
   "execution_count": 36,
   "id": "568b0bfa",
   "metadata": {
    "code_folding": [
     0
    ]
   },
   "outputs": [
    {
     "data": {
      "image/png": "[encoded data removed]",
      "text/plain": [
       "<Figure size 800x350 with 1 Axes>"
      ]
     },
     "metadata": {},
     "output_type": "display_data"
    }
   ],
   "source": [
    "# Plot solution:\n",
    "plt.figure(figsize=(8,3.5))\n",
    "#plt.plot(Tₑ,n-sol.y[0].T)\n",
    "plt.plot(Tₑ * time_scale, sol.y.T * ppl_scales)\n",
    "#plt.yscale('symlog', linthresh=1e-1)\n",
    "#plt.xscale('symlog', linthresh=1e-2)\n",
    "plt.yscale('log')\n",
    "plt.plot();"
   ]
  },
  {
   "cell_type": "markdown",
   "id": "3a1780d0",
   "metadata": {},
   "source": [
    "At this step we can also test the scalings:"
   ]
  },
  {
   "cell_type": "code",
   "execution_count": 37,
   "id": "966c7aea",
   "metadata": {},
   "outputs": [],
   "source": [
    "ω = α * [aᵦ/ (ppl_scales * time_scale), aᵧ/time_scale, aₘ/time_scale]"
   ]
  },
  {
   "cell_type": "code",
   "execution_count": 38,
   "id": "528a8056",
   "metadata": {},
   "outputs": [
    {
     "data": {
      "text/plain": [
       "(array([4.59706571e-11, 2.63125714e-02, 5.23338714e-04]),\n",
       " array([0.07364913, 0.184188  , 0.3663371 ]))"
      ]
     },
     "execution_count": 38,
     "metadata": {},
     "output_type": "execute_result"
    }
   ],
   "source": [
    "ω,α"
   ]
  },
  {
   "cell_type": "code",
   "execution_count": 39,
   "id": "45bb0d4a",
   "metadata": {
    "code_folding": [
     0
    ]
   },
   "outputs": [],
   "source": [
    "def SIRDn(t, z,  α):\n",
    "    β, γ, m = α    # Scale parameters\n",
    "    S, I, R, D = z\n",
    "    return [β*(ppl_scales*n-S)*I, β*(ppl_scales*n-S)*I - γ*I - m*I, γ*I, m*I]"
   ]
  },
  {
   "cell_type": "code",
   "execution_count": 40,
   "id": "46132816",
   "metadata": {
    "scrolled": false
   },
   "outputs": [
    {
     "name": "stdout",
     "output_type": "stream",
     "text": [
      "The solver successfully reached the end of the integration interval.\n"
     ]
    }
   ],
   "source": [
    "sol_original_scale = solve_ivp(SIRDn, [0, T*time_scale], ppl_scales * ρ̂ₒ, args=(ω,), \n",
    "                                                   t_eval = Tₑ*time_scale, dense_output=True, vectorized=True, rtol=1e-6)\n",
    "print(sol_original_scale['message'])"
   ]
  },
  {
   "cell_type": "code",
   "execution_count": 41,
   "id": "7b6ff5f8",
   "metadata": {
    "code_folding": [
     0
    ]
   },
   "outputs": [
    {
     "data": {
      "image/png": "[encoded data removed]",
      "text/plain": [
       "<Figure size 800x350 with 1 Axes>"
      ]
     },
     "metadata": {},
     "output_type": "display_data"
    }
   ],
   "source": [
    "# Plot solution:\n",
    "plt.figure(figsize=(8,3.5))\n",
    "plt.plot(Tₑ * time_scale, sol_original_scale.y.T)\n",
    "#plt.yscale('symlog', linthresh=1e-2)\n",
    "#plt.xscale('symlog', linthresh=1e-2)\n",
    "plt.yscale('log')\n",
    "plt.legend(['S', 'I', 'R'], shadow=True)\n",
    "plt.show()"
   ]
  },
  {
   "cell_type": "markdown",
   "id": "d9ee8824",
   "metadata": {},
   "source": [
    "## Solve its adjoint"
   ]
  },
  {
   "cell_type": "markdown",
   "id": "27bb3396",
   "metadata": {},
   "source": [
    "The adjoint state can be found by solving the following ODE system:"
   ]
  },
  {
   "cell_type": "markdown",
   "id": "e76bcbe3",
   "metadata": {},
   "source": [
    "\\begin{align}\n",
    "    \\frac{\\dif q_\\sigma}{\\dif t} &= \\hat{\\sigma} - \\sigma + [a_1 \\beta] I (q_\\sigma + q_I),\n",
    "    \\\\\n",
    "    \\frac{\\dif q_I}{\\dif t} &= \\hat{I} - I - [a_1 \\beta] (n-\\sigma)(q_\\sigma + q_I) + [a_2\\gamma] (q_I - q_R) + [a_3 m] (q_I - q_D),\n",
    "    \\\\\n",
    "    \\frac{\\dif q_R}{\\dif t} &= \\hat{R} - R,\n",
    "    \\\\\n",
    "    \\frac{\\dif q_D}{\\dif t} &= \\hat{D} - D,\n",
    "\\end{align}\n",
    "with the terminal condition $q(T) = \\vartheta\\big[\\rho(T) - \\widehat{\\rho}(T)\\big]$."
   ]
  },
  {
   "cell_type": "code",
   "execution_count": 42,
   "id": "93cc638a",
   "metadata": {},
   "outputs": [],
   "source": [
    "# Interpolator from ODE\n",
    "ρₜ = sol.sol\n",
    "ρ = sol.y"
   ]
  },
  {
   "cell_type": "code",
   "execution_count": 43,
   "id": "b5375a57",
   "metadata": {},
   "outputs": [],
   "source": [
    "dw = simpson((ρ̂ - (simpson((ρ̂), x=Tₑ)/T)[::,np.newaxis])**2, x = Tₑ) ** -1    # Goodness of fit weight"
   ]
  },
  {
   "cell_type": "code",
   "execution_count": 44,
   "id": "fc365b97",
   "metadata": {},
   "outputs": [],
   "source": [
    "def Adjoint(t, z, α,ρ):\n",
    "    β, γ, m    = [aᵦ,aᵧ,aₘ] * α      # Use scaled interpolator\n",
    "    S̄, Ī, R̄, D̄ = dw * ρ̄(t)           # Target\n",
    "    S, I, R, D = dw * ρ(t)           # State\n",
    "    qₛ, qᵢ, qᵣ, qᵈ = z           # Adjoint\n",
    "    return [S̄ - S + β*I*(qₛ + qᵢ), Ī - I - β*(n-S)*(qₛ + qᵢ) + γ*(qᵢ - qᵣ) + m * (qᵢ - qᵈ), R̄ - R, D̄ - D]"
   ]
  },
  {
   "cell_type": "code",
   "execution_count": 45,
   "id": "0cf5fbc9",
   "metadata": {},
   "outputs": [
    {
     "name": "stdout",
     "output_type": "stream",
     "text": [
      "The solver successfully reached the end of the integration interval. There were 80 function evaluations.\n"
     ]
    }
   ],
   "source": [
    "qₒ = ϑᵀᵉʳ * (ρ[:,-1] - ρ̂ᶠ)\n",
    "solₛ = solve_ivp(Adjoint, [T,0], qₒ, args=(α,ρₜ), t_eval = Tₑ[::-1], dense_output=True, vectorized=False)\n",
    "q = solₛ.y[:,::-1]\n",
    "print(solₛ['message'],'There were',solₛ.nfev,'function evaluations.')"
   ]
  },
  {
   "cell_type": "code",
   "execution_count": 46,
   "id": "3441cbae",
   "metadata": {
    "code_folding": [
     0
    ]
   },
   "outputs": [
    {
     "data": {
      "image/png": "[encoded data removed]",
      "text/plain": [
       "<Figure size 800x350 with 1 Axes>"
      ]
     },
     "metadata": {},
     "output_type": "display_data"
    }
   ],
   "source": [
    "# Plot adjoint curves\n",
    "plt.figure(figsize=(8,3.5))\n",
    "plt.plot(Tₑ[::-1],q.T)\n",
    "plt.xlabel(r'Time $t$')\n",
    "plt.legend([r'$q_S$', '$q_I$', '$q_R$'], shadow=True)\n",
    "#plt.yscale('log')\n",
    "plt.yscale('symlog', linthresh=1e1)\n",
    "plt.show()"
   ]
  },
  {
   "cell_type": "markdown",
   "id": "b51b9169",
   "metadata": {},
   "source": [
    "## Cost and gradient"
   ]
  },
  {
   "cell_type": "markdown",
   "id": "4ebc5391",
   "metadata": {},
   "source": [
    "Let us evaluate the function\n",
    "\\begin{align}\n",
    "    j(\\alpha) = \\frac{1}{2} \\int\\limits_0^T w_1 \\big( \\sigma(t) - \\hat{\\sigma}(t) \\big)^2 +  w_2 \\big( I(t) - \\hat{I}(t) \\big)^2 + w_3 \\big( R(t) - \\hat{R}(t) \\big)^2 + w_4 \\big( D(t) - \\hat{D}(t) \\big)^2 \\,\\dif t  +  \\frac{1}{T} \\big( \\theta_1 \\beta^2 + \\theta_2 \\gamma^2 + \\theta_3 m^2 \\big)  + \\frac{1}{2} \\| \\vartheta (\\rho(T) - \\widehat{\\rho}(T)) \\|^2_{\\R^3}\n",
    "    .\n",
    "\\end{align}"
   ]
  },
  {
   "cell_type": "code",
   "execution_count": 47,
   "id": "08b3c04b",
   "metadata": {
    "code_folding": []
   },
   "outputs": [],
   "source": [
    "def Objective(ρ,ρ̂,α, θ,ϑᵀᵉʳ,  scale = 1.0):\n",
    "    # State + controls\n",
    "    s  = (dw * simpson((ρ-ρ̂)**2, x=Tₑ)).sum()  +  (ϑᵀᵉʳ * (ρ[:,-1] - ρ̂ᶠ)**2).sum()\n",
    "    s *= scale\n",
    "    # Controls\n",
    "    s +=  (α**2 * θ).sum() / T\n",
    "    # Weight\n",
    "    s *= 0.5\n",
    "    return s"
   ]
  },
  {
   "cell_type": "code",
   "execution_count": 48,
   "id": "7ab8195f",
   "metadata": {},
   "outputs": [
    {
     "name": "stdout",
     "output_type": "stream",
     "text": [
      "As an example, the objective value for α is 3.9747e+00.\n"
     ]
    }
   ],
   "source": [
    "print('As an example, the objective value for α is {0:.4e}.'.format(  Objective(ρ,ρ̂, α, θ, ϑᵀᵉʳ, scale = (1) ) ))"
   ]
  },
  {
   "cell_type": "markdown",
   "id": "c3cf85e7",
   "metadata": {},
   "source": [
    "Now we can compute the derivative of the reduced objective functional [ ! ]:\n",
    "\\begin{align}\n",
    "    \\frac{\\partial f}{\\partial \\beta} &= \\int\\limits_0^T a_1 (n-\\sigma) I( q_\\sigma + q_I ) \\dif t  + \\frac{\\theta_1}{T} \\beta\n",
    "    \\\\\n",
    "    \\frac{\\partial f}{\\partial \\gamma} &= \\int\\limits_0^T a_2 I( q_R - q_I ) \\dif t  + \\frac{\\theta_2}{T} \\gamma\n",
    "    \\\\\n",
    "    \\frac{\\partial f}{\\partial m} &= \\int\\limits_0^T a_3I (q_D - q_I) \\dif t   + \\frac{\\theta_3}{T} m\n",
    "\\end{align}"
   ]
  },
  {
   "cell_type": "code",
   "execution_count": 49,
   "id": "de4cb7ce",
   "metadata": {},
   "outputs": [
    {
     "name": "stdout",
     "output_type": "stream",
     "text": [
      "[-3.53180650e-05  1.34500692e+00 -7.77370112e+01]\n"
     ]
    }
   ],
   "source": [
    "df = asarray([aᵦ * simpson(ρ[0]*ρ[1] * (q[1]-q[0]), x=Tₑ), aᵧ * simpson(ρ[1] * (q[2]-q[1]), x=Tₑ), aᵧ * simpson(ρ[1] * (q[3]-q[1]), x=Tₑ)])  + (θ/T) * α\n",
    "print(df)"
   ]
  },
  {
   "cell_type": "markdown",
   "id": "b1ae33ef",
   "metadata": {},
   "source": [
    "### Define projection"
   ]
  },
  {
   "cell_type": "code",
   "execution_count": 50,
   "id": "b826abb1",
   "metadata": {},
   "outputs": [],
   "source": [
    "def proj(α):    return np.clip(α, 0.0, upper_b)"
   ]
  },
  {
   "cell_type": "code",
   "execution_count": 51,
   "id": "7ac5b6d3",
   "metadata": {
    "code_folding": [
     0
    ]
   },
   "outputs": [
    {
     "data": {
      "text/plain": [
       "array([1.60209, 0.     , 0.     ])"
      ]
     },
     "execution_count": 51,
     "metadata": {},
     "output_type": "execute_result"
    }
   ],
   "source": [
    "proj( 7000 * (1-α - 0.82))"
   ]
  },
  {
   "cell_type": "markdown",
   "id": "3da0591f",
   "metadata": {},
   "source": [
    "# A few evaluations"
   ]
  },
  {
   "cell_type": "markdown",
   "id": "0fa27406",
   "metadata": {},
   "source": [
    "Let us evaluate the objective for some curves:"
   ]
  },
  {
   "cell_type": "code",
   "execution_count": 52,
   "id": "026b2f70",
   "metadata": {},
   "outputs": [],
   "source": [
    "global ρ, q\n",
    "ρ = np.zeros_like(ρ̂)\n",
    "q = np.zeros_like(ρ̂)"
   ]
  },
  {
   "cell_type": "code",
   "execution_count": 53,
   "id": "156d761d",
   "metadata": {
    "code_folding": [
     7,
     33,
     45,
     56
    ]
   },
   "outputs": [],
   "source": [
    "# Increase tolerance: Quasi-Newton methods are generally more susceptible to numerical errors\n",
    "# 1e-3 is the default tolerance of the solver, 1e-4 produces fair results and this is replicated in 1e-6\n",
    "rt = 1e-9\n",
    "# Scale the population compartments by some quantity; e.g., n^-2 scales by total number of people at time 0\n",
    "scaling = True\n",
    "scale = 1.0 if scaling else 1.0\n",
    "\n",
    "def obj_eval(α):                  # ** Eval f and f' ** #\n",
    "    global ρ, q, df\n",
    "    '''\n",
    "        Evaluate state, compute adjoint, and return objective and derivative\n",
    "    '''\n",
    "    # Compute state α\n",
    "    ρ_sol = solve_ivp(SIRD, [0, T], ρ̂ₒ, args=(α,), t_eval = Tₑ, dense_output=True, vectorized=True, first_step = 0.1, rtol=rt)\n",
    "    if ρ_sol['success'] != True:    print('Should re-evaluate.')\n",
    "    ρ  = ρ_sol.y\n",
    "    f  = Objective(ρ,ρ̂, α, θ, ϑᵀᵉʳ,  scale)\n",
    "    \n",
    "    # Create an abstract interpolator for state\n",
    "    ρₜ = ρ_sol.sol\n",
    "    \n",
    "    # Compute adjoint\n",
    "    qₒ = ϑᵀᵉʳ * (ρ[:,-1] - ρ̂ᶠ)    # Terminal condition\n",
    "    q_sol = solve_ivp(Adjoint, [T,0], qₒ, args=(α,ρₜ), t_eval = Tₑ[::-1], dense_output=True, vectorized=False, rtol=rt)\n",
    "    q = q_sol.y[:,::-1]\n",
    "\n",
    "    # Compute derivative\n",
    "    df = scale * asarray([ aᵦ * simpson(ρ[0]*ρ[1] * (q[1]-q[0]), x=Tₑ), \n",
    "                           aᵧ * simpson(ρ[1] * (q[2]-q[1]), x=Tₑ), \n",
    "                           aᵧ * simpson(ρ[1] * (q[3]-q[1]), x=Tₑ)]) \n",
    "    df += (θ/T) * α\n",
    "    \n",
    "    return asarray(f), df\n",
    "def obj_eval_a(α):                # ** Eval just f ** #\n",
    "    global ρ\n",
    "    '''\n",
    "        Evaluate state and return objective\n",
    "    '''\n",
    "    # Compute state α\n",
    "    ρ_sol = solve_ivp(SIRD, [0, T], ρ̂ₒ, args=(α,), t_eval = Tₑ, dense_output=True, vectorized=True, first_step = 0.1, rtol=rt)\n",
    "    if ρ_sol['success'] != True:    print('Should re-evaluate.')\n",
    "    ρ  = ρ_sol.y\n",
    "    f  = Objective(ρ,ρ̂, α, θ, ϑᵀᵉʳ,  scale)\n",
    "    \n",
    "    return asarray(f)\n",
    "def obj_eval_b(α):                # ** Does not affect global variable ρ ** #\n",
    "    '''\n",
    "        Evaluate state, compute adjoint, and return objective and derivative\n",
    "    '''\n",
    "    # Compute state α\n",
    "    ρ_sol = solve_ivp(SIRD, [0, T], ρ̂ₒ, args=(α,), t_eval = Tₑ, dense_output=True, vectorized=True, first_step = 0.1, rtol=rt)\n",
    "    if ρ_sol['success'] != True:    print('Should re-evaluate.')\n",
    "    ρₐ = ρ_sol.y\n",
    "    f  = Objective(ρₐ,ρ̂,α, θ, ϑᵀᵉʳ,  scale)\n",
    "\n",
    "    return asarray(f)\n",
    "def obj_eval_d(α):                # ** Does not affect global variables ρ, q, df ** #\n",
    "    '''\n",
    "        Evaluate state, compute adjoint, and return objective and derivative\n",
    "    '''\n",
    "    # Compute state α\n",
    "    ρ_sol = solve_ivp(SIRD, [0, T], ρ̂ₒ, args=(α,), t_eval = Tₑ, dense_output=True, vectorized=True, first_step = 0.1, rtol=rt)\n",
    "    if ρ_sol['success'] != True:    \n",
    "        print('Should re-evaluate.')\n",
    "        plt.plot(ρ_sol.y.T)\n",
    "        plt.show()\n",
    "        print(ρ_sol)\n",
    "    ρᵦ = ρ_sol.y\n",
    "    f  = Objective(ρᵦ,ρ̂, α, θ, ϑᵀᵉʳ,  scale)\n",
    "    \n",
    "    # Create an abstract interpolator for state\n",
    "    ρₜ = ρ_sol.sol\n",
    "    \n",
    "    # Compute adjoint\n",
    "    qₒ = ϑᵀᵉʳ * (ρᵦ[:,-1] - ρ̂ᶠ)    # Terminal condition\n",
    "    q_sol = solve_ivp(Adjoint, [T,0], qₒ, args=(α,ρₜ), t_eval = Tₑ[::-1], dense_output=True, vectorized=False, rtol=rt)\n",
    "    qᵦ = q_sol.y[:,::-1]\n",
    "\n",
    "    # Compute derivative\n",
    "    dF = scale * asarray([ aᵦ * simpson(ρᵦ[0]*ρᵦ[1] * (qᵦ[1]-qᵦ[0]), x=Tₑ),    \n",
    "                           aᵧ * simpson(ρᵦ[1] * (qᵦ[2]-qᵦ[1]), x=Tₑ),    \n",
    "                           aₘ * simpson(ρᵦ[1] * (qᵦ[3]-qᵦ[1]), x=Tₑ) ])\n",
    "    dF += (θ/T) * α\n",
    "\n",
    "    return asarray(f), dF"
   ]
  },
  {
   "cell_type": "code",
   "execution_count": 54,
   "id": "a87454b1",
   "metadata": {},
   "outputs": [
    {
     "data": {
      "text/plain": [
       "array(3.97471049)"
      ]
     },
     "execution_count": 54,
     "metadata": {},
     "output_type": "execute_result"
    }
   ],
   "source": [
    "obj_eval_a(α)"
   ]
  },
  {
   "cell_type": "markdown",
   "id": "25f12ff6",
   "metadata": {},
   "source": [
    "---"
   ]
  },
  {
   "cell_type": "markdown",
   "id": "9e3aece8",
   "metadata": {},
   "source": [
    "# Solving the optimisation problem"
   ]
  },
  {
   "cell_type": "markdown",
   "id": "fdf7cf10",
   "metadata": {},
   "source": [
    "## Optimisation routine"
   ]
  },
  {
   "cell_type": "markdown",
   "id": "8b37603d",
   "metadata": {},
   "source": [
    "We will use a trust region limited memory algorithm for optimising $j$. In this setting, we will write $x_k$ for the iterates $\\alpha_k$."
   ]
  },
  {
   "cell_type": "markdown",
   "id": "eb4c5346",
   "metadata": {},
   "source": [
    "To control the success of a direction, which is a linear combination of a proximal direction and the previous step, we define the _predicted reduction_ of $f$ as\n",
    "\\begin{align*}\n",
    "    \\mathrm{pred}_k = j(x_k) - q_k(d_k) = -[\\nabla f(x_k)]^\\top d_k - \\frac{1}{2} \\langle d_k, B_k d_k \\rangle.\n",
    "\\end{align*}\n",
    "Here we have omited the evaluation of $\\imath_{\\mathcal{A}}$ at $x_k$ and $x_k + d_k$ (due to the definition of $d_k$). The _actual reduction_ is defined by $\\mathrm{ared}_k = j(x_k) - j(x_k + d_k)$.\n",
    "\n",
    "The first order residual is defined as $r(x) = \\mathrm{prox}_{ \\imath_\\mathcal{A} }\\big(x - \\nabla f(x) \\big) - x$. "
   ]
  },
  {
   "cell_type": "markdown",
   "id": "0f12aefa",
   "metadata": {},
   "source": [
    "<div class=\"alert alert-block alert-warning\">\n",
    "Christian Kanzow & Theresa Lechner. Efficient Regularized Proximal Quasi-Newton Methods for Large-Scale Nonconvex Composite Optimization Problems. Pacific Journal of Optimization (to appear). https://arxiv.org/abs/2210.07644\n",
    "</div>"
   ]
  },
  {
   "cell_type": "markdown",
   "id": "33c8351c",
   "metadata": {},
   "source": [
    "<div style=\"background-color:rgba(0, 0, 0, 0.0470588); vertical-align: middle; padding:5px 0; padding-left: 40px;\">\n",
    "<h2 style=\"color: #5e9ca0;\">Regularised Proximal Quasi–Newton Method</h2>\n",
    "<ol>\n",
    "<li>Choose \\(x_0 \\in \\mathrm{dom}(j)\\) and a symmetric positive definite matrix \\(H_0\\). \n",
    "    Let parameters satisfy \\( \\mu_0 > 0 \\), \\( p_{\\min} \\in (0, 1/2) \\), \\(\\tau_1 \\in (0, 1/2) \\), \\( \\tau_2 \\in (\\tau_1, 1) \\), \\( \\sigma_1 \\in (0, 1) \\), \\( \\sigma_2 > 1 \\).\n",
    "    Now set \\(m \\in \\mathbb{N}\\), \\(k = 0\\), and \\(B_0 =H_0^{-1}\\).\n",
    "    </li>\n",
    "    \n",
    "<p><bf> \\(\\mathbf{Repeat}\\)</bf></p>\n",
    "    \n",
    "<ol>\n",
    "<li>\n",
    "    Choose \\( B_k \\in \\mathcal{M}_n (\\mathbb{R}) \\) and find a direction $d_k$ given by the solution to\n",
    "    \\[\n",
    "        \\min_q f(x_k) + \\nabla f (x_k)^\\top d + \\frac{1}{2} d^\\top (B_k + \\mu_k \\mathsf{I}) d + \\imath_{\\mathcal{A}} (x_k + d)\n",
    "    \\]\n",
    "</li>\n",
    "<li> \\(\\mathbf{If}\\) \\( \\mathrm{pred}_k \\leq p_{\\min} \\|d_k\\| \\| r(x_k) \\| \\) \\(\\mathbf{then}\\)\n",
    "</li>\n",
    "<ol>\n",
    "    <li> Set \\( \\mu_{k} := \\sigma_2 \\mu_k\\), </li>\n",
    "    <li> Return to step A. </li>\n",
    "</ol>\n",
    "<li> \\(\\mathbf{else}\\) </li>\n",
    "<ol>    \n",
    "    <li> Go to step D.</li>\n",
    "</ol>\n",
    "    \n",
    "<li> Set \\( \\rho_k = \\mathrm{ared}_k / \\mathrm{pred}_k = \\dfrac{ f(x_k + d_{k}) - f(x_k)}{ \\nabla f(x_k)^\\top d_{k} + \\frac{1}{2} \\, d_{k} ^\\top B_k d_{k} } \\) and perform the following updates:\n",
    "    \\[\n",
    "        x_{k+1} = \\begin{cases} x_k & \\text{if } \\rho_k \\leq c_1, \\\\ x_{k} + d_k & \\text{otherwise}; \\end{cases}\n",
    "        \\qquad\n",
    "        \\mu_{k+1} = \n",
    "        \\begin{cases}\n",
    "            \\sigma_2 \\mu_k & \\text{if } \\rho_k \\leq \\tau_1,\n",
    "            \\\\\n",
    "            \\mu_k          & \\text{if } \\tau_1 < \\rho_k \\leq \\tau_2,\n",
    "            \\\\\n",
    "            \\sigma_1 \\mu_k & \\text{if } \\rho_k \\geq \\tau_2.\n",
    "        \\end{cases}\n",
    "    \\]\n",
    "<ol>\n",
    "    <li> Let \\(\\widehat{m} := \\min\\{k+1,m\\}\\). </li>\n",
    "    <li> Update \\(B_k\\) with the \\(n \\times \\widehat m\\) matrices \\(S_k\\) and \\(Y_k\\) to get \\(B_{k+1} \\). </li>\n",
    "</ol>\n",
    "</li>\n",
    "    \n",
    "<li> Update \\( k \\leftarrow k+1\\) and go to step A.\n",
    "</li>\n",
    "    \n",
    "\n",
    "    \n",
    "\n",
    "</ol>\n",
    "    \n",
    "<p><bf> \\(\\mathbf{until}\\, x_{k}\\) satisfies some stopping criteria.</bf></p>\n",
    "</div>"
   ]
  },
  {
   "cell_type": "markdown",
   "id": "6718026a",
   "metadata": {},
   "source": [
    "<div class=\"alert alert-block alert-warning\">\n",
    "<b>Limited memory</b>\n",
    "</div>"
   ]
  },
  {
   "cell_type": "markdown",
   "id": "bae85506",
   "metadata": {},
   "source": [
    "The limited memory BFGS method approximates the inverse of the Hessian of a functional $j$ at iteration $k+1$, say $H_{k+1}$, without storing the dense matrices $H_k$ at each iteration. Instead, it stores $m$ correction pairs $ \\{q_i, d_i\\}_{i\\in [k-1: k-m]} \\subset\\mathbb{R}^{n,2} $, where\n",
    "\\begin{equation}\n",
    "    q_i := x_{i+1} - x_{i}\n",
    "    \\qquad\\text{and}\\qquad\n",
    "    d_i := \\nabla f(x_{i+1}) - \\nabla f(x_{i}),\n",
    "\\end{equation}\n",
    "that contain information related to the curvature of $f$. Byrd et al (1994) introduced a compact form to define the limited memory matrix $ B_k = H_k^{-1} $ in terms of the $ n\\times m $ correction matrices\n",
    "\\begin{equation}\n",
    "    S_k :=\n",
    "        \\begin{pmatrix}\n",
    "            q_{k-m} & \\cdots & q_{k-1}\n",
    "        \\end{pmatrix}\n",
    "    \\qquad\\text{and}\\qquad\n",
    "    Y_k :=\n",
    "        \\begin{pmatrix}\n",
    "            d_{k-m} & \\cdots & d_{k-1}\n",
    "        \\end{pmatrix}.\n",
    "\\end{equation}\n",
    "%\n",
    "The main idea of the algorithm is that the matrix $S_k^\\top Y_k$ can be written as the sum of the following three matrices:\n",
    "\\begin{equation}\n",
    "    S_k^\\top Y_k = L_k + D_k + R_k,\n",
    "\\end{equation}\n",
    "where $L_k$ is strictly lower triangular, $D_k$ is diagonal, and $R_k$ is strictly upper triangular.\n",
    "\n",
    "For $\\theta > 0$, if the correction pairs satisfy $ q_i^\\top d_i > 0 $, then the matrix obtained by updating $\\theta I_n$ with the BFGS formula and the correction pairs after $k$-times can be written as\n",
    "\\begin{align}\n",
    "    B_k &:= \\theta I_n - W_k M_k W_k^\\top,\n",
    "\\end{align}\n",
    "where $W_k$ and $M_k$ are the block matrices given by\n",
    "\\begin{align}\n",
    "W_k &:= \\begin{pmatrix}\tY_k & \\theta S_k \\end{pmatrix},\n",
    "\\\\\n",
    "M_k &:= \\begin{pmatrix}\t-D_k & L_k^\\top \\\\  L_k &  \\theta S_k^\\top S_k\t\\end{pmatrix}^{-1}.\t\\label{lbfgs-Bc}\n",
    "\\end{align}\n",
    "Note that, as $M_k$ is a $2m\\times 2m$ matrix, the cost of computing the inverse in the last formula is negligible. Hence, using the compact representation for $B_k$, various computations involving this matrix become inexpensive, as is the case of the product of $B_k$ times a vector."
   ]
  },
  {
   "cell_type": "markdown",
   "id": "45b3f331",
   "metadata": {},
   "source": [
    "We skip an update of the method whenever $\\langle s_k,y_k\\rangle \\leq \\varepsilon_{\\text{LM}} \\|s_k\\|^2 $."
   ]
  },
  {
   "cell_type": "markdown",
   "id": "1c234cb3",
   "metadata": {},
   "source": [
    "<div class=\"alert alert-block alert-warning\">\n",
    "Richard H. Byrd, Jorge Nocedal, and Robert B. Schnabel. Representations of quasi-Newton matrices and their use in limited memory methods. Mathematical Programming, 63(1- 3):129–156, jan 1994.\n",
    "</div>"
   ]
  },
  {
   "cell_type": "markdown",
   "id": "084b283e",
   "metadata": {},
   "source": [
    "## Algorithm"
   ]
  },
  {
   "cell_type": "code",
   "execution_count": 55,
   "id": "c12a63e8",
   "metadata": {},
   "outputs": [
    {
     "data": {
      "text/plain": [
       "1.0"
      ]
     },
     "execution_count": 55,
     "metadata": {},
     "output_type": "execute_result"
    }
   ],
   "source": [
    "#scale = 1e-0 #1e-4\n",
    "scale"
   ]
  },
  {
   "cell_type": "code",
   "execution_count": 56,
   "id": "6238a64b",
   "metadata": {
    "code_folding": [
     0,
     14,
     22,
     29,
     110,
     113,
     266,
     278,
     284
    ]
   },
   "outputs": [],
   "source": [
    "def RPQN(α, iters=20, save_iter = False, critical = 1):\n",
    "    \n",
    "    '''\n",
    "        \\\\\\\\\\\\\\\\\\\\\\\\\\\\\\\\\\\\\\\\\\\\\\\\\\\\\\\\\\\\\\\\\\\\\\\\\\\\\\\\\\\\\\\\\\\\\\\\\n",
    "        *** Preamble of functions for limited memory ***\n",
    "        \\\\\\\\\\\\\\\\\\\\\\\\\\\\\\\\\\\\\\\\\\\\\\\\\\\\\\\\\\\\\\\\\\\\\\\\\\\\\\\\\\\\\\\\\\\\\\\\\n",
    "    '''\n",
    "    dim = α.size            # dimension of the hyperparameter to optimise \n",
    "    '''Reserve memory'''\n",
    "    cLM   = min(3,dim)\n",
    "    S     = speye(dim, cLM, format = 'csr').A;                        Y = S.copy()\n",
    "    SY, O = zeros([cLM,cLM], dtype=float), zeros([cLM,cLM], dtype=float)\n",
    "    \n",
    "    # LM routines: forward, adjoint, transpose, and projections to active set data\n",
    "    def Limited():\n",
    "        def B_eval(W,MI,θᵪ, dk):\n",
    "            db  = dk.copy();         db *= θᵪ;        db -= W.dot(MI.dot(W.T.dot(dk)));            return db\n",
    "        def H_eval(WH,MH,θᵪ, dk):\n",
    "            db  = dk.copy();         db /= θᵪ;        db += WH.dot(MH.dot(WH.T.dot(dk)));          return db\n",
    "        return B_eval, H_eval\n",
    "    \n",
    "    # Limited memory functions (two options are available LBFGS or LSR1)\n",
    "    def LBFGS(S,Y,SY, θ):\n",
    "        W   = append(Y, θ*S, axis=1);  np.dot(S.T, Y, out=SY);  L = tril(SY,k=-1);  D = diagflat(SY.diagonal())\n",
    "        M0  = append(-D,L.T, axis=1);    M1 = append(L, θ*S.T.dot(S), axis=1);    MM = append(M0,M1, axis=0)\n",
    "        MI  = inv(MM)\n",
    "        WH  = W.copy();       WH /= θ;    R = inv(triu(SY,k=0));            MH0 = append(O, -R, axis=1)\n",
    "        MH1 = append(-R.T, R.T.dot((D + Y.T.dot(Y)/θ).dot(R)), axis=1);     MH  = append(MH0,MH1, axis=0)\n",
    "        return MI, MH, W, WH\n",
    "    def LSR1(S,Y,SY, θ):\n",
    "        W  = Y - θ*S;  np.dot(S.T, Y, out=SY);  L = tril(SY,k=-1);  D = diagflat(SY.diagonal())\n",
    "        MM = D + L + L.T - θ*S.T.dot(S);    MM *= -1\n",
    "        while np.linalg.det(MM) == 0.0:\n",
    "            # Backtracking\n",
    "            θ *= 0.5\n",
    "            W  = append(Y, θ*S, axis=1);  np.dot(S.T, Y, out=SY);  L = tril(SY,k=-1);  D = diagflat(SY.diagonal())\n",
    "            M0 = append(-D,L.T, axis=1);    M1 = append(L, θ*S.T.dot(S), axis=1);     MM = append(M0,M1, axis=0)\n",
    "        MI = inv(MM)\n",
    "        WH = W.copy();    WH /= θ;    R = triu(SY,k=0)\n",
    "        MH = inv( R + R.T - D - (1.0/θ)*Y.T.dot(Y))\n",
    "        return MI, MH, W, WH\n",
    "    \n",
    "    Method = 'BFGS'\n",
    "    \n",
    "    # Initialise a Gurobi instance for linear solves\n",
    "    TR_sub = GRB.Model('TR subproblem')\n",
    "    #TR_sub.Params.Presolve = 0\n",
    "    TR_sub.setParam('OutputFlag', 0)\n",
    "    pᵀᴿ = TR_sub.addMVar(shape = dim, vtype = 'C', name = 'p', lb = 0.0, ub = upper_b)\n",
    "    TR_sub.update()\n",
    "    \n",
    "    # Define constraints as a polytope (not needed)\n",
    "    #Aₚ = bmat([[-speye(dim,format='csr')],[speye(dim,format='csr')]])\n",
    "    #bₚ = concatenate((zeros(dim), ones(dim)))\n",
    "    \n",
    "    \n",
    "    '''\n",
    "        \\\\\\\\\\\\\\\\\\\\\\\\\\\\\\\\\\\\\\\\\\\\\\\\\\\\\\\\\\\\\\\\\\\\\\\\\\\\\\\\\\\\\\\\\\\\\\\\\\\\\\\\\\\\\\\\\\\\\\\\\n",
    "        *** Create structures to store information from iterates ***\n",
    "        \\\\\\\\\\\\\\\\\\\\\\\\\\\\\\\\\\\\\\\\\\\\\\\\\\\\\\\\\\\\\\\\\\\\\\\\\\\\\\\\\\\\\\\\\\\\\\\\\\\\\\\\\\\\\\\\\\\\\\\\\n",
    "    '''\n",
    "    if save_iter:\n",
    "        every_iter = {a:[] for a in ['it', 'obj', 'time',   'β', 'γ', 'm',  'df_β', 'df_γ', 'df_m', 'norms']}\n",
    "        every_iter['norms'] = {a:[] for a in ['ℓ_1', 'ℓ_2', 'max', 'min']}\n",
    "    else:  every_iter = {}\n",
    "    \n",
    "    best = {'obj': 1e+10, 'α': None, 'df': None}\n",
    "\n",
    "    \n",
    "    ''' \n",
    "        \\\\\\\\\\\\\\\\\\\\\\\\\\\\\\\\\\\\\\\\\\\\\n",
    "        *** Initialisation ***\n",
    "        \\\\\\\\\\\\\\\\\\\\\\\\\\\\\\\\\\\\\\\\\\\\\n",
    "    '''\n",
    "    xₖ = α.copy()      # IMPORTANT to avoid clash with the α defined below (!!!)\n",
    "    \n",
    "\n",
    "    # All objects involved in the algorithm will have a \"ᵪ\" decorator added to them to avoid confusion.\n",
    "    \n",
    "    ''' Setting TR parameters '''\n",
    "    σᵪ = [0.4, 4.0]                  # TR scaling factors  0 < σᵪ[0] < 1 < σᵪ[1] (p 24)\n",
    "    τᵪ = [1e-4,0.5]                  # TR acceptance ratio (Fail, Success & Increase regions)  0 < τᵪ[0] < τᵪ[1] < 1, τᵪ[0] < ½   [this is c]\n",
    "    pᵪ = 1e-8                        # Predicted reduction threshold   [this is pₘᵢₙ]\n",
    "    Δᵪ = 1.0                         # TR radii: μₖ\n",
    "    θᵪ = 5.0                         # Initial weight for basic Hessian approximation\n",
    "    mᵪ = 15                           # Memory\n",
    "\n",
    "    ''' Additional tolerances '''\n",
    "    εᵪ_LM    = 1e-8                  # Tolerance of curvature sₖᵀyₖ > ε\n",
    "    εᵪ_HCond = 1e-4                  # Himmeblau stopping condition for small functional values\n",
    "    εᵪ_H     = 1e-17                 # Himmeblau criteria\n",
    "    εᵪ_S     = 1e-18                 # Stationarity criterion\n",
    "    \n",
    "    ''' Initial iteration (xₒ, fₒ, dfₒ) '''\n",
    "    fₖ, dfₖ  = obj_eval(xₖ)\n",
    "    ''' Initial iteration counter and maximum number of iterations '''\n",
    "    kᵪ      = 0;\n",
    "    Max_It  = iters\n",
    "    \n",
    "    \n",
    "    \n",
    "    '''\n",
    "        \\\\\\\\\\\\\\\\\\\\\\\\\\\\\\\\\\\\\\\\\\\\\\\\\\\\\\\\\\\\\\\\\\\\\\\\\\\\\\\\\\\\\\\\\n",
    "        *** Run algorithm for the given settings ***\n",
    "        \\\\\\\\\\\\\\\\\\\\\\\\\\\\\\\\\\\\\\\\\\\\\\\\\\\\\\\\\\\\\\\\\\\\\\\\\\\\\\\\\\\\\\\\\n",
    "    '''\n",
    "    timed = 0.0              # Clock\n",
    "    \n",
    "    kᵪ = 0                      # Iteration count\n",
    "    kᵢₙₙₑᵣ = 0                   # Subcounter from TR iteration\n",
    "    while True:\n",
    "\n",
    "        # Print header of table\n",
    "        if max(kᵪ,kᵢₙₙₑᵣ) == 0 :\n",
    "            #print('{0:^5s}|{1:^11s}|{2:^11s}|{3:^11s}|'.format('#','‖β‖', '‖γ‖', '‖m‖'), end='')\n",
    "            print('{0:^5s}|{1:^11s}|{2:^11s}|{3:^11s}|'.format('#','β', 'γ', 'm'), end='')\n",
    "            print('{0:^11s}|{1:^11s}|{2:^11s}|'.format('j(α)','ᵣ‖∇j(α)‖₂','ᵣ‖∇j(α)‖∞'), end='')\n",
    "            print('{0:^11s}|{1:^11s}|{2:^11s}'.format('μₖ','ᵣ‖d‖₂', 'Time'))\n",
    "            #print('–'*121)\n",
    "            print('–'*110)\n",
    "\n",
    "            # Report initial iteration info\n",
    "            if save_iter:\n",
    "                every_iter['it'].append( kᵪ )\n",
    "                every_iter['obj'].append( fₖ )\n",
    "                every_iter['time'].append( timed )\n",
    "                every_iter['β'].append( xₖ[0] )\n",
    "                every_iter['γ'].append( xₖ[1] )\n",
    "                every_iter['m'].append( xₖ[2] )\n",
    "                every_iter['df_β'].append( dfₖ[0] )\n",
    "                every_iter['df_γ'].append( dfₖ[1] )\n",
    "                every_iter['df_m'].append( dfₖ[2] )\n",
    "                # Store norms of gradient\n",
    "                every_iter['norms']['ℓ_2'].append( norm(dfₖ.ravel())/(dim**0.5) )\n",
    "                every_iter['norms']['ℓ_1'].append( norm(dfₖ,1)/dim )\n",
    "                every_iter['norms']['max'].append( norm(dfₖ,np.inf) )\n",
    "                every_iter['norms']['min'].append( abs(dfₖ).min() )\n",
    "            # Store best point\n",
    "            if fₖ < best['obj']:\n",
    "                best['obj'] = fₖ\n",
    "                best['α']   =  xₖ.copy()\n",
    "                best['df']  = dfₖ.copy()\n",
    "\n",
    "            '''xₑₙ = xₖ.Ens**0.5\n",
    "            print('{0:^5d}|{1:^11.3e}|{2:^11.3e}|{3:^11.3e}|{4:^11.3e}|{5:^11.3e}|{6:^11.3e}|'.format(kᵪ-1, xₑₙ[0], xₑₙ[1], xₑₙ[2], fₖ,\n",
    "                                                                norm(dfₖ.ravel())/(3*T**0.5), norm(dfₖ.ravel(), np.inf)) )'''\n",
    "            \n",
    "            print('{0:^5d}|{1:^11.3e}|{2:^11.3e}|{3:^11.3e}|'.format(kᵪ, xₖ[0], xₖ[1], xₖ[2]), end = '' )\n",
    "            print('{0:^11.3e}|{1:^11.3e}|{2:^11.3e}|'.format( fₖ, norm(dfₖ.ravel())/(dim**0.5), norm(dfₖ.ravel(), np.inf) ) )\n",
    "        \n",
    "        it_time = time.time()                                             # Clock\n",
    "        \n",
    "        # *************** #\n",
    "        # 1. Find direction\n",
    "        \n",
    "        # ––––––––– #\n",
    "        # Limited memory matrix and operators\n",
    "        MI, MH, W, WH = LBFGS(S,Y,SY, θᵪ) if (Method == 'BFGS') else LSR1(S,Y,SY, θᵪ)        # Bₖ\n",
    "        B_eval, H_eval = Limited()\n",
    "        \n",
    "        oᵀᴿ = 0.5 * pᵀᴿ @ ((θᵪ+Δᵪ) * pᵀᴿ - W @ (MI @ (W.T @ pᵀᴿ)))             # Define quadratic part of objective, we use Bₖ + μₖ I\n",
    "        TR_sub.setObjective(oᵀᴿ + (dfₖ @ pᵀᴿ) + fₖ, 1)                          # Add objective and optimisation sense (minimise)\n",
    "        #TR_sub.update();          print(TR_sub.getObjective())\n",
    "        pᵀᴿ.LB = 1e-6-xₖ;        pᵀᴿ.UB = upper_b - xₖ                              # Fix feasibility bounds\n",
    "        #TR_sub.update();          print(pᵀᴿ.LB, pᵀᴿ.UB)\n",
    "        \n",
    "        # ––––––––– #\n",
    "        # Solve subproblem        # TR_sub.addConstr( Aₚ.dot(pᵀᴿ) <= bₚ[::,np.newaxis] );\n",
    "        #TR_sub.setParam('NumericFocus',3)\n",
    "        TR_sub.optimize()\n",
    "        \n",
    "        dₖ  = pᵀᴿ.x\n",
    "        Tfₖ, Tdfₖ = obj_eval_d(xₖ + dₖ)                                          # Evaluate direction to be tested\n",
    "        #print(dfₖ, Tdfₖ)\n",
    "        #print(kᵪ,   xₖ, dₖ, xₖ + dₖ, Tfₖ)\n",
    "        \n",
    "        # ––––––––– #\n",
    "        # Compute predicted reduction\n",
    "        pred = -dfₖ.dot(dₖ) - 0.5 * dₖ.dot( B_eval(W,MI,θᵪ, dₖ) )\n",
    "        rₖ   = proj( xₖ - dfₖ  ) - xₖ\n",
    "        \n",
    "        # ––––––––– #\n",
    "        # Test reduction\n",
    "        if pred <= pᵪ * norm(dₖ) * norm(rₖ):\n",
    "            Δᵪ *= σᵪ[1]                                                        # Increase penalisation\n",
    "            if kᵢₙₙₑᵣ == 0:\n",
    "                print('\\033[10;43;1m TR-radius:\\x1b[0m', end = ' ')\n",
    "            #print(kᵪ,  pred, pᵪ * norm(dₖ) * norm(rₖ))\n",
    "            print('\\033[0;33;2m {0:5.3e} \\x1b[0m'.format(Δᵪ), end = ' ')       # Print updated radius\n",
    "            kᵢₙₙₑᵣ += 1\n",
    "            \n",
    "            if Δᵪ > 1e+18: #norm(dₖ) < εᵪ_S:\n",
    "                print('\\033[10;42;1m  No more directions  \\033[10;42;1m')\n",
    "                break\n",
    "        else:\n",
    "            # *************** #\n",
    "            # 2. TR update\n",
    "            \n",
    "            # ––––––––– #\n",
    "            # TR reduction ratio\n",
    "            ρₖ = (fₖ - Tfₖ)/pred\n",
    "            #print(kᵪ,  ρₖ, τᵪ[0])\n",
    "            \n",
    "            # ––––––––– #\n",
    "            # Test TR:\n",
    "            if      ρₖ <= τᵪ[0]:\n",
    "                Δᵪ *= σᵪ[1]                                                    # Increase penalisation\n",
    "                if kᵢₙₙₑᵣ == 0:\n",
    "                    print('\\033[10;43;1m TR-radius:\\x1b[0m', end = ' ')\n",
    "                print('\\033[0;33;2m {0:5.3e} \\x1b[0m'.format(Δᵪ), end = ' ')   # Print updated radius\n",
    "                kᵢₙₙₑᵣ += 1\n",
    "                \n",
    "                if Δᵪ > 1e+18: #norm(dₖ) < εᵪ_S:\n",
    "                    print('\\033[10;42;1m  No more directions  \\033[10;42;1m')\n",
    "                    break\n",
    "            \n",
    "            else:\n",
    "                # ––––––––– #\n",
    "                # Update LM info\n",
    "                sₖ  = dₖ.copy()                                                 # Point difference (xₖ + dₖ) - xₖ = dₖ\n",
    "                yₖ  = Tdfₖ - dfₖ                                                # Gradient difference f'(xₖ + dₖ) - f'(xₖ)\n",
    "                #yₖ.shape, sₖ.shape = (dim,), (dim,)                            # Inplace reshape\n",
    "                \n",
    "                # Update LM matrices according to curvature\n",
    "                ϕᵪ = sₖ.dot(yₖ)                                                 # Compute curvature\n",
    "                if ϕᵪ >= εᵪ_LM * sₖ.dot(sₖ):\n",
    "                    θᵪ  = sₖ.dot(yₖ) / yₖ.dot(yₖ)                                # Barzilai-Borwein\n",
    "                    #print(θᵪ)\n",
    "                    cLM = min(S.shape[1], mᵪ)                                  # Current LM size\n",
    "                    \n",
    "                    if cLM < mᵪ:        # If size is small, add column with secant information\n",
    "                        S, Y  = append(S,sₖ[:,None], axis=1), append(Y,yₖ[:,None], axis=1)\n",
    "                        cLM  += 1 \n",
    "                        SY, O = zeros([cLM,cLM], dtype=float), zeros([cLM,cLM], dtype=float)\n",
    "                    else:               # If size is too large, drop first column\n",
    "                        S = append(S[:,1:], sₖ[:,None], axis=1)\n",
    "                        Y = append(Y[:,1:], yₖ[:,None], axis=1)\n",
    "                    \n",
    "                \n",
    "                # ––––––––– #\n",
    "                # Accept step\n",
    "                kᵪ += 1\n",
    "                Hi_rv = abs(fₖ - Tfₖ)/fₖ if (abs(fₖ) > εᵪ_HCond) else abs(fₖ - Tfₖ)            # Relative variation for Himmeblau\n",
    "                \n",
    "                xₖ += dₖ\n",
    "                fₖ, dfₖ = Tfₖ, Tdfₖ.copy()\n",
    "                \n",
    "                # ––––––––– #\n",
    "                # Check if penalisation can be reduced\n",
    "                if  ρₖ > τᵪ[1]:\n",
    "                    Δᵪ *= σᵪ[0]\n",
    "                \n",
    "                # *************** #\n",
    "                # Measure time up to this point!\n",
    "                end = time.time()\n",
    "                timed += end - it_time\n",
    "                \n",
    "                # Reset inner iteration counter\n",
    "                if kᵢₙₙₑᵣ > 0:\n",
    "                    print('')\n",
    "                    kᵢₙₙₑᵣ = 0                # Reset counter\n",
    "                \n",
    "                # *************** #\n",
    "                # Storage and display\n",
    "                # ––––––––– #\n",
    "                # Store progress\n",
    "                if save_iter:\n",
    "                    every_iter['it'].append( kᵪ )\n",
    "                    every_iter['obj'].append( fₖ );        every_iter['time'].append( timed )\n",
    "                    every_iter['β'].append( xₖ[0] );       every_iter['γ'].append( xₖ[1] );        every_iter['m'].append( xₖ[2] )\n",
    "                    every_iter['df_β'].append( dfₖ[0] );   every_iter['df_γ'].append( dfₖ[1] );    every_iter['df_m'].append( dfₖ[2] )\n",
    "                    # Store norms of gradient\n",
    "                    every_iter['norms']['ℓ_2'].append( norm(dfₖ.ravel())/(dim**0.5) )\n",
    "                    #every_iter['norms']['ℓ_1'].append( (1.0/(3*T)) * norm(dfₖ.ravel(),1) )\n",
    "                    every_iter['norms']['ℓ_1'].append( norm(dfₖ,1)/dim )\n",
    "                    every_iter['norms']['max'].append( norm(dfₖ.ravel(), np.inf) )\n",
    "                    every_iter['norms']['min'].append( abs(dfₖ.ravel()).min() )\n",
    "                # Store best point\n",
    "                if fₖ < best['obj']:\n",
    "                    best['obj'] = fₖ\n",
    "                    best['α']   =  xₖ.copy()\n",
    "                    best['df']  = dfₖ.copy()\n",
    "                \n",
    "                # Display progress\n",
    "                if kᵪ % critical == 0:\n",
    "                    '''xₑₙ = xₖ.Ens**0.5\n",
    "                    print('{0:^5d}|{1:^11.3e}|{2:^11.3e}|{3:^11.3e}|{4:^11.3e}|{5:^11.3e}|{6:^11.3e}|'.format(kᵪ-1, xₑₙ[0], xₑₙ[1], xₑₙ[2], fₖ,\n",
    "                                                                        norm(dfₖ.ravel())/(3*T**0.5), norm(dfₖ.ravel(), np.inf)) )'''\n",
    "\n",
    "                    print('{0:^5d}|{1:^11.3e}|{2:^11.3e}|{3:^11.3e}|'.format(kᵪ, xₖ[0], xₖ[1] ,xₖ[2]), end = '' )\n",
    "                    print('{0:^11.3e}|{1:^11.3e}|{2:^11.3e}|'.format( fₖ, norm(dfₖ.ravel())/(dim**0.5), norm(dfₖ.ravel(), np.inf) ), end = '' )\n",
    "                    print('{0:^11.3e}|{1:^11.3e}|{2:^11.3g}'.format(Δᵪ, norm(dₖ.ravel())/(dim**0.5), timed))\n",
    "            \n",
    "            \n",
    "                # *************** #\n",
    "                # Stopping criteria\n",
    "                # ––––––––– #\n",
    "                # Himmeblau stopping criterion\n",
    "                if Hi_rv < εᵪ_H:\n",
    "                    print('\\033[10;42;1m  Himmeblau  \\033[10;42;1m')\n",
    "                    break\n",
    "                # ––––––––– #\n",
    "                # Near optimality\n",
    "                if norm(dₖ) < εᵪ_S:\n",
    "                    print('\\033[10;42;1m  Stationary  \\033[10;42;1m')\n",
    "                    break\n",
    "                \n",
    "                \n",
    "            #print(kᵪ,  xₖ, ρₖ, fₖ)\n",
    "            #print(kᵪ,  xₖ, fₖ)\n",
    "        \n",
    "        # ¡Stop! Maximum iteration count is reached\n",
    "        if kᵪ == Max_It:\n",
    "            print('\\033[10;41;1m  Maxiter  \\033[10;41;1m')\n",
    "            break\n",
    "\n",
    "    '''\n",
    "        \\\\\\\\\\\\\\\\\\\\\\\\\\\\\\\\\\\\\\\\\\\\\\\\\\\\\\\n",
    "        *** Finalise and report *** \n",
    "        \\\\\\\\\\\\\\\\\\\\\\\\\\\\\\\\\\\\\\\\\\\\\\\\\\\\\\\n",
    "    '''\n",
    "    print('\\x1b[0m\\033[10;32;3m\\nAlgorithm stopped after {0:.4f} seconds and {1} iterations.'.format(timed,kᵪ))\n",
    "    print('\\x1b[0m')\n",
    "    \n",
    "    # Recompute best objective and state:\n",
    "    α = best['α']\n",
    "    jα = obj_eval_a(α)\n",
    "    #print(α.En, jα)\n",
    "    print(α, jα)\n",
    "    \n",
    "    return α, ρ, every_iter, best"
   ]
  },
  {
   "cell_type": "code",
   "execution_count": 57,
   "id": "662b26bc",
   "metadata": {},
   "outputs": [],
   "source": [
    "#ϑᵀᵉʳ = 1e+1 #np.asarray([1e-4,1e-4,5e+2])\n",
    "#θ = 1e-8 * np.ones(3)[::,np.newaxis] #np.asarray([1e-6,1e-8,1e-9])[::,np.newaxis]"
   ]
  },
  {
   "cell_type": "code",
   "execution_count": 58,
   "id": "21227d63",
   "metadata": {},
   "outputs": [
    {
     "data": {
      "text/plain": [
       "array([1.60209, 0.7    , 7.     ])"
      ]
     },
     "execution_count": 58,
     "metadata": {},
     "output_type": "execute_result"
    }
   ],
   "source": [
    "upper_b"
   ]
  },
  {
   "cell_type": "code",
   "execution_count": 59,
   "id": "f65d36fc",
   "metadata": {},
   "outputs": [],
   "source": [
    "from sklearn.metrics import r2_score"
   ]
  },
  {
   "cell_type": "code",
   "execution_count": 58,
   "id": "85662bc3",
   "metadata": {
    "deletable": false,
    "editable": false,
    "run_control": {
     "frozen": true
    },
    "scrolled": true
   },
   "outputs": [
    {
     "name": "stdout",
     "output_type": "stream",
     "text": [
      "Set parameter Username\n",
      "Academic license - for non-commercial use only - expires 2024-11-26\n",
      "  #  |     β     |     γ     |     m     |   j(α)    | ᵣ‖∇j(α)‖₂ | ᵣ‖∇j(α)‖∞ |    μₖ     |   ᵣ‖d‖₂   |   Time    \n",
      "––––––––––––––––––––––––––––––––––––––––––––––––––––––––––––––––––––––––––––––––––––––––––––––––––––––––––––––\n",
      "  0  | 6.868e-01 | 1.799e-01 | 7.700e+00 | 1.222e+02 | 1.548e+03 | 2.509e+03 |\n",
      "  1  | 6.731e-01 | 7.000e-01 | 1.000e-06 | 3.670e+00 | 1.411e+00 | 2.297e+00 | 1.000e+00 | 4.456e+00 |  0.0699   \n",
      "  2  | 6.731e-01 | 6.514e-01 | 1.000e-06 | 3.549e+00 | 1.649e+00 | 2.699e+00 | 4.000e-01 | 2.806e-02 |   0.129   \n",
      "  3  | 6.731e-01 | 5.936e-01 | 1.000e-06 | 3.377e+00 | 1.993e+00 | 3.281e+00 | 1.600e-01 | 3.339e-02 |   0.188   \n",
      "  4  | 6.730e-01 | 5.229e-01 | 1.000e-06 | 3.115e+00 | 2.519e+00 | 4.169e+00 | 6.400e-02 | 4.080e-02 |   0.244   \n",
      "  5  | 6.730e-01 | 4.329e-01 | 1.000e-06 | 2.678e+00 | 3.358e+00 | 5.572e+00 | 2.560e-02 | 5.195e-02 |   0.297   \n",
      "  6  | 6.730e-01 | 3.126e-01 | 1.000e-06 | 1.897e+00 | 4.369e+00 | 7.156e+00 | 1.024e-02 | 6.949e-02 |   0.35    \n",
      "  7  | 6.729e-01 | 1.579e-01 | 1.000e-06 | 1.231e+00 | 3.626e+00 | 4.454e+00 | 4.096e-03 | 8.928e-02 |   0.405   \n",
      "  8  | 6.733e-01 | 1.286e-01 | 5.130e-01 | 4.647e-01 | 8.417e+00 | 1.455e+01 | 1.638e-03 | 2.967e-01 |   0.463   \n",
      "\u001b[10;43;1m TR-radius:\u001b[0m \u001b[0;33;2m 6.554e-03 \u001b[0m \u001b[0;33;2m 2.621e-02 \u001b[0m \u001b[0;33;2m 1.049e-01 \u001b[0m \u001b[0;33;2m 4.194e-01 \u001b[0m \u001b[0;33;2m 1.678e+00 \u001b[0m \u001b[0;33;2m 6.711e+00 \u001b[0m \u001b[0;33;2m 2.684e+01 \u001b[0m \u001b[0;33;2m 1.074e+02 \u001b[0m \n",
      "  9  | 6.733e-01 | 1.991e-01 | 5.133e-01 | 2.072e-01 | 2.130e+00 | 3.681e+00 | 4.295e+01 | 4.068e-02 |   0.518   \n",
      " 10  | 6.733e-01 | 1.869e-01 | 5.138e-01 | 1.728e-01 | 1.090e+00 | 1.885e+00 | 1.718e+01 | 7.033e-03 |   0.575   \n",
      " 11  | 6.733e-01 | 1.753e-01 | 5.120e-01 | 1.626e-01 | 1.239e-01 | 2.074e-01 | 6.872e+00 | 6.784e-03 |   0.63    \n",
      " 12  | 6.733e-01 | 1.762e-01 | 5.092e-01 | 1.624e-01 | 1.396e-02 | 2.129e-02 | 2.749e+00 | 1.663e-03 |   0.693   \n",
      " 13  | 6.732e-01 | 1.760e-01 | 5.070e-01 | 1.624e-01 | 4.760e-03 | 6.962e-03 | 1.100e+00 | 1.283e-03 |   0.745   \n",
      " 14  | 6.732e-01 | 1.759e-01 | 5.061e-01 | 1.624e-01 | 9.976e-04 | 1.469e-03 | 4.398e-01 | 5.408e-04 |   0.797   \n",
      " 15  | 6.732e-01 | 1.759e-01 | 5.060e-01 | 1.624e-01 | 1.333e-03 | 2.305e-03 | 1.759e-01 | 8.392e-05 |   0.852   \n",
      " 16  | 6.732e-01 | 1.759e-01 | 5.059e-01 | 1.624e-01 | 1.823e-03 | 3.128e-03 | 7.037e-02 | 3.010e-05 |   0.91    \n",
      " 17  | 6.732e-01 | 1.759e-01 | 5.059e-01 | 1.624e-01 | 2.128e-03 | 3.646e-03 | 2.815e-02 | 2.086e-05 |   0.965   \n",
      " 18  | 6.731e-01 | 1.759e-01 | 5.059e-01 | 1.624e-01 | 2.150e-03 | 3.676e-03 | 1.126e-02 | 2.123e-05 |   1.02    \n",
      " 19  | 6.731e-01 | 1.758e-01 | 5.059e-01 | 1.624e-01 | 2.259e-03 | 3.867e-03 | 4.504e-03 | 1.974e-05 |   1.07    \n",
      " 20  | 6.731e-01 | 1.758e-01 | 5.059e-01 | 1.623e-01 | 2.265e-03 | 3.873e-03 | 1.801e-03 | 2.089e-05 |   1.13    \n",
      " 21  | 6.730e-01 | 1.758e-01 | 5.059e-01 | 1.623e-01 | 2.246e-03 | 3.840e-03 | 7.206e-04 | 2.046e-05 |   1.18    \n",
      " 22  | 6.697e-01 | 1.734e-01 | 5.058e-01 | 1.619e-01 | 1.623e-03 | 2.806e-03 | 2.882e-04 | 2.384e-03 |   1.24    \n",
      "\u001b[10;43;1m TR-radius:\u001b[0m \u001b[0;33;2m 1.153e-03 \u001b[0m \u001b[0;33;2m 4.612e-03 \u001b[0m \u001b[0;33;2m 1.845e-02 \u001b[0m \u001b[0;33;2m 7.379e-02 \u001b[0m \u001b[0;33;2m 2.951e-01 \u001b[0m \n",
      " 23  | 6.670e-01 | 1.710e-01 | 5.057e-01 | 1.619e-01 | 6.394e-02 | 1.105e-01 | 1.181e-01 | 2.093e-03 |    1.3    \n",
      "\u001b[10;43;1m TR-radius:\u001b[0m \u001b[0;33;2m 4.722e-01 \u001b[0m \u001b[0;33;2m 1.889e+00 \u001b[0m \u001b[0;33;2m 7.556e+00 \u001b[0m \u001b[0;33;2m 3.022e+01 \u001b[0m \u001b[0;33;2m 1.209e+02 \u001b[0m \n",
      " 24  | 6.670e-01 | 1.716e-01 | 5.056e-01 | 1.619e-01 | 1.264e-02 | 2.178e-02 | 4.836e+01 | 3.813e-04 |   1.35    \n",
      " 25  | 6.670e-01 | 1.715e-01 | 5.056e-01 | 1.619e-01 | 2.554e-03 | 4.353e-03 | 1.934e+01 | 5.101e-05 |   1.41    \n",
      " 26  | 6.670e-01 | 1.715e-01 | 5.057e-01 | 1.619e-01 | 3.845e-04 | 5.436e-04 | 7.737e+00 | 1.582e-05 |   1.47    \n",
      "\u001b[10;43;1m TR-radius:\u001b[0m \u001b[0;33;2m 3.095e+01 \u001b[0m \u001b[0;33;2m 1.238e+02 \u001b[0m \n",
      " 27  | 6.670e-01 | 1.715e-01 | 5.057e-01 | 1.619e-01 | 2.245e-04 | 3.383e-04 | 4.952e+01 | 1.848e-06 |   1.53    \n",
      "\u001b[10;43;1m TR-radius:\u001b[0m \u001b[0;33;2m 1.981e+02 \u001b[0m \u001b[0;33;2m 7.923e+02 \u001b[0m \u001b[0;33;2m 3.169e+03 \u001b[0m \u001b[0;33;2m 1.268e+04 \u001b[0m \u001b[0;33;2m 5.071e+04 \u001b[0m \u001b[0;33;2m 2.028e+05 \u001b[0m \u001b[0;33;2m 8.113e+05 \u001b[0m \u001b[0;33;2m 3.245e+06 \u001b[0m \u001b[0;33;2m 1.298e+07 \u001b[0m \u001b[0;33;2m 5.192e+07 \u001b[0m \u001b[0;33;2m 2.077e+08 \u001b[0m \u001b[0;33;2m 8.308e+08 \u001b[0m \u001b[0;33;2m 3.323e+09 \u001b[0m \n",
      " 28  | 6.670e-01 | 1.715e-01 | 5.057e-01 | 1.619e-01 | 2.172e-04 | 3.417e-04 | 1.329e+09 | 6.697e-14 |   1.58    \n",
      "\u001b[10;43;1m TR-radius:\u001b[0m \u001b[0;33;2m 5.317e+09 \u001b[0m \n",
      " 29  | 6.670e-01 | 1.715e-01 | 5.057e-01 | 1.619e-01 | 2.197e-04 | 3.474e-04 | 2.127e+09 | 4.015e-14 |   1.64    \n",
      "\u001b[10;43;1m TR-radius:\u001b[0m \u001b[0;33;2m 8.507e+09 \u001b[0m \u001b[0;33;2m 3.403e+10 \u001b[0m \u001b[0;33;2m 1.361e+11 \u001b[0m \u001b[0;33;2m 5.445e+11 \u001b[0m \u001b[0;33;2m 2.178e+12 \u001b[0m \n",
      " 30  | 6.670e-01 | 1.715e-01 | 5.057e-01 | 1.619e-01 | 2.219e-04 | 3.395e-04 | 8.711e+11 | 1.321e-16 |   1.69    \n",
      "\u001b[10;43;1m TR-radius:\u001b[0m \u001b[0;33;2m 3.484e+12 \u001b[0m \u001b[0;33;2m 1.394e+13 \u001b[0m \u001b[0;33;2m 5.575e+13 \u001b[0m \u001b[0;33;2m 2.230e+14 \u001b[0m \u001b[0;33;2m 8.920e+14 \u001b[0m \u001b[0;33;2m 3.568e+15 \u001b[0m \u001b[0;33;2m 1.427e+16 \u001b[0m \u001b[0;33;2m 5.709e+16 \u001b[0m \u001b[0;33;2m 2.284e+17 \u001b[0m \u001b[0;33;2m 9.134e+17 \u001b[0m \u001b[0;33;2m 3.654e+18 \u001b[0m \u001b[10;42;1m  No more directions  \u001b[10;42;1m\n",
      "\u001b[0m\u001b[10;32;3m\n",
      "Algorithm stopped after 1.6946 seconds and 30 iterations.\n",
      "\u001b[0m\n",
      "[0.66701091 0.17150988 0.50566348] 0.16185044150789415\n"
     ]
    }
   ],
   "source": [
    "ᾱ, ρ, every_iter, best = RPQN(asarray([0.68679323, 0.1799, 7.7]), iters=2000, save_iter = True, critical = 1)"
   ]
  },
  {
   "cell_type": "code",
   "execution_count": 59,
   "id": "ddc2724a",
   "metadata": {
    "deletable": false,
    "editable": false,
    "run_control": {
     "frozen": true
    }
   },
   "outputs": [
    {
     "name": "stdout",
     "output_type": "stream",
     "text": [
      "[0.9387148  0.85599728 0.96580915 0.92083303]\n"
     ]
    }
   ],
   "source": [
    "print(1 - (simpson((ρ-ρ̂)**2, x=Tₑ) * dw), '  ', r2_score(ρ̂,ρ, sample_weight=dw))"
   ]
  },
  {
   "cell_type": "markdown",
   "id": "89dbb485",
   "metadata": {},
   "source": [
    "Increased τᵪ from 0.1:"
   ]
  },
  {
   "cell_type": "code",
   "execution_count": 60,
   "id": "aa9d497a",
   "metadata": {
    "scrolled": true
   },
   "outputs": [
    {
     "name": "stdout",
     "output_type": "stream",
     "text": [
      "Set parameter Username\n",
      "Academic license - for non-commercial use only - expires 2024-11-26\n",
      "  #  |     β     |     γ     |     m     |   j(α)    | ᵣ‖∇j(α)‖₂ | ᵣ‖∇j(α)‖∞ |    μₖ     |   ᵣ‖d‖₂   |   Time    \n",
      "––––––––––––––––––––––––––––––––––––––––––––––––––––––––––––––––––––––––––––––––––––––––––––––––––––––––––––––\n",
      "  0  | 6.868e-01 | 1.799e-01 | 7.700e+00 | 1.222e+02 | 1.548e+03 | 2.509e+03 |\n",
      "  2  | 6.731e-01 | 6.514e-01 | 1.000e-06 | 3.549e+00 | 1.649e+00 | 2.699e+00 | 4.000e-01 | 2.806e-02 |   0.116   \n",
      "  4  | 6.730e-01 | 5.229e-01 | 1.000e-06 | 3.115e+00 | 2.519e+00 | 4.169e+00 | 6.400e-02 | 4.080e-02 |   0.229   \n",
      "  6  | 6.730e-01 | 3.126e-01 | 1.000e-06 | 1.897e+00 | 4.369e+00 | 7.156e+00 | 1.024e-02 | 6.949e-02 |   0.336   \n",
      "  8  | 6.733e-01 | 1.286e-01 | 5.130e-01 | 4.647e-01 | 8.417e+00 | 1.455e+01 | 1.638e-03 | 2.967e-01 |   0.445   \n",
      "\u001b[10;43;1m TR-radius:\u001b[0m \u001b[0;33;2m 6.554e-03 \u001b[0m \u001b[0;33;2m 2.621e-02 \u001b[0m \u001b[0;33;2m 1.049e-01 \u001b[0m \u001b[0;33;2m 4.194e-01 \u001b[0m \u001b[0;33;2m 1.678e+00 \u001b[0m \u001b[0;33;2m 6.711e+00 \u001b[0m \u001b[0;33;2m 2.684e+01 \u001b[0m \u001b[0;33;2m 1.074e+02 \u001b[0m \n",
      " 10  | 6.733e-01 | 1.891e-01 | 5.138e-01 | 1.772e-01 | 1.289e+00 | 2.230e+00 | 4.295e+01 | 5.798e-03 |   0.553   \n",
      " 12  | 6.733e-01 | 1.763e-01 | 5.114e-01 | 1.625e-01 | 2.118e-02 | 3.667e-02 | 6.872e+00 | 1.226e-03 |   0.673   \n",
      " 14  | 6.732e-01 | 1.760e-01 | 5.068e-01 | 1.624e-01 | 3.223e-03 | 5.547e-03 | 1.100e+00 | 1.183e-03 |   0.789   \n",
      " 16  | 6.732e-01 | 1.759e-01 | 5.060e-01 | 1.624e-01 | 1.406e-03 | 2.431e-03 | 1.759e-01 | 6.539e-05 |   0.899   \n",
      " 18  | 6.727e-01 | 1.755e-01 | 5.052e-01 | 1.623e-01 | 5.474e-03 | 7.867e-03 | 2.815e-02 | 5.196e-04 |   1.02    \n",
      "\u001b[10;43;1m TR-radius:\u001b[0m \u001b[0;33;2m 4.504e-02 \u001b[0m \n",
      " 20  | 6.717e-01 | 1.756e-01 | 5.071e-01 | 1.622e-01 | 8.175e-02 | 1.416e-01 | 1.801e-02 | 1.010e-03 |   1.13    \n",
      "\u001b[10;43;1m TR-radius:\u001b[0m \u001b[0;33;2m 2.882e-02 \u001b[0m \u001b[0;33;2m 1.153e-01 \u001b[0m \n",
      " 22  | 6.715e-01 | 1.752e-01 | 5.089e-01 | 1.621e-01 | 4.325e-02 | 7.332e-02 | 4.612e-02 | 1.073e-03 |   1.24    \n",
      " 24  | 6.707e-01 | 1.749e-01 | 5.059e-01 | 1.620e-01 | 8.809e-02 | 1.522e-01 | 1.845e-02 | 7.112e-04 |   1.37    \n",
      "\u001b[10;43;1m TR-radius:\u001b[0m \u001b[0;33;2m 2.951e-02 \u001b[0m \n",
      " 26  | 6.690e-01 | 1.733e-01 | 5.061e-01 | 1.619e-01 | 3.941e-02 | 6.820e-02 | 1.181e-02 | 5.708e-04 |   1.48    \n",
      "\u001b[10;43;1m TR-radius:\u001b[0m \u001b[0;33;2m 4.722e-02 \u001b[0m \u001b[0;33;2m 1.889e-01 \u001b[0m \u001b[0;33;2m 7.556e-01 \u001b[0m \u001b[0;33;2m 3.022e+00 \u001b[0m \u001b[0;33;2m 1.209e+01 \u001b[0m \n",
      "\u001b[10;43;1m TR-radius:\u001b[0m \u001b[0;33;2m 1.934e+01 \u001b[0m \n",
      " 28  | 6.690e-01 | 1.727e-01 | 5.057e-01 | 1.619e-01 | 2.111e-02 | 3.648e-02 | 1.934e+01 | 3.023e-04 |    1.6    \n",
      " 30  | 6.690e-01 | 1.729e-01 | 5.058e-01 | 1.618e-01 | 1.898e-04 | 3.150e-04 | 3.095e+00 | 1.111e-05 |    1.7    \n",
      " 32  | 6.690e-01 | 1.729e-01 | 5.058e-01 | 1.618e-01 | 1.331e-03 | 2.300e-03 | 4.952e-01 | 9.706e-06 |   1.82    \n",
      " 34  | 6.688e-01 | 1.729e-01 | 5.058e-01 | 1.618e-01 | 8.416e-03 | 1.455e-02 | 7.923e-02 | 5.911e-05 |   1.94    \n",
      "\u001b[10;43;1m TR-radius:\u001b[0m \u001b[0;33;2m 1.268e-01 \u001b[0m \n",
      " 36  | 6.684e-01 | 1.726e-01 | 5.058e-01 | 1.618e-01 | 1.434e-02 | 2.480e-02 | 5.071e-02 | 1.228e-04 |   2.05    \n",
      "\u001b[10;43;1m TR-radius:\u001b[0m \u001b[0;33;2m 8.113e-02 \u001b[0m \u001b[0;33;2m 3.245e-01 \u001b[0m \n",
      " 38  | 6.680e-01 | 1.722e-01 | 5.058e-01 | 1.618e-01 | 5.953e-03 | 1.028e-02 | 3.245e-01 | 7.982e-05 |   2.16    \n",
      "\u001b[10;43;1m TR-radius:\u001b[0m \u001b[0;33;2m 1.298e+00 \u001b[0m \u001b[0;33;2m 5.192e+00 \u001b[0m \n",
      " 40  | 6.680e-01 | 1.722e-01 | 5.057e-01 | 1.618e-01 | 4.995e-04 | 8.641e-04 | 2.077e+00 | 1.369e-05 |   2.28    \n",
      "\u001b[10;43;1m TR-radius:\u001b[0m \u001b[0;33;2m 8.308e+00 \u001b[0m \n",
      "\u001b[10;43;1m TR-radius:\u001b[0m \u001b[0;33;2m 1.329e+01 \u001b[0m \u001b[0;33;2m 5.317e+01 \u001b[0m \n",
      " 42  | 6.680e-01 | 1.722e-01 | 5.057e-01 | 1.618e-01 | 5.325e-05 | 9.021e-05 | 2.127e+01 | 4.460e-07 |   2.39    \n",
      "\u001b[10;43;1m TR-radius:\u001b[0m \u001b[0;33;2m 3.403e+01 \u001b[0m \u001b[0;33;2m 1.361e+02 \u001b[0m \n",
      " 44  | 6.680e-01 | 1.722e-01 | 5.057e-01 | 1.618e-01 | 1.605e-05 | 1.889e-05 | 5.445e+01 | 1.352e-07 |    2.5    \n",
      "\u001b[10;43;1m TR-radius:\u001b[0m \u001b[0;33;2m 2.178e+02 \u001b[0m \u001b[0;33;2m 8.711e+02 \u001b[0m \u001b[0;33;2m 3.484e+03 \u001b[0m \u001b[0;33;2m 1.394e+04 \u001b[0m \u001b[0;33;2m 5.575e+04 \u001b[0m \u001b[0;33;2m 2.230e+05 \u001b[0m \u001b[0;33;2m 8.920e+05 \u001b[0m \u001b[0;33;2m 3.568e+06 \u001b[0m \u001b[0;33;2m 1.427e+07 \u001b[0m \u001b[0;33;2m 5.709e+07 \u001b[0m \u001b[0;33;2m 2.284e+08 \u001b[0m \u001b[0;33;2m 9.134e+08 \u001b[0m \u001b[0;33;2m 3.654e+09 \u001b[0m \u001b[0;33;2m 1.462e+10 \u001b[0m \u001b[0;33;2m 5.846e+10 \u001b[0m \u001b[0;33;2m 2.338e+11 \u001b[0m \u001b[0;33;2m 9.354e+11 \u001b[0m \u001b[0;33;2m 3.741e+12 \u001b[0m \u001b[0;33;2m 1.497e+13 \u001b[0m \u001b[0;33;2m 5.986e+13 \u001b[0m \u001b[0;33;2m 2.395e+14 \u001b[0m \u001b[0;33;2m 9.578e+14 \u001b[0m \u001b[0;33;2m 3.831e+15 \u001b[0m \u001b[0;33;2m 1.532e+16 \u001b[0m \u001b[0;33;2m 6.130e+16 \u001b[0m \u001b[0;33;2m 2.452e+17 \u001b[0m \u001b[0;33;2m 9.808e+17 \u001b[0m \u001b[0;33;2m 3.923e+18 \u001b[0m \u001b[10;42;1m  No more directions  \u001b[10;42;1m\n",
      "\u001b[0m\u001b[10;32;3m\n",
      "Algorithm stopped after 2.4977 seconds and 44 iterations.\n",
      "\u001b[0m\n",
      "[0.66799418 0.17220347 0.50574162] 0.1618298681371452\n"
     ]
    }
   ],
   "source": [
    "ᾱ, ρ, every_iter, best = RPQN(asarray([0.68679323, 0.1799, 7.7]), iters=2000, save_iter = True, critical = 2)"
   ]
  },
  {
   "cell_type": "code",
   "execution_count": 61,
   "id": "d187df7d",
   "metadata": {},
   "outputs": [
    {
     "name": "stdout",
     "output_type": "stream",
     "text": [
      "[0.93880148 0.85599952 0.96580294 0.92083093]    0.9629059581619821\n"
     ]
    }
   ],
   "source": [
    "print(1 - (simpson((ρ-ρ̂)**2, x=Tₑ) * dw), '  ', r2_score(ρ̂,ρ, sample_weight=dw))"
   ]
  },
  {
   "cell_type": "code",
   "execution_count": 62,
   "id": "48f1ade8",
   "metadata": {
    "scrolled": true
   },
   "outputs": [
    {
     "name": "stdout",
     "output_type": "stream",
     "text": [
      "  #  |     β     |     γ     |     m     |   j(α)    | ᵣ‖∇j(α)‖₂ | ᵣ‖∇j(α)‖∞ |    μₖ     |   ᵣ‖d‖₂   |   Time    \n",
      "––––––––––––––––––––––––––––––––––––––––––––––––––––––––––––––––––––––––––––––––––––––––––––––––––––––––––––––\n",
      "  0  | 7.365e-02 | 1.842e-01 | 3.663e-01 | 3.975e+00 | 4.565e+01 | 7.906e+01 |\n",
      "\u001b[10;43;1m TR-radius:\u001b[0m \u001b[0;33;2m 4.000e+00 \u001b[0m \u001b[0;33;2m 1.600e+01 \u001b[0m \u001b[0;33;2m 6.400e+01 \u001b[0m \n",
      "  1  | 7.365e-02 | 1.627e-01 | 1.583e+00 | 3.409e+00 | 7.297e-01 | 1.262e+00 | 6.400e+01 | 7.023e-01 |  0.0627   \n",
      "  2  | 7.365e-02 | 1.433e-01 | 1.583e+00 | 3.386e+00 | 6.398e-01 | 1.107e+00 | 2.560e+01 | 1.121e-02 |   0.129   \n",
      "  3  | 7.365e-02 | 1.103e-01 | 1.584e+00 | 3.356e+00 | 4.121e-01 | 7.128e-01 | 1.024e+01 | 1.906e-02 |   0.192   \n",
      "  4  | 7.365e-02 | 7.804e-02 | 1.582e+00 | 3.342e+00 | 1.016e-01 | 1.377e-01 | 4.096e+00 | 1.862e-02 |   0.251   \n",
      "  5  | 7.366e-02 | 7.268e-02 | 1.580e+00 | 3.341e+00 | 8.971e-02 | 1.551e-01 | 1.638e+00 | 3.416e-03 |   0.311   \n",
      "  6  | 7.367e-02 | 6.949e-02 | 1.575e+00 | 3.340e+00 | 1.023e-01 | 1.627e-01 | 6.554e-01 | 3.526e-03 |   0.371   \n",
      "  7  | 7.374e-02 | 5.737e-02 | 1.542e+00 | 3.336e+00 | 1.871e-01 | 2.687e-01 | 2.621e-01 | 2.038e-02 |   0.434   \n",
      "  8  | 7.386e-02 | 4.030e-02 | 1.470e+00 | 3.329e+00 | 3.031e-01 | 4.915e-01 | 1.049e-01 | 4.252e-02 |   0.489   \n",
      "  9  | 7.408e-02 | 2.128e-02 | 1.344e+00 | 3.318e+00 | 3.517e-01 | 5.945e-01 | 4.194e-02 | 7.373e-02 |   0.547   \n",
      " 10  | 7.426e-02 | 1.839e-02 | 1.252e+00 | 3.311e+00 | 1.815e-01 | 3.118e-01 | 1.678e-02 | 5.285e-02 |   0.605   \n",
      " 11  | 7.431e-02 | 2.624e-02 | 1.247e+00 | 3.309e+00 | 2.153e-02 | 3.712e-02 | 6.711e-03 | 5.508e-03 |   0.661   \n",
      " 12  | 7.435e-02 | 2.754e-02 | 1.248e+00 | 3.309e+00 | 1.470e-03 | 2.523e-03 | 2.684e-03 | 1.080e-03 |   0.717   \n",
      " 13  | 7.439e-02 | 2.762e-02 | 1.248e+00 | 3.309e+00 | 9.124e-05 | 1.147e-04 | 1.074e-03 | 6.606e-05 |   0.77    \n",
      " 14  | 7.549e-02 | 2.761e-02 | 1.248e+00 | 3.304e+00 | 2.349e-03 | 2.975e-03 | 4.295e-04 | 6.394e-04 |   0.831   \n",
      " 15  | 7.677e-02 | 2.734e-02 | 1.243e+00 | 3.299e+00 | 1.789e-03 | 2.540e-03 | 1.718e-04 | 2.640e-03 |   0.89    \n",
      " 16  | 1.189e-01 | 1.586e-02 | 1.097e+00 | 3.108e+00 | 2.790e-02 | 4.668e-02 | 6.872e-05 | 8.836e-02 |   0.944   \n",
      "\u001b[10;43;1m TR-radius:\u001b[0m \u001b[0;33;2m 2.749e-04 \u001b[0m \u001b[0;33;2m 1.100e-03 \u001b[0m \u001b[0;33;2m 4.398e-03 \u001b[0m \u001b[0;33;2m 1.759e-02 \u001b[0m \u001b[0;33;2m 7.037e-02 \u001b[0m \u001b[0;33;2m 2.815e-01 \u001b[0m \u001b[0;33;2m 1.126e+00 \u001b[0m \u001b[0;33;2m 4.504e+00 \u001b[0m \u001b[0;33;2m 1.801e+01 \u001b[0m \u001b[0;33;2m 7.206e+01 \u001b[0m \n",
      " 17  | 1.189e-01 | 1.551e-02 | 1.097e+00 | 3.108e+00 | 1.973e-02 | 3.245e-02 | 7.206e+01 | 2.179e-04 |     1     \n",
      " 18  | 1.189e-01 | 1.522e-02 | 1.097e+00 | 3.108e+00 | 1.305e-02 | 2.060e-02 | 2.882e+01 | 1.816e-04 |   1.06    \n",
      " 19  | 1.189e-01 | 1.494e-02 | 1.097e+00 | 3.108e+00 | 6.475e-03 | 8.212e-03 | 1.153e+01 | 2.259e-04 |   1.12    \n",
      " 20  | 1.189e-01 | 1.483e-02 | 1.098e+00 | 3.108e+00 | 3.745e-03 | 6.315e-03 | 4.612e+00 | 3.393e-04 |   1.17    \n",
      " 21  | 1.189e-01 | 1.500e-02 | 1.099e+00 | 3.108e+00 | 3.285e-03 | 5.182e-03 | 1.845e+00 | 7.266e-04 |   1.23    \n",
      " 22  | 1.191e-01 | 1.505e-02 | 1.101e+00 | 3.108e+00 | 2.633e-03 | 3.894e-03 | 7.379e-01 | 1.015e-03 |   1.29    \n",
      "\u001b[10;43;1m TR-radius:\u001b[0m \u001b[0;33;2m 2.951e+00 \u001b[0m \u001b[0;33;2m 1.181e+01 \u001b[0m \n",
      " 23  | 1.191e-01 | 1.518e-02 | 1.101e+00 | 3.108e+00 | 1.529e-03 | 2.631e-03 | 4.722e+00 | 1.466e-04 |   1.35    \n",
      " 24  | 1.191e-01 | 1.523e-02 | 1.102e+00 | 3.107e+00 | 1.234e-03 | 2.137e-03 | 1.889e+00 | 2.541e-04 |    1.4    \n",
      " 25  | 1.191e-01 | 1.530e-02 | 1.102e+00 | 3.107e+00 | 7.931e-04 | 1.348e-03 | 7.556e-01 | 4.214e-04 |   1.46    \n",
      " 26  | 1.192e-01 | 1.540e-02 | 1.103e+00 | 3.107e+00 | 3.090e-04 | 4.720e-04 | 3.022e-01 | 4.418e-04 |   1.52    \n",
      " 27  | 1.193e-01 | 1.544e-02 | 1.103e+00 | 3.107e+00 | 1.761e-04 | 2.873e-04 | 1.209e-01 | 2.059e-04 |   1.58    \n",
      " 28  | 1.194e-01 | 1.545e-02 | 1.103e+00 | 3.106e+00 | 3.733e-04 | 5.084e-04 | 4.836e-02 | 6.329e-05 |   1.64    \n",
      " 29  | 1.195e-01 | 1.544e-02 | 1.103e+00 | 3.106e+00 | 4.749e-04 | 6.522e-04 | 1.934e-02 | 1.217e-04 |    1.7    \n",
      " 30  | 1.196e-01 | 1.542e-02 | 1.103e+00 | 3.105e+00 | 5.065e-04 | 6.974e-04 | 7.737e-03 | 1.491e-04 |   1.76    \n",
      " 31  | 1.196e-01 | 1.540e-02 | 1.103e+00 | 3.105e+00 | 5.198e-04 | 7.195e-04 | 3.095e-03 | 1.582e-04 |   1.82    \n",
      " 32  | 1.197e-01 | 1.538e-02 | 1.102e+00 | 3.104e+00 | 5.356e-04 | 7.484e-04 | 1.238e-03 | 1.606e-04 |   1.87    \n",
      " 33  | 1.198e-01 | 1.536e-02 | 1.102e+00 | 3.104e+00 | 5.470e-04 | 7.760e-04 | 4.952e-04 | 1.617e-04 |   1.92    \n",
      " 34  | 1.272e-01 | 1.400e-02 | 1.081e+00 | 3.068e+00 | 5.648e-04 | 7.246e-04 | 1.981e-04 | 1.282e-02 |   1.99    \n",
      " 35  | 1.387e-01 | 1.179e-02 | 1.048e+00 | 3.010e+00 | 2.784e-03 | 4.816e-03 | 7.923e-05 | 2.013e-02 |   2.04    \n",
      "\u001b[10;43;1m TR-radius:\u001b[0m \u001b[0;33;2m 3.169e-04 \u001b[0m \u001b[0;33;2m 1.268e-03 \u001b[0m \u001b[0;33;2m 5.071e-03 \u001b[0m \u001b[0;33;2m 2.028e-02 \u001b[0m \u001b[0;33;2m 8.113e-02 \u001b[0m \n",
      " 36  | 1.388e-01 | 1.195e-02 | 1.049e+00 | 3.009e+00 | 4.839e-04 | 6.324e-04 | 3.245e-02 | 2.883e-04 |    2.1    \n",
      " 37  | 1.418e-01 | 1.260e-02 | 1.042e+00 | 2.994e+00 | 2.572e-02 | 4.443e-02 | 1.298e-02 | 4.504e-03 |   2.16    \n",
      "\u001b[10;43;1m TR-radius:\u001b[0m \u001b[0;33;2m 5.192e-02 \u001b[0m \u001b[0;33;2m 2.077e-01 \u001b[0m \u001b[0;33;2m 8.308e-01 \u001b[0m \n",
      " 38  | 1.418e-01 | 1.187e-02 | 1.044e+00 | 2.994e+00 | 2.443e-03 | 3.419e-03 | 3.323e-01 | 1.160e-03 |   2.23    \n",
      " 39  | 1.421e-01 | 1.133e-02 | 1.040e+00 | 2.993e+00 | 2.823e-03 | 4.843e-03 | 1.329e-01 | 2.179e-03 |    2.3    \n",
      " 40  | 1.422e-01 | 1.142e-02 | 1.040e+00 | 2.992e+00 | 7.569e-04 | 1.168e-03 | 5.317e-02 | 1.493e-04 |   2.37    \n",
      " 41  | 1.430e-01 | 1.145e-02 | 1.039e+00 | 2.988e+00 | 1.155e-03 | 1.949e-03 | 2.127e-02 | 6.953e-04 |   2.44    \n",
      " 42  | 1.447e-01 | 1.149e-02 | 1.036e+00 | 2.979e+00 | 3.415e-03 | 5.101e-03 | 8.507e-03 | 1.991e-03 |    2.5    \n",
      " 43  | 1.473e-01 | 1.141e-02 | 1.031e+00 | 2.966e+00 | 5.319e-03 | 7.675e-03 | 3.403e-03 | 3.056e-03 |   2.56    \n",
      " 44  | 1.510e-01 | 1.129e-02 | 1.023e+00 | 2.946e+00 | 1.048e-02 | 1.704e-02 | 1.361e-03 | 5.087e-03 |   2.62    \n",
      " 45  | 1.552e-01 | 1.098e-02 | 1.013e+00 | 2.923e+00 | 1.315e-02 | 2.161e-02 | 5.445e-04 | 6.125e-03 |   2.68    \n",
      " 46  | 1.599e-01 | 1.057e-02 | 1.002e+00 | 2.898e+00 | 1.531e-02 | 2.539e-02 | 2.178e-04 | 7.029e-03 |   2.74    \n",
      " 47  | 1.647e-01 | 1.008e-02 | 9.903e-01 | 2.872e+00 | 1.556e-02 | 2.578e-02 | 8.711e-05 | 7.386e-03 |    2.8    \n",
      " 48  | 1.697e-01 | 9.581e-03 | 9.781e-01 | 2.844e+00 | 1.506e-02 | 2.482e-02 | 3.484e-05 | 7.619e-03 |   2.86    \n",
      " 49  | 1.749e-01 | 9.107e-03 | 9.657e-01 | 2.816e+00 | 1.408e-02 | 2.301e-02 | 1.394e-05 | 7.778e-03 |   2.92    \n",
      " 50  | 1.802e-01 | 8.677e-03 | 9.531e-01 | 2.785e+00 | 1.300e-02 | 2.098e-02 | 5.575e-06 | 7.907e-03 |   2.97    \n",
      " 51  | 1.858e-01 | 8.296e-03 | 9.403e-01 | 2.754e+00 | 1.171e-02 | 1.852e-02 | 2.230e-06 | 8.049e-03 |   3.03    \n",
      " 52  | 1.915e-01 | 7.972e-03 | 9.273e-01 | 2.720e+00 | 1.030e-02 | 1.576e-02 | 8.920e-07 | 8.175e-03 |   3.08    \n",
      " 53  | 1.975e-01 | 7.715e-03 | 9.142e-01 | 2.685e+00 | 8.842e-03 | 1.278e-02 | 3.568e-07 | 8.312e-03 |   3.14    \n",
      " 54  | 2.036e-01 | 7.527e-03 | 9.009e-01 | 2.648e+00 | 7.351e-03 | 9.470e-03 | 1.427e-07 | 8.454e-03 |    3.2    \n",
      " 55  | 2.101e-01 | 7.418e-03 | 8.875e-01 | 2.610e+00 | 5.984e-03 | 8.584e-03 | 5.709e-08 | 8.601e-03 |   3.26    \n",
      " 56  | 2.168e-01 | 7.395e-03 | 8.739e-01 | 2.569e+00 | 5.105e-03 | 8.668e-03 | 2.284e-08 | 8.751e-03 |   3.31    \n",
      " 57  | 2.237e-01 | 7.468e-03 | 8.601e-01 | 2.525e+00 | 5.264e-03 | 8.731e-03 | 9.134e-09 | 8.920e-03 |   3.37    \n",
      " 58  | 2.310e-01 | 7.644e-03 | 8.462e-01 | 2.480e+00 | 6.802e-03 | 8.807e-03 | 3.654e-09 | 9.078e-03 |   3.43    \n",
      " 59  | 2.386e-01 | 7.941e-03 | 8.320e-01 | 2.431e+00 | 9.207e-03 | 1.325e-02 | 1.462e-09 | 9.265e-03 |   3.49    \n",
      " 60  | 2.465e-01 | 8.367e-03 | 8.177e-01 | 2.380e+00 | 1.236e-02 | 1.945e-02 | 5.846e-10 | 9.450e-03 |   3.53    \n",
      " 61  | 2.548e-01 | 8.937e-03 | 8.033e-01 | 2.326e+00 | 1.613e-02 | 2.646e-02 | 2.338e-10 | 9.646e-03 |   3.59    \n",
      " 62  | 2.636e-01 | 9.671e-03 | 7.886e-01 | 2.268e+00 | 2.033e-02 | 3.404e-02 | 9.354e-11 | 9.860e-03 |   3.65    \n",
      " 63  | 2.727e-01 | 1.058e-02 | 7.738e-01 | 2.207e+00 | 2.528e-02 | 4.283e-02 | 3.741e-11 | 1.008e-02 |    3.7    \n",
      " 64  | 2.823e-01 | 1.170e-02 | 7.587e-01 | 2.142e+00 | 3.073e-02 | 5.245e-02 | 1.497e-11 | 1.032e-02 |   3.76    \n"
     ]
    },
    {
     "name": "stdout",
     "output_type": "stream",
     "text": [
      " 65  | 2.925e-01 | 1.304e-02 | 7.436e-01 | 2.073e+00 | 3.702e-02 | 6.346e-02 | 5.986e-12 | 1.056e-02 |   3.81    \n",
      " 66  | 3.032e-01 | 1.464e-02 | 7.282e-01 | 1.999e+00 | 4.440e-02 | 7.637e-02 | 2.395e-12 | 1.083e-02 |   3.87    \n",
      " 67  | 3.145e-01 | 1.654e-02 | 7.128e-01 | 1.920e+00 | 5.191e-02 | 8.946e-02 | 9.578e-13 | 1.113e-02 |   3.92    \n",
      " 68  | 3.264e-01 | 1.874e-02 | 6.971e-01 | 1.836e+00 | 6.157e-02 | 1.063e-01 | 3.831e-13 | 1.142e-02 |   3.98    \n",
      " 69  | 3.391e-01 | 2.134e-02 | 6.814e-01 | 1.746e+00 | 7.174e-02 | 1.239e-01 | 1.532e-13 | 1.176e-02 |   4.03    \n",
      " 70  | 3.526e-01 | 2.434e-02 | 6.656e-01 | 1.651e+00 | 8.397e-02 | 1.452e-01 | 6.130e-14 | 1.212e-02 |   4.09    \n",
      " 71  | 3.669e-01 | 2.784e-02 | 6.498e-01 | 1.549e+00 | 9.739e-02 | 1.685e-01 | 2.452e-14 | 1.248e-02 |   4.15    \n",
      " 72  | 3.823e-01 | 3.188e-02 | 6.338e-01 | 1.441e+00 | 1.135e-01 | 1.964e-01 | 9.808e-15 | 1.300e-02 |   4.21    \n",
      " 73  | 3.984e-01 | 3.656e-02 | 6.186e-01 | 1.328e+00 | 1.303e-01 | 2.255e-01 | 3.923e-15 | 1.310e-02 |   4.27    \n",
      " 74  | 4.163e-01 | 4.193e-02 | 6.010e-01 | 1.204e+00 | 1.567e-01 | 2.714e-01 | 1.569e-15 | 1.481e-02 |   4.33    \n",
      " 75  | 4.332e-01 | 4.829e-02 | 5.934e-01 | 1.090e+00 | 1.525e-01 | 2.627e-01 | 6.277e-16 | 1.128e-02 |   4.39    \n",
      " 76  | 4.605e-01 | 5.477e-02 | 5.455e-01 | 9.151e-01 | 3.519e-01 | 6.019e-01 | 2.511e-16 | 3.206e-02 |   4.44    \n",
      " 77  | 5.770e-01 | 9.540e-02 | 4.399e-01 | 3.689e-01 | 2.048e+00 | 3.530e+00 | 1.004e-16 | 9.376e-02 |   4.51    \n",
      "\u001b[10;43;1m TR-radius:\u001b[0m \u001b[0;33;2m 4.017e-16 \u001b[0m \u001b[0;33;2m 1.607e-15 \u001b[0m \u001b[0;33;2m 6.428e-15 \u001b[0m \u001b[0;33;2m 2.571e-14 \u001b[0m \u001b[0;33;2m 1.028e-13 \u001b[0m \u001b[0;33;2m 4.114e-13 \u001b[0m \u001b[0;33;2m 1.646e-12 \u001b[0m \u001b[0;33;2m 6.582e-12 \u001b[0m \u001b[0;33;2m 2.633e-11 \u001b[0m \u001b[0;33;2m 1.053e-10 \u001b[0m \u001b[0;33;2m 4.212e-10 \u001b[0m \u001b[0;33;2m 1.685e-09 \u001b[0m \u001b[0;33;2m 6.740e-09 \u001b[0m \u001b[0;33;2m 2.696e-08 \u001b[0m \u001b[0;33;2m 1.078e-07 \u001b[0m \u001b[0;33;2m 4.314e-07 \u001b[0m \u001b[0;33;2m 1.725e-06 \u001b[0m \u001b[0;33;2m 6.902e-06 \u001b[0m \u001b[0;33;2m 2.761e-05 \u001b[0m \u001b[0;33;2m 1.104e-04 \u001b[0m \u001b[0;33;2m 4.417e-04 \u001b[0m \u001b[0;33;2m 1.767e-03 \u001b[0m \u001b[0;33;2m 7.067e-03 \u001b[0m \u001b[0;33;2m 2.827e-02 \u001b[0m \u001b[0;33;2m 1.131e-01 \u001b[0m \u001b[0;33;2m 4.523e-01 \u001b[0m \u001b[0;33;2m 1.809e+00 \u001b[0m \u001b[0;33;2m 7.237e+00 \u001b[0m \u001b[0;33;2m 2.895e+01 \u001b[0m \u001b[0;33;2m 1.158e+02 \u001b[0m \n",
      " 78  | 5.770e-01 | 1.165e-01 | 4.404e-01 | 3.462e-01 | 7.196e-01 | 1.108e+00 | 1.158e+02 | 1.218e-02 |   4.56    \n",
      " 79  | 5.770e-01 | 1.133e-01 | 4.451e-01 | 3.412e-01 | 4.011e-01 | 5.078e-01 | 4.632e+01 | 3.226e-03 |   4.62    \n",
      " 80  | 5.770e-01 | 1.119e-01 | 4.550e-01 | 3.361e-01 | 2.495e-01 | 4.197e-01 | 1.853e+01 | 5.812e-03 |   4.67    \n",
      " 81  | 5.770e-01 | 1.144e-01 | 4.745e-01 | 3.297e-01 | 2.790e-01 | 3.771e-01 | 7.411e+00 | 1.130e-02 |   4.73    \n",
      " 82  | 5.771e-01 | 1.111e-01 | 4.970e-01 | 3.250e-01 | 3.309e-01 | 5.652e-01 | 2.964e+00 | 1.316e-02 |   4.79    \n",
      " 83  | 5.771e-01 | 1.150e-01 | 5.115e-01 | 3.231e-01 | 2.920e-02 | 3.837e-02 | 1.186e+00 | 8.690e-03 |   4.84    \n",
      " 84  | 5.772e-01 | 1.151e-01 | 5.163e-01 | 3.228e-01 | 6.199e-03 | 9.251e-03 | 4.743e-01 | 2.729e-03 |   4.89    \n",
      " 85  | 5.773e-01 | 1.152e-01 | 5.172e-01 | 3.222e-01 | 9.591e-03 | 1.658e-02 | 1.897e-01 | 5.290e-04 |   4.95    \n",
      " 86  | 5.777e-01 | 1.154e-01 | 5.174e-01 | 3.211e-01 | 2.007e-02 | 3.447e-02 | 7.589e-02 | 2.666e-04 |     5     \n",
      " 87  | 5.784e-01 | 1.156e-01 | 5.176e-01 | 3.187e-01 | 4.544e-02 | 7.809e-02 | 3.035e-02 | 4.340e-04 |   5.05    \n",
      " 88  | 5.797e-01 | 1.160e-01 | 5.181e-01 | 3.144e-01 | 8.111e-02 | 1.392e-01 | 1.214e-02 | 8.314e-04 |   5.11    \n",
      " 89  | 5.815e-01 | 1.168e-01 | 5.187e-01 | 3.082e-01 | 1.218e-01 | 2.088e-01 | 4.857e-03 | 1.217e-03 |   5.16    \n",
      " 90  | 5.839e-01 | 1.179e-01 | 5.192e-01 | 3.008e-01 | 1.548e-01 | 2.649e-01 | 1.943e-03 | 1.521e-03 |   5.22    \n",
      " 91  | 5.864e-01 | 1.192e-01 | 5.194e-01 | 2.928e-01 | 1.744e-01 | 2.980e-01 | 7.771e-04 | 1.661e-03 |   5.27    \n",
      " 92  | 5.890e-01 | 1.207e-01 | 5.192e-01 | 2.849e-01 | 1.824e-01 | 3.115e-01 | 3.108e-04 | 1.708e-03 |   5.32    \n",
      " 93  | 5.915e-01 | 1.221e-01 | 5.187e-01 | 2.773e-01 | 1.833e-01 | 3.129e-01 | 1.243e-04 | 1.711e-03 |   5.38    \n",
      " 94  | 5.940e-01 | 1.236e-01 | 5.181e-01 | 2.702e-01 | 1.808e-01 | 3.085e-01 | 4.973e-05 | 1.686e-03 |   5.43    \n",
      "\u001b[10;43;1m TR-radius:\u001b[0m \u001b[0;33;2m 1.989e-04 \u001b[0m \u001b[0;33;2m 7.957e-04 \u001b[0m \u001b[0;33;2m 3.183e-03 \u001b[0m \u001b[0;33;2m 1.273e-02 \u001b[0m \u001b[0;33;2m 5.093e-02 \u001b[0m \n",
      " 95  | 6.999e-01 | 2.228e-01 | 4.734e-01 | 2.593e-01 | 2.615e+00 | 4.496e+00 | 2.037e-02 | 8.769e-02 |   5.49    \n",
      "\u001b[10;43;1m TR-radius:\u001b[0m \u001b[0;33;2m 8.148e-02 \u001b[0m \u001b[0;33;2m 3.259e-01 \u001b[0m \u001b[0;33;2m 1.304e+00 \u001b[0m \u001b[0;33;2m 5.215e+00 \u001b[0m \u001b[0;33;2m 2.086e+01 \u001b[0m \u001b[0;33;2m 8.344e+01 \u001b[0m \n",
      " 96  | 6.999e-01 | 1.885e-01 | 4.782e-01 | 1.882e-01 | 6.080e-01 | 1.043e+00 | 3.337e+01 | 2.004e-02 |   5.54    \n",
      " 97  | 6.999e-01 | 1.941e-01 | 4.833e-01 | 1.846e-01 | 1.064e-01 | 1.761e-01 | 1.335e+01 | 4.440e-03 |    5.6    \n",
      " 98  | 6.999e-01 | 1.944e-01 | 4.925e-01 | 1.833e-01 | 6.332e-02 | 1.081e-01 | 5.340e+00 | 5.272e-03 |   5.66    \n",
      " 99  | 6.999e-01 | 1.950e-01 | 5.013e-01 | 1.826e-01 | 2.840e-02 | 4.807e-02 | 2.136e+00 | 5.140e-03 |   5.71    \n",
      " 100 | 6.999e-01 | 1.954e-01 | 5.068e-01 | 1.824e-01 | 7.026e-03 | 1.217e-02 | 8.544e-01 | 3.149e-03 |   5.76    \n",
      " 101 | 6.998e-01 | 1.955e-01 | 5.084e-01 | 1.823e-01 | 4.324e-03 | 7.241e-03 | 3.418e-01 | 9.269e-04 |   5.82    \n",
      " 102 | 6.997e-01 | 1.955e-01 | 5.086e-01 | 1.821e-01 | 1.071e-02 | 1.852e-02 | 1.367e-01 | 1.530e-04 |   5.88    \n",
      " 103 | 6.994e-01 | 1.954e-01 | 5.086e-01 | 1.818e-01 | 2.063e-02 | 3.569e-02 | 5.468e-02 | 1.479e-04 |   5.93    \n",
      " 104 | 6.991e-01 | 1.953e-01 | 5.087e-01 | 1.814e-01 | 3.127e-02 | 5.410e-02 | 2.187e-02 | 2.289e-04 |   5.99    \n",
      " 105 | 6.986e-01 | 1.950e-01 | 5.087e-01 | 1.808e-01 | 3.928e-02 | 6.797e-02 | 8.749e-03 | 2.967e-04 |   6.05    \n",
      " 106 | 6.982e-01 | 1.947e-01 | 5.087e-01 | 1.802e-01 | 4.356e-02 | 7.539e-02 | 3.500e-03 | 3.391e-04 |    6.1    \n",
      " 107 | 6.977e-01 | 1.943e-01 | 5.086e-01 | 1.796e-01 | 4.531e-02 | 7.842e-02 | 1.400e-03 | 3.600e-04 |   6.16    \n",
      " 108 | 6.971e-01 | 1.939e-01 | 5.086e-01 | 1.790e-01 | 4.572e-02 | 7.913e-02 | 5.599e-04 | 3.677e-04 |   6.21    \n",
      " 109 | 6.966e-01 | 1.935e-01 | 5.085e-01 | 1.784e-01 | 4.557e-02 | 7.888e-02 | 2.240e-04 | 3.685e-04 |   6.27    \n",
      "\u001b[10;43;1m TR-radius:\u001b[0m \u001b[0;33;2m 8.959e-04 \u001b[0m \u001b[0;33;2m 3.584e-03 \u001b[0m \u001b[0;33;2m 1.433e-02 \u001b[0m \u001b[0;33;2m 5.734e-02 \u001b[0m \u001b[0;33;2m 2.293e-01 \u001b[0m \u001b[0;33;2m 9.174e-01 \u001b[0m \u001b[0;33;2m 3.670e+00 \u001b[0m \u001b[0;33;2m 1.468e+01 \u001b[0m \u001b[0;33;2m 5.871e+01 \u001b[0m \u001b[0;33;2m 2.349e+02 \u001b[0m \n",
      " 110 | 6.966e-01 | 1.932e-01 | 5.085e-01 | 1.784e-01 | 8.587e-03 | 1.479e-02 | 9.394e+01 | 1.916e-04 |   6.33    \n",
      " 111 | 6.966e-01 | 1.932e-01 | 5.085e-01 | 1.784e-01 | 3.113e-03 | 4.943e-03 | 3.758e+01 | 3.332e-05 |   6.39    \n",
      " 112 | 6.966e-01 | 1.931e-01 | 5.084e-01 | 1.784e-01 | 1.358e-03 | 2.039e-03 | 1.503e+01 | 3.618e-05 |   6.45    \n",
      " 113 | 6.966e-01 | 1.931e-01 | 5.083e-01 | 1.784e-01 | 9.573e-04 | 1.363e-03 | 6.012e+00 | 6.033e-05 |   6.51    \n",
      " 114 | 6.966e-01 | 1.931e-01 | 5.082e-01 | 1.784e-01 | 6.554e-04 | 9.505e-04 | 2.405e+00 | 6.612e-05 |   6.58    \n",
      " 115 | 6.966e-01 | 1.931e-01 | 5.081e-01 | 1.784e-01 | 1.054e-03 | 1.825e-03 | 9.620e-01 | 5.039e-05 |   6.65    \n",
      " 116 | 6.966e-01 | 1.931e-01 | 5.080e-01 | 1.783e-01 | 2.085e-03 | 3.537e-03 | 3.848e-01 | 7.023e-05 |   6.71    \n",
      " 117 | 6.964e-01 | 1.925e-01 | 5.068e-01 | 1.782e-01 | 3.835e-02 | 6.629e-02 | 1.539e-01 | 8.101e-04 |   6.77    \n",
      " 118 | 6.961e-01 | 1.930e-01 | 5.080e-01 | 1.778e-01 | 3.964e-02 | 6.846e-02 | 6.157e-02 | 8.069e-04 |   6.83    \n",
      " 119 | 6.953e-01 | 1.928e-01 | 5.075e-01 | 1.769e-01 | 8.559e-02 | 1.477e-01 | 2.463e-02 | 5.581e-04 |   6.89    \n",
      " 120 | 6.935e-01 | 1.923e-01 | 5.066e-01 | 1.752e-01 | 1.890e-01 | 3.259e-01 | 9.851e-03 | 1.205e-03 |   6.95    \n",
      " 121 | 6.900e-01 | 1.913e-01 | 5.045e-01 | 1.728e-01 | 3.701e-01 | 6.379e-01 | 3.940e-03 | 2.386e-03 |   7.01    \n",
      " 122 | 6.849e-01 | 1.893e-01 | 5.007e-01 | 1.705e-01 | 5.876e-01 | 1.011e+00 | 1.576e-03 | 3.877e-03 |   7.07    \n",
      " 123 | 6.794e-01 | 1.863e-01 | 4.949e-01 | 1.692e-01 | 7.310e-01 | 1.255e+00 | 6.304e-04 | 4.927e-03 |   7.13    \n",
      " 124 | 6.749e-01 | 1.828e-01 | 4.885e-01 | 1.683e-01 | 7.498e-01 | 1.282e+00 | 2.522e-04 | 4.933e-03 |    7.2    \n"
     ]
    },
    {
     "name": "stdout",
     "output_type": "stream",
     "text": [
      "\u001b[10;43;1m TR-radius:\u001b[0m \u001b[0;33;2m 1.009e-03 \u001b[0m \u001b[0;33;2m 4.035e-03 \u001b[0m \u001b[0;33;2m 1.614e-02 \u001b[0m \u001b[0;33;2m 6.456e-02 \u001b[0m \u001b[0;33;2m 2.582e-01 \u001b[0m \u001b[0;33;2m 1.033e+00 \u001b[0m \u001b[0;33;2m 4.132e+00 \u001b[0m \u001b[0;33;2m 1.653e+01 \u001b[0m \u001b[0;33;2m 6.611e+01 \u001b[0m \n",
      " 125 | 6.750e-01 | 1.765e-01 | 4.843e-01 | 1.645e-01 | 1.342e-01 | 1.685e-01 | 2.644e+01 | 4.354e-03 |   7.26    \n",
      " 126 | 6.750e-01 | 1.760e-01 | 4.884e-01 | 1.639e-01 | 7.112e-02 | 1.220e-01 | 1.058e+01 | 2.364e-03 |   7.31    \n",
      " 127 | 6.750e-01 | 1.763e-01 | 4.951e-01 | 1.632e-01 | 4.299e-02 | 7.309e-02 | 4.231e+00 | 3.923e-03 |   7.37    \n",
      " 128 | 6.750e-01 | 1.768e-01 | 5.018e-01 | 1.629e-01 | 1.677e-02 | 2.838e-02 | 1.692e+00 | 3.839e-03 |   7.43    \n",
      " 129 | 6.749e-01 | 1.771e-01 | 5.051e-01 | 1.628e-01 | 3.494e-03 | 6.018e-03 | 6.769e-01 | 1.956e-03 |   7.48    \n",
      " 130 | 6.749e-01 | 1.771e-01 | 5.060e-01 | 1.628e-01 | 2.884e-03 | 4.914e-03 | 2.708e-01 | 4.656e-04 |   7.53    \n",
      " 131 | 6.748e-01 | 1.771e-01 | 5.061e-01 | 1.628e-01 | 7.304e-03 | 1.263e-02 | 1.083e-01 | 8.101e-05 |   7.59    \n",
      " 132 | 6.746e-01 | 1.770e-01 | 5.061e-01 | 1.627e-01 | 1.697e-02 | 2.935e-02 | 4.332e-02 | 1.242e-04 |   7.65    \n",
      " 133 | 6.742e-01 | 1.769e-01 | 5.062e-01 | 1.626e-01 | 3.512e-02 | 6.075e-02 | 1.733e-02 | 2.589e-04 |   7.71    \n",
      " 134 | 6.734e-01 | 1.766e-01 | 5.063e-01 | 1.624e-01 | 6.547e-02 | 1.133e-01 | 6.932e-03 | 4.873e-04 |   7.77    \n",
      " 135 | 6.721e-01 | 1.761e-01 | 5.065e-01 | 1.623e-01 | 1.111e-01 | 1.922e-01 | 2.773e-03 | 8.360e-04 |   7.83    \n",
      " 136 | 6.700e-01 | 1.752e-01 | 5.068e-01 | 1.621e-01 | 1.742e-01 | 3.014e-01 | 1.109e-03 | 1.328e-03 |   7.88    \n",
      "\u001b[10;43;1m TR-radius:\u001b[0m \u001b[0;33;2m 4.436e-03 \u001b[0m \u001b[0;33;2m 1.775e-02 \u001b[0m \u001b[0;33;2m 7.098e-02 \u001b[0m \n",
      " 137 | 6.685e-01 | 1.738e-01 | 5.073e-01 | 1.620e-01 | 1.263e-01 | 2.187e-01 | 2.839e-02 | 1.187e-03 |   7.94    \n",
      "\u001b[10;43;1m TR-radius:\u001b[0m \u001b[0;33;2m 1.136e-01 \u001b[0m \u001b[0;33;2m 4.543e-01 \u001b[0m \u001b[0;33;2m 1.817e+00 \u001b[0m \u001b[0;33;2m 7.268e+00 \u001b[0m \u001b[0;33;2m 2.907e+01 \u001b[0m \u001b[0;33;2m 1.163e+02 \u001b[0m \n",
      " 138 | 6.685e-01 | 1.725e-01 | 5.073e-01 | 1.618e-01 | 1.827e-02 | 2.914e-02 | 4.652e+01 | 7.261e-04 |     8     \n",
      " 139 | 6.685e-01 | 1.727e-01 | 5.071e-01 | 1.618e-01 | 6.013e-03 | 9.267e-03 | 1.861e+01 | 1.309e-04 |   8.07    \n",
      " 140 | 6.685e-01 | 1.727e-01 | 5.067e-01 | 1.618e-01 | 3.788e-03 | 6.560e-03 | 7.443e+00 | 2.033e-04 |   8.13    \n",
      " 141 | 6.685e-01 | 1.726e-01 | 5.063e-01 | 1.618e-01 | 2.000e-03 | 3.420e-03 | 2.977e+00 | 2.682e-04 |   8.19    \n",
      " 142 | 6.685e-01 | 1.726e-01 | 5.059e-01 | 1.618e-01 | 6.853e-04 | 1.013e-03 | 1.191e+00 | 2.066e-04 |   8.24    \n",
      " 143 | 6.685e-01 | 1.726e-01 | 5.058e-01 | 1.618e-01 | 1.145e-03 | 1.983e-03 | 4.763e-01 | 7.834e-05 |    8.3    \n",
      " 144 | 6.685e-01 | 1.726e-01 | 5.057e-01 | 1.618e-01 | 2.914e-03 | 5.020e-03 | 1.905e-01 | 3.904e-05 |   8.35    \n",
      " 145 | 6.684e-01 | 1.725e-01 | 5.057e-01 | 1.618e-01 | 8.123e-03 | 1.400e-02 | 7.621e-02 | 6.553e-05 |   8.41    \n",
      "\u001b[10;43;1m TR-radius:\u001b[0m \u001b[0;33;2m 3.049e-01 \u001b[0m \n",
      " 146 | 6.683e-01 | 1.724e-01 | 5.056e-01 | 1.618e-01 | 4.938e-03 | 8.367e-03 | 1.219e-01 | 9.157e-05 |   8.46    \n",
      " 147 | 6.681e-01 | 1.724e-01 | 5.057e-01 | 1.618e-01 | 5.486e-03 | 9.439e-03 | 4.878e-02 | 1.216e-04 |   8.52    \n",
      "\u001b[10;43;1m TR-radius:\u001b[0m \u001b[0;33;2m 1.951e-01 \u001b[0m \n",
      " 148 | 6.681e-01 | 1.722e-01 | 5.057e-01 | 1.618e-01 | 3.781e-04 | 5.962e-04 | 7.804e-02 | 8.805e-05 |   8.58    \n",
      "\u001b[10;43;1m TR-radius:\u001b[0m \u001b[0;33;2m 3.122e-01 \u001b[0m \u001b[0;33;2m 1.249e+00 \u001b[0m \u001b[0;33;2m 4.995e+00 \u001b[0m \u001b[0;33;2m 1.998e+01 \u001b[0m \u001b[0;33;2m 7.992e+01 \u001b[0m \u001b[0;33;2m 3.197e+02 \u001b[0m \u001b[0;33;2m 1.279e+03 \u001b[0m \u001b[0;33;2m 5.115e+03 \u001b[0m \u001b[0;33;2m 2.046e+04 \u001b[0m \u001b[0;33;2m 8.183e+04 \u001b[0m \u001b[0;33;2m 3.273e+05 \u001b[0m \u001b[0;33;2m 1.309e+06 \u001b[0m \u001b[0;33;2m 5.237e+06 \u001b[0m \u001b[0;33;2m 2.095e+07 \u001b[0m \u001b[0;33;2m 8.380e+07 \u001b[0m \u001b[0;33;2m 3.352e+08 \u001b[0m \u001b[0;33;2m 1.341e+09 \u001b[0m \u001b[0;33;2m 5.363e+09 \u001b[0m \u001b[0;33;2m 2.145e+10 \u001b[0m \u001b[0;33;2m 8.581e+10 \u001b[0m \n",
      " 149 | 6.681e-01 | 1.722e-01 | 5.057e-01 | 1.618e-01 | 3.805e-04 | 6.006e-04 | 3.432e+10 | 4.392e-15 |   8.64    \n",
      "\u001b[10;43;1m TR-radius:\u001b[0m \u001b[0;33;2m 1.373e+11 \u001b[0m \u001b[0;33;2m 5.492e+11 \u001b[0m \n",
      " 150 | 6.681e-01 | 1.722e-01 | 5.057e-01 | 1.618e-01 | 3.922e-04 | 6.222e-04 | 2.197e+11 | 6.755e-16 |   8.69    \n",
      "\u001b[10;43;1m TR-radius:\u001b[0m \u001b[0;33;2m 8.787e+11 \u001b[0m \u001b[0;33;2m 3.515e+12 \u001b[0m \u001b[0;33;2m 1.406e+13 \u001b[0m \u001b[0;33;2m 5.624e+13 \u001b[0m \u001b[0;33;2m 2.249e+14 \u001b[0m \u001b[0;33;2m 8.998e+14 \u001b[0m \u001b[0;33;2m 3.599e+15 \u001b[0m \u001b[0;33;2m 1.440e+16 \u001b[0m \u001b[0;33;2m 5.759e+16 \u001b[0m \u001b[0;33;2m 2.303e+17 \u001b[0m \u001b[0;33;2m 9.214e+17 \u001b[0m \u001b[0;33;2m 3.686e+18 \u001b[0m \u001b[10;42;1m  No more directions  \u001b[10;42;1m\n",
      "\u001b[0m\u001b[10;32;3m\n",
      "Algorithm stopped after 8.6917 seconds and 150 iterations.\n",
      "\u001b[0m\n",
      "[0.66805134 0.17223737 0.50569583] 0.1618298782981661\n"
     ]
    }
   ],
   "source": [
    "ᾱ, ρ, every_iter, best = RPQN(α, iters=2000, save_iter = True, critical = 1)"
   ]
  },
  {
   "cell_type": "code",
   "execution_count": 63,
   "id": "9daec84c",
   "metadata": {},
   "outputs": [
    {
     "name": "stdout",
     "output_type": "stream",
     "text": [
      "[0.9388062  0.85600077 0.96580261 0.92082964]    0.9629017280032005\n"
     ]
    }
   ],
   "source": [
    "print(1 - (simpson((ρ-ρ̂)**2, x=Tₑ) * dw), '  ', r2_score(ρ̂,ρ, sample_weight=dw))"
   ]
  },
  {
   "cell_type": "markdown",
   "id": "7e05b9e9",
   "metadata": {},
   "source": [
    "---"
   ]
  },
  {
   "cell_type": "code",
   "execution_count": 64,
   "id": "5a95fb53",
   "metadata": {},
   "outputs": [
    {
     "data": {
      "text/plain": [
       "(0.06599081379835904,\n",
       " array([2.24977272e-03, 2.80621391e-03, 4.20986595e-05, 8.95687206e-07]))"
      ]
     },
     "execution_count": 64,
     "metadata": {},
     "output_type": "execute_result"
    }
   ],
   "source": [
    "simpson((ρ-ρ̂)**2, x=Tₑ).sum(),  ϑᵀᵉʳ * ((ρ[:,-1] - ρ̂ᶠ)**2) "
   ]
  },
  {
   "cell_type": "code",
   "execution_count": 65,
   "id": "3d0c21c9",
   "metadata": {},
   "outputs": [
    {
     "data": {
      "text/plain": [
       "array([ 0.14999242,  0.16751758, -0.02051796,  0.0029928 ])"
      ]
     },
     "execution_count": 65,
     "metadata": {},
     "output_type": "execute_result"
    }
   ],
   "source": [
    "((ρ[:,-1] - ρ̂ᶠ))"
   ]
  },
  {
   "cell_type": "markdown",
   "id": "80e25b0d",
   "metadata": {},
   "source": [
    "---"
   ]
  },
  {
   "cell_type": "markdown",
   "id": "ed8b95fa",
   "metadata": {},
   "source": [
    "---"
   ]
  },
  {
   "cell_type": "code",
   "execution_count": 62,
   "id": "1c3f37e8",
   "metadata": {},
   "outputs": [],
   "source": [
    "#CMap = get_cmap('Wistia')\n",
    "CMap = colormaps['BuGn']\n",
    "colours_nmAPG = CMap(150)"
   ]
  },
  {
   "cell_type": "code",
   "execution_count": 63,
   "id": "ac607e56",
   "metadata": {
    "code_folding": [
     0
    ]
   },
   "outputs": [
    {
     "data": {
      "image/png": "[encoded data removed]",
      "text/plain": [
       "<Figure size 2000x350 with 2 Axes>"
      ]
     },
     "metadata": {},
     "output_type": "display_data"
    }
   ],
   "source": [
    "# Visualise evolution of objective values\n",
    "plt.figure(figsize = (20,3.5))\n",
    "\n",
    "plt.subplot(1, 2, 1)\n",
    "plt.plot(every_iter['obj'] - min(every_iter['obj']), c = colours_nmAPG)\n",
    "plt.yscale('log');    \n",
    "plt.title('Objective values per iteration')\n",
    "plt.xlabel('Iteration count');    plt.ylabel('Objective cost (log scale)')\n",
    "plt.subplot(1, 2, 2)\n",
    "plt.plot(every_iter['time'],every_iter['obj'] - min(every_iter['obj']), c = colours_nmAPG)\n",
    "plt.yscale('log')\n",
    "plt.title('Objective values per iteration')\n",
    "plt.xlabel('Time');    plt.ylabel('Objective cost (log scale)')\n",
    "\n",
    "#plt.savefig(out_folder+'Objective.pdf', bbox_inches='tight',transparent=True)\n",
    "plt.show()"
   ]
  },
  {
   "cell_type": "code",
   "execution_count": 64,
   "id": "d3257f93",
   "metadata": {
    "code_folding": [
     0
    ]
   },
   "outputs": [
    {
     "data": {
      "image/png": "[encoded data removed]",
      "text/plain": [
       "<Figure size 1600x350 with 4 Axes>"
      ]
     },
     "metadata": {},
     "output_type": "display_data"
    }
   ],
   "source": [
    "# Plot state \n",
    "fig, ax = plt.subplots(1, 4, figsize=(16, 3.5))\n",
    "#fig, ax = plt.subplots(1, 4, figsize=(12, 3))\n",
    "\n",
    "# Add state\n",
    "ax[0].plot(Tₑ*7, ρ[0]/n, '-', c=colours_nmAPG, linewidth=2)\n",
    "#ax[0].plot(Tₑ*7, 1-ρ[0]/n, '-', c=colours_nmAPG, linewidth=2)\n",
    "ax[1].plot(Tₑ*7, ρ[1]/n, '-', c=colours_nmAPG, linewidth=2)\n",
    "ax[2].plot(Tₑ*7, ρ[2]/n, '-', c=colours_nmAPG, linewidth=2)\n",
    "ax[3].plot(Tₑ*7, ρ[3]/n, '-', c=colours_nmAPG, linewidth=2)\n",
    "    \n",
    "# Add target\n",
    "ax[0].plot(Tₑ*7, ρ̂[0]/n, ':', c='black', linewidth=3)\n",
    "ax[1].plot(Tₑ*7, ρ̂[1]/n, ':', c='black', linewidth=3)\n",
    "ax[2].plot(Tₑ*7, ρ̂[2]/n, ':', c='black', linewidth=3)\n",
    "ax[3].plot(Tₑ*7, ρ̂[3]/n, ':', c='black', linewidth=3)\n",
    "\n",
    "ax[0].set_xlabel(r'Time $t$');    ax[0].set_title(r'Susceptible')\n",
    "ax[1].set_xlabel(r'Time $t$');    ax[1].set_title(r'Infected')\n",
    "ax[2].set_xlabel(r'Time $t$');    ax[2].set_title(r'Recovered')\n",
    "ax[3].set_xlabel(r'Time $t$');    ax[3].set_title(r'Fatalities')\n",
    "\n",
    "ax[0].set_ylabel('Population %')\n",
    "\n",
    "#ax[0].set_yscale('log');    ax[1].set_yscale('log');    ax[2].set_yscale('log')\n",
    "\n",
    "#plt.legend(bbox_to_anchor=(1.54, 1), loc=\"upper right\", shadow=True, ncol=2, title='θ')\n",
    "fig.tight_layout()\n",
    "#plt.savefig('Outputs/BD - Scalar.pdf', bbox_inches='tight', pad_inches=0)"
   ]
  },
  {
   "cell_type": "code",
   "execution_count": 65,
   "id": "ff5f6a5b",
   "metadata": {},
   "outputs": [],
   "source": [
    "obj_eval(ᾱ);"
   ]
  },
  {
   "cell_type": "code",
   "execution_count": 66,
   "id": "3ccb2235",
   "metadata": {},
   "outputs": [
    {
     "data": {
      "text/plain": [
       "array([1.87913343e-05, 1.88886544e-05, 7.90819137e-04])"
      ]
     },
     "execution_count": 66,
     "metadata": {},
     "output_type": "execute_result"
    }
   ],
   "source": [
    "df"
   ]
  },
  {
   "cell_type": "code",
   "execution_count": 67,
   "id": "b2eea9f5",
   "metadata": {
    "code_folding": [
     0
    ]
   },
   "outputs": [
    {
     "data": {
      "image/png": "[encoded data removed]",
      "text/plain": [
       "<Figure size 1600x350 with 3 Axes>"
      ]
     },
     "metadata": {},
     "output_type": "display_data"
    }
   ],
   "source": [
    "# Plot adjoint\n",
    "fig, ax = plt.subplots(1, 3, figsize=(16, 3.5))\n",
    "\n",
    "# Add state\n",
    "ax[0].plot(Tₑ*7, q[0], '-', c=colours_nmAPG, linewidth=2)\n",
    "ax[1].plot(Tₑ*7, q[1], '-', c=colours_nmAPG, linewidth=2)\n",
    "ax[2].plot(Tₑ*7, q[2], '-', c=colours_nmAPG, linewidth=2)\n",
    "    \n",
    "\n",
    "ax[0].set_xlabel(r'Time $t$');    ax[0].set_title(r'Susceptible')\n",
    "ax[1].set_xlabel(r'Time $t$');    ax[1].set_title(r'Infected')\n",
    "ax[2].set_xlabel(r'Time $t$');    ax[2].set_title(r'Recovered')\n",
    "\n",
    "\n",
    "\n",
    "#ax[0].set_yscale('log');    ax[1].set_yscale('log');    ax[2].set_yscale('log')\n",
    "\n",
    "#plt.legend(bbox_to_anchor=(1.54, 1), loc=\"upper right\", shadow=True, ncol=2, title='θ')\n",
    "fig.tight_layout()\n",
    "#plt.savefig('Outputs/Regularisation – States – FISTA.pdf', bbox_inches='tight', pad_inches=0)"
   ]
  },
  {
   "cell_type": "code",
   "execution_count": 68,
   "id": "9b60d969",
   "metadata": {
    "code_folding": [
     0
    ]
   },
   "outputs": [
    {
     "data": {
      "image/png": "[encoded data removed]",
      "text/plain": [
       "<Figure size 1600x500 with 3 Axes>"
      ]
     },
     "metadata": {},
     "output_type": "display_data"
    }
   ],
   "source": [
    "# Plot state \n",
    "fig, ax = plt.subplots(1, 3, figsize=(16, 5))\n",
    "colors = ['xkcd:red','xkcd:orange','xkcd:teal','xkcd:gray']\n",
    "\n",
    "# Add state\n",
    "ax[0].plot(Tₑ*7, ρ[0].T * ppl_scales / SIRD_data[0].sum(), '-', linewidth=2)\n",
    "ax[0].plot(Tₑ*7, ρ[1:].T* ppl_scales / SIRD_data[0].sum(), '-', linewidth=2)\n",
    "for i, line in enumerate(ax[0].get_lines()):    line.set_color(colors[i])\n",
    "ax[0].legend(['$1-ρ_{\\,\\mathsf{S}}$', '$ρ_{\\,\\mathsf{I}}$', '$ρ_{\\,\\mathsf{R}}$', '$ρ_{\\,\\mathsf{D}}$'], shadow=True, loc='upper left')\n",
    "\n",
    "ax[0].plot(Tₑ*7, ρ̂[0].T * ppl_scales/SIRD_data[0].sum(), ':', c='black', linewidth=2)\n",
    "ax[0].plot(Tₑ*7, ρ̂[1:].T* ppl_scales/SIRD_data[0].sum(), ':', c='black', linewidth=2)\n",
    "\n",
    "ax[1].plot(Tₑ*7, ᾱ[0]*aᵦ/(time_scale*ppl_scales) * ones(Tₑ.size), '-', c='xkcd:red', linewidth=2)   #scale to original units\n",
    "ax[1].plot(Tₑ*7, ᾱ[1]*aᵧ/time_scale * ones(Tₑ.size), '-', c='xkcd:orange', linewidth=2)\n",
    "ax[1].plot(Tₑ*7, ᾱ[2]*aₘ/time_scale * ones(Tₑ.size), '-', c='xkcd:teal', linewidth=2)\n",
    "ax[1].legend(['$β$', '$γ$', '$m$'], shadow=True, loc='upper left')\n",
    "\n",
    "ax[2].plot(Tₑ*7, df[0]  * ones(Tₑ.size), '-', c='xkcd:red', linewidth=2)\n",
    "ax[2].plot(Tₑ*7, df[1] * ones(Tₑ.size), '-', c='xkcd:orange', linewidth=2)\n",
    "ax[2].plot(Tₑ*7, df[2] * ones(Tₑ.size), '-', c='xkcd:teal', linewidth=2)\n",
    "ax[2].legend(['$\\partial_β j$', '$\\partial_γ j$', '$\\partial_m j$'], shadow=True, loc='upper left')\n",
    "\n",
    "\n",
    "ax[0].set_xlabel(r'Time $t$ (days)');    ax[0].set_title(r'$\\rho$')\n",
    "ax[1].set_xlabel(r'Time $t$ (days)');    ax[1].set_title(r'$\\alpha$')\n",
    "ax[2].set_xlabel(r'Time $t$ (days)');    ax[2].set_title(r'$\\nabla j$')\n",
    "\n",
    "ax[0].set_ylabel('Population %')\n",
    "ax[1].set_ylabel('Population rates')\n",
    "ax[2].set_ylabel('Values')\n",
    "\n",
    "ax[0].set_yscale('log')#, linthresh=1e-2)\n",
    "ax[1].set_yscale('log')\n",
    "#ax[1].set_ylim([1e-8, 30*ᾱ.data[2].max()])\n",
    "\n",
    "#ax[0].set_yscale('log');    ax[1].set_yscale('log');    \n",
    "ax[2].set_yscale('symlog', linthresh=1e-5)\n",
    "\n",
    "#plt.legend(bbox_to_anchor=(1.54, 1), loc=\"upper right\", shadow=True, ncol=2, title='θ')\n",
    "fig.tight_layout()\n",
    "#plt.savefig('Outputs/DD – Panels – RPQN - H.pdf', bbox_inches='tight', pad_inches=0)"
   ]
  },
  {
   "cell_type": "code",
   "execution_count": 69,
   "id": "aab23e19",
   "metadata": {},
   "outputs": [
    {
     "data": {
      "text/plain": [
       "1.1064352376743798e-06"
      ]
     },
     "execution_count": 69,
     "metadata": {},
     "output_type": "execute_result"
    }
   ],
   "source": [
    "(aᵧ * ᾱ[1] + aₘ * ᾱ[2]).max() /(time_scale * ppl_scales)"
   ]
  },
  {
   "cell_type": "markdown",
   "id": "8fd19f7b",
   "metadata": {},
   "source": [
    "---"
   ]
  },
  {
   "cell_type": "markdown",
   "id": "1cf8ae7f",
   "metadata": {},
   "source": [
    "### Store"
   ]
  },
  {
   "cell_type": "code",
   "execution_count": 70,
   "id": "cee37114",
   "metadata": {},
   "outputs": [
    {
     "data": {
      "text/html": [
       "<div>\n",
       "<style scoped>\n",
       "    .dataframe tbody tr th:only-of-type {\n",
       "        vertical-align: middle;\n",
       "    }\n",
       "\n",
       "    .dataframe tbody tr th {\n",
       "        vertical-align: top;\n",
       "    }\n",
       "\n",
       "    .dataframe thead th {\n",
       "        text-align: right;\n",
       "    }\n",
       "</style>\n",
       "<table border=\"1\" class=\"dataframe\">\n",
       "  <thead>\n",
       "    <tr style=\"text-align: right;\">\n",
       "      <th></th>\n",
       "      <th>it</th>\n",
       "      <th>obj</th>\n",
       "      <th>time</th>\n",
       "      <th>β</th>\n",
       "      <th>γ</th>\n",
       "      <th>m</th>\n",
       "      <th>df_β</th>\n",
       "      <th>df_γ</th>\n",
       "      <th>df_m</th>\n",
       "      <th>norms-ℓ_1</th>\n",
       "      <th>norms-ℓ_2</th>\n",
       "      <th>norms-max</th>\n",
       "      <th>norms-min</th>\n",
       "    </tr>\n",
       "  </thead>\n",
       "  <tbody>\n",
       "    <tr>\n",
       "      <th>40</th>\n",
       "      <td>40</td>\n",
       "      <td>0.16183</td>\n",
       "      <td>2.278411</td>\n",
       "      <td>0.667998</td>\n",
       "      <td>0.172210</td>\n",
       "      <td>0.505743</td>\n",
       "      <td>0.000019</td>\n",
       "      <td>0.000864</td>\n",
       "      <td>-0.000039</td>\n",
       "      <td>0.000307</td>\n",
       "      <td>0.000500</td>\n",
       "      <td>0.000864</td>\n",
       "      <td>0.000019</td>\n",
       "    </tr>\n",
       "    <tr>\n",
       "      <th>41</th>\n",
       "      <td>41</td>\n",
       "      <td>0.16183</td>\n",
       "      <td>2.330442</td>\n",
       "      <td>0.667996</td>\n",
       "      <td>0.172205</td>\n",
       "      <td>0.505741</td>\n",
       "      <td>0.000019</td>\n",
       "      <td>0.000137</td>\n",
       "      <td>0.000002</td>\n",
       "      <td>0.000052</td>\n",
       "      <td>0.000080</td>\n",
       "      <td>0.000137</td>\n",
       "      <td>0.000002</td>\n",
       "    </tr>\n",
       "    <tr>\n",
       "      <th>42</th>\n",
       "      <td>42</td>\n",
       "      <td>0.16183</td>\n",
       "      <td>2.386074</td>\n",
       "      <td>0.667995</td>\n",
       "      <td>0.172205</td>\n",
       "      <td>0.505741</td>\n",
       "      <td>0.000019</td>\n",
       "      <td>0.000090</td>\n",
       "      <td>-0.000004</td>\n",
       "      <td>0.000038</td>\n",
       "      <td>0.000053</td>\n",
       "      <td>0.000090</td>\n",
       "      <td>0.000004</td>\n",
       "    </tr>\n",
       "    <tr>\n",
       "      <th>43</th>\n",
       "      <td>43</td>\n",
       "      <td>0.16183</td>\n",
       "      <td>2.443435</td>\n",
       "      <td>0.667994</td>\n",
       "      <td>0.172204</td>\n",
       "      <td>0.505742</td>\n",
       "      <td>0.000019</td>\n",
       "      <td>0.000034</td>\n",
       "      <td>0.000006</td>\n",
       "      <td>0.000019</td>\n",
       "      <td>0.000023</td>\n",
       "      <td>0.000034</td>\n",
       "      <td>0.000006</td>\n",
       "    </tr>\n",
       "    <tr>\n",
       "      <th>44</th>\n",
       "      <td>44</td>\n",
       "      <td>0.16183</td>\n",
       "      <td>2.497674</td>\n",
       "      <td>0.667994</td>\n",
       "      <td>0.172203</td>\n",
       "      <td>0.505742</td>\n",
       "      <td>0.000019</td>\n",
       "      <td>0.000019</td>\n",
       "      <td>0.000008</td>\n",
       "      <td>0.000015</td>\n",
       "      <td>0.000016</td>\n",
       "      <td>0.000019</td>\n",
       "      <td>0.000008</td>\n",
       "    </tr>\n",
       "  </tbody>\n",
       "</table>\n",
       "</div>"
      ],
      "text/plain": [
       "    it      obj      time         β         γ         m      df_β      df_γ  \\\n",
       "40  40  0.16183  2.278411  0.667998  0.172210  0.505743  0.000019  0.000864   \n",
       "41  41  0.16183  2.330442  0.667996  0.172205  0.505741  0.000019  0.000137   \n",
       "42  42  0.16183  2.386074  0.667995  0.172205  0.505741  0.000019  0.000090   \n",
       "43  43  0.16183  2.443435  0.667994  0.172204  0.505742  0.000019  0.000034   \n",
       "44  44  0.16183  2.497674  0.667994  0.172203  0.505742  0.000019  0.000019   \n",
       "\n",
       "        df_m  norms-ℓ_1  norms-ℓ_2  norms-max  norms-min  \n",
       "40 -0.000039   0.000307   0.000500   0.000864   0.000019  \n",
       "41  0.000002   0.000052   0.000080   0.000137   0.000002  \n",
       "42 -0.000004   0.000038   0.000053   0.000090   0.000004  \n",
       "43  0.000006   0.000019   0.000023   0.000034   0.000006  \n",
       "44  0.000008   0.000015   0.000016   0.000019   0.000008  "
      ]
     },
     "metadata": {},
     "output_type": "display_data"
    }
   ],
   "source": [
    "every_iter['obj'] = asarray(every_iter['obj'])\n",
    "#df_every = pd.DataFrame.from_dict(every_iter)\n",
    "df_every = pd.concat([\n",
    "                pd.DataFrame.from_dict( {a:b for a,b in every_iter.items() if a not in ['norms'] } ),\n",
    "                pd.DataFrame.from_dict( {'norms-'+a:b for a,b in every_iter['norms'].items()} )], axis = 1)\n",
    "display(df_every.tail())\n",
    "#\n",
    "#df_every.to_pickle('Outputs/DD – RPQN - Every - H.pkl') # To read back use pd.read_pickle(file_name)"
   ]
  },
  {
   "cell_type": "code",
   "execution_count": 71,
   "id": "1f02a9cc",
   "metadata": {},
   "outputs": [
    {
     "data": {
      "text/html": [
       "<div>\n",
       "<style scoped>\n",
       "    .dataframe tbody tr th:only-of-type {\n",
       "        vertical-align: middle;\n",
       "    }\n",
       "\n",
       "    .dataframe tbody tr th {\n",
       "        vertical-align: top;\n",
       "    }\n",
       "\n",
       "    .dataframe thead th {\n",
       "        text-align: right;\n",
       "    }\n",
       "</style>\n",
       "<table border=\"1\" class=\"dataframe\">\n",
       "  <thead>\n",
       "    <tr style=\"text-align: right;\">\n",
       "      <th></th>\n",
       "      <th>it</th>\n",
       "      <th>obj</th>\n",
       "      <th>time</th>\n",
       "      <th>β</th>\n",
       "      <th>γ</th>\n",
       "      <th>m</th>\n",
       "      <th>df_β</th>\n",
       "      <th>df_γ</th>\n",
       "      <th>df_m</th>\n",
       "      <th>norms-ℓ_1</th>\n",
       "      <th>norms-ℓ_2</th>\n",
       "      <th>norms-max</th>\n",
       "      <th>norms-min</th>\n",
       "    </tr>\n",
       "  </thead>\n",
       "  <tbody>\n",
       "    <tr>\n",
       "      <th>[1e-09, 1e-09, 1e-09]</th>\n",
       "      <td>44</td>\n",
       "      <td>0.16183</td>\n",
       "      <td>2.497674</td>\n",
       "      <td>0.667994</td>\n",
       "      <td>0.172203</td>\n",
       "      <td>0.505742</td>\n",
       "      <td>0.000019</td>\n",
       "      <td>0.000019</td>\n",
       "      <td>0.000008</td>\n",
       "      <td>0.000015</td>\n",
       "      <td>0.000016</td>\n",
       "      <td>0.000019</td>\n",
       "      <td>0.000008</td>\n",
       "    </tr>\n",
       "  </tbody>\n",
       "</table>\n",
       "</div>"
      ],
      "text/plain": [
       "                       it      obj      time         β         γ         m  \\\n",
       "[1e-09, 1e-09, 1e-09]  44  0.16183  2.497674  0.667994  0.172203  0.505742   \n",
       "\n",
       "                           df_β      df_γ      df_m  norms-ℓ_1  norms-ℓ_2  \\\n",
       "[1e-09, 1e-09, 1e-09]  0.000019  0.000019  0.000008   0.000015   0.000016   \n",
       "\n",
       "                       norms-max  norms-min  \n",
       "[1e-09, 1e-09, 1e-09]   0.000019   0.000008  "
      ]
     },
     "execution_count": 71,
     "metadata": {},
     "output_type": "execute_result"
    }
   ],
   "source": [
    "# Store info from iterate with smallest objective\n",
    "ArgMin_nmAPG = df_every.idxmin()['obj']\n",
    "#Out_θ = \n",
    "df_every.loc[[ArgMin_nmAPG]].rename(index={ArgMin_nmAPG:θ}).copy()"
   ]
  },
  {
   "cell_type": "code",
   "execution_count": 72,
   "id": "1660b950",
   "metadata": {},
   "outputs": [
    {
     "data": {
      "text/plain": [
       "array([4.16951719e-10, 2.46004957e-02, 7.22488029e-04])"
      ]
     },
     "execution_count": 72,
     "metadata": {},
     "output_type": "execute_result"
    }
   ],
   "source": [
    "asarray([0.66799418, 0.17220347, 0.50574162]) * [aᵦ/(time_scale*ppl_scales), aᵧ/time_scale, aₘ/time_scale]"
   ]
  },
  {
   "cell_type": "markdown",
   "id": "6b51292b",
   "metadata": {},
   "source": [
    "---"
   ]
  },
  {
   "cell_type": "code",
   "execution_count": 62,
   "id": "76c1ad94",
   "metadata": {},
   "outputs": [],
   "source": [
    "#np.savez_compressed('Outputs/DD – RPQN – Best - H', best = best)"
   ]
  },
  {
   "cell_type": "code",
   "execution_count": 63,
   "id": "33147ba7",
   "metadata": {},
   "outputs": [],
   "source": [
    "#np.load('Outputs/DD – nmAPG – Best.npz', allow_pickle=True)['best']"
   ]
  },
  {
   "cell_type": "markdown",
   "id": "d806a51e",
   "metadata": {},
   "source": [
    "---"
   ]
  }
 ],
 "metadata": {
  "kernelspec": {
   "display_name": "A - Python 3",
   "language": "python",
   "name": "python3"
  },
  "language_info": {
   "codemirror_mode": {
    "name": "ipython",
    "version": 3
   },
   "file_extension": ".py",
   "mimetype": "text/x-python",
   "name": "python",
   "nbconvert_exporter": "python",
   "pygments_lexer": "ipython3",
   "version": "3.10.14"
  },
  "nbTranslate": {
   "displayLangs": [
    "*"
   ],
   "hotkey": "alt-t",
   "langInMainMenu": true,
   "sourceLang": "en",
   "targetLang": "fr",
   "useGoogleTranslate": true
  }
 },
 "nbformat": 4,
 "nbformat_minor": 5
}
