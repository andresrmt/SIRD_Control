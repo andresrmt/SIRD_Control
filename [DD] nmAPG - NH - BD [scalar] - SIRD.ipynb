{
 "cells": [
  {
   "cell_type": "code",
   "execution_count": 1,
   "id": "ebc070c8",
   "metadata": {
    "code_folding": [
     0
    ],
    "deletable": false,
    "editable": false,
    "run_control": {
     "frozen": true
    }
   },
   "outputs": [
    {
     "data": {
      "text/html": [
       "<style>.container { width:90% !important; }</style>"
      ],
      "text/plain": [
       "<IPython.core.display.HTML object>"
      ]
     },
     "metadata": {},
     "output_type": "display_data"
    },
    {
     "data": {
      "text/html": [
       "<style>.output_result { width:90% !important; }</style>"
      ],
      "text/plain": [
       "<IPython.core.display.HTML object>"
      ]
     },
     "metadata": {},
     "output_type": "display_data"
    },
    {
     "data": {
      "text/html": [
       " <style>\n",
       ".output_png {\n",
       "    display: table-cell;\n",
       "    text-align: center;\n",
       "    vertical-align: middle;\n",
       "}\n",
       "</style> "
      ],
      "text/plain": [
       "<IPython.core.display.HTML object>"
      ]
     },
     "metadata": {},
     "output_type": "display_data"
    }
   ],
   "source": [
    "# Window\n",
    "from IPython.display import display, HTML\n",
    "display(HTML(\"<style>.container { width:90% !important; }</style>\"))\n",
    "display(HTML(\"<style>.output_result { width:90% !important; }</style>\"))\n",
    "display(HTML(\"\"\" <style>\n",
    ".output_png {\n",
    "    display: table-cell;\n",
    "    text-align: center;\n",
    "    vertical-align: middle;\n",
    "}\n",
    "</style> \"\"\"))"
   ]
  },
  {
   "cell_type": "markdown",
   "id": "d5db955c",
   "metadata": {},
   "source": [
    "<div class=\"alert alert-block alert-danger\">\n",
    "These notebooks are better visualized using codefolding from Jupyter\n",
    "    <a href=\\\"https://jupyter-contrib-nbextensions.readthedocs.io/en/latest/\\\">extensions</a>.\n",
    "</div>"
   ]
  },
  {
   "cell_type": "markdown",
   "id": "bcf8b56e",
   "metadata": {},
   "source": [
    "# SIRD parameter learning using nmAPG with Tikhonov regularisation"
   ]
  },
  {
   "cell_type": "markdown",
   "id": "6311b244",
   "metadata": {},
   "source": [
    "$\\newcommand{\\R}{\\,\\mathbb{R}} \\newcommand{\\dif}{\\mathrm{d}} \\newcommand{\\diag}{\\mathrm{diag}} \\newcommand{\\vec}{\\mathrm{vec}}  \\newcommand{\\circulant}{\\mathrm{circ}} \\newcommand{\\mat}{\\mathrm{mat}} \\newcommand{\\ifft}{\\hat{\\mathcal{F}}} \\newcommand{\\fft}{\\mathcal{F}}$\n",
    "<div class=\"alert alert-block alert-success\">\n",
    "This notebook aims to solve the minimisation problem\n",
    "\\begin{align}\n",
    "    \\min_{\\alpha \\in [L^2(0,1)]^3} f(\\alpha) = \\frac{1}{2} \\| \\rho - \\widehat{\\rho} \\|_2^2 + \\frac{\\theta}{2} \\|\\alpha\\|_2^2 + \\frac{\\vartheta}{2} \\| \\rho(T) - \\widehat{\\rho}(T) \\|^2_{\\R^3},\n",
    "\\end{align}\n",
    "where $\\rho = (\\begin{smallmatrix} \\sigma & I & R \\end{smallmatrix})$ comes from the solution of a change of variables applied to the Susceptibles, Infected, and Recovered (SIR) model, and $\\widehat{\\rho}$ is a target and known state. The regularisation parameters $\\theta$ and $\\vartheta$ are non negative. We will study the effect of this parameter on the choice of the control pair $\\alpha$.\n",
    "    \n",
    "For each pair of parameters $\\alpha = (\\beta, \\gamma, m) \\in [0,1]^3$ corresponding to the transmission and the recovery rates, the three variables $S(t)$, $I(t)$, and $R(t)$ are governed by the following differential equations\n",
    "    \n",
    "\\begin{align}\n",
    "    \\tag{$\\star$}\n",
    "\\begin{aligned}\n",
    "    \\frac{\\dif \\sigma}{\\dif t} &= a_1\\beta (\\mathsf{n} - \\sigma) I,\n",
    "    \\\\\n",
    "    \\frac{\\dif I}{\\dif t} &= a_1\\beta (\\mathsf{n} - \\sigma) I - (a_2\\gamma + a_3 m) I,\n",
    "    \\\\\n",
    "    \\frac{\\dif R}{\\dif t} &= a_2\\gamma I,\n",
    "    \\\\\n",
    "    \\frac{\\dif D}{\\dif t} &= a_3 m I.\n",
    "\\end{aligned}\n",
    "\\end{align}\n",
    "We note that $ \\mathsf{n} $ is the total population at the start of the study.\n",
    "    \n",
    "</div>"
   ]
  },
  {
   "cell_type": "code",
   "execution_count": 1,
   "id": "f06624db",
   "metadata": {
    "code_folding": [
     0
    ]
   },
   "outputs": [],
   "source": [
    "# Packages\n",
    "import time\n",
    "import numpy  as np\n",
    "import pandas as pd\n",
    "import gurobipy as GRB\n",
    "import matplotlib.pyplot as plt\n",
    "plt.style.use('ggplot')"
   ]
  },
  {
   "cell_type": "code",
   "execution_count": 2,
   "id": "97525ebb",
   "metadata": {},
   "outputs": [],
   "source": [
    "from scipy.integrate import solve_ivp"
   ]
  },
  {
   "cell_type": "code",
   "execution_count": 3,
   "id": "3a4ecde6",
   "metadata": {
    "code_folding": [
     0
    ]
   },
   "outputs": [],
   "source": [
    "# Single function imports\n",
    "from numpy           import array, asarray, sin, cos, zeros, linspace, argmin, meshgrid, unravel_index\n",
    "from numpy           import concatenate, minimum, maximum, exp, ones, eye, empty, append, diagflat, tril, triu\n",
    "from numpy.random    import default_rng as rng\n",
    "from scipy.linalg    import norm, eigvals, inv\n",
    "from scipy.integrate import simpson, trapezoid\n",
    "from scipy.optimize  import minimize, Bounds\n",
    "from scipy.interpolate import CubicHermiteSpline, interp1d\n",
    "from scipy.sparse.linalg import LinearOperator\n",
    "from scipy.sparse    import eye as speye\n",
    "from scipy.sparse    import bmat\n",
    "from numpy.polynomial.chebyshev import chebpts1\n",
    "from matplotlib import colormaps"
   ]
  },
  {
   "cell_type": "markdown",
   "id": "82165e2b",
   "metadata": {},
   "source": [
    "# Model scaling"
   ]
  },
  {
   "cell_type": "markdown",
   "id": "4619f826",
   "metadata": {},
   "source": [
    "We scale the baseline original ODE system for the SIRD model. Assuming $\\overline{\\rho}(\\tau)$ satisfies the original SIRD ODE system above with parameters $\\overline\\alpha = (\\overline\\beta, \\overline\\gamma, \\overline{m})$ and initial condition $\\overline{\\rho}_0$, then $(\\star)$ above is related with $\\overline{\\rho}$ via the relationships\n",
    "\n",
    "* Population scaling: $\\overline{\\rho} = s_1 \\rho$, where $ \\rho_{\\mathsf{S}} = \\mathsf{n} - \\sigma $,\n",
    "\n",
    "* Time scaling: $\\tau = s_2 t$,\n",
    "\n",
    "* Parameter scalings: $\\overline{\\alpha} = \\left( \\frac{a_1}{s_1 s_2} \\beta, \\frac{a_2}{s_2} \\gamma, \\frac{a_3}{s_2} m \\right)$."
   ]
  },
  {
   "cell_type": "markdown",
   "id": "070d92b8",
   "metadata": {},
   "source": [
    "# Data loading"
   ]
  },
  {
   "cell_type": "markdown",
   "id": "53f57708",
   "metadata": {},
   "source": [
    "We load data used in [[1]](https://doi.org/10.1016/j.rico.2023.100346). Locally, we have stored data of susceptible, infected, recovered, and deceased compartments from June 1 – July 20, 2021. When constructing the dataset, the total population size $\\mathsf{n}$ was set to 164\\,689\\,383 given by an estimate from [[3]](https://www.worldometers.info/world-population/bangladesh-population/). We will set $\\mathsf{n}$ to be equal to the total number of people at the initial time."
   ]
  },
  {
   "cell_type": "code",
   "execution_count": 4,
   "id": "2399e27e",
   "metadata": {},
   "outputs": [],
   "source": [
    "SIRD_data = pd.read_pickle('BD_2021_Jun_Jul.pkl').values.astype('float64')"
   ]
  },
  {
   "cell_type": "code",
   "execution_count": 5,
   "id": "b74484f2",
   "metadata": {},
   "outputs": [
    {
     "name": "stdout",
     "output_type": "stream",
     "text": [
      "𝗇̄: 164689383\n"
     ]
    }
   ],
   "source": [
    "print('𝗇̄: {0:.0f}'.format(np.unique(SIRD_data.sum(1)).item()))"
   ]
  },
  {
   "cell_type": "code",
   "execution_count": 6,
   "id": "79de2feb",
   "metadata": {},
   "outputs": [],
   "source": [
    "σ_data = SIRD_data.sum(1) - SIRD_data[:,0]"
   ]
  },
  {
   "cell_type": "code",
   "execution_count": 7,
   "id": "21750a0a",
   "metadata": {},
   "outputs": [],
   "source": [
    "ΣIRD_data = np.c_[σ_data, SIRD_data[:,1:]]      # Determine σ and remove S compartment"
   ]
  },
  {
   "cell_type": "code",
   "execution_count": 8,
   "id": "e285b57c",
   "metadata": {},
   "outputs": [
    {
     "data": {
      "text/plain": [
       "(22887, 164686226)"
      ]
     },
     "execution_count": 8,
     "metadata": {},
     "output_type": "execute_result"
    }
   ],
   "source": [
    "int(ΣIRD_data.max()), int(SIRD_data.max())      # There is quite a difference in order of magnitude"
   ]
  },
  {
   "cell_type": "markdown",
   "id": "1a906798",
   "metadata": {},
   "source": [
    "The data considers reports spanning 60 days. "
   ]
  },
  {
   "cell_type": "code",
   "execution_count": 9,
   "id": "a4293006",
   "metadata": {},
   "outputs": [],
   "source": [
    "T = np.float64(ΣIRD_data.shape[0])"
   ]
  },
  {
   "cell_type": "markdown",
   "id": "24e7cfb9",
   "metadata": {},
   "source": [
    "**Scales**\n",
    "\n",
    "We will group the observations by week and label the initial week by $0$; i.e., $s = 7$ and $T = 50/7 \\approx 7$. We will scale people by the maximum expected value of the residual susceptibles $\\sigma$:"
   ]
  },
  {
   "cell_type": "code",
   "execution_count": 10,
   "id": "f799cf17",
   "metadata": {},
   "outputs": [],
   "source": [
    "time_scale = 7.0                 # s_2\n",
    "ppl_scales = ΣIRD_data.max();    # s_1"
   ]
  },
  {
   "cell_type": "code",
   "execution_count": 11,
   "id": "e7883fa6",
   "metadata": {},
   "outputs": [],
   "source": [
    "T /= time_scale                        # Scale time\n",
    "ΣIRD_data /= ppl_scales                # Scale population: (helps in computation time)"
   ]
  },
  {
   "cell_type": "code",
   "execution_count": 12,
   "id": "256af79c",
   "metadata": {},
   "outputs": [],
   "source": [
    "# Make an interval span\n",
    "Tᵒᵇˢ  = linspace(0,T,SIRD_data.shape[0])"
   ]
  },
  {
   "cell_type": "markdown",
   "id": "641f01f3",
   "metadata": {},
   "source": [
    "We build a piecewise interpolator for computing any integral terms:"
   ]
  },
  {
   "cell_type": "code",
   "execution_count": 13,
   "id": "622a123e",
   "metadata": {},
   "outputs": [],
   "source": [
    "Tₑ = 0.5*(chebpts1(152-2+1)+1) * T     # Evaluation interval using Chebyshev points of the first kind\n",
    "Tₑ = concatenate([[0],Tₑ,[T]])         # Add endpoints\n",
    "# Add observed points\n",
    "Tₑ = np.unique(np.sort(concatenate([Tₑ,Tᵒᵇˢ])))"
   ]
  },
  {
   "cell_type": "code",
   "execution_count": 14,
   "id": "3c4c5f10",
   "metadata": {},
   "outputs": [
    {
     "data": {
      "text/plain": [
       "201"
      ]
     },
     "execution_count": 14,
     "metadata": {},
     "output_type": "execute_result"
    }
   ],
   "source": [
    "Tₑ.size    # odd number of collocation points for Simpson"
   ]
  },
  {
   "cell_type": "code",
   "execution_count": 15,
   "id": "a58f378f",
   "metadata": {},
   "outputs": [],
   "source": [
    "ρ̄ = interp1d(Tᵒᵇˢ,ΣIRD_data[:,].T, axis=-1, kind = 'quadratic')\n",
    "ρ̂ = ρ̄(Tₑ)"
   ]
  },
  {
   "cell_type": "code",
   "execution_count": 16,
   "id": "e70a77b2",
   "metadata": {},
   "outputs": [
    {
     "data": {
      "text/plain": [
       "0.3132782802464281"
      ]
     },
     "execution_count": 16,
     "metadata": {},
     "output_type": "execute_result"
    }
   ],
   "source": [
    "ρ̄(0).sum()"
   ]
  },
  {
   "cell_type": "code",
   "execution_count": 17,
   "id": "1dc5690f",
   "metadata": {
    "code_folding": [
     0
    ]
   },
   "outputs": [
    {
     "data": {
      "image/png": "[encoded data removed]",
      "text/plain": [
       "<Figure size 800x350 with 1 Axes>"
      ]
     },
     "metadata": {},
     "output_type": "display_data"
    }
   ],
   "source": [
    "# Plot data\n",
    "plt.figure(figsize=(8,3.5))\n",
    "\n",
    "plt.plot(Tₑ*time_scale, ρ̂.T, '-', linewidth=2)\n",
    "for i in range(4):\n",
    "    plt.scatter(Tᵒᵇˢ*time_scale, ΣIRD_data[:,i], s=10, c='black')\n",
    "plt.yscale('log')\n",
    "\n",
    "plt.legend(['σ', 'I', 'R'], shadow=True)\n",
    "plt.show()"
   ]
  },
  {
   "cell_type": "markdown",
   "id": "610da11d",
   "metadata": {},
   "source": [
    "Compare numerical ranges for different scales:"
   ]
  },
  {
   "cell_type": "code",
   "execution_count": 18,
   "id": "fc389d94",
   "metadata": {
    "code_folding": [
     0
    ]
   },
   "outputs": [
    {
     "name": "stdout",
     "output_type": "stream",
     "text": [
      "164666496 ≤ S̄ ≤ 164686226\n",
      "     1447 ≤ Ī ≤ 13768\n",
      "     1667 ≤ R̄ ≤ 9997\n",
      "       30 ≤ D̄ ≤ 231\n"
     ]
    }
   ],
   "source": [
    "# Original data:\n",
    "lows = np.min(SIRD_data, 0);    ups  = np.max(SIRD_data, 0);    strs = ['S̄', 'Ī', 'R̄', 'D̄']\n",
    "for i in range(4):\n",
    "    print('{0:9.0f} ≤ {1:s} ≤ {2:.0f}'.format(lows[i], strs[i], ups[i]))"
   ]
  },
  {
   "cell_type": "code",
   "execution_count": 19,
   "id": "8cc7fc35",
   "metadata": {
    "code_folding": [
     0
    ]
   },
   "outputs": [
    {
     "name": "stdout",
     "output_type": "stream",
     "text": [
      "9.9986e-01 ≤ S̄ ≤ 9.9998e-01\n",
      "8.7862e-06 ≤ Ī ≤ 8.3600e-05\n",
      "1.0122e-05 ≤ R̄ ≤ 6.0702e-05\n",
      "1.8216e-07 ≤ D̄ ≤ 1.4026e-06\n"
     ]
    }
   ],
   "source": [
    "# Scaling by total population is not that good:\n",
    "lows = np.min(SIRD_data, 0)/SIRD_data[0].sum();    ups  = np.max(SIRD_data, 0)/SIRD_data[0].sum();    strs = ['S̄', 'Ī', 'R̄', 'D̄']\n",
    "for i in range(4):\n",
    "    print('{0:.4e} ≤ {1:s} ≤ {2:.4e}'.format(lows[i], strs[i], ups[i]))"
   ]
  },
  {
   "cell_type": "code",
   "execution_count": 20,
   "id": "bf0987da",
   "metadata": {
    "code_folding": [
     0
    ]
   },
   "outputs": [
    {
     "name": "stdout",
     "output_type": "stream",
     "text": [
      "0.138 ≤ σ̄ ≤ 1.000\n",
      "0.063 ≤ Ī ≤ 0.602\n",
      "0.073 ≤ R̄ ≤ 0.437\n",
      "0.001 ≤ D̄ ≤ 0.010\n"
     ]
    }
   ],
   "source": [
    "# σIR data is well behaved:\n",
    "lows = np.min(ΣIRD_data, 0);    ups  = np.max(ΣIRD_data, 0);    strs = ['σ̄', 'Ī', 'R̄', 'D̄']\n",
    "for i in range(4):\n",
    "    print('{0:.3f} ≤ {1:s} ≤ {2:.3f}'.format(lows[i], strs[i], ups[i]))"
   ]
  },
  {
   "cell_type": "markdown",
   "id": "305a5e44",
   "metadata": {},
   "source": [
    "We see that the $\\sigma \\mathsf{IR}$ model is better scaled by compartment and explicitly shows the evolution of $\\sigma$. In contrast, the susceptible compartment in the original model might give the impression that it is a constant."
   ]
  },
  {
   "cell_type": "markdown",
   "id": "c20cdf99",
   "metadata": {},
   "source": [
    "### Prior information"
   ]
  },
  {
   "cell_type": "markdown",
   "id": "d57f3687",
   "metadata": {},
   "source": [
    "In the original paper, the authors obtained the following constant–in–time estimates:"
   ]
  },
  {
   "cell_type": "code",
   "execution_count": 21,
   "id": "8a058278",
   "metadata": {},
   "outputs": [
    {
     "name": "stdout",
     "output_type": "stream",
     "text": [
      "β̂: 0.000000000428686, γ̂: 0.0257, m̂: 0.0011\n"
     ]
    }
   ],
   "source": [
    "print('β̂: {0:.15f}, γ̂: {1}, m̂: {2}'.format(0.0706 / 164689383, 0.0257, 0.0011))"
   ]
  },
  {
   "cell_type": "markdown",
   "id": "26b64773",
   "metadata": {},
   "source": [
    "Using the current scales, we obtain the better behaved values:"
   ]
  },
  {
   "cell_type": "code",
   "execution_count": 22,
   "id": "3cef0102",
   "metadata": {},
   "outputs": [
    {
     "name": "stdout",
     "output_type": "stream",
     "text": [
      "β̂: 0.00006868, γ̂: 0.1799, m̂: 0.0077\n"
     ]
    }
   ],
   "source": [
    "print('β̂: {0:.8f}, γ̂: {1}, m̂: {2}'.format(ppl_scales * time_scale * 0.0706 / 164689383, time_scale * 0.0257, time_scale * 0.0011))"
   ]
  },
  {
   "cell_type": "markdown",
   "id": "5c2b2935",
   "metadata": {},
   "source": [
    "We notice that $\\beta$ and $\\gamma$ are still very small. So we can use $a_1 = 10^{-4}$, $a_2 = 1$, and $a_3 = 10^{-2}$ to obtain:"
   ]
  },
  {
   "cell_type": "code",
   "execution_count": 23,
   "id": "ff32933a",
   "metadata": {},
   "outputs": [
    {
     "name": "stdout",
     "output_type": "stream",
     "text": [
      "β̂: 0.68679323, γ̂: 0.1799, m̂: 0.77\n"
     ]
    }
   ],
   "source": [
    "aᵦ = 1e-4;    aᵧ = 1.0;    aₘ = 1e-2\n",
    "print('β̂: {0:.8f}, γ̂: {1}, m̂: {2}'.format(ppl_scales * time_scale * 0.0706 / (164689383 * aᵦ), time_scale * 0.0257/aᵧ, time_scale * 0.0011/aₘ))"
   ]
  },
  {
   "cell_type": "markdown",
   "id": "6cfc37ac",
   "metadata": {},
   "source": [
    "### Bounds"
   ]
  },
  {
   "cell_type": "markdown",
   "id": "bef4b173",
   "metadata": {},
   "source": [
    "Without bounds, the range of each parameter at any given time is given by:"
   ]
  },
  {
   "cell_type": "code",
   "execution_count": 24,
   "id": "b7de0851",
   "metadata": {},
   "outputs": [
    {
     "name": "stdout",
     "output_type": "stream",
     "text": [
      "uᵦ: 1602090000, uᵧ: 7, uₘ: 700\n"
     ]
    }
   ],
   "source": [
    "print('uᵦ: {0:.0f}, uᵧ: {1:.0f}, uₘ: {2:.0f}'.format(ppl_scales * time_scale / aᵦ, time_scale / aᵧ, time_scale / aₘ))"
   ]
  },
  {
   "cell_type": "markdown",
   "id": "9a6bc5bb",
   "metadata": {},
   "source": [
    "Knowing that $\\beta$ has at least 9 zeros, let us impose the upper bound $\\overline{\\beta} = 10^{-9}$ (which is about the inverse of the order of magnitude of the total population). Similarly, let us bound $\\gamma$ and $\\beta$ by $10^{-1}$:"
   ]
  },
  {
   "cell_type": "code",
   "execution_count": 25,
   "id": "c345de72",
   "metadata": {},
   "outputs": [
    {
     "name": "stdout",
     "output_type": "stream",
     "text": [
      "uᵦ: 1.60, uᵧ: 0.70, uₘ: 7\n"
     ]
    }
   ],
   "source": [
    "print('uᵦ: {0:.2f}, uᵧ: {1:.2f}, uₘ: {2:.0f}'.format(1e-9 * ppl_scales * time_scale / aᵦ, 0.1 * time_scale / aᵧ, 0.01 * time_scale / aₘ))"
   ]
  },
  {
   "cell_type": "code",
   "execution_count": 26,
   "id": "84ea8257",
   "metadata": {},
   "outputs": [
    {
     "data": {
      "text/plain": [
       "7195.761043387076"
      ]
     },
     "execution_count": 26,
     "metadata": {},
     "output_type": "execute_result"
    }
   ],
   "source": [
    "SIRD_data[0].sum() / ppl_scales"
   ]
  },
  {
   "cell_type": "markdown",
   "id": "d2d45c29",
   "metadata": {},
   "source": [
    "# Problem setup"
   ]
  },
  {
   "cell_type": "markdown",
   "id": "a6e19f3e",
   "metadata": {},
   "source": [
    "Total population, initial condition, and terminal condition:"
   ]
  },
  {
   "cell_type": "code",
   "execution_count": 27,
   "id": "a550f6f2",
   "metadata": {},
   "outputs": [],
   "source": [
    "# Total population\n",
    "#n = ρ̄(0).sum()\n",
    "n = SIRD_data[0].sum() / ppl_scales\n",
    "# Initial conditions\n",
    "ρ̂ₒ = ρ̄(0)\n",
    "# Final time\n",
    "ρ̂ᶠ = ρ̄(T)"
   ]
  },
  {
   "cell_type": "markdown",
   "id": "9e71917c",
   "metadata": {},
   "source": [
    "Weights in loss:"
   ]
  },
  {
   "cell_type": "code",
   "execution_count": 28,
   "id": "4fbc61ac",
   "metadata": {},
   "outputs": [],
   "source": [
    "θ, ϑᵀᵉʳ = 1e-6, 0.1"
   ]
  },
  {
   "cell_type": "code",
   "execution_count": 29,
   "id": "67e01df0",
   "metadata": {},
   "outputs": [],
   "source": [
    "θ = np.asarray([1e-9,1e-9,1e-9])#[::,np.newaxis]"
   ]
  },
  {
   "cell_type": "markdown",
   "id": "e43b4186",
   "metadata": {},
   "source": [
    "Upper bounds on parameters:"
   ]
  },
  {
   "cell_type": "code",
   "execution_count": 30,
   "id": "24482e13",
   "metadata": {},
   "outputs": [
    {
     "name": "stdout",
     "output_type": "stream",
     "text": [
      "[1.60209 0.7     7.     ]\n"
     ]
    }
   ],
   "source": [
    "upper_b = (np.asarray([1e-9, 0.1, 0.01]) * [ ppl_scales * time_scale / aᵦ, time_scale / aᵧ, time_scale / aₘ])#[::,np.newaxis]\n",
    "print(upper_b.T)"
   ]
  },
  {
   "cell_type": "code",
   "execution_count": 31,
   "id": "ce240bd2",
   "metadata": {},
   "outputs": [
    {
     "data": {
      "text/plain": [
       "array([1.e-09, 1.e-01, 1.e-02])"
      ]
     },
     "execution_count": 31,
     "metadata": {},
     "output_type": "execute_result"
    }
   ],
   "source": [
    "upper_b.ravel() * asarray([aᵦ/(time_scale*ppl_scales),aᵧ/(time_scale),aₘ/time_scale])"
   ]
  },
  {
   "cell_type": "code",
   "execution_count": 32,
   "id": "c875ac94",
   "metadata": {},
   "outputs": [
    {
     "data": {
      "text/plain": [
       "array([6.24184659e-11, 1.42857143e-02, 1.42857143e-04])"
      ]
     },
     "execution_count": 32,
     "metadata": {},
     "output_type": "execute_result"
    }
   ],
   "source": [
    "1e-1 * asarray([aᵦ/(time_scale*ppl_scales),aᵧ/(time_scale),aₘ/time_scale])"
   ]
  },
  {
   "cell_type": "markdown",
   "id": "f5e71799",
   "metadata": {},
   "source": [
    "## Differential systems"
   ]
  },
  {
   "cell_type": "code",
   "execution_count": 33,
   "id": "bf5014bd",
   "metadata": {},
   "outputs": [],
   "source": [
    "α = np.array([0.07364913, 0.184188 , 0.3663371])"
   ]
  },
  {
   "cell_type": "markdown",
   "id": "fe3052f1",
   "metadata": {},
   "source": [
    "### Solve a state:"
   ]
  },
  {
   "cell_type": "code",
   "execution_count": 34,
   "id": "b3458893",
   "metadata": {},
   "outputs": [],
   "source": [
    "def SIRD(t, z,  α):\n",
    "    β, γ, m = [aᵦ,aᵧ,aₘ] * α    # Scale parameters\n",
    "    S, I, R, D = z\n",
    "    return [β*(n-S)*I, β*(n-S)*I - γ*I - m*I, γ*I, m*I]"
   ]
  },
  {
   "cell_type": "code",
   "execution_count": 35,
   "id": "119e5982",
   "metadata": {},
   "outputs": [
    {
     "name": "stdout",
     "output_type": "stream",
     "text": [
      "The solver successfully reached the end of the integration interval. There were 32 function evaluations.\n"
     ]
    }
   ],
   "source": [
    "sol = solve_ivp(SIRD, [0, T], ρ̂ₒ, args=[α], t_eval = Tₑ, dense_output=True, vectorized=True, rtol = 1e-10)\n",
    "print(sol['message'],'There were',sol.nfev,'function evaluations.')"
   ]
  },
  {
   "cell_type": "code",
   "execution_count": 36,
   "id": "568b0bfa",
   "metadata": {
    "code_folding": [
     0
    ]
   },
   "outputs": [
    {
     "data": {
      "image/png": "[encoded data removed]",
      "text/plain": [
       "<Figure size 800x350 with 1 Axes>"
      ]
     },
     "metadata": {},
     "output_type": "display_data"
    }
   ],
   "source": [
    "# Plot solution:\n",
    "plt.figure(figsize=(8,3.5))\n",
    "#plt.plot(Tₑ,n-sol.y[0].T)\n",
    "plt.plot(Tₑ * time_scale, sol.y.T * ppl_scales)\n",
    "#plt.yscale('symlog', linthresh=1e-1)\n",
    "#plt.xscale('symlog', linthresh=1e-2)\n",
    "plt.yscale('log')\n",
    "plt.plot();"
   ]
  },
  {
   "cell_type": "markdown",
   "id": "3d19db74",
   "metadata": {},
   "source": [
    "At this step we can also test the scalings:"
   ]
  },
  {
   "cell_type": "code",
   "execution_count": 37,
   "id": "af63edb2",
   "metadata": {},
   "outputs": [],
   "source": [
    "ω = α * [aᵦ/ (ppl_scales * time_scale), aᵧ/time_scale, aₘ/time_scale]"
   ]
  },
  {
   "cell_type": "code",
   "execution_count": 38,
   "id": "6dc94d69",
   "metadata": {},
   "outputs": [
    {
     "data": {
      "text/plain": [
       "(array([4.59706571e-11, 2.63125714e-02, 5.23338714e-04]),\n",
       " array([0.07364913, 0.184188  , 0.3663371 ]))"
      ]
     },
     "execution_count": 38,
     "metadata": {},
     "output_type": "execute_result"
    }
   ],
   "source": [
    "ω,α"
   ]
  },
  {
   "cell_type": "code",
   "execution_count": 39,
   "id": "bae63993",
   "metadata": {
    "code_folding": [
     0
    ]
   },
   "outputs": [],
   "source": [
    "def SIRDn(t, z,  α):\n",
    "    β, γ, m = α    # Scale parameters\n",
    "    S, I, R, D = z\n",
    "    return [β*(ppl_scales*n-S)*I, β*(ppl_scales*n-S)*I - γ*I - m*I, γ*I, m*I]"
   ]
  },
  {
   "cell_type": "code",
   "execution_count": 40,
   "id": "ba3d3d42",
   "metadata": {
    "code_folding": [
     0
    ],
    "scrolled": false
   },
   "outputs": [
    {
     "name": "stdout",
     "output_type": "stream",
     "text": [
      "The solver successfully reached the end of the integration interval.\n"
     ]
    }
   ],
   "source": [
    "sol_original_scale = solve_ivp(SIRDn, [0, T*time_scale], ppl_scales * ρ̂ₒ, args=(ω,), \n",
    "                                                   t_eval = Tₑ*time_scale, dense_output=True, vectorized=True, rtol=1e-6)\n",
    "print(sol_original_scale['message'])"
   ]
  },
  {
   "cell_type": "code",
   "execution_count": 41,
   "id": "572e11bc",
   "metadata": {
    "code_folding": [
     0
    ]
   },
   "outputs": [
    {
     "data": {
      "image/png": "[encoded data removed]",
      "text/plain": [
       "<Figure size 800x350 with 1 Axes>"
      ]
     },
     "metadata": {},
     "output_type": "display_data"
    }
   ],
   "source": [
    "# Plot solution:\n",
    "plt.figure(figsize=(8,3.5))\n",
    "plt.plot(Tₑ * time_scale, sol_original_scale.y.T)\n",
    "#plt.yscale('symlog', linthresh=1e-2)\n",
    "#plt.xscale('symlog', linthresh=1e-2)\n",
    "plt.yscale('log')\n",
    "plt.legend(['S', 'I', 'R'], shadow=True)\n",
    "plt.show()"
   ]
  },
  {
   "cell_type": "markdown",
   "id": "d9ee8824",
   "metadata": {},
   "source": [
    "## Solve its adjoint"
   ]
  },
  {
   "cell_type": "markdown",
   "id": "27bb3396",
   "metadata": {},
   "source": [
    "The adjoint state can be found by solving the following ODE system:"
   ]
  },
  {
   "cell_type": "markdown",
   "id": "e76bcbe3",
   "metadata": {},
   "source": [
    "\\begin{align}\n",
    "    \\frac{\\dif q_\\sigma}{\\dif t} &= \\hat{\\sigma} - \\sigma + [a_1 \\beta] I (q_\\sigma + q_I),\n",
    "    \\\\\n",
    "    \\frac{\\dif q_I}{\\dif t} &= \\hat{I} - I - [a_1 \\beta] (n-\\sigma)(q_\\sigma + q_I) + [a_2\\gamma] (q_I - q_R) + [a_3 m] (q_I - q_D),\n",
    "    \\\\\n",
    "    \\frac{\\dif q_R}{\\dif t} &= \\hat{R} - R,\n",
    "    \\\\\n",
    "    \\frac{\\dif q_D}{\\dif t} &= \\hat{D} - D,\n",
    "\\end{align}\n",
    "with the terminal condition $q(T) = \\vartheta\\big[\\rho(T) - \\widehat{\\rho}(T)\\big]$."
   ]
  },
  {
   "cell_type": "code",
   "execution_count": 42,
   "id": "93cc638a",
   "metadata": {},
   "outputs": [],
   "source": [
    "# Interpolator from ODE\n",
    "ρₜ = sol.sol\n",
    "ρ = sol.y"
   ]
  },
  {
   "cell_type": "code",
   "execution_count": 43,
   "id": "2320bd33",
   "metadata": {},
   "outputs": [],
   "source": [
    "dw = simpson((ρ̂ - (simpson((ρ̂), x=Tₑ)/T)[::,np.newaxis])**2, x = Tₑ) ** -1    # Goodness of fit weight"
   ]
  },
  {
   "cell_type": "code",
   "execution_count": 44,
   "id": "fc365b97",
   "metadata": {},
   "outputs": [],
   "source": [
    "def Adjoint(t, z, α,ρ):\n",
    "    β, γ, m    = [aᵦ,aᵧ,aₘ] * α      # Use scaled interpolator\n",
    "    S̄, Ī, R̄, D̄ = dw * ρ̄(t)           # Target\n",
    "    S, I, R, D = dw * ρ(t)           # State\n",
    "    qₛ, qᵢ, qᵣ, qᵈ = z           # Adjoint\n",
    "    return [S̄ - S + β*I*(qₛ + qᵢ), Ī - I - β*(n-S)*(qₛ + qᵢ) + γ*(qᵢ - qᵣ) + m * (qᵢ - qᵈ), R̄ - R, D̄ - D]"
   ]
  },
  {
   "cell_type": "code",
   "execution_count": 45,
   "id": "0cf5fbc9",
   "metadata": {},
   "outputs": [
    {
     "name": "stdout",
     "output_type": "stream",
     "text": [
      "The solver successfully reached the end of the integration interval. There were 80 function evaluations.\n"
     ]
    }
   ],
   "source": [
    "qₒ = ϑᵀᵉʳ * (ρ[:,-1] - ρ̂ᶠ)\n",
    "solₛ = solve_ivp(Adjoint, [T,0], qₒ, args=(α,ρₜ), t_eval = Tₑ[::-1], dense_output=True, vectorized=False)\n",
    "q = solₛ.y[:,::-1]\n",
    "print(solₛ['message'],'There were',solₛ.nfev,'function evaluations.')"
   ]
  },
  {
   "cell_type": "code",
   "execution_count": 46,
   "id": "3441cbae",
   "metadata": {
    "code_folding": [
     0
    ]
   },
   "outputs": [
    {
     "data": {
      "image/png": "[encoded data removed]",
      "text/plain": [
       "<Figure size 800x350 with 1 Axes>"
      ]
     },
     "metadata": {},
     "output_type": "display_data"
    }
   ],
   "source": [
    "# Plot adjoint curves\n",
    "plt.figure(figsize=(8,3.5))\n",
    "plt.plot(Tₑ[::-1],q.T)\n",
    "plt.xlabel(r'Time $t$')\n",
    "plt.legend([r'$q_S$', '$q_I$', '$q_R$'], shadow=True)\n",
    "#plt.yscale('log')\n",
    "plt.yscale('symlog', linthresh=1e1)\n",
    "plt.show()"
   ]
  },
  {
   "cell_type": "markdown",
   "id": "b51b9169",
   "metadata": {},
   "source": [
    "## Cost and gradient"
   ]
  },
  {
   "cell_type": "markdown",
   "id": "4ebc5391",
   "metadata": {},
   "source": [
    "Let us evaluate the function\n",
    "\\begin{align}\n",
    "    j(\\alpha) = \\frac{1}{2} \\int\\limits_0^T w_1 \\big( \\sigma(t) - \\hat{\\sigma}(t) \\big)^2 +  w_2 \\big( I(t) - \\hat{I}(t) \\big)^2 + w_3 \\big( R(t) - \\hat{R}(t) \\big)^2 + w_4 \\big( D(t) - \\hat{D}(t) \\big)^2 \\,\\dif t  +  \\frac{1}{T} \\big( \\theta_1 \\beta^2 + \\theta_2 \\gamma^2 + \\theta_3 m^2 \\big)  + \\frac{1}{2} \\| \\vartheta (\\rho(T) - \\widehat{\\rho}(T)) \\|^2_{\\R^3}\n",
    "    .\n",
    "\\end{align}"
   ]
  },
  {
   "cell_type": "code",
   "execution_count": 47,
   "id": "08b3c04b",
   "metadata": {
    "code_folding": []
   },
   "outputs": [],
   "source": [
    "def Objective(ρ,ρ̂,α, θ,ϑᵀᵉʳ,  scale = 1.0):\n",
    "    # State + controls\n",
    "    s  = (dw * simpson((ρ-ρ̂)**2, x=Tₑ)).sum()  +  (ϑᵀᵉʳ * (ρ[:,-1] - ρ̂ᶠ)**2).sum()\n",
    "    s *= scale\n",
    "    # Controls\n",
    "    s +=  (α**2 * θ).sum() / T\n",
    "    # Weight\n",
    "    s *= 0.5\n",
    "    return s"
   ]
  },
  {
   "cell_type": "code",
   "execution_count": 48,
   "id": "7ab8195f",
   "metadata": {},
   "outputs": [
    {
     "name": "stdout",
     "output_type": "stream",
     "text": [
      "As an example, the objective value for α is 3.9747e+00.\n"
     ]
    }
   ],
   "source": [
    "print('As an example, the objective value for α is {0:.4e}.'.format(  Objective(ρ,ρ̂, α, θ, ϑᵀᵉʳ, scale = (1) ) ))"
   ]
  },
  {
   "cell_type": "markdown",
   "id": "c3cf85e7",
   "metadata": {},
   "source": [
    "Now we can compute the derivative of the reduced objective functional [ ! ]:\n",
    "\\begin{align}\n",
    "    \\frac{\\partial f}{\\partial \\beta} &= \\int\\limits_0^T a_1 (n-\\sigma) I( q_\\sigma + q_I ) \\dif t  + \\theta_1 \\beta\n",
    "    \\\\\n",
    "    \\frac{\\partial f}{\\partial \\gamma} &= \\int\\limits_0^T a_2 I( q_R - q_I ) \\dif t  + \\theta_2 \\gamma\n",
    "    \\\\\n",
    "    \\frac{\\partial f}{\\partial m} &= \\int\\limits_0^T a_3I (q_D - q_I) \\dif t   + \\theta_3 m\n",
    "\\end{align}"
   ]
  },
  {
   "cell_type": "code",
   "execution_count": 49,
   "id": "de4cb7ce",
   "metadata": {},
   "outputs": [],
   "source": [
    "df = asarray([aᵦ * simpson(ρ[0]*ρ[1] * (q[1]-q[0]), x=Tₑ), aᵧ * simpson(ρ[1] * (q[2]-q[1]), x=Tₑ), aᵧ * simpson(ρ[1] * (q[3]-q[1]), x=Tₑ)])  + (θ/T) * α"
   ]
  },
  {
   "cell_type": "code",
   "execution_count": 50,
   "id": "741cbd40",
   "metadata": {
    "code_folding": [
     0
    ]
   },
   "outputs": [
    {
     "name": "stdout",
     "output_type": "stream",
     "text": [
      "[-3.53180650e-05  1.34500692e+00 -7.77370112e+01]\n"
     ]
    }
   ],
   "source": [
    "print(df)"
   ]
  },
  {
   "cell_type": "markdown",
   "id": "b1ae33ef",
   "metadata": {},
   "source": [
    "### Define projection"
   ]
  },
  {
   "cell_type": "code",
   "execution_count": 51,
   "id": "b826abb1",
   "metadata": {},
   "outputs": [],
   "source": [
    "def proj(α):    return np.clip(α, 0.0, upper_b)"
   ]
  },
  {
   "cell_type": "code",
   "execution_count": 52,
   "id": "7ac5b6d3",
   "metadata": {
    "code_folding": [
     0
    ]
   },
   "outputs": [
    {
     "data": {
      "text/plain": [
       "array([1.60209, 0.     , 0.     ])"
      ]
     },
     "execution_count": 52,
     "metadata": {},
     "output_type": "execute_result"
    }
   ],
   "source": [
    "proj( 7000 * (1-α - 0.82))"
   ]
  },
  {
   "cell_type": "markdown",
   "id": "3da0591f",
   "metadata": {},
   "source": [
    "# A few evaluations"
   ]
  },
  {
   "cell_type": "markdown",
   "id": "0fa27406",
   "metadata": {},
   "source": [
    "Let us evaluate the objective for some curves:"
   ]
  },
  {
   "cell_type": "code",
   "execution_count": 53,
   "id": "026b2f70",
   "metadata": {},
   "outputs": [],
   "source": [
    "global ρ, q\n",
    "ρ = np.zeros_like(ρ̂)\n",
    "q = np.zeros_like(ρ̂)"
   ]
  },
  {
   "cell_type": "code",
   "execution_count": 54,
   "id": "156d761d",
   "metadata": {
    "code_folding": [
     7,
     33,
     45,
     56
    ]
   },
   "outputs": [],
   "source": [
    "# Increase tolerance: Quasi-Newton methods are generally more susceptible to numerical errors\n",
    "# 1e-3 is the default tolerance of the solver, 1e-4 produces fair results and this is replicated in 1e-6\n",
    "rt = 1e-9\n",
    "# Scale the population compartments by some quantity; e.g., n^-2 scales by total number of people at time 0\n",
    "scaling = True\n",
    "scale = 1.0 if scaling else 1.0\n",
    "\n",
    "def obj_eval(α):                  # ** Eval f and f' ** #\n",
    "    global ρ, q, df\n",
    "    '''\n",
    "        Evaluate state, compute adjoint, and return objective and derivative\n",
    "    '''\n",
    "    # Compute state α\n",
    "    ρ_sol = solve_ivp(SIRD, [0, T], ρ̂ₒ, args=(α,), t_eval = Tₑ, dense_output=True, vectorized=True, first_step = 0.1, rtol=rt)\n",
    "    if ρ_sol['success'] != True:    print('Should re-evaluate.')\n",
    "    ρ  = ρ_sol.y\n",
    "    f  = Objective(ρ,ρ̂, α, θ, ϑᵀᵉʳ,  scale)\n",
    "    \n",
    "    # Create an abstract interpolator for state\n",
    "    ρₜ = ρ_sol.sol\n",
    "    \n",
    "    # Compute adjoint\n",
    "    qₒ = ϑᵀᵉʳ * (ρ[:,-1] - ρ̂ᶠ)    # Terminal condition\n",
    "    q_sol = solve_ivp(Adjoint, [T,0], qₒ, args=(α,ρₜ), t_eval = Tₑ[::-1], dense_output=True, vectorized=False, rtol=rt)\n",
    "    q = q_sol.y[:,::-1]\n",
    "\n",
    "    # Compute derivative\n",
    "    df = scale * asarray([ aᵦ * simpson(ρ[0]*ρ[1] * (q[1]-q[0]), x=Tₑ), \n",
    "                           aᵧ * simpson(ρ[1] * (q[2]-q[1]), x=Tₑ), \n",
    "                           aᵧ * simpson(ρ[1] * (q[3]-q[1]), x=Tₑ)]) \n",
    "    df += (θ/T) * α\n",
    "    \n",
    "    return asarray(f), df\n",
    "def obj_eval_a(α):                # ** Eval just f ** #\n",
    "    global ρ\n",
    "    '''\n",
    "        Evaluate state and return objective\n",
    "    '''\n",
    "    # Compute state α\n",
    "    ρ_sol = solve_ivp(SIRD, [0, T], ρ̂ₒ, args=(α,), t_eval = Tₑ, dense_output=True, vectorized=True, first_step = 0.1, rtol=rt)\n",
    "    if ρ_sol['success'] != True:    print('Should re-evaluate.')\n",
    "    ρ  = ρ_sol.y\n",
    "    f  = Objective(ρ,ρ̂, α, θ, ϑᵀᵉʳ,  scale)\n",
    "    \n",
    "    return asarray(f)\n",
    "def obj_eval_b(α):                # ** Does not affect global variable ρ ** #\n",
    "    '''\n",
    "        Evaluate state, compute adjoint, and return objective and derivative\n",
    "    '''\n",
    "    # Compute state α\n",
    "    ρ_sol = solve_ivp(SIRD, [0, T], ρ̂ₒ, args=(α,), t_eval = Tₑ, dense_output=True, vectorized=True, first_step = 0.1, rtol=rt)\n",
    "    if ρ_sol['success'] != True:    print('Should re-evaluate.')\n",
    "    ρₐ = ρ_sol.y\n",
    "    f  = Objective(ρₐ,ρ̂,α, θ, ϑᵀᵉʳ,  scale)\n",
    "\n",
    "    return asarray(f)\n",
    "def obj_eval_d(α):                # ** Does not affect global variables ρ, q, df ** #\n",
    "    '''\n",
    "        Evaluate state, compute adjoint, and return objective and derivative\n",
    "    '''\n",
    "    # Compute state α\n",
    "    ρ_sol = solve_ivp(SIRD, [0, T], ρ̂ₒ, args=(α,), t_eval = Tₑ, dense_output=True, vectorized=True, first_step = 0.1, rtol=rt)\n",
    "    if ρ_sol['success'] != True:    \n",
    "        print('Should re-evaluate.')\n",
    "        plt.plot(ρ_sol.y.T)\n",
    "        plt.show()\n",
    "        print(ρ_sol)\n",
    "    ρᵦ = ρ_sol.y\n",
    "    f  = Objective(ρᵦ,ρ̂, α, θ, ϑᵀᵉʳ,  scale)\n",
    "    \n",
    "    # Create an abstract interpolator for state\n",
    "    ρₜ = ρ_sol.sol\n",
    "    \n",
    "    # Compute adjoint\n",
    "    qₒ = ϑᵀᵉʳ * (ρᵦ[:,-1] - ρ̂ᶠ)    # Terminal condition\n",
    "    q_sol = solve_ivp(Adjoint, [T,0], qₒ, args=(α,ρₜ), t_eval = Tₑ[::-1], dense_output=True, vectorized=False, rtol=rt)\n",
    "    qᵦ = q_sol.y[:,::-1]\n",
    "\n",
    "    # Compute derivative\n",
    "    dF = scale * asarray([ aᵦ * simpson(ρᵦ[0]*ρᵦ[1] * (qᵦ[1]-qᵦ[0]), x=Tₑ),    \n",
    "                           aᵧ * simpson(ρᵦ[1] * (qᵦ[2]-qᵦ[1]), x=Tₑ),    \n",
    "                           aₘ * simpson(ρᵦ[1] * (qᵦ[3]-qᵦ[1]), x=Tₑ) ])\n",
    "    dF += (θ/T) * α\n",
    "\n",
    "    return asarray(f), dF"
   ]
  },
  {
   "cell_type": "code",
   "execution_count": 55,
   "id": "a87454b1",
   "metadata": {},
   "outputs": [
    {
     "data": {
      "text/plain": [
       "array(3.97471049)"
      ]
     },
     "execution_count": 55,
     "metadata": {},
     "output_type": "execute_result"
    }
   ],
   "source": [
    "obj_eval_a(α)"
   ]
  },
  {
   "cell_type": "markdown",
   "id": "25f12ff6",
   "metadata": {},
   "source": [
    "---"
   ]
  },
  {
   "cell_type": "markdown",
   "id": "9e3aece8",
   "metadata": {},
   "source": [
    "# Solving the optimisation problem"
   ]
  },
  {
   "cell_type": "markdown",
   "id": "33c8351c",
   "metadata": {},
   "source": [
    "We will use a gradient-based algorithm for optimising $f$. For any $L > 0$, and $\\omega \\in [0,1]^2$, define the the operator\n",
    "$$\n",
    "    p_L (\\omega) := \\mathcal{P}_{[0,1]^2}[\\omega - L^{-1} \\nabla f(\\omega) ].\n",
    "$$"
   ]
  },
  {
   "cell_type": "markdown",
   "id": "30f4b1d8",
   "metadata": {},
   "source": [
    "<div style=\"background-color:rgba(0, 0, 0, 0.0470588); vertical-align: middle; padding:5px 0; padding-left: 40px;\">\n",
    "<h2 style=\"color: #5e9ca0;\">Nonmonotone Accelerated Proximal Gradient Algorithm</h2>\n",
    "<ol>\n",
    "<li>Let $\\alpha_0 = \\alpha_1 = \\omega_1 = \\nu_1 \\in [0,1]^2$, $\\theta_0 = 0$, $\\theta_1 = 1$, $\\mu \\in [0,1)$, $\\delta >0$, $\\eta > 1$, $c_1 = j(\\alpha_1)$, $\\lambda_1 = 1$.</li>\n",
    "\n",
    "    \n",
    "<li>For $k \\in \\{1,\\ldots\\}$, do\n",
    "<ol>\n",
    "<li>Set \n",
    "    \\begin{align*}\n",
    "        \\nu_{k} &= \\alpha_k + \\frac{\\theta_{k-1}}{\\theta_k} (\\omega_k - \\alpha_k) + \\frac{\\theta_{k-1} -1 }{\\theta_k} (\\alpha_k - \\alpha_{k-1}) \n",
    "    \\\\\n",
    "        s_{k} &= \\nu_k - \\nu_{k-1}\n",
    "        \\qquad\n",
    "        r_k = \\nabla j(\\nu_k) - \\nabla j(\\nu_{k-1})\n",
    "    \\\\\n",
    "        L_k &= \\mathcal{P}_{[10^{-20},10^{20}]} \\left( \\frac{s_k^\\top r_k}{s_k^\\top s_k} \\right)  \n",
    "    \\end{align*}\n",
    "    \n",
    "    \n",
    "<li>Find the smallest $i_k \\in \\mathbb{N}$ such that\n",
    "    \\begin{align*}\n",
    "        L &= \\eta^{i_k} L_k\n",
    "        \\\\\n",
    "        \\omega_{k+1} &= \\mathcal{P} (\\nu_k - L^{-1} \\nabla j(\\nu_k) ) = p_L(\\nu_{k})\n",
    "        \\\\\n",
    "    j(\\omega_{k+1}) &\\leq \\max\\{c_k,j(\\nu_k)\\} - \\delta \\| \\omega_{k+1} - \\nu_k \\|^2\n",
    "    \\end{align*}\n",
    "\n",
    "    \n",
    "<li> If $j(\\omega_{k+1}) \\leq c_k - \\delta \\| \\omega_{k+1} - \\nu_k \\|^2$, then:\n",
    "    <ol> \n",
    "        <li> $\\alpha_{k+1} = \\omega_{k+1}$\n",
    "    </ol>\n",
    "<li>Else:\n",
    "    <ol>\n",
    "        <li> Set \n",
    "    \\begin{align*}\n",
    "        s_{k} &= \\alpha_k - \\nu_{k-1}\n",
    "        \\qquad\n",
    "        r_k = \\nabla j(\\alpha_k) - \\nabla j(\\nu_{k-1})\n",
    "    \\\\\n",
    "        L_k &= \\mathcal{P}_{[10^{-20},10^{20}]} \\left( \\frac{s_k^\\top r_k}{s_k^\\top s_k} \\right)  \n",
    "    \\end{align*}\n",
    "    <li>Find the smallest $i_k \\in \\mathbb{N}$ such that\n",
    "        \\begin{align*}\n",
    "            L &= \\eta^{i_k} L_k\n",
    "            \\\\\n",
    "            \\xi_{k+1} &= \\mathcal{P} (\\alpha_k - L^{-1} \\nabla j(\\alpha_k) ) = p_L(\\alpha_{k})\n",
    "            \\\\\n",
    "        j(\\xi_{k+1}) &\\leq c_k - \\delta \\| \\xi_{k+1} - \\alpha_k \\|^2\n",
    "    \\end{align*}\n",
    "        <li> Assign\n",
    "            \\begin{align*}\n",
    "                \\alpha_{k+1} = \\begin{cases}\n",
    "                                    \\omega_{k+1} &\\text{if }  j(\\omega_{k+1}) \\leq j(\\xi_{k+1}),\n",
    "                                    \\\\\n",
    "                                    \\xi_{k+1} &\\text{otherwise}.\n",
    "                               \\end{cases}\n",
    "            \\end{align*}\n",
    "    </ol>\n",
    "<li> Update $\\theta_{k+1} = \\frac{1}{2} \\Big[ 1 + \\sqrt{ 1 + 4 \\theta_k^2 } \\Big]$\n",
    "<li> Update $\\lambda_{k+1} = \\mu \\lambda_k + 1$\n",
    "<li> Update $c_{k+1} = \\lambda_{k+1}^{-1} \\big[ \\mu \\lambda_k c_k + j(\\alpha_{k+1}) \\big]$\n",
    "\n",
    "</ol>\n",
    "</div>"
   ]
  },
  {
   "cell_type": "markdown",
   "id": "084b283e",
   "metadata": {},
   "source": [
    "## Algorithm"
   ]
  },
  {
   "cell_type": "code",
   "execution_count": 56,
   "id": "c12a63e8",
   "metadata": {},
   "outputs": [
    {
     "data": {
      "text/plain": [
       "1.0"
      ]
     },
     "execution_count": 56,
     "metadata": {},
     "output_type": "execute_result"
    }
   ],
   "source": [
    "#scale = 1e-0 #1e-4\n",
    "scale"
   ]
  },
  {
   "cell_type": "code",
   "execution_count": 57,
   "id": "28b72631",
   "metadata": {
    "code_folding": [
     0
    ]
   },
   "outputs": [],
   "source": [
    "def box_scale(x,y):\n",
    "    '''\n",
    "        Return minimum value of scalar s > 0  such that x + sy ∈ [0,1] for x ∈ [0,1]\n",
    "    '''\n",
    "    a = np.divide(x, y, where=(y>0))[y>0]\n",
    "    b = np.divide((x-1), y, where=(y<0))[y<0]\n",
    "    if len(a) > 0:\n",
    "        if len(b) > 0:\n",
    "            return min( a.min(), b.min() )\n",
    "        else:\n",
    "            return a.min()\n",
    "    else:\n",
    "        return b.min()"
   ]
  },
  {
   "cell_type": "code",
   "execution_count": 58,
   "id": "863d0d6b",
   "metadata": {
    "code_folding": [
     0,
     41,
     58
    ]
   },
   "outputs": [],
   "source": [
    "def nmAPG(α, iters, save_iter = False, critical = 1, εₐ = 1e-9, εᵦ = 5e-13, print_tests = False):\n",
    "    '''\n",
    "        Create structures to store information from iterates\n",
    "    '''\n",
    "    every_iter = {\n",
    "        'it':[], 'obj':[], 'time':[], 'β':[], 'γ':[], 'm':[], 'df_β':[], 'df_γ':[], 'df_m':[],\n",
    "        'norms':{'ℓ_1': [], 'ℓ_2': [], 'max': [], 'min':[]}\n",
    "                 }\n",
    "    every_critical = {'it':[], 'obj':[], 'time':[], '|df|_2':[], '|df|_max':[]}\n",
    "    \n",
    "    '''\n",
    "        GD iterates\n",
    "    '''\n",
    "    print('     It  |    f(α)  |    Time   |  ‖df(α)‖_2  |   ‖df(α)‖_∞  ')\n",
    "    print( '{:–^62}'.format('') )\n",
    "    \n",
    "    ''' \n",
    "        Initialisation\n",
    "    '''\n",
    "    # Iterate, interpolation, proximal points\n",
    "    αₒ = α.copy();    νₒ = α.copy();    ωₒ = α.copy()\n",
    "\n",
    "    θₖ = 1.0;    θₒ = 0.0      # Inertia parameter (not to be confused with θ)\n",
    "    μ = 0.01 #0.59    # Degree of nonmonotonicity\n",
    "    η = 2.51 #2.4      # Scaling for backtracking\n",
    "    δ = .5e-1         # Sufficient decrease\n",
    "    I = 10            # Number of iterations for line search\n",
    "    \n",
    "    # First objective evaluation\n",
    "    # Compute state and adjoint for α\n",
    "    jα, djα = obj_eval(α)\n",
    "    djνₒ = djα.copy()\n",
    "    # Initial evaluation\n",
    "    c = jα;    jαₒ = 0.0\n",
    "    λ = 1.0\n",
    "    \n",
    "    print('* {0:6.0f} |  {1:.1e} |  {2:7.2f}  | {3:6.3e}   |   {4:6.3e}  '.format(0,\n",
    "                                                                        jα, 0.0,\n",
    "                                                                        norm(djα)/(3**0.5), \n",
    "                                                                        norm(djα,np.inf) ))\n",
    "    # Store info for initial point\n",
    "    if save_iter:\n",
    "        every_iter['it'].append( 0 )\n",
    "        every_iter['obj'].append( jα )\n",
    "        every_iter['time'].append( 0.0 )\n",
    "        every_iter['β'].append( α[0] )\n",
    "        every_iter['γ'].append( α[1] )\n",
    "        every_iter['m'].append( α[2] )\n",
    "        every_iter['df_β'].append( djα[0] )\n",
    "        every_iter['df_γ'].append( djα[1] )\n",
    "        every_iter['df_m'].append( djα[2] )\n",
    "        # Store norms of gradient\n",
    "        every_iter['norms']['ℓ_2'].append( norm(djα)/(3**0.5) )\n",
    "        every_iter['norms']['ℓ_1'].append( (1/3) * norm(djα,1) )\n",
    "        every_iter['norms']['max'].append( norm(djα,np.inf) )\n",
    "        every_iter['norms']['min'].append( abs(djα).min() )\n",
    "    \n",
    "    timed = 0.0\n",
    "    for k in range(1,iters+1):\n",
    "        it_time = time.time()\n",
    "        \n",
    "        # ------------ Step 1 ------------ #\n",
    "        # Compute \n",
    "        ν = α + (θₒ/θₖ) * (ωₒ - α) + ((θₒ - 1.0)/θₖ) * (α - αₒ)\n",
    "        if print_tests:            print( (1,k), ν) \n",
    "        # Project points just in case and evaluate objective and gradient\n",
    "        ν = proj(ν)\n",
    "        jν, djν = obj_eval(ν)\n",
    "        if print_tests:            print( (1,k), jν,djν) \n",
    "        # Barzilai–Borwein\n",
    "        s = ν - νₒ;             r = djν - djνₒ\n",
    "        #print(k, s.dot(r)/s.dot(s), r.dot(r)/s.dot(r))\n",
    "        L = 1 if k == 1 else s.dot(r)/s.dot(s)\n",
    "        L = min( max(1e-20, L), 1e20)\n",
    "        # Go one step ahead: if ν - b * djν goes too far, backtracking will waste time!\n",
    "        bₜ = box_scale(ν,djν)\n",
    "        L = L if bₜ < 1e-20 else max(L, 1.0/bₜ)\n",
    "        \n",
    "        # ------------ Step 2 ------------ #\n",
    "        for i in range(I):\n",
    "            # Temporary approximation of Lipschitz constant\n",
    "            Lₓ = η**i * L;        b = 1.0/Lₓ\n",
    "            # Gradient and proximal step\n",
    "            ω = proj(ν - b * djν)\n",
    "            # Evaluate objective at ω\n",
    "            jω = obj_eval_a(ω)\n",
    "            # Validate step\n",
    "            if print_tests:            print( (2,k,i), ω,jω) \n",
    "            if (jω + δ * norm(ν - ω)**2) <= max(jν,c):\n",
    "                break\n",
    "        # ------------ Step 3 ------------ #\n",
    "        if (jω + δ * norm(ν - ω)**2) <= c:\n",
    "            αₒ = α.copy()\n",
    "            α  = ω.copy()\n",
    "        else:\n",
    "            # Barzilai–Borwein\n",
    "            s = α - νₒ;             r = djα - djνₒ\n",
    "            L = s.dot(r)/s.dot(s)\n",
    "            L = min( max(1e-20, L), 1e20)\n",
    "            #print(s.dot(s), L)\n",
    "            \n",
    "            ''' Line search for interpolation '''\n",
    "            # Go one step ahead: if α - b * djα goes too far, backtracking will waste time!\n",
    "            # For any component without a zero gradient, the value of b has to satisfy \n",
    "            #    b ∈ [(α-1)/djα, α/djα] if djα > 0   and  [α/djα, (α-1)/djα]  if djα < 0\n",
    "            # Thus the largest b satisfying these conditions is the minimum upper bound of each interval\n",
    "            #\n",
    "            bₜ = box_scale(α,djα)\n",
    "            # Now we can either fix I or change L:\n",
    "            L = L if bₜ < 1e-20 else max(L, 1.0/bₜ)\n",
    "            \n",
    "            for i in range(I):\n",
    "                # Temporary approximation of Lipschitz constant\n",
    "                Lₓ = η**i * L;        b = 1.0/Lₓ\n",
    "                # Gradient and proximal step\n",
    "                ξ  = proj(α - b * djα)\n",
    "                # Evaluate objective at ω\n",
    "                jξ = obj_eval_a(ξ)\n",
    "                # Validate step\n",
    "                if print_tests:            print( (3,k,i), ω,jω) \n",
    "                if (jξ + δ * norm(ξ - α)**2) <= c:\n",
    "                    break\n",
    "                    \n",
    "            # Asign next step\n",
    "            αₒ = α.copy()\n",
    "            α = ω.copy() if (jω <= jξ) else ξ.copy()\n",
    "            if print_tests:            print( (2,k), α,jα)\n",
    "            \n",
    "        # ------------ Step 4 ------------ #\n",
    "        # Update objective and previous steps\n",
    "        jαₒ = jα\n",
    "        jα, djα = obj_eval(α)\n",
    "        ωₒ = ω.copy()\n",
    "        νₒ = ν.copy();        djνₒ = djν.copy()\n",
    "        \n",
    "        # Update inertia weights\n",
    "        θₒ = θₖ\n",
    "        θₖ = 0.5 * (1.0 + (1.0 + 4.0 * θₖ**2)**0.5)\n",
    "        if print_tests:            print( (4,k),θₖ,θₒ)\n",
    "        # Update exponential convex combination of objectives (19 in Li & Lin 2015)\n",
    "        c = ((μ * λ * c) + jα)/ ((μ * λ) + 1)\n",
    "        λ = (μ * λ) + 1\n",
    "        if print_tests:            print( (4,k),c,λ)\n",
    "        \n",
    "        \n",
    "        \n",
    "        # Measure time up to this point!\n",
    "        end = time.time()\n",
    "        timed += end - it_time        \n",
    "        \n",
    "        if save_iter:\n",
    "            every_iter['it'].append( k )\n",
    "            every_iter['obj'].append( jα )\n",
    "            every_iter['time'].append( timed )\n",
    "            every_iter['β'].append( α[0] )\n",
    "            every_iter['γ'].append( α[1] )\n",
    "            every_iter['m'].append( α[2] )\n",
    "            every_iter['df_β'].append( djα[0] )\n",
    "            every_iter['df_γ'].append( djα[1] )\n",
    "            every_iter['df_m'].append( djα[2] )\n",
    "            # Store norms of gradient\n",
    "            every_iter['norms']['ℓ_2'].append( norm(djα)/(3**0.5) )\n",
    "            every_iter['norms']['ℓ_1'].append( (1/3) * norm(djα,1) )\n",
    "            every_iter['norms']['max'].append( norm(djα,np.inf) )\n",
    "            every_iter['norms']['min'].append( abs(djα).min() )\n",
    "        \n",
    "        if k % critical == 0:\n",
    "            every_critical['it'].append( k )\n",
    "            every_critical['obj'].append( jα )\n",
    "            every_critical['time'].append( timed )\n",
    "            every_critical['|df|_2'].append( norm(djα)/(3**0.5) )\n",
    "            every_critical['|df|_max'].append( norm(djα,np.inf) )\n",
    "            \n",
    "            print('* {0:6.0f} |  {1:.1e} |  {2:7.2f}  | {3:6.3e}   |   {4:6.3e}  '.format(k,\n",
    "                                                                        jα, timed,\n",
    "                                                                        norm(djα)/(3**0.5), \n",
    "                                                                        norm(djα,np.inf) ))\n",
    "        \n",
    "        if abs(jα - jαₒ) < εᵦ and k > 10:\n",
    "            print('|j-jₖ| < {0:1.0e}'.format(εᵦ))\n",
    "            #print(α)\n",
    "            break\n",
    "        \n",
    "        if norm(α - αₒ)/(2.0**0.5) < εₐ:\n",
    "            print('‖αₖ - p‖ < {0:1.0e}'.format(εₐ))\n",
    "            #print(α)\n",
    "            break\n",
    "        \n",
    "    print('\\nAlgorithm stopped after {0:.4f} seconds and {1} iterations'.format(timed,k))\n",
    "    \n",
    "    # Due to nonmonoticity, last iterate is not necessarily the best candidate\n",
    "    idx = np.argmin(every_iter['obj'])\n",
    "    α = asarray([every_iter['β'][idx], every_iter['γ'][idx], every_iter['m'][idx]])\n",
    "    jα = obj_eval_a(α)\n",
    "    print(α, jα)\n",
    "    \n",
    "    return α, ρ, every_critical, every_iter"
   ]
  },
  {
   "cell_type": "code",
   "execution_count": 59,
   "id": "43df02b9",
   "metadata": {},
   "outputs": [],
   "source": [
    "from sklearn.metrics import r2_score"
   ]
  },
  {
   "cell_type": "markdown",
   "id": "4c41724e",
   "metadata": {},
   "source": [
    "$\\mu$ was 0.05"
   ]
  },
  {
   "cell_type": "code",
   "execution_count": 59,
   "id": "85662bc3",
   "metadata": {
    "deletable": false,
    "editable": false,
    "run_control": {
     "frozen": true
    },
    "scrolled": true
   },
   "outputs": [
    {
     "name": "stdout",
     "output_type": "stream",
     "text": [
      "     It  |    f(α)  |    Time   |  ‖df(α)‖_2  |   ‖df(α)‖_∞  \n",
      "––––––––––––––––––––––––––––––––––––––––––––––––––––––––––––––\n",
      "*      0 |  4.0e+00 |     0.00  | 4.565e+01   |   7.906e+01  \n",
      "*     20 |  5.8e+01 |     2.22  | 2.933e+02   |   5.081e+02  \n",
      "*     40 |  5.6e+01 |     4.36  | 2.829e+02   |   4.899e+02  \n",
      "*     60 |  5.3e+01 |     6.46  | 2.664e+02   |   4.614e+02  \n",
      "*     80 |  4.9e+01 |     8.58  | 2.456e+02   |   4.254e+02  \n",
      "*    100 |  4.4e+01 |    10.71  | 2.221e+02   |   3.847e+02  \n",
      "*    120 |  4.0e+01 |    12.84  | 1.974e+02   |   3.419e+02  \n",
      "*    140 |  3.5e+01 |    14.97  | 1.726e+02   |   2.989e+02  \n",
      "*    160 |  3.0e+01 |    17.08  | 1.488e+02   |   2.578e+02  \n",
      "*    180 |  2.6e+01 |    19.20  | 1.268e+02   |   2.196e+02  \n",
      "*    200 |  2.2e+01 |    21.42  | 1.066e+02   |   1.846e+02  \n",
      "*    220 |  1.9e+01 |    23.61  | 8.836e+01   |   1.530e+02  \n",
      "*    240 |  1.6e+01 |    25.76  | 7.238e+01   |   1.254e+02  \n",
      "*    260 |  1.3e+01 |    27.88  | 5.863e+01   |   1.015e+02  \n",
      "*    280 |  1.1e+01 |    30.01  | 4.692e+01   |   8.126e+01  \n",
      "*    300 |  9.0e+00 |    32.13  | 3.740e+01   |   6.477e+01  \n",
      "*    320 |  7.5e+00 |    34.26  | 2.968e+01   |   5.141e+01  \n",
      "*    340 |  6.3e+00 |    36.36  | 2.333e+01   |   4.042e+01  \n",
      "*    360 |  5.3e+00 |    38.47  | 1.819e+01   |   3.149e+01  \n",
      "*    380 |  4.6e+00 |    40.58  | 1.404e+01   |   2.432e+01  \n",
      "*    400 |  3.9e+00 |    42.72  | 1.067e+01   |   1.848e+01  \n",
      "*    420 |  3.4e+00 |    44.84  | 7.975e+00   |   1.372e+01  \n",
      "*    440 |  3.1e+00 |    46.98  | 5.730e+00   |   9.925e+00  \n",
      "*    460 |  2.7e+00 |    49.12  | 3.959e+00   |   6.856e+00  \n",
      "*    480 |  2.5e+00 |    51.27  | 2.539e+00   |   4.398e+00  \n",
      "*    500 |  2.3e+00 |    53.44  | 1.390e+00   |   2.407e+00  \n",
      "*    520 |  3.9e+00 |    55.61  | 7.530e-01   |   1.269e+00  \n",
      "*    540 |  3.6e+00 |    57.69  | 1.253e+00   |   2.110e+00  \n",
      "*    560 |  3.6e+00 |    59.86  | 2.452e-01   |   4.123e-01  \n",
      "*    580 |  3.6e+00 |    62.04  | 5.956e-04   |   1.013e-03  \n",
      "*    600 |  4.6e+01 |    64.14  | 2.320e+02   |   4.018e+02  \n",
      "*    620 |  4.6e+01 |    66.28  | 2.309e+02   |   4.000e+02  \n",
      "*    640 |  4.6e+01 |    68.63  | 2.299e+02   |   3.982e+02  \n",
      "*    660 |  4.6e+01 |    70.94  | 2.288e+02   |   3.963e+02  \n",
      "*    680 |  4.5e+01 |    73.18  | 2.278e+02   |   3.945e+02  \n",
      "*    700 |  4.5e+01 |    75.38  | 2.267e+02   |   3.927e+02  \n",
      "*    720 |  4.5e+01 |    77.61  | 2.257e+02   |   3.909e+02  \n",
      "*    740 |  4.5e+01 |    79.77  | 2.247e+02   |   3.891e+02  \n",
      "*    760 |  4.5e+01 |    81.89  | 2.236e+02   |   3.874e+02  \n",
      "*    780 |  4.4e+01 |    83.99  | 2.226e+02   |   3.856e+02  \n",
      "*    800 |  4.4e+01 |    86.97  | 2.216e+02   |   3.838e+02  \n",
      "*    820 |  4.4e+01 |    89.35  | 2.206e+02   |   3.821e+02  \n",
      "*    840 |  4.4e+01 |    91.58  | 2.196e+02   |   3.804e+02  \n",
      "*    860 |  4.4e+01 |    93.77  | 2.186e+02   |   3.786e+02  \n",
      "*    880 |  4.4e+01 |    95.90  | 2.176e+02   |   3.769e+02  \n",
      "*    900 |  4.3e+01 |    98.04  | 2.166e+02   |   3.752e+02  \n",
      "*    920 |  4.3e+01 |   100.20  | 2.156e+02   |   3.735e+02  \n",
      "*    940 |  4.3e+01 |   102.34  | 2.147e+02   |   3.718e+02  \n",
      "*    960 |  4.3e+01 |   104.46  | 2.137e+02   |   3.701e+02  \n",
      "*    980 |  4.3e+01 |   106.58  | 2.127e+02   |   3.685e+02  \n",
      "*   1000 |  4.2e+01 |   108.69  | 2.118e+02   |   3.668e+02  \n",
      "*   1020 |  4.2e+01 |   110.82  | 2.108e+02   |   3.652e+02  \n",
      "*   1040 |  4.2e+01 |   113.01  | 2.099e+02   |   3.635e+02  \n",
      "*   1060 |  4.2e+01 |   115.15  | 2.089e+02   |   3.619e+02  \n",
      "*   1080 |  4.2e+01 |   117.27  | 2.080e+02   |   3.602e+02  \n",
      "*   1100 |  4.2e+01 |   119.37  | 2.071e+02   |   3.586e+02  \n",
      "*   1120 |  4.1e+01 |   121.51  | 2.061e+02   |   3.570e+02  \n",
      "*   1140 |  4.1e+01 |   123.65  | 2.052e+02   |   3.554e+02  \n",
      "*   1160 |  4.1e+01 |   125.82  | 2.043e+02   |   3.538e+02  \n",
      "*   1180 |  4.1e+01 |   127.94  | 2.034e+02   |   3.522e+02  \n",
      "*   1200 |  4.1e+01 |   130.12  | 2.025e+02   |   3.507e+02  \n",
      "*   1220 |  4.0e+01 |   132.37  | 2.016e+02   |   3.491e+02  \n",
      "*   1240 |  4.0e+01 |   134.61  | 2.007e+02   |   3.475e+02  \n",
      "*   1260 |  4.0e+01 |   136.74  | 1.998e+02   |   3.461e+02  \n",
      "*   1280 |  3.8e+01 |   138.85  | 1.904e+02   |   3.298e+02  \n",
      "*   1300 |  3.4e+01 |   140.93  | 1.687e+02   |   2.922e+02  \n",
      "*   1320 |  2.9e+01 |   143.03  | 1.400e+02   |   2.424e+02  \n",
      "*   1340 |  2.3e+01 |   145.18  | 1.096e+02   |   1.899e+02  \n",
      "*   1360 |  1.7e+01 |   147.31  | 8.130e+01   |   1.408e+02  \n",
      "*   1380 |  1.3e+01 |   149.43  | 5.694e+01   |   9.862e+01  \n",
      "*   1400 |  9.1e+00 |   151.62  | 3.798e+01   |   6.579e+01  \n",
      "*   1420 |  6.5e+00 |   153.73  | 2.414e+01   |   4.180e+01  \n",
      "*   1440 |  4.6e+00 |   155.88  | 1.449e+01   |   2.497e+01  \n",
      "*   1460 |  3.4e+00 |   158.03  | 7.924e+00   |   1.372e+01  \n",
      "*   1480 |  2.7e+00 |   160.17  | 3.673e+00   |   6.361e+00  \n",
      "*   1500 |  2.3e+00 |   162.34  | 1.058e+00   |   1.761e+00  \n",
      "*   1520 |  2.1e+00 |   164.53  | 1.052e-01   |   1.658e-01  \n",
      "*   1540 |  1.9e+00 |   166.68  | 1.434e-01   |   2.245e-01  \n",
      "*   1560 |  1.6e+00 |   168.84  | 5.908e+00   |   1.015e+01  \n",
      "*   1580 |  1.4e+00 |   171.03  | 3.279e+00   |   5.614e+00  \n",
      "*   1600 |  1.1e+00 |   173.22  | 5.297e+00   |   9.150e+00  \n",
      "*   1620 |  8.2e-01 |   175.37  | 7.046e-01   |   1.128e+00  \n",
      "*   1640 |  5.9e-01 |   177.51  | 1.289e+01   |   2.230e+01  \n",
      "*   1660 |  3.8e-01 |   179.69  | 4.138e-01   |   6.946e-01  \n",
      "*   1680 |  2.5e-01 |   181.86  | 1.736e+00   |   2.852e+00  \n",
      "*   1700 |  1.7e-01 |   184.02  | 4.300e-01   |   7.442e-01  \n",
      "*   1720 |  1.6e-01 |   186.21  | 1.968e-01   |   3.409e-01  \n",
      "*   1740 |  1.6e-01 |   188.64  | 1.016e-01   |   1.759e-01  \n",
      "*   1760 |  1.6e-01 |   191.03  | 2.778e-03   |   4.811e-03  \n",
      "*   1780 |  1.6e-01 |   193.41  | 2.745e-02   |   4.753e-02  \n",
      "*   1800 |  1.6e-01 |   195.78  | 1.448e-02   |   2.508e-02  \n",
      "*   1820 |  1.6e-01 |   198.19  | 4.005e-03   |   6.934e-03  \n",
      "*   1840 |  1.6e-01 |   200.60  | 9.054e-03   |   1.568e-02  \n",
      "*   1860 |  1.6e-01 |   203.01  | 6.760e-03   |   1.158e-02  \n",
      "*   1880 |  1.6e-01 |   205.35  | 8.566e-03   |   1.483e-02  \n",
      "*   1900 |  1.6e-01 |   207.89  | 2.187e-03   |   3.786e-03  \n",
      "*   1920 |  1.6e-01 |   210.29  | 7.501e-02   |   1.299e-01  \n",
      "*   1940 |  1.6e-01 |   212.75  | 9.253e-04   |   1.589e-03  \n",
      "*   1960 |  1.6e-01 |   215.07  | 1.161e-02   |   2.011e-02  \n",
      "*   1980 |  1.6e-01 |   217.40  | 5.541e-02   |   9.595e-02  \n",
      "*   2000 |  1.6e-01 |   219.81  | 5.315e-02   |   9.204e-02  \n",
      "\n",
      "Algorithm stopped after 219.8074 seconds and 2000 iterations\n",
      "[0.66773175 0.17201036 0.50571143] 0.1618315162851065\n"
     ]
    }
   ],
   "source": [
    "ᾱ, ρ, every_critical, every_iter = nmAPG(α, iters=2000, save_iter = True, critical = 20)"
   ]
  },
  {
   "cell_type": "code",
   "execution_count": 60,
   "id": "ddc2724a",
   "metadata": {
    "deletable": false,
    "editable": false,
    "run_control": {
     "frozen": true
    }
   },
   "outputs": [
    {
     "name": "stdout",
     "output_type": "stream",
     "text": [
      "[0.93877943 0.85600025 0.96581353 0.92083016]\n"
     ]
    }
   ],
   "source": [
    "print(1 - (simpson((ρ-ρ̂)**2, x=Tₑ) * dw))"
   ]
  },
  {
   "cell_type": "code",
   "execution_count": 68,
   "id": "977e7c19",
   "metadata": {
    "deletable": false,
    "editable": false,
    "run_control": {
     "frozen": true
    },
    "scrolled": true
   },
   "outputs": [
    {
     "data": {
      "text/plain": [
       "0.9629322262049461"
      ]
     },
     "execution_count": 68,
     "metadata": {},
     "output_type": "execute_result"
    }
   ],
   "source": [
    "r2_score(ρ̂,ρ, sample_weight=dw)"
   ]
  },
  {
   "cell_type": "code",
   "execution_count": 60,
   "id": "ca5050f3",
   "metadata": {
    "scrolled": true
   },
   "outputs": [
    {
     "name": "stdout",
     "output_type": "stream",
     "text": [
      "     It  |    f(α)  |    Time   |  ‖df(α)‖_2  |   ‖df(α)‖_∞  \n",
      "––––––––––––––––––––––––––––––––––––––––––––––––––––––––––––––\n",
      "*      0 |  5.6e+02 |     0.00  | 1.250e+04   |   2.090e+04  \n",
      "*     50 |  5.3e+01 |     5.19  | 2.669e+02   |   4.622e+02  \n",
      "*    100 |  4.3e+01 |    10.37  | 2.157e+02   |   3.736e+02  \n",
      "*    150 |  3.2e+01 |    15.50  | 1.564e+02   |   2.710e+02  \n",
      "*    200 |  2.2e+01 |    20.62  | 1.046e+02   |   1.812e+02  \n",
      "*    250 |  1.4e+01 |    25.82  | 6.476e+01   |   1.122e+02  \n",
      "*    300 |  9.0e+00 |    31.02  | 3.748e+01   |   6.491e+01  \n",
      "*    350 |  5.9e+00 |    36.21  | 2.103e+01   |   3.643e+01  \n",
      "*    400 |  4.0e+00 |    41.43  | 1.106e+01   |   1.916e+01  \n",
      "*    450 |  2.9e+00 |    46.62  | 5.088e+00   |   8.809e+00  \n",
      "*    500 |  2.4e+00 |    51.88  | 1.889e+00   |   3.257e+00  \n",
      "*    550 |  2.2e+00 |    57.13  | 1.974e-01   |   3.391e-01  \n",
      "*    600 |  2.0e+00 |    62.41  | 2.108e+00   |   3.650e+00  \n",
      "*    650 |  1.9e+00 |    67.63  | 4.935e-01   |   8.305e-01  \n",
      "*    700 |  1.6e+00 |    72.91  | 2.861e-01   |   4.620e-01  \n",
      "*    750 |  1.4e+00 |    78.27  | 9.638e-01   |   1.667e+00  \n",
      "*    800 |  1.1e+00 |    83.64  | 1.389e-01   |   2.403e-01  \n",
      "*    850 |  8.8e-01 |    88.99  | 2.949e+00   |   5.106e+00  \n",
      "*    900 |  6.5e-01 |    94.31  | 1.266e+00   |   2.192e+00  \n",
      "*    950 |  4.7e-01 |    99.67  | 7.540e-02   |   1.176e-01  \n",
      "*   1000 |  3.2e-01 |   105.03  | 1.861e+00   |   3.223e+00  \n",
      "*   1050 |  2.3e-01 |   110.42  | 1.137e-01   |   1.968e-01  \n",
      "*   1100 |  1.8e-01 |   115.77  | 9.723e-02   |   1.684e-01  \n",
      "*   1150 |  1.6e-01 |   121.10  | 7.879e-02   |   1.364e-01  \n",
      "*   1200 |  1.6e-01 |   126.94  | 2.222e-03   |   3.839e-03  \n",
      "*   1250 |  1.6e-01 |   132.67  | 1.001e-02   |   1.734e-02  \n",
      "*   1300 |  1.6e-01 |   138.42  | 6.697e-03   |   1.160e-02  \n",
      "*   1350 |  1.6e-01 |   144.26  | 7.781e-03   |   1.347e-02  \n",
      "‖αₖ - p‖ < 1e-09\n",
      "\n",
      "Algorithm stopped after 146.5399 seconds and 1369 iterations\n",
      "[0.66800479 0.17220346 0.50571936] 0.16182985009500803\n"
     ]
    }
   ],
   "source": [
    "ᾱ, ρ, every_critical, every_iter = nmAPG(array([1.6, 0.5, 2.]), iters=2000, save_iter = True, critical = 50)"
   ]
  },
  {
   "cell_type": "code",
   "execution_count": 61,
   "id": "de484924",
   "metadata": {},
   "outputs": [
    {
     "name": "stdout",
     "output_type": "stream",
     "text": [
      "[0.93880237 0.8560008  0.96580485 0.92082962]\n"
     ]
    }
   ],
   "source": [
    "print(1 - (simpson((ρ-ρ̂)**2, x=Tₑ) * dw))"
   ]
  },
  {
   "cell_type": "code",
   "execution_count": 62,
   "id": "0959015f",
   "metadata": {},
   "outputs": [
    {
     "data": {
      "text/plain": [
       "0.9629052216941704"
      ]
     },
     "execution_count": 62,
     "metadata": {},
     "output_type": "execute_result"
    }
   ],
   "source": [
    "r2_score(ρ̂,ρ, sample_weight=dw)"
   ]
  },
  {
   "cell_type": "code",
   "execution_count": 63,
   "id": "5a95fb53",
   "metadata": {},
   "outputs": [
    {
     "data": {
      "text/plain": [
       "(0.06599268756375808,\n",
       " array([2.24782378e-03, 2.80624429e-03, 4.23714167e-05, 8.95969397e-07]))"
      ]
     },
     "execution_count": 63,
     "metadata": {},
     "output_type": "execute_result"
    }
   ],
   "source": [
    "simpson((ρ-ρ̂)**2, x=Tₑ).sum(),  ϑᵀᵉʳ * ((ρ[:,-1] - ρ̂ᶠ)**2) "
   ]
  },
  {
   "cell_type": "code",
   "execution_count": 64,
   "id": "3d0c21c9",
   "metadata": {},
   "outputs": [
    {
     "data": {
      "text/plain": [
       "array([ 0.14992744,  0.16751849, -0.02058432,  0.00299327])"
      ]
     },
     "execution_count": 64,
     "metadata": {},
     "output_type": "execute_result"
    }
   ],
   "source": [
    "((ρ[:,-1] - ρ̂ᶠ))"
   ]
  },
  {
   "cell_type": "markdown",
   "id": "ed8b95fa",
   "metadata": {},
   "source": [
    "---"
   ]
  },
  {
   "cell_type": "code",
   "execution_count": 65,
   "id": "1c3f37e8",
   "metadata": {},
   "outputs": [],
   "source": [
    "#CMap = get_cmap('Wistia')\n",
    "CMap = colormaps['BuGn']\n",
    "colours_nmAPG = CMap(150)"
   ]
  },
  {
   "cell_type": "code",
   "execution_count": 66,
   "id": "ac607e56",
   "metadata": {
    "code_folding": [
     0
    ]
   },
   "outputs": [
    {
     "data": {
      "image/png": "[encoded data removed]",
      "text/plain": [
       "<Figure size 2000x350 with 2 Axes>"
      ]
     },
     "metadata": {},
     "output_type": "display_data"
    }
   ],
   "source": [
    "# Visualise evolution of objective values\n",
    "plt.figure(figsize = (20,3.5))\n",
    "\n",
    "plt.subplot(1, 2, 1)\n",
    "#plt.plot(every_iter['obj'] - min(every_iter['obj']), c = colours_nmAPG)\n",
    "plt.plot(every_iter['obj'] , c = colours_nmAPG)\n",
    "plt.yscale('log');    \n",
    "plt.title('Objective values per iteration')\n",
    "plt.xlabel('Iteration count');    plt.ylabel('Objective cost (log scale)')\n",
    "plt.subplot(1, 2, 2)\n",
    "plt.plot(every_iter['time'],every_iter['obj'] , c = colours_nmAPG)\n",
    "#plt.plot(every_iter['time'],every_iter['obj'] - min(every_iter['obj']), c = colours_nmAPG)\n",
    "plt.yscale('log')\n",
    "plt.title('Objective values per iteration')\n",
    "plt.xlabel('Time');    plt.ylabel('Objective cost (log scale)')\n",
    "\n",
    "#plt.savefig(out_folder+'Objective.pdf', bbox_inches='tight',transparent=True)\n",
    "plt.show()"
   ]
  },
  {
   "cell_type": "code",
   "execution_count": 67,
   "id": "d3257f93",
   "metadata": {
    "code_folding": [
     0
    ]
   },
   "outputs": [
    {
     "data": {
      "image/png": "[encoded data removed]",
      "text/plain": [
       "<Figure size 1600x350 with 4 Axes>"
      ]
     },
     "metadata": {},
     "output_type": "display_data"
    }
   ],
   "source": [
    "# Plot state \n",
    "fig, ax = plt.subplots(1, 4, figsize=(16, 3.5))\n",
    "\n",
    "# Add state\n",
    "ax[0].plot(Tₑ*7, ρ[0]/n, '-', c=colours_nmAPG, linewidth=2)\n",
    "ax[1].plot(Tₑ*7, ρ[1]/n, '-', c=colours_nmAPG, linewidth=2)\n",
    "ax[2].plot(Tₑ*7, ρ[2]/n, '-', c=colours_nmAPG, linewidth=2)\n",
    "ax[3].plot(Tₑ*7, ρ[3]/n, '-', c=colours_nmAPG, linewidth=2)\n",
    "    \n",
    "# Add target\n",
    "ax[0].plot(Tₑ*7, ρ̂[0]/n, ':', c='black', linewidth=3)\n",
    "ax[1].plot(Tₑ*7, ρ̂[1]/n, ':', c='black', linewidth=3)\n",
    "ax[2].plot(Tₑ*7, ρ̂[2]/n, ':', c='black', linewidth=3)\n",
    "ax[3].plot(Tₑ*7, ρ̂[3]/n, ':', c='black', linewidth=3)\n",
    "\n",
    "ax[0].set_xlabel(r'Time $t$');    ax[0].set_title(r'Susceptible')\n",
    "ax[1].set_xlabel(r'Time $t$');    ax[1].set_title(r'Infected')\n",
    "ax[2].set_xlabel(r'Time $t$');    ax[2].set_title(r'Recovered')\n",
    "ax[3].set_xlabel(r'Time $t$');    ax[3].set_title(r'Fatalities')\n",
    "\n",
    "ax[0].set_ylabel('Population %')\n",
    "\n",
    "#ax[0].set_yscale('log');    ax[1].set_yscale('log');    ax[2].set_yscale('log')\n",
    "\n",
    "#plt.legend(bbox_to_anchor=(1.54, 1), loc=\"upper right\", shadow=True, ncol=2, title='θ')\n",
    "fig.tight_layout()\n",
    "#plt.savefig('Outputs/Regularisation – States – FISTA.pdf', bbox_inches='tight', pad_inches=0)"
   ]
  },
  {
   "cell_type": "code",
   "execution_count": 68,
   "id": "ff5f6a5b",
   "metadata": {},
   "outputs": [],
   "source": [
    "obj_eval(ᾱ);"
   ]
  },
  {
   "cell_type": "code",
   "execution_count": 69,
   "id": "cb3e4955",
   "metadata": {},
   "outputs": [
    {
     "data": {
      "text/plain": [
       "array([ 1.88382111e-05, -1.15913239e-03, -6.38171046e-03])"
      ]
     },
     "execution_count": 69,
     "metadata": {},
     "output_type": "execute_result"
    }
   ],
   "source": [
    "df"
   ]
  },
  {
   "cell_type": "code",
   "execution_count": 70,
   "id": "b2eea9f5",
   "metadata": {
    "code_folding": [
     0
    ]
   },
   "outputs": [
    {
     "data": {
      "image/png": "[encoded data removed]",
      "text/plain": [
       "<Figure size 1600x350 with 3 Axes>"
      ]
     },
     "metadata": {},
     "output_type": "display_data"
    }
   ],
   "source": [
    "# Plot adjoint\n",
    "fig, ax = plt.subplots(1, 3, figsize=(16, 3.5))\n",
    "\n",
    "# Add state\n",
    "ax[0].plot(Tₑ*7, q[0], '-', c=colours_nmAPG, linewidth=2)\n",
    "ax[1].plot(Tₑ*7, q[1], '-', c=colours_nmAPG, linewidth=2)\n",
    "ax[2].plot(Tₑ*7, q[2], '-', c=colours_nmAPG, linewidth=2)\n",
    "    \n",
    "\n",
    "ax[0].set_xlabel(r'Time $t$');    ax[0].set_title(r'Susceptible')\n",
    "ax[1].set_xlabel(r'Time $t$');    ax[1].set_title(r'Infected')\n",
    "ax[2].set_xlabel(r'Time $t$');    ax[2].set_title(r'Recovered')\n",
    "\n",
    "\n",
    "\n",
    "#ax[0].set_yscale('log');    ax[1].set_yscale('log');    ax[2].set_yscale('log')\n",
    "\n",
    "#plt.legend(bbox_to_anchor=(1.54, 1), loc=\"upper right\", shadow=True, ncol=2, title='θ')\n",
    "fig.tight_layout()\n",
    "#plt.savefig('Outputs/Regularisation – States – FISTA.pdf', bbox_inches='tight', pad_inches=0)"
   ]
  },
  {
   "cell_type": "code",
   "execution_count": 71,
   "id": "9b60d969",
   "metadata": {
    "code_folding": [
     0
    ]
   },
   "outputs": [
    {
     "data": {
      "image/png": "[encoded data removed]",
      "text/plain": [
       "<Figure size 1600x500 with 3 Axes>"
      ]
     },
     "metadata": {},
     "output_type": "display_data"
    }
   ],
   "source": [
    "# Plot state \n",
    "fig, ax = plt.subplots(1, 3, figsize=(16, 5))\n",
    "colors = ['xkcd:red','xkcd:orange','xkcd:teal','xkcd:gray']\n",
    "\n",
    "# Add state\n",
    "ax[0].plot(Tₑ*7, ρ[0].T * ppl_scales / SIRD_data[0].sum(), '-', linewidth=2)\n",
    "ax[0].plot(Tₑ*7, ρ[1:].T* ppl_scales / SIRD_data[0].sum(), '-', linewidth=2)\n",
    "for i, line in enumerate(ax[0].get_lines()):    line.set_color(colors[i])\n",
    "ax[0].legend(['$1-ρ_{\\,\\mathsf{S}}$', '$ρ_{\\,\\mathsf{I}}$', '$ρ_{\\,\\mathsf{R}}$', '$ρ_{\\,\\mathsf{D}}$'], shadow=True, loc='upper left')\n",
    "\n",
    "ax[0].plot(Tₑ*7, ρ̂[0].T * ppl_scales/SIRD_data[0].sum(), ':', c='black', linewidth=2)\n",
    "ax[0].plot(Tₑ*7, ρ̂[1:].T* ppl_scales/SIRD_data[0].sum(), ':', c='black', linewidth=2)\n",
    "\n",
    "ax[1].plot(Tₑ*7, ᾱ[0]*aᵦ/(time_scale*ppl_scales) * ones(Tₑ.size), '-', c='xkcd:red', linewidth=2)   #scale to original units\n",
    "ax[1].plot(Tₑ*7, ᾱ[1]*aᵧ/time_scale * ones(Tₑ.size), '-', c='xkcd:orange', linewidth=2)\n",
    "ax[1].plot(Tₑ*7, ᾱ[2]*aₘ/time_scale * ones(Tₑ.size), '-', c='xkcd:teal', linewidth=2)\n",
    "ax[1].legend(['$β$', '$γ$', '$m$'], shadow=True, loc='upper left')\n",
    "\n",
    "ax[2].plot(Tₑ*7, df[0]  * ones(Tₑ.size), '-', c='xkcd:red', linewidth=2)\n",
    "ax[2].plot(Tₑ*7, df[1] * ones(Tₑ.size), '-', c='xkcd:orange', linewidth=2)\n",
    "ax[2].plot(Tₑ*7, df[2] * ones(Tₑ.size), '-', c='xkcd:teal', linewidth=2)\n",
    "ax[2].legend(['$\\partial_β j$', '$\\partial_γ j$', '$\\partial_m j$'], shadow=True, loc='upper left')\n",
    "\n",
    "\n",
    "ax[0].set_xlabel(r'Time $t$ (days)');    ax[0].set_title(r'$\\rho$')\n",
    "ax[1].set_xlabel(r'Time $t$ (days)');    ax[1].set_title(r'$\\alpha$')\n",
    "ax[2].set_xlabel(r'Time $t$ (days)');    ax[2].set_title(r'$\\nabla j$')\n",
    "\n",
    "ax[0].set_ylabel('Population %')\n",
    "ax[1].set_ylabel('Population rates')\n",
    "ax[2].set_ylabel('Values')\n",
    "\n",
    "ax[0].set_yscale('log')#, linthresh=1e-2)\n",
    "ax[1].set_yscale('log')\n",
    "#ax[1].set_ylim([1e-8, 30*ᾱ.data[2].max()])\n",
    "\n",
    "#ax[0].set_yscale('log');    ax[1].set_yscale('log');    \n",
    "ax[2].set_yscale('symlog', linthresh=1e-5)\n",
    "\n",
    "#plt.legend(bbox_to_anchor=(1.54, 1), loc=\"upper right\", shadow=True, ncol=2, title='θ')\n",
    "fig.tight_layout()\n",
    "#plt.savefig('Outputs/DD – Panels – RPQN - H.pdf', bbox_inches='tight', pad_inches=0)"
   ]
  },
  {
   "cell_type": "code",
   "execution_count": 72,
   "id": "aab23e19",
   "metadata": {},
   "outputs": [
    {
     "data": {
      "text/plain": [
       "1.1064337914042312e-06"
      ]
     },
     "execution_count": 72,
     "metadata": {},
     "output_type": "execute_result"
    }
   ],
   "source": [
    "(aᵧ * ᾱ[1] + aₘ * ᾱ[2]).max() /(time_scale * ppl_scales)"
   ]
  },
  {
   "cell_type": "markdown",
   "id": "8fd19f7b",
   "metadata": {},
   "source": [
    "---"
   ]
  },
  {
   "cell_type": "markdown",
   "id": "1cf8ae7f",
   "metadata": {},
   "source": [
    "### Store"
   ]
  },
  {
   "cell_type": "code",
   "execution_count": 81,
   "id": "cee37114",
   "metadata": {},
   "outputs": [
    {
     "data": {
      "text/html": [
       "<div>\n",
       "<style scoped>\n",
       "    .dataframe tbody tr th:only-of-type {\n",
       "        vertical-align: middle;\n",
       "    }\n",
       "\n",
       "    .dataframe tbody tr th {\n",
       "        vertical-align: top;\n",
       "    }\n",
       "\n",
       "    .dataframe thead th {\n",
       "        text-align: right;\n",
       "    }\n",
       "</style>\n",
       "<table border=\"1\" class=\"dataframe\">\n",
       "  <thead>\n",
       "    <tr style=\"text-align: right;\">\n",
       "      <th></th>\n",
       "      <th>it</th>\n",
       "      <th>obj</th>\n",
       "      <th>time</th>\n",
       "      <th>β</th>\n",
       "      <th>γ</th>\n",
       "      <th>m</th>\n",
       "      <th>df_β</th>\n",
       "      <th>df_γ</th>\n",
       "      <th>df_m</th>\n",
       "    </tr>\n",
       "  </thead>\n",
       "  <tbody>\n",
       "    <tr>\n",
       "      <th>1365</th>\n",
       "      <td>1365</td>\n",
       "      <td>0.16183</td>\n",
       "      <td>146.061940</td>\n",
       "      <td>0.667984</td>\n",
       "      <td>0.172195</td>\n",
       "      <td>0.505739</td>\n",
       "      <td>0.000019</td>\n",
       "      <td>-0.000252</td>\n",
       "      <td>0.000409</td>\n",
       "    </tr>\n",
       "    <tr>\n",
       "      <th>1366</th>\n",
       "      <td>1366</td>\n",
       "      <td>0.16183</td>\n",
       "      <td>146.184452</td>\n",
       "      <td>0.667984</td>\n",
       "      <td>0.172195</td>\n",
       "      <td>0.505738</td>\n",
       "      <td>0.000019</td>\n",
       "      <td>-0.000224</td>\n",
       "      <td>0.000599</td>\n",
       "    </tr>\n",
       "    <tr>\n",
       "      <th>1367</th>\n",
       "      <td>1367</td>\n",
       "      <td>0.16183</td>\n",
       "      <td>146.307614</td>\n",
       "      <td>0.667984</td>\n",
       "      <td>0.172195</td>\n",
       "      <td>0.505738</td>\n",
       "      <td>0.000019</td>\n",
       "      <td>-0.000202</td>\n",
       "      <td>0.000149</td>\n",
       "    </tr>\n",
       "    <tr>\n",
       "      <th>1368</th>\n",
       "      <td>1368</td>\n",
       "      <td>0.16183</td>\n",
       "      <td>146.422199</td>\n",
       "      <td>0.667984</td>\n",
       "      <td>0.172195</td>\n",
       "      <td>0.505738</td>\n",
       "      <td>0.000019</td>\n",
       "      <td>-0.000191</td>\n",
       "      <td>-0.000087</td>\n",
       "    </tr>\n",
       "    <tr>\n",
       "      <th>1369</th>\n",
       "      <td>1369</td>\n",
       "      <td>0.16183</td>\n",
       "      <td>146.539882</td>\n",
       "      <td>0.667984</td>\n",
       "      <td>0.172195</td>\n",
       "      <td>0.505738</td>\n",
       "      <td>0.000019</td>\n",
       "      <td>-0.000156</td>\n",
       "      <td>0.000126</td>\n",
       "    </tr>\n",
       "  </tbody>\n",
       "</table>\n",
       "</div>"
      ],
      "text/plain": [
       "        it      obj        time         β         γ         m      df_β  \\\n",
       "1365  1365  0.16183  146.061940  0.667984  0.172195  0.505739  0.000019   \n",
       "1366  1366  0.16183  146.184452  0.667984  0.172195  0.505738  0.000019   \n",
       "1367  1367  0.16183  146.307614  0.667984  0.172195  0.505738  0.000019   \n",
       "1368  1368  0.16183  146.422199  0.667984  0.172195  0.505738  0.000019   \n",
       "1369  1369  0.16183  146.539882  0.667984  0.172195  0.505738  0.000019   \n",
       "\n",
       "          df_γ      df_m  \n",
       "1365 -0.000252  0.000409  \n",
       "1366 -0.000224  0.000599  \n",
       "1367 -0.000202  0.000149  \n",
       "1368 -0.000191 -0.000087  \n",
       "1369 -0.000156  0.000126  "
      ]
     },
     "metadata": {},
     "output_type": "display_data"
    }
   ],
   "source": [
    "every_iter['obj'] = asarray(every_iter['obj'])\n",
    "#df_every = pd.DataFrame.from_dict(every_iter)\n",
    "df_every = pd.concat([\n",
    "                pd.DataFrame.from_dict( {a:b for a,b in every_iter.items() if a not in ['norms'] } )\n",
    "                #pd.DataFrame.from_dict( {'norms-'+a:b for a,b in every_iter['norms'].items()} )\n",
    "            ], axis = 1)\n",
    "display(df_every.tail())\n",
    "#\n",
    "#df_every.to_pickle('Outputs/DD – RPQN - Every - H.pkl') # To read back use pd.read_pickle(file_name)"
   ]
  },
  {
   "cell_type": "code",
   "execution_count": 82,
   "id": "1f02a9cc",
   "metadata": {},
   "outputs": [
    {
     "data": {
      "text/html": [
       "<div>\n",
       "<style scoped>\n",
       "    .dataframe tbody tr th:only-of-type {\n",
       "        vertical-align: middle;\n",
       "    }\n",
       "\n",
       "    .dataframe tbody tr th {\n",
       "        vertical-align: top;\n",
       "    }\n",
       "\n",
       "    .dataframe thead th {\n",
       "        text-align: right;\n",
       "    }\n",
       "</style>\n",
       "<table border=\"1\" class=\"dataframe\">\n",
       "  <thead>\n",
       "    <tr style=\"text-align: right;\">\n",
       "      <th></th>\n",
       "      <th>it</th>\n",
       "      <th>obj</th>\n",
       "      <th>time</th>\n",
       "      <th>β</th>\n",
       "      <th>γ</th>\n",
       "      <th>m</th>\n",
       "      <th>df_β</th>\n",
       "      <th>df_γ</th>\n",
       "      <th>df_m</th>\n",
       "    </tr>\n",
       "  </thead>\n",
       "  <tbody>\n",
       "    <tr>\n",
       "      <th>[1e-09, 1e-09, 1e-09]</th>\n",
       "      <td>1204</td>\n",
       "      <td>0.16183</td>\n",
       "      <td>127.384198</td>\n",
       "      <td>0.668005</td>\n",
       "      <td>0.172203</td>\n",
       "      <td>0.505719</td>\n",
       "      <td>0.000019</td>\n",
       "      <td>-0.001159</td>\n",
       "      <td>-0.006382</td>\n",
       "    </tr>\n",
       "  </tbody>\n",
       "</table>\n",
       "</div>"
      ],
      "text/plain": [
       "                         it      obj        time         β         γ  \\\n",
       "[1e-09, 1e-09, 1e-09]  1204  0.16183  127.384198  0.668005  0.172203   \n",
       "\n",
       "                              m      df_β      df_γ      df_m  \n",
       "[1e-09, 1e-09, 1e-09]  0.505719  0.000019 -0.001159 -0.006382  "
      ]
     },
     "execution_count": 82,
     "metadata": {},
     "output_type": "execute_result"
    }
   ],
   "source": [
    "# Store info from iterate with smallest objective\n",
    "ArgMin_nmAPG = df_every.idxmin()['obj']\n",
    "#Out_θ = \n",
    "df_every.loc[[ArgMin_nmAPG]].rename(index={ArgMin_nmAPG:θ}).copy()"
   ]
  },
  {
   "cell_type": "code",
   "execution_count": 86,
   "id": "58a035a7",
   "metadata": {},
   "outputs": [
    {
     "name": "stdout",
     "output_type": "stream",
     "text": [
      "\\begin{tabular}{lrrrrrrrrr}\n",
      "\\toprule\n",
      " & it & obj & time & β & γ & m & df_β & df_γ & df_m \\\\\n",
      "\\midrule\n",
      "1204 & 1204 & 0.161830 & 127.384198 & 0.668005 & 0.172203 & 0.505719 & 0.000019 & -0.001159 & -0.006382 \\\\\n",
      "\\bottomrule\n",
      "\\end{tabular}\n",
      "\n"
     ]
    }
   ],
   "source": [
    "print(df_every.loc[[ArgMin_nmAPG]].to_latex())"
   ]
  },
  {
   "cell_type": "markdown",
   "id": "6b51292b",
   "metadata": {},
   "source": [
    "---"
   ]
  },
  {
   "cell_type": "code",
   "execution_count": 62,
   "id": "76c1ad94",
   "metadata": {},
   "outputs": [],
   "source": [
    "#np.savez_compressed('Outputs/DD – RPQN – Best - H', best = best)"
   ]
  },
  {
   "cell_type": "code",
   "execution_count": 63,
   "id": "33147ba7",
   "metadata": {},
   "outputs": [],
   "source": [
    "#np.load('Outputs/DD – nmAPG – Best.npz', allow_pickle=True)['best']"
   ]
  },
  {
   "cell_type": "markdown",
   "id": "d806a51e",
   "metadata": {},
   "source": [
    "---"
   ]
  }
 ],
 "metadata": {
  "kernelspec": {
   "display_name": "A - Python 3",
   "language": "python",
   "name": "python3"
  },
  "language_info": {
   "codemirror_mode": {
    "name": "ipython",
    "version": 3
   },
   "file_extension": ".py",
   "mimetype": "text/x-python",
   "name": "python",
   "nbconvert_exporter": "python",
   "pygments_lexer": "ipython3",
   "version": "3.10.14"
  },
  "nbTranslate": {
   "displayLangs": [
    "*"
   ],
   "hotkey": "alt-t",
   "langInMainMenu": true,
   "sourceLang": "en",
   "targetLang": "fr",
   "useGoogleTranslate": true
  }
 },
 "nbformat": 4,
 "nbformat_minor": 5
}
